{
 "cells": [
  {
   "cell_type": "markdown",
   "metadata": {},
   "source": [
    "## Importacion y carga de DataSet"
   ]
  },
  {
   "cell_type": "code",
   "execution_count": 9,
   "metadata": {},
   "outputs": [],
   "source": [
    "import os\n",
    "import altair as alt\n",
    "import pandas as pd\n",
    "import numpy as np\n",
    "import seaborn as sns\n",
    "import matplotlib.pyplot as plt\n",
    "import pyodbc\n",
    "import warnings\n",
    "import sqlite3\n",
    "import plotly.express as px\n"
   ]
  },
  {
   "cell_type": "code",
   "execution_count": 10,
   "metadata": {},
   "outputs": [
    {
     "name": "stdout",
     "output_type": "stream",
     "text": [
      "Se cargo exitosamente la fuente de datos\n"
     ]
    }
   ],
   "source": [
    "#Etraer los datos a utilizar en formato csv\n",
    "try:    \n",
    "    \n",
    "    df_FondosInversion_colectiva = pd.read_csv(\"C:/Users/migue/Music/MINTIC/mintic/modulo1/fuente de datos/Rentabilidades_de_los_Fondos_de_Inversi_n_Colectiva__FIC__20240914.csv\")\t\n",
    "    print(\"Se cargo exitosamente la fuente de datos\")\n",
    "\n",
    "#Error en la lectura del archivo\n",
    "except FileExistsError as e:\n",
    "    print(\"Error encontrado: \",e)\n",
    "    \n",
    "#Cualquier otro tipo de error\n",
    "except Exception as e:\n",
    "    print(\"Error: \",e)"
   ]
  },
  {
   "cell_type": "markdown",
   "metadata": {},
   "source": [
    "# Validación de los Datos"
   ]
  },
  {
   "cell_type": "markdown",
   "metadata": {},
   "source": [
    "*Formateo de decimales*"
   ]
  },
  {
   "cell_type": "code",
   "execution_count": 11,
   "metadata": {},
   "outputs": [
    {
     "data": {
      "text/html": [
       "<div>\n",
       "<style scoped>\n",
       "    .dataframe tbody tr th:only-of-type {\n",
       "        vertical-align: middle;\n",
       "    }\n",
       "\n",
       "    .dataframe tbody tr th {\n",
       "        vertical-align: top;\n",
       "    }\n",
       "\n",
       "    .dataframe thead th {\n",
       "        text-align: right;\n",
       "    }\n",
       "</style>\n",
       "<table border=\"1\" class=\"dataframe\">\n",
       "  <thead>\n",
       "    <tr style=\"text-align: right;\">\n",
       "      <th></th>\n",
       "      <th>FECHA_CORTE</th>\n",
       "      <th>TIPO_ENTIDAD</th>\n",
       "      <th>NOMBRE_TIPO_ENTIDAD</th>\n",
       "      <th>CODIGO_ENTIDAD</th>\n",
       "      <th>NOMBRE_ENTIDAD</th>\n",
       "      <th>TIPO_NEGOCIO</th>\n",
       "      <th>NOMBRE_TIPO_PATRIMONIO</th>\n",
       "      <th>SUBTIPO_NEGOCIO</th>\n",
       "      <th>NOMBRE_SUBTIPO_PATRIMONIO</th>\n",
       "      <th>CODIGO_NEGOCIO</th>\n",
       "      <th>...</th>\n",
       "      <th>VALOR_UNIDAD_OPERACIONES_DIA_T</th>\n",
       "      <th>APORTES_RECIBIDOS</th>\n",
       "      <th>RETIROS_REDENCIONES</th>\n",
       "      <th>ANULACIONES</th>\n",
       "      <th>VALOR_FONDO_CIERRE_DIA_T</th>\n",
       "      <th>NUMERO_INVERSIONISTAS</th>\n",
       "      <th>RENTABILIDAD_DIARIA</th>\n",
       "      <th>RENTABILIDAD_MENSUAL</th>\n",
       "      <th>RENTABILIDAD_SEMESTRAL</th>\n",
       "      <th>RENTABILIDAD_ANUAL</th>\n",
       "    </tr>\n",
       "  </thead>\n",
       "  <tbody>\n",
       "    <tr>\n",
       "      <th>1436478</th>\n",
       "      <td>19/10/2021</td>\n",
       "      <td>5</td>\n",
       "      <td>SF-SOCIEDAD FIDUCIARIA</td>\n",
       "      <td>39</td>\n",
       "      <td>Sociedad Fiduciaria De Desarrollo Agropecuario...</td>\n",
       "      <td>9</td>\n",
       "      <td>FONDOS DE INVERSIÓN COLECTIVA</td>\n",
       "      <td>1</td>\n",
       "      <td>FIC DE TIPO GENERAL</td>\n",
       "      <td>69537</td>\n",
       "      <td>...</td>\n",
       "      <td>9994.1</td>\n",
       "      <td>0.0</td>\n",
       "      <td>0.0</td>\n",
       "      <td>0.0</td>\n",
       "      <td>49970564870.4</td>\n",
       "      <td>1.0</td>\n",
       "      <td>-7.0</td>\n",
       "      <td>0.0</td>\n",
       "      <td>0.0</td>\n",
       "      <td>0.0</td>\n",
       "    </tr>\n",
       "    <tr>\n",
       "      <th>849847</th>\n",
       "      <td>02/07/2018</td>\n",
       "      <td>85</td>\n",
       "      <td>COMISIONISTAS DE BOLSA DE VALORES</td>\n",
       "      <td>26</td>\n",
       "      <td>Corredores Davivienda S.A.Comisionista De Bolsa</td>\n",
       "      <td>9</td>\n",
       "      <td>FONDOS DE INVERSIÓN COLECTIVA</td>\n",
       "      <td>7</td>\n",
       "      <td>FONDOS DE CAPITAL PRIVADO</td>\n",
       "      <td>76407</td>\n",
       "      <td>...</td>\n",
       "      <td>9992.9</td>\n",
       "      <td>0.0</td>\n",
       "      <td>0.0</td>\n",
       "      <td>0.0</td>\n",
       "      <td>98732143723.3</td>\n",
       "      <td>2.0</td>\n",
       "      <td>0.0</td>\n",
       "      <td>0.0</td>\n",
       "      <td>0.0</td>\n",
       "      <td>0.0</td>\n",
       "    </tr>\n",
       "    <tr>\n",
       "      <th>977136</th>\n",
       "      <td>02/08/2022</td>\n",
       "      <td>5</td>\n",
       "      <td>SF-SOCIEDAD FIDUCIARIA</td>\n",
       "      <td>16</td>\n",
       "      <td>Alianza Fiduciaria S.A.</td>\n",
       "      <td>9</td>\n",
       "      <td>FONDOS DE INVERSIÓN COLECTIVA</td>\n",
       "      <td>7</td>\n",
       "      <td>FONDOS DE CAPITAL PRIVADO</td>\n",
       "      <td>95663</td>\n",
       "      <td>...</td>\n",
       "      <td>16514.3</td>\n",
       "      <td>0.0</td>\n",
       "      <td>0.0</td>\n",
       "      <td>0.0</td>\n",
       "      <td>100693875852.9</td>\n",
       "      <td>2.0</td>\n",
       "      <td>0.0</td>\n",
       "      <td>13.4</td>\n",
       "      <td>22.8</td>\n",
       "      <td>31.1</td>\n",
       "    </tr>\n",
       "    <tr>\n",
       "      <th>1894207</th>\n",
       "      <td>01/07/2024</td>\n",
       "      <td>5</td>\n",
       "      <td>SF-SOCIEDAD FIDUCIARIA</td>\n",
       "      <td>39</td>\n",
       "      <td>Sociedad Fiduciaria De Desarrollo Agropecuario...</td>\n",
       "      <td>9</td>\n",
       "      <td>FONDOS DE INVERSIÓN COLECTIVA</td>\n",
       "      <td>1</td>\n",
       "      <td>FIC DE TIPO GENERAL</td>\n",
       "      <td>117825</td>\n",
       "      <td>...</td>\n",
       "      <td>10539.8</td>\n",
       "      <td>0.0</td>\n",
       "      <td>0.0</td>\n",
       "      <td>0.0</td>\n",
       "      <td>651966631332.2</td>\n",
       "      <td>3.0</td>\n",
       "      <td>9.0</td>\n",
       "      <td>8.7</td>\n",
       "      <td>9.8</td>\n",
       "      <td>0.0</td>\n",
       "    </tr>\n",
       "    <tr>\n",
       "      <th>870293</th>\n",
       "      <td>20/06/2018</td>\n",
       "      <td>5</td>\n",
       "      <td>SF-SOCIEDAD FIDUCIARIA</td>\n",
       "      <td>38</td>\n",
       "      <td>Fiduciaria Central S.A. Sigla Fiducentral S.A.</td>\n",
       "      <td>9</td>\n",
       "      <td>FONDOS DE INVERSIÓN COLECTIVA</td>\n",
       "      <td>7</td>\n",
       "      <td>FONDOS DE CAPITAL PRIVADO</td>\n",
       "      <td>77640</td>\n",
       "      <td>...</td>\n",
       "      <td>12439.4</td>\n",
       "      <td>0.0</td>\n",
       "      <td>0.0</td>\n",
       "      <td>0.0</td>\n",
       "      <td>85574977632.6</td>\n",
       "      <td>84.0</td>\n",
       "      <td>-0.3</td>\n",
       "      <td>0.1</td>\n",
       "      <td>-0.3</td>\n",
       "      <td>10.3</td>\n",
       "    </tr>\n",
       "  </tbody>\n",
       "</table>\n",
       "<p>5 rows × 26 columns</p>\n",
       "</div>"
      ],
      "text/plain": [
       "        FECHA_CORTE  TIPO_ENTIDAD                NOMBRE_TIPO_ENTIDAD  \\\n",
       "1436478  19/10/2021             5             SF-SOCIEDAD FIDUCIARIA   \n",
       "849847   02/07/2018            85  COMISIONISTAS DE BOLSA DE VALORES   \n",
       "977136   02/08/2022             5             SF-SOCIEDAD FIDUCIARIA   \n",
       "1894207  01/07/2024             5             SF-SOCIEDAD FIDUCIARIA   \n",
       "870293   20/06/2018             5             SF-SOCIEDAD FIDUCIARIA   \n",
       "\n",
       "         CODIGO_ENTIDAD                                     NOMBRE_ENTIDAD  \\\n",
       "1436478              39  Sociedad Fiduciaria De Desarrollo Agropecuario...   \n",
       "849847               26    Corredores Davivienda S.A.Comisionista De Bolsa   \n",
       "977136               16                            Alianza Fiduciaria S.A.   \n",
       "1894207              39  Sociedad Fiduciaria De Desarrollo Agropecuario...   \n",
       "870293               38     Fiduciaria Central S.A. Sigla Fiducentral S.A.   \n",
       "\n",
       "         TIPO_NEGOCIO         NOMBRE_TIPO_PATRIMONIO  SUBTIPO_NEGOCIO  \\\n",
       "1436478             9  FONDOS DE INVERSIÓN COLECTIVA                1   \n",
       "849847              9  FONDOS DE INVERSIÓN COLECTIVA                7   \n",
       "977136              9  FONDOS DE INVERSIÓN COLECTIVA                7   \n",
       "1894207             9  FONDOS DE INVERSIÓN COLECTIVA                1   \n",
       "870293              9  FONDOS DE INVERSIÓN COLECTIVA                7   \n",
       "\n",
       "         NOMBRE_SUBTIPO_PATRIMONIO  CODIGO_NEGOCIO  ...  \\\n",
       "1436478        FIC DE TIPO GENERAL           69537  ...   \n",
       "849847   FONDOS DE CAPITAL PRIVADO           76407  ...   \n",
       "977136   FONDOS DE CAPITAL PRIVADO           95663  ...   \n",
       "1894207        FIC DE TIPO GENERAL          117825  ...   \n",
       "870293   FONDOS DE CAPITAL PRIVADO           77640  ...   \n",
       "\n",
       "        VALOR_UNIDAD_OPERACIONES_DIA_T  APORTES_RECIBIDOS  \\\n",
       "1436478                         9994.1                0.0   \n",
       "849847                          9992.9                0.0   \n",
       "977136                         16514.3                0.0   \n",
       "1894207                        10539.8                0.0   \n",
       "870293                         12439.4                0.0   \n",
       "\n",
       "         RETIROS_REDENCIONES  ANULACIONES  VALOR_FONDO_CIERRE_DIA_T  \\\n",
       "1436478                  0.0          0.0             49970564870.4   \n",
       "849847                   0.0          0.0             98732143723.3   \n",
       "977136                   0.0          0.0            100693875852.9   \n",
       "1894207                  0.0          0.0            651966631332.2   \n",
       "870293                   0.0          0.0             85574977632.6   \n",
       "\n",
       "         NUMERO_INVERSIONISTAS  RENTABILIDAD_DIARIA  RENTABILIDAD_MENSUAL  \\\n",
       "1436478                    1.0                 -7.0                   0.0   \n",
       "849847                     2.0                  0.0                   0.0   \n",
       "977136                     2.0                  0.0                  13.4   \n",
       "1894207                    3.0                  9.0                   8.7   \n",
       "870293                    84.0                 -0.3                   0.1   \n",
       "\n",
       "         RENTABILIDAD_SEMESTRAL  RENTABILIDAD_ANUAL  \n",
       "1436478                     0.0                 0.0  \n",
       "849847                      0.0                 0.0  \n",
       "977136                     22.8                31.1  \n",
       "1894207                     9.8                 0.0  \n",
       "870293                     -0.3                10.3  \n",
       "\n",
       "[5 rows x 26 columns]"
      ]
     },
     "execution_count": 11,
     "metadata": {},
     "output_type": "execute_result"
    }
   ],
   "source": [
    "pd.set_option('display.float_format', lambda x: '%.1f' % x) # permite que se configure la visualización de datos en un dataframe con un solo decimal\n",
    "\n",
    "# Validación aleatoria del Data Frame\n",
    "df_FondosInversion_colectiva.sample(5)"
   ]
  },
  {
   "cell_type": "markdown",
   "metadata": {},
   "source": [
    "*Conteo de columnas y filas*"
   ]
  },
  {
   "cell_type": "code",
   "execution_count": 12,
   "metadata": {},
   "outputs": [
    {
     "name": "stdout",
     "output_type": "stream",
     "text": [
      "Datos del dataframe: \n",
      "Filas:2165934 \n",
      "Columnas: 26\n"
     ]
    }
   ],
   "source": [
    "# Conteo de columnas y filas\n",
    "num_rows,num_cols = df_FondosInversion_colectiva.shape\n",
    "\n",
    "print(f\"Datos del dataframe: \\nFilas:{num_rows} \\nColumnas: {num_cols}\")"
   ]
  },
  {
   "cell_type": "markdown",
   "metadata": {},
   "source": [
    "*Validación de nombres de columnas*"
   ]
  },
  {
   "cell_type": "code",
   "execution_count": 13,
   "metadata": {},
   "outputs": [
    {
     "data": {
      "text/plain": [
       "Index(['FECHA_CORTE', 'TIPO_ENTIDAD', 'NOMBRE_TIPO_ENTIDAD', 'CODIGO_ENTIDAD',\n",
       "       'NOMBRE_ENTIDAD', 'TIPO_NEGOCIO', 'NOMBRE_TIPO_PATRIMONIO',\n",
       "       'SUBTIPO_NEGOCIO', 'NOMBRE_SUBTIPO_PATRIMONIO', 'CODIGO_NEGOCIO',\n",
       "       'NOMBRE_PATRIMONIO', 'PRINCIPAL_COMPARTIMENTO', 'TIPO_PARTICIPACION',\n",
       "       'RENDIMIENTOS_ABONADOS', 'PRECIERRE_FONDO_DIA_T',\n",
       "       'NUMERO_UNIDADES_FONDO_CIERRE_OPER_DIA_T_ANTERIOR',\n",
       "       'VALOR_UNIDAD_OPERACIONES_DIA_T', 'APORTES_RECIBIDOS',\n",
       "       'RETIROS_REDENCIONES', 'ANULACIONES', 'VALOR_FONDO_CIERRE_DIA_T',\n",
       "       'NUMERO_INVERSIONISTAS', 'RENTABILIDAD_DIARIA', 'RENTABILIDAD_MENSUAL',\n",
       "       'RENTABILIDAD_SEMESTRAL', 'RENTABILIDAD_ANUAL'],\n",
       "      dtype='object')"
      ]
     },
     "execution_count": 13,
     "metadata": {},
     "output_type": "execute_result"
    }
   ],
   "source": [
    "# Validación nombres de las columnas\n",
    "df_FondosInversion_colectiva.columns"
   ]
  },
  {
   "cell_type": "markdown",
   "metadata": {},
   "source": [
    "*Validacion de datos nulos por cada columna*"
   ]
  },
  {
   "cell_type": "code",
   "execution_count": 14,
   "metadata": {},
   "outputs": [
    {
     "name": "stdout",
     "output_type": "stream",
     "text": [
      "FECHA_CORTE                                         0\n",
      "TIPO_ENTIDAD                                        0\n",
      "NOMBRE_TIPO_ENTIDAD                                 0\n",
      "CODIGO_ENTIDAD                                      0\n",
      "NOMBRE_ENTIDAD                                      0\n",
      "TIPO_NEGOCIO                                        0\n",
      "NOMBRE_TIPO_PATRIMONIO                              0\n",
      "SUBTIPO_NEGOCIO                                     0\n",
      "NOMBRE_SUBTIPO_PATRIMONIO                           0\n",
      "CODIGO_NEGOCIO                                      0\n",
      "NOMBRE_PATRIMONIO                                   0\n",
      "PRINCIPAL_COMPARTIMENTO                             0\n",
      "TIPO_PARTICIPACION                                  0\n",
      "RENDIMIENTOS_ABONADOS                               0\n",
      "PRECIERRE_FONDO_DIA_T                               0\n",
      "NUMERO_UNIDADES_FONDO_CIERRE_OPER_DIA_T_ANTERIOR    0\n",
      "VALOR_UNIDAD_OPERACIONES_DIA_T                      0\n",
      "APORTES_RECIBIDOS                                   0\n",
      "RETIROS_REDENCIONES                                 0\n",
      "ANULACIONES                                         0\n",
      "VALOR_FONDO_CIERRE_DIA_T                            0\n",
      "NUMERO_INVERSIONISTAS                               0\n",
      "RENTABILIDAD_DIARIA                                 0\n",
      "RENTABILIDAD_MENSUAL                                0\n",
      "RENTABILIDAD_SEMESTRAL                              0\n",
      "RENTABILIDAD_ANUAL                                  0\n",
      "dtype: int64\n"
     ]
    }
   ],
   "source": [
    "# Conteo da datos nullos\n",
    "print(df_FondosInversion_colectiva.isna().sum())"
   ]
  },
  {
   "cell_type": "markdown",
   "metadata": {},
   "source": [
    "*Validacion de datos NO nulos por cada columna*"
   ]
  },
  {
   "cell_type": "code",
   "execution_count": 15,
   "metadata": {},
   "outputs": [
    {
     "name": "stdout",
     "output_type": "stream",
     "text": [
      "FECHA_CORTE                                         2165934\n",
      "TIPO_ENTIDAD                                        2165934\n",
      "NOMBRE_TIPO_ENTIDAD                                 2165934\n",
      "CODIGO_ENTIDAD                                      2165934\n",
      "NOMBRE_ENTIDAD                                      2165934\n",
      "TIPO_NEGOCIO                                        2165934\n",
      "NOMBRE_TIPO_PATRIMONIO                              2165934\n",
      "SUBTIPO_NEGOCIO                                     2165934\n",
      "NOMBRE_SUBTIPO_PATRIMONIO                           2165934\n",
      "CODIGO_NEGOCIO                                      2165934\n",
      "NOMBRE_PATRIMONIO                                   2165934\n",
      "PRINCIPAL_COMPARTIMENTO                             2165934\n",
      "TIPO_PARTICIPACION                                  2165934\n",
      "RENDIMIENTOS_ABONADOS                               2165934\n",
      "PRECIERRE_FONDO_DIA_T                               2165934\n",
      "NUMERO_UNIDADES_FONDO_CIERRE_OPER_DIA_T_ANTERIOR    2165934\n",
      "VALOR_UNIDAD_OPERACIONES_DIA_T                      2165934\n",
      "APORTES_RECIBIDOS                                   2165934\n",
      "RETIROS_REDENCIONES                                 2165934\n",
      "ANULACIONES                                         2165934\n",
      "VALOR_FONDO_CIERRE_DIA_T                            2165934\n",
      "NUMERO_INVERSIONISTAS                               2165934\n",
      "RENTABILIDAD_DIARIA                                 2165934\n",
      "RENTABILIDAD_MENSUAL                                2165934\n",
      "RENTABILIDAD_SEMESTRAL                              2165934\n",
      "RENTABILIDAD_ANUAL                                  2165934\n",
      "dtype: int64\n"
     ]
    }
   ],
   "source": [
    "# Conteo de datos no nullos\n",
    "print(df_FondosInversion_colectiva.notna().sum())"
   ]
  },
  {
   "cell_type": "markdown",
   "metadata": {},
   "source": [
    "*Tipo de dato por cada columna*"
   ]
  },
  {
   "cell_type": "code",
   "execution_count": 16,
   "metadata": {},
   "outputs": [
    {
     "name": "stdout",
     "output_type": "stream",
     "text": [
      "<class 'pandas.core.frame.DataFrame'>\n",
      "RangeIndex: 2165934 entries, 0 to 2165933\n",
      "Data columns (total 26 columns):\n",
      " #   Column                                            Dtype  \n",
      "---  ------                                            -----  \n",
      " 0   FECHA_CORTE                                       object \n",
      " 1   TIPO_ENTIDAD                                      int64  \n",
      " 2   NOMBRE_TIPO_ENTIDAD                               object \n",
      " 3   CODIGO_ENTIDAD                                    int64  \n",
      " 4   NOMBRE_ENTIDAD                                    object \n",
      " 5   TIPO_NEGOCIO                                      int64  \n",
      " 6   NOMBRE_TIPO_PATRIMONIO                            object \n",
      " 7   SUBTIPO_NEGOCIO                                   int64  \n",
      " 8   NOMBRE_SUBTIPO_PATRIMONIO                         object \n",
      " 9   CODIGO_NEGOCIO                                    int64  \n",
      " 10  NOMBRE_PATRIMONIO                                 object \n",
      " 11  PRINCIPAL_COMPARTIMENTO                           int64  \n",
      " 12  TIPO_PARTICIPACION                                int64  \n",
      " 13  RENDIMIENTOS_ABONADOS                             float64\n",
      " 14  PRECIERRE_FONDO_DIA_T                             float64\n",
      " 15  NUMERO_UNIDADES_FONDO_CIERRE_OPER_DIA_T_ANTERIOR  float64\n",
      " 16  VALOR_UNIDAD_OPERACIONES_DIA_T                    float64\n",
      " 17  APORTES_RECIBIDOS                                 float64\n",
      " 18  RETIROS_REDENCIONES                               float64\n",
      " 19  ANULACIONES                                       float64\n",
      " 20  VALOR_FONDO_CIERRE_DIA_T                          float64\n",
      " 21  NUMERO_INVERSIONISTAS                             float64\n",
      " 22  RENTABILIDAD_DIARIA                               float64\n",
      " 23  RENTABILIDAD_MENSUAL                              float64\n",
      " 24  RENTABILIDAD_SEMESTRAL                            float64\n",
      " 25  RENTABILIDAD_ANUAL                                float64\n",
      "dtypes: float64(13), int64(7), object(6)\n",
      "memory usage: 429.6+ MB\n"
     ]
    }
   ],
   "source": [
    "# Validación de tipos de datos en cada columna\n",
    "df_FondosInversion_colectiva.info()"
   ]
  },
  {
   "cell_type": "markdown",
   "metadata": {},
   "source": [
    "*Formateo para la \"FECHA_CORTE\" a formato %d/%m/%Y*"
   ]
  },
  {
   "cell_type": "code",
   "execution_count": 17,
   "metadata": {},
   "outputs": [
    {
     "name": "stderr",
     "output_type": "stream",
     "text": [
      "C:\\Users\\migue\\AppData\\Local\\Temp\\ipykernel_22768\\1283088305.py:2: UserWarning: Parsing dates in %d/%m/%Y format when dayfirst=False (the default) was specified. Pass `dayfirst=True` or specify a format to silence this warning.\n",
      "  df_FondosInversion_colectiva['FECHA_CORTE'] = pd.to_datetime(df_FondosInversion_colectiva['FECHA_CORTE'])\n"
     ]
    }
   ],
   "source": [
    "# Formateo del tipo de fecha\n",
    "df_FondosInversion_colectiva['FECHA_CORTE'] = pd.to_datetime(df_FondosInversion_colectiva['FECHA_CORTE'])\n"
   ]
  },
  {
   "cell_type": "markdown",
   "metadata": {},
   "source": [
    "*Validación de fecha mínima y máxima*"
   ]
  },
  {
   "cell_type": "code",
   "execution_count": 18,
   "metadata": {},
   "outputs": [
    {
     "name": "stdout",
     "output_type": "stream",
     "text": [
      "Fecha máxima: 2024-09-11 00:00:00\n",
      "Fecha mínima: 2016-01-01 00:00:00\n"
     ]
    }
   ],
   "source": [
    "# Validación de la fecha máxima y mínima de los datos\n",
    "print(f\"Fecha máxima: {df_FondosInversion_colectiva['FECHA_CORTE'].max()}\")\n",
    "print(f\"Fecha mínima: {df_FondosInversion_colectiva['FECHA_CORTE'].min()}\")"
   ]
  },
  {
   "cell_type": "markdown",
   "metadata": {},
   "source": [
    "*Visualización de todas las columnas*"
   ]
  },
  {
   "cell_type": "code",
   "execution_count": 19,
   "metadata": {},
   "outputs": [
    {
     "data": {
      "text/html": [
       "<div>\n",
       "<style scoped>\n",
       "    .dataframe tbody tr th:only-of-type {\n",
       "        vertical-align: middle;\n",
       "    }\n",
       "\n",
       "    .dataframe tbody tr th {\n",
       "        vertical-align: top;\n",
       "    }\n",
       "\n",
       "    .dataframe thead th {\n",
       "        text-align: right;\n",
       "    }\n",
       "</style>\n",
       "<table border=\"1\" class=\"dataframe\">\n",
       "  <thead>\n",
       "    <tr style=\"text-align: right;\">\n",
       "      <th></th>\n",
       "      <th>FECHA_CORTE</th>\n",
       "      <th>TIPO_ENTIDAD</th>\n",
       "      <th>NOMBRE_TIPO_ENTIDAD</th>\n",
       "      <th>CODIGO_ENTIDAD</th>\n",
       "      <th>NOMBRE_ENTIDAD</th>\n",
       "      <th>TIPO_NEGOCIO</th>\n",
       "      <th>NOMBRE_TIPO_PATRIMONIO</th>\n",
       "      <th>SUBTIPO_NEGOCIO</th>\n",
       "      <th>NOMBRE_SUBTIPO_PATRIMONIO</th>\n",
       "      <th>CODIGO_NEGOCIO</th>\n",
       "      <th>NOMBRE_PATRIMONIO</th>\n",
       "      <th>PRINCIPAL_COMPARTIMENTO</th>\n",
       "      <th>TIPO_PARTICIPACION</th>\n",
       "      <th>RENDIMIENTOS_ABONADOS</th>\n",
       "      <th>PRECIERRE_FONDO_DIA_T</th>\n",
       "      <th>NUMERO_UNIDADES_FONDO_CIERRE_OPER_DIA_T_ANTERIOR</th>\n",
       "      <th>VALOR_UNIDAD_OPERACIONES_DIA_T</th>\n",
       "      <th>APORTES_RECIBIDOS</th>\n",
       "      <th>RETIROS_REDENCIONES</th>\n",
       "      <th>ANULACIONES</th>\n",
       "      <th>VALOR_FONDO_CIERRE_DIA_T</th>\n",
       "      <th>NUMERO_INVERSIONISTAS</th>\n",
       "      <th>RENTABILIDAD_DIARIA</th>\n",
       "      <th>RENTABILIDAD_MENSUAL</th>\n",
       "      <th>RENTABILIDAD_SEMESTRAL</th>\n",
       "      <th>RENTABILIDAD_ANUAL</th>\n",
       "    </tr>\n",
       "  </thead>\n",
       "  <tbody>\n",
       "    <tr>\n",
       "      <th>2009521</th>\n",
       "      <td>2024-08-28</td>\n",
       "      <td>85</td>\n",
       "      <td>COMISIONISTAS DE BOLSA DE VALORES</td>\n",
       "      <td>26</td>\n",
       "      <td>Corredores Davivienda S.A.Comisionista De Bolsa</td>\n",
       "      <td>9</td>\n",
       "      <td>FONDOS DE INVERSIÓN COLECTIVA</td>\n",
       "      <td>7</td>\n",
       "      <td>FONDOS DE CAPITAL PRIVADO</td>\n",
       "      <td>59012</td>\n",
       "      <td>FONDO DE CAPITAL PRIVADO TC LATAM - COMPARTIME...</td>\n",
       "      <td>2</td>\n",
       "      <td>800</td>\n",
       "      <td>-3833350.9</td>\n",
       "      <td>13882984418.4</td>\n",
       "      <td>12207494.5</td>\n",
       "      <td>1137.3</td>\n",
       "      <td>0.0</td>\n",
       "      <td>0.0</td>\n",
       "      <td>0.0</td>\n",
       "      <td>13882984418.4</td>\n",
       "      <td>3.0</td>\n",
       "      <td>-9.6</td>\n",
       "      <td>-0.2</td>\n",
       "      <td>-0.9</td>\n",
       "      <td>-61.5</td>\n",
       "    </tr>\n",
       "    <tr>\n",
       "      <th>1984805</th>\n",
       "      <td>2021-02-05</td>\n",
       "      <td>5</td>\n",
       "      <td>SF-SOCIEDAD FIDUCIARIA</td>\n",
       "      <td>6</td>\n",
       "      <td>Caja Social</td>\n",
       "      <td>9</td>\n",
       "      <td>FONDOS DE INVERSIÓN COLECTIVA</td>\n",
       "      <td>1</td>\n",
       "      <td>FIC DE TIPO GENERAL</td>\n",
       "      <td>10779</td>\n",
       "      <td>RENTAFACIL FONDO DE INVERSION COLECTIVA ABIERTO</td>\n",
       "      <td>1</td>\n",
       "      <td>503</td>\n",
       "      <td>-179561.0</td>\n",
       "      <td>15341757442.9</td>\n",
       "      <td>391438.6</td>\n",
       "      <td>39193.3</td>\n",
       "      <td>0.0</td>\n",
       "      <td>0.0</td>\n",
       "      <td>0.0</td>\n",
       "      <td>15341757442.9</td>\n",
       "      <td>13.0</td>\n",
       "      <td>-0.4</td>\n",
       "      <td>1.6</td>\n",
       "      <td>1.8</td>\n",
       "      <td>2.6</td>\n",
       "    </tr>\n",
       "    <tr>\n",
       "      <th>1213757</th>\n",
       "      <td>2020-07-12</td>\n",
       "      <td>5</td>\n",
       "      <td>SF-SOCIEDAD FIDUCIARIA</td>\n",
       "      <td>62</td>\n",
       "      <td>Fiduciaria Coomeva S.A.</td>\n",
       "      <td>9</td>\n",
       "      <td>FONDOS DE INVERSIÓN COLECTIVA</td>\n",
       "      <td>1</td>\n",
       "      <td>FIC DE TIPO GENERAL</td>\n",
       "      <td>82379</td>\n",
       "      <td>FIC ABIERTO CON PACTO DE PERMANENCIA AVANZAR 9...</td>\n",
       "      <td>1</td>\n",
       "      <td>511</td>\n",
       "      <td>3716988.2</td>\n",
       "      <td>23110529775.0</td>\n",
       "      <td>2054742.3</td>\n",
       "      <td>11247.4</td>\n",
       "      <td>0.0</td>\n",
       "      <td>31823589.2</td>\n",
       "      <td>0.0</td>\n",
       "      <td>23078706185.8</td>\n",
       "      <td>280.0</td>\n",
       "      <td>6.0</td>\n",
       "      <td>6.9</td>\n",
       "      <td>8.4</td>\n",
       "      <td>8.8</td>\n",
       "    </tr>\n",
       "    <tr>\n",
       "      <th>1377224</th>\n",
       "      <td>2021-10-10</td>\n",
       "      <td>85</td>\n",
       "      <td>COMISIONISTAS DE BOLSA DE VALORES</td>\n",
       "      <td>14</td>\n",
       "      <td>Btg Pactual</td>\n",
       "      <td>9</td>\n",
       "      <td>FONDOS DE INVERSIÓN COLECTIVA</td>\n",
       "      <td>1</td>\n",
       "      <td>FIC DE TIPO GENERAL</td>\n",
       "      <td>60273</td>\n",
       "      <td>FONDO DE INVERSIÓN COLECTIVA CERRADO BTG PACTU...</td>\n",
       "      <td>1</td>\n",
       "      <td>505</td>\n",
       "      <td>4127274.0</td>\n",
       "      <td>55022670038.1</td>\n",
       "      <td>5198299.8</td>\n",
       "      <td>10584.7</td>\n",
       "      <td>0.0</td>\n",
       "      <td>0.0</td>\n",
       "      <td>0.0</td>\n",
       "      <td>55022670038.1</td>\n",
       "      <td>136.0</td>\n",
       "      <td>2.8</td>\n",
       "      <td>3.5</td>\n",
       "      <td>-7.4</td>\n",
       "      <td>-1.6</td>\n",
       "    </tr>\n",
       "    <tr>\n",
       "      <th>1014889</th>\n",
       "      <td>2019-01-07</td>\n",
       "      <td>5</td>\n",
       "      <td>SF-SOCIEDAD FIDUCIARIA</td>\n",
       "      <td>7</td>\n",
       "      <td>Skandia Fiduciaria S.A.</td>\n",
       "      <td>9</td>\n",
       "      <td>FONDOS DE INVERSIÓN COLECTIVA</td>\n",
       "      <td>1</td>\n",
       "      <td>FIC DE TIPO GENERAL</td>\n",
       "      <td>51953</td>\n",
       "      <td>FONDO DE INVERSIÓN COLECTIVA SKANDIA EFECTIVO</td>\n",
       "      <td>1</td>\n",
       "      <td>503</td>\n",
       "      <td>18844150.9</td>\n",
       "      <td>207676899172.5</td>\n",
       "      <td>80578250.6</td>\n",
       "      <td>2577.3</td>\n",
       "      <td>0.0</td>\n",
       "      <td>0.0</td>\n",
       "      <td>0.0</td>\n",
       "      <td>207676899172.5</td>\n",
       "      <td>4870.0</td>\n",
       "      <td>3.4</td>\n",
       "      <td>2.6</td>\n",
       "      <td>3.5</td>\n",
       "      <td>3.9</td>\n",
       "    </tr>\n",
       "  </tbody>\n",
       "</table>\n",
       "</div>"
      ],
      "text/plain": [
       "        FECHA_CORTE  TIPO_ENTIDAD                NOMBRE_TIPO_ENTIDAD  \\\n",
       "2009521  2024-08-28            85  COMISIONISTAS DE BOLSA DE VALORES   \n",
       "1984805  2021-02-05             5             SF-SOCIEDAD FIDUCIARIA   \n",
       "1213757  2020-07-12             5             SF-SOCIEDAD FIDUCIARIA   \n",
       "1377224  2021-10-10            85  COMISIONISTAS DE BOLSA DE VALORES   \n",
       "1014889  2019-01-07             5             SF-SOCIEDAD FIDUCIARIA   \n",
       "\n",
       "         CODIGO_ENTIDAD                                   NOMBRE_ENTIDAD  \\\n",
       "2009521              26  Corredores Davivienda S.A.Comisionista De Bolsa   \n",
       "1984805               6                                      Caja Social   \n",
       "1213757              62                          Fiduciaria Coomeva S.A.   \n",
       "1377224              14                                      Btg Pactual   \n",
       "1014889               7                          Skandia Fiduciaria S.A.   \n",
       "\n",
       "         TIPO_NEGOCIO         NOMBRE_TIPO_PATRIMONIO  SUBTIPO_NEGOCIO  \\\n",
       "2009521             9  FONDOS DE INVERSIÓN COLECTIVA                7   \n",
       "1984805             9  FONDOS DE INVERSIÓN COLECTIVA                1   \n",
       "1213757             9  FONDOS DE INVERSIÓN COLECTIVA                1   \n",
       "1377224             9  FONDOS DE INVERSIÓN COLECTIVA                1   \n",
       "1014889             9  FONDOS DE INVERSIÓN COLECTIVA                1   \n",
       "\n",
       "         NOMBRE_SUBTIPO_PATRIMONIO  CODIGO_NEGOCIO  \\\n",
       "2009521  FONDOS DE CAPITAL PRIVADO           59012   \n",
       "1984805        FIC DE TIPO GENERAL           10779   \n",
       "1213757        FIC DE TIPO GENERAL           82379   \n",
       "1377224        FIC DE TIPO GENERAL           60273   \n",
       "1014889        FIC DE TIPO GENERAL           51953   \n",
       "\n",
       "                                         NOMBRE_PATRIMONIO  \\\n",
       "2009521  FONDO DE CAPITAL PRIVADO TC LATAM - COMPARTIME...   \n",
       "1984805    RENTAFACIL FONDO DE INVERSION COLECTIVA ABIERTO   \n",
       "1213757  FIC ABIERTO CON PACTO DE PERMANENCIA AVANZAR 9...   \n",
       "1377224  FONDO DE INVERSIÓN COLECTIVA CERRADO BTG PACTU...   \n",
       "1014889      FONDO DE INVERSIÓN COLECTIVA SKANDIA EFECTIVO   \n",
       "\n",
       "         PRINCIPAL_COMPARTIMENTO  TIPO_PARTICIPACION  RENDIMIENTOS_ABONADOS  \\\n",
       "2009521                        2                 800             -3833350.9   \n",
       "1984805                        1                 503              -179561.0   \n",
       "1213757                        1                 511              3716988.2   \n",
       "1377224                        1                 505              4127274.0   \n",
       "1014889                        1                 503             18844150.9   \n",
       "\n",
       "         PRECIERRE_FONDO_DIA_T  \\\n",
       "2009521          13882984418.4   \n",
       "1984805          15341757442.9   \n",
       "1213757          23110529775.0   \n",
       "1377224          55022670038.1   \n",
       "1014889         207676899172.5   \n",
       "\n",
       "         NUMERO_UNIDADES_FONDO_CIERRE_OPER_DIA_T_ANTERIOR  \\\n",
       "2009521                                        12207494.5   \n",
       "1984805                                          391438.6   \n",
       "1213757                                         2054742.3   \n",
       "1377224                                         5198299.8   \n",
       "1014889                                        80578250.6   \n",
       "\n",
       "         VALOR_UNIDAD_OPERACIONES_DIA_T  APORTES_RECIBIDOS  \\\n",
       "2009521                          1137.3                0.0   \n",
       "1984805                         39193.3                0.0   \n",
       "1213757                         11247.4                0.0   \n",
       "1377224                         10584.7                0.0   \n",
       "1014889                          2577.3                0.0   \n",
       "\n",
       "         RETIROS_REDENCIONES  ANULACIONES  VALOR_FONDO_CIERRE_DIA_T  \\\n",
       "2009521                  0.0          0.0             13882984418.4   \n",
       "1984805                  0.0          0.0             15341757442.9   \n",
       "1213757           31823589.2          0.0             23078706185.8   \n",
       "1377224                  0.0          0.0             55022670038.1   \n",
       "1014889                  0.0          0.0            207676899172.5   \n",
       "\n",
       "         NUMERO_INVERSIONISTAS  RENTABILIDAD_DIARIA  RENTABILIDAD_MENSUAL  \\\n",
       "2009521                    3.0                 -9.6                  -0.2   \n",
       "1984805                   13.0                 -0.4                   1.6   \n",
       "1213757                  280.0                  6.0                   6.9   \n",
       "1377224                  136.0                  2.8                   3.5   \n",
       "1014889                 4870.0                  3.4                   2.6   \n",
       "\n",
       "         RENTABILIDAD_SEMESTRAL  RENTABILIDAD_ANUAL  \n",
       "2009521                    -0.9               -61.5  \n",
       "1984805                     1.8                 2.6  \n",
       "1213757                     8.4                 8.8  \n",
       "1377224                    -7.4                -1.6  \n",
       "1014889                     3.5                 3.9  "
      ]
     },
     "execution_count": 19,
     "metadata": {},
     "output_type": "execute_result"
    }
   ],
   "source": [
    "pd.set_option('display.max_columns', None) ## para que me muestre todas las columnas que vienen desde el dataset \n",
    "df_FondosInversion_colectiva.sample(5)"
   ]
  },
  {
   "cell_type": "markdown",
   "metadata": {},
   "source": [
    "*Muestreo de datos estadísticos por columnas de tipo float64*"
   ]
  },
  {
   "cell_type": "code",
   "execution_count": 20,
   "metadata": {},
   "outputs": [
    {
     "data": {
      "text/html": [
       "<div>\n",
       "<style scoped>\n",
       "    .dataframe tbody tr th:only-of-type {\n",
       "        vertical-align: middle;\n",
       "    }\n",
       "\n",
       "    .dataframe tbody tr th {\n",
       "        vertical-align: top;\n",
       "    }\n",
       "\n",
       "    .dataframe thead th {\n",
       "        text-align: right;\n",
       "    }\n",
       "</style>\n",
       "<table border=\"1\" class=\"dataframe\">\n",
       "  <thead>\n",
       "    <tr style=\"text-align: right;\">\n",
       "      <th></th>\n",
       "      <th>RENDIMIENTOS_ABONADOS</th>\n",
       "      <th>PRECIERRE_FONDO_DIA_T</th>\n",
       "      <th>NUMERO_UNIDADES_FONDO_CIERRE_OPER_DIA_T_ANTERIOR</th>\n",
       "      <th>VALOR_UNIDAD_OPERACIONES_DIA_T</th>\n",
       "      <th>APORTES_RECIBIDOS</th>\n",
       "      <th>RETIROS_REDENCIONES</th>\n",
       "      <th>ANULACIONES</th>\n",
       "      <th>VALOR_FONDO_CIERRE_DIA_T</th>\n",
       "      <th>NUMERO_INVERSIONISTAS</th>\n",
       "      <th>RENTABILIDAD_DIARIA</th>\n",
       "      <th>RENTABILIDAD_MENSUAL</th>\n",
       "      <th>RENTABILIDAD_SEMESTRAL</th>\n",
       "      <th>RENTABILIDAD_ANUAL</th>\n",
       "    </tr>\n",
       "  </thead>\n",
       "  <tbody>\n",
       "    <tr>\n",
       "      <th>count</th>\n",
       "      <td>2165934.0</td>\n",
       "      <td>2165934.0</td>\n",
       "      <td>2165934.0</td>\n",
       "      <td>2165934.0</td>\n",
       "      <td>2165934.0</td>\n",
       "      <td>2165934.0</td>\n",
       "      <td>2165934.0</td>\n",
       "      <td>2165934.0</td>\n",
       "      <td>2165934.0</td>\n",
       "      <td>2165934.0</td>\n",
       "      <td>2165934.0</td>\n",
       "      <td>2165934.0</td>\n",
       "      <td>2165934.0</td>\n",
       "    </tr>\n",
       "    <tr>\n",
       "      <th>mean</th>\n",
       "      <td>26800601.4</td>\n",
       "      <td>160007493836.6</td>\n",
       "      <td>645079892210.2</td>\n",
       "      <td>114350.0</td>\n",
       "      <td>3310246439.0</td>\n",
       "      <td>3250164539.0</td>\n",
       "      <td>-25796145.4</td>\n",
       "      <td>160041201963.7</td>\n",
       "      <td>4194.3</td>\n",
       "      <td>631408123631088733079470080.0</td>\n",
       "      <td>126456183574563568821993472.0</td>\n",
       "      <td>27810244690566532.0</td>\n",
       "      <td>46299076.8</td>\n",
       "    </tr>\n",
       "    <tr>\n",
       "      <th>std</th>\n",
       "      <td>2234734740.2</td>\n",
       "      <td>631343695806.2</td>\n",
       "      <td>41570484302889.7</td>\n",
       "      <td>2741276.7</td>\n",
       "      <td>23902762770.2</td>\n",
       "      <td>23491467118.0</td>\n",
       "      <td>3059820525.0</td>\n",
       "      <td>631423421622.1</td>\n",
       "      <td>1936345.6</td>\n",
       "      <td>201941119238288943636801388544.0</td>\n",
       "      <td>21215792223669752970432479232.0</td>\n",
       "      <td>40928649876267196416.0</td>\n",
       "      <td>67948292223.4</td>\n",
       "    </tr>\n",
       "    <tr>\n",
       "      <th>min</th>\n",
       "      <td>-710090588833.6</td>\n",
       "      <td>-58653463459.0</td>\n",
       "      <td>0.0</td>\n",
       "      <td>0.0</td>\n",
       "      <td>-0.2</td>\n",
       "      <td>-12490602.2</td>\n",
       "      <td>-3099999999399.0</td>\n",
       "      <td>-56425862649.6</td>\n",
       "      <td>0.0</td>\n",
       "      <td>-108023068920482.0</td>\n",
       "      <td>-18744659.0</td>\n",
       "      <td>-247.5</td>\n",
       "      <td>-153.5</td>\n",
       "    </tr>\n",
       "    <tr>\n",
       "      <th>25%</th>\n",
       "      <td>0.0</td>\n",
       "      <td>3941332724.7</td>\n",
       "      <td>314504.0</td>\n",
       "      <td>10000.0</td>\n",
       "      <td>0.0</td>\n",
       "      <td>0.0</td>\n",
       "      <td>0.0</td>\n",
       "      <td>3944277670.6</td>\n",
       "      <td>2.0</td>\n",
       "      <td>0.0</td>\n",
       "      <td>-0.1</td>\n",
       "      <td>0.0</td>\n",
       "      <td>0.0</td>\n",
       "    </tr>\n",
       "    <tr>\n",
       "      <th>50%</th>\n",
       "      <td>973929.4</td>\n",
       "      <td>22594370963.9</td>\n",
       "      <td>1696881.9</td>\n",
       "      <td>11911.5</td>\n",
       "      <td>0.0</td>\n",
       "      <td>0.0</td>\n",
       "      <td>0.0</td>\n",
       "      <td>22606362015.6</td>\n",
       "      <td>15.0</td>\n",
       "      <td>3.7</td>\n",
       "      <td>4.7</td>\n",
       "      <td>4.5</td>\n",
       "      <td>3.9</td>\n",
       "    </tr>\n",
       "    <tr>\n",
       "      <th>75%</th>\n",
       "      <td>13473576.3</td>\n",
       "      <td>100600921545.3</td>\n",
       "      <td>7735792.0</td>\n",
       "      <td>16524.7</td>\n",
       "      <td>0.7</td>\n",
       "      <td>268897.5</td>\n",
       "      <td>0.0</td>\n",
       "      <td>100638568834.8</td>\n",
       "      <td>174.0</td>\n",
       "      <td>10.2</td>\n",
       "      <td>11.0</td>\n",
       "      <td>11.1</td>\n",
       "      <td>9.5</td>\n",
       "    </tr>\n",
       "    <tr>\n",
       "      <th>max</th>\n",
       "      <td>518355711846.6</td>\n",
       "      <td>20575931167867.6</td>\n",
       "      <td>7590328546682310.0</td>\n",
       "      <td>732273745.1</td>\n",
       "      <td>10135099698650.0</td>\n",
       "      <td>10135003044471.9</td>\n",
       "      <td>457248295031.4</td>\n",
       "      <td>20566319829428.3</td>\n",
       "      <td>2849426803.8</td>\n",
       "      <td>97798776597479386416198260359168.0</td>\n",
       "      <td>6435146136200000167149035323392.0</td>\n",
       "      <td>60235154423262094557184.0</td>\n",
       "      <td>100000000000000.0</td>\n",
       "    </tr>\n",
       "  </tbody>\n",
       "</table>\n",
       "</div>"
      ],
      "text/plain": [
       "       RENDIMIENTOS_ABONADOS  PRECIERRE_FONDO_DIA_T  \\\n",
       "count              2165934.0              2165934.0   \n",
       "mean              26800601.4         160007493836.6   \n",
       "std             2234734740.2         631343695806.2   \n",
       "min          -710090588833.6         -58653463459.0   \n",
       "25%                      0.0           3941332724.7   \n",
       "50%                 973929.4          22594370963.9   \n",
       "75%               13473576.3         100600921545.3   \n",
       "max           518355711846.6       20575931167867.6   \n",
       "\n",
       "       NUMERO_UNIDADES_FONDO_CIERRE_OPER_DIA_T_ANTERIOR  \\\n",
       "count                                         2165934.0   \n",
       "mean                                     645079892210.2   \n",
       "std                                    41570484302889.7   \n",
       "min                                                 0.0   \n",
       "25%                                            314504.0   \n",
       "50%                                           1696881.9   \n",
       "75%                                           7735792.0   \n",
       "max                                  7590328546682310.0   \n",
       "\n",
       "       VALOR_UNIDAD_OPERACIONES_DIA_T  APORTES_RECIBIDOS  RETIROS_REDENCIONES  \\\n",
       "count                       2165934.0          2165934.0            2165934.0   \n",
       "mean                         114350.0       3310246439.0         3250164539.0   \n",
       "std                         2741276.7      23902762770.2        23491467118.0   \n",
       "min                               0.0               -0.2          -12490602.2   \n",
       "25%                           10000.0                0.0                  0.0   \n",
       "50%                           11911.5                0.0                  0.0   \n",
       "75%                           16524.7                0.7             268897.5   \n",
       "max                       732273745.1   10135099698650.0     10135003044471.9   \n",
       "\n",
       "           ANULACIONES  VALOR_FONDO_CIERRE_DIA_T  NUMERO_INVERSIONISTAS  \\\n",
       "count        2165934.0                 2165934.0              2165934.0   \n",
       "mean       -25796145.4            160041201963.7                 4194.3   \n",
       "std       3059820525.0            631423421622.1              1936345.6   \n",
       "min   -3099999999399.0            -56425862649.6                    0.0   \n",
       "25%                0.0              3944277670.6                    2.0   \n",
       "50%                0.0             22606362015.6                   15.0   \n",
       "75%                0.0            100638568834.8                  174.0   \n",
       "max     457248295031.4          20566319829428.3           2849426803.8   \n",
       "\n",
       "                     RENTABILIDAD_DIARIA              RENTABILIDAD_MENSUAL  \\\n",
       "count                          2165934.0                         2165934.0   \n",
       "mean       631408123631088733079470080.0     126456183574563568821993472.0   \n",
       "std     201941119238288943636801388544.0   21215792223669752970432479232.0   \n",
       "min                   -108023068920482.0                       -18744659.0   \n",
       "25%                                  0.0                              -0.1   \n",
       "50%                                  3.7                               4.7   \n",
       "75%                                 10.2                              11.0   \n",
       "max   97798776597479386416198260359168.0 6435146136200000167149035323392.0   \n",
       "\n",
       "         RENTABILIDAD_SEMESTRAL  RENTABILIDAD_ANUAL  \n",
       "count                 2165934.0           2165934.0  \n",
       "mean        27810244690566532.0          46299076.8  \n",
       "std      40928649876267196416.0       67948292223.4  \n",
       "min                      -247.5              -153.5  \n",
       "25%                         0.0                 0.0  \n",
       "50%                         4.5                 3.9  \n",
       "75%                        11.1                 9.5  \n",
       "max   60235154423262094557184.0   100000000000000.0  "
      ]
     },
     "execution_count": 20,
     "metadata": {},
     "output_type": "execute_result"
    }
   ],
   "source": [
    "# Muestra estadistica de los valores flotantes\n",
    "df_FondosInversion_colectiva.describe(include=['float64'])"
   ]
  },
  {
   "cell_type": "markdown",
   "metadata": {},
   "source": [
    "*Muestreo de datos estadísticos por datos categóricos*"
   ]
  },
  {
   "cell_type": "code",
   "execution_count": 21,
   "metadata": {},
   "outputs": [
    {
     "data": {
      "text/html": [
       "<div>\n",
       "<style scoped>\n",
       "    .dataframe tbody tr th:only-of-type {\n",
       "        vertical-align: middle;\n",
       "    }\n",
       "\n",
       "    .dataframe tbody tr th {\n",
       "        vertical-align: top;\n",
       "    }\n",
       "\n",
       "    .dataframe thead th {\n",
       "        text-align: right;\n",
       "    }\n",
       "</style>\n",
       "<table border=\"1\" class=\"dataframe\">\n",
       "  <thead>\n",
       "    <tr style=\"text-align: right;\">\n",
       "      <th></th>\n",
       "      <th>NOMBRE_TIPO_ENTIDAD</th>\n",
       "      <th>NOMBRE_ENTIDAD</th>\n",
       "      <th>NOMBRE_TIPO_PATRIMONIO</th>\n",
       "      <th>NOMBRE_SUBTIPO_PATRIMONIO</th>\n",
       "      <th>NOMBRE_PATRIMONIO</th>\n",
       "    </tr>\n",
       "  </thead>\n",
       "  <tbody>\n",
       "    <tr>\n",
       "      <th>count</th>\n",
       "      <td>2165934</td>\n",
       "      <td>2165934</td>\n",
       "      <td>2165934</td>\n",
       "      <td>2165934</td>\n",
       "      <td>2165934</td>\n",
       "    </tr>\n",
       "    <tr>\n",
       "      <th>unique</th>\n",
       "      <td>3</td>\n",
       "      <td>46</td>\n",
       "      <td>1</td>\n",
       "      <td>5</td>\n",
       "      <td>824</td>\n",
       "    </tr>\n",
       "    <tr>\n",
       "      <th>top</th>\n",
       "      <td>SF-SOCIEDAD FIDUCIARIA</td>\n",
       "      <td>Alianza Fiduciaria S.A.</td>\n",
       "      <td>FONDOS DE INVERSIÓN COLECTIVA</td>\n",
       "      <td>FIC DE TIPO GENERAL</td>\n",
       "      <td>FONDO ABIERTO ALIANZA</td>\n",
       "    </tr>\n",
       "    <tr>\n",
       "      <th>freq</th>\n",
       "      <td>1457796</td>\n",
       "      <td>384409</td>\n",
       "      <td>2165934</td>\n",
       "      <td>1438935</td>\n",
       "      <td>37650</td>\n",
       "    </tr>\n",
       "  </tbody>\n",
       "</table>\n",
       "</div>"
      ],
      "text/plain": [
       "           NOMBRE_TIPO_ENTIDAD           NOMBRE_ENTIDAD  \\\n",
       "count                  2165934                  2165934   \n",
       "unique                       3                       46   \n",
       "top     SF-SOCIEDAD FIDUCIARIA  Alianza Fiduciaria S.A.   \n",
       "freq                   1457796                   384409   \n",
       "\n",
       "               NOMBRE_TIPO_PATRIMONIO NOMBRE_SUBTIPO_PATRIMONIO  \\\n",
       "count                         2165934                   2165934   \n",
       "unique                              1                         5   \n",
       "top     FONDOS DE INVERSIÓN COLECTIVA       FIC DE TIPO GENERAL   \n",
       "freq                          2165934                   1438935   \n",
       "\n",
       "            NOMBRE_PATRIMONIO  \n",
       "count                 2165934  \n",
       "unique                    824  \n",
       "top     FONDO ABIERTO ALIANZA  \n",
       "freq                    37650  "
      ]
     },
     "execution_count": 21,
     "metadata": {},
     "output_type": "execute_result"
    }
   ],
   "source": [
    "# Muestra estadistica de los valores categoricos\n",
    "df_FondosInversion_colectiva.describe(include=['object'])"
   ]
  },
  {
   "cell_type": "markdown",
   "metadata": {},
   "source": [
    "# Agrupación y conteo de datos en columnas relevantes"
   ]
  },
  {
   "cell_type": "code",
   "execution_count": 22,
   "metadata": {},
   "outputs": [
    {
     "data": {
      "text/html": [
       "<div>\n",
       "<style scoped>\n",
       "    .dataframe tbody tr th:only-of-type {\n",
       "        vertical-align: middle;\n",
       "    }\n",
       "\n",
       "    .dataframe tbody tr th {\n",
       "        vertical-align: top;\n",
       "    }\n",
       "\n",
       "    .dataframe thead th {\n",
       "        text-align: right;\n",
       "    }\n",
       "</style>\n",
       "<table border=\"1\" class=\"dataframe\">\n",
       "  <thead>\n",
       "    <tr style=\"text-align: right;\">\n",
       "      <th></th>\n",
       "      <th>NOMBRE_TIPO_ENTIDAD</th>\n",
       "      <th>count</th>\n",
       "    </tr>\n",
       "  </thead>\n",
       "  <tbody>\n",
       "    <tr>\n",
       "      <th>0</th>\n",
       "      <td>SF-SOCIEDAD FIDUCIARIA</td>\n",
       "      <td>1457796</td>\n",
       "    </tr>\n",
       "    <tr>\n",
       "      <th>1</th>\n",
       "      <td>COMISIONISTAS DE BOLSA DE VALORES</td>\n",
       "      <td>659843</td>\n",
       "    </tr>\n",
       "    <tr>\n",
       "      <th>2</th>\n",
       "      <td>SOCIEDADES ADMINISTRADORAS DE INVERSIÓN</td>\n",
       "      <td>48295</td>\n",
       "    </tr>\n",
       "  </tbody>\n",
       "</table>\n",
       "</div>"
      ],
      "text/plain": [
       "                       NOMBRE_TIPO_ENTIDAD    count\n",
       "0                   SF-SOCIEDAD FIDUCIARIA  1457796\n",
       "1        COMISIONISTAS DE BOLSA DE VALORES   659843\n",
       "2  SOCIEDADES ADMINISTRADORAS DE INVERSIÓN    48295"
      ]
     },
     "execution_count": 22,
     "metadata": {},
     "output_type": "execute_result"
    }
   ],
   "source": [
    "df_FondosInversion_colectiva['NOMBRE_TIPO_ENTIDAD'].value_counts().reset_index()"
   ]
  },
  {
   "cell_type": "code",
   "execution_count": 23,
   "metadata": {},
   "outputs": [
    {
     "data": {
      "text/html": [
       "<div>\n",
       "<style scoped>\n",
       "    .dataframe tbody tr th:only-of-type {\n",
       "        vertical-align: middle;\n",
       "    }\n",
       "\n",
       "    .dataframe tbody tr th {\n",
       "        vertical-align: top;\n",
       "    }\n",
       "\n",
       "    .dataframe thead th {\n",
       "        text-align: right;\n",
       "    }\n",
       "</style>\n",
       "<table border=\"1\" class=\"dataframe\">\n",
       "  <thead>\n",
       "    <tr style=\"text-align: right;\">\n",
       "      <th></th>\n",
       "      <th>NOMBRE_ENTIDAD</th>\n",
       "      <th>count</th>\n",
       "    </tr>\n",
       "  </thead>\n",
       "  <tbody>\n",
       "    <tr>\n",
       "      <th>0</th>\n",
       "      <td>Alianza Fiduciaria S.A.</td>\n",
       "      <td>384409</td>\n",
       "    </tr>\n",
       "    <tr>\n",
       "      <th>1</th>\n",
       "      <td>Btg Pactual</td>\n",
       "      <td>135938</td>\n",
       "    </tr>\n",
       "    <tr>\n",
       "      <th>2</th>\n",
       "      <td>Fiduciaria Corficolombiana S.A.</td>\n",
       "      <td>129919</td>\n",
       "    </tr>\n",
       "    <tr>\n",
       "      <th>3</th>\n",
       "      <td>Credicorp Capital</td>\n",
       "      <td>126476</td>\n",
       "    </tr>\n",
       "    <tr>\n",
       "      <th>4</th>\n",
       "      <td>Corredores Davivienda S.A.Comisionista De Bolsa</td>\n",
       "      <td>121583</td>\n",
       "    </tr>\n",
       "    <tr>\n",
       "      <th>5</th>\n",
       "      <td>Fiduciaria De Occidente S.A.  - Fiduoccidente ...</td>\n",
       "      <td>99396</td>\n",
       "    </tr>\n",
       "    <tr>\n",
       "      <th>6</th>\n",
       "      <td>Fiduciaria Bogotá S.A.</td>\n",
       "      <td>91688</td>\n",
       "    </tr>\n",
       "    <tr>\n",
       "      <th>7</th>\n",
       "      <td>Fiduciaria Bancolombia S.A. Sociedad Fiduciaria</td>\n",
       "      <td>82620</td>\n",
       "    </tr>\n",
       "    <tr>\n",
       "      <th>8</th>\n",
       "      <td>Fiduciaria Central S.A. Sigla Fiducentral S.A.</td>\n",
       "      <td>78625</td>\n",
       "    </tr>\n",
       "    <tr>\n",
       "      <th>9</th>\n",
       "      <td>Bbva Asset Management S.A. Sociedad Fiduciaria</td>\n",
       "      <td>73377</td>\n",
       "    </tr>\n",
       "    <tr>\n",
       "      <th>10</th>\n",
       "      <td>Skandia Fiduciaria S.A.</td>\n",
       "      <td>70616</td>\n",
       "    </tr>\n",
       "    <tr>\n",
       "      <th>11</th>\n",
       "      <td>Ultraserfinco S.A.</td>\n",
       "      <td>53278</td>\n",
       "    </tr>\n",
       "    <tr>\n",
       "      <th>12</th>\n",
       "      <td>Sociedad Fiduciaria De Desarrollo Agropecuario...</td>\n",
       "      <td>49589</td>\n",
       "    </tr>\n",
       "    <tr>\n",
       "      <th>13</th>\n",
       "      <td>Fiduciaria Coomeva S.A.</td>\n",
       "      <td>46971</td>\n",
       "    </tr>\n",
       "    <tr>\n",
       "      <th>14</th>\n",
       "      <td>Fiduciaria Popular S.A. - Fiduciar S.A.</td>\n",
       "      <td>45836</td>\n",
       "    </tr>\n",
       "    <tr>\n",
       "      <th>15</th>\n",
       "      <td>Fiduciaria Davivienda S.A. Pudiendo Utilizar L...</td>\n",
       "      <td>42482</td>\n",
       "    </tr>\n",
       "    <tr>\n",
       "      <th>16</th>\n",
       "      <td>Fiduciaria Sura S.A.</td>\n",
       "      <td>41555</td>\n",
       "    </tr>\n",
       "    <tr>\n",
       "      <th>17</th>\n",
       "      <td>Valores Bancolombia S.A. Comisionista De Bolsa</td>\n",
       "      <td>38047</td>\n",
       "    </tr>\n",
       "    <tr>\n",
       "      <th>18</th>\n",
       "      <td>Fiduciaria La Previsora S.A.  Sigla Fiduprevis...</td>\n",
       "      <td>37760</td>\n",
       "    </tr>\n",
       "    <tr>\n",
       "      <th>19</th>\n",
       "      <td>Itaú Fiduciaria</td>\n",
       "      <td>37330</td>\n",
       "    </tr>\n",
       "    <tr>\n",
       "      <th>20</th>\n",
       "      <td>Global Securities S.A. Comisionista De Bolsa</td>\n",
       "      <td>37184</td>\n",
       "    </tr>\n",
       "    <tr>\n",
       "      <th>21</th>\n",
       "      <td>Profesionales De Bolsa</td>\n",
       "      <td>32045</td>\n",
       "    </tr>\n",
       "    <tr>\n",
       "      <th>22</th>\n",
       "      <td>Credicorp Capital Fiduciaria S.A.</td>\n",
       "      <td>28698</td>\n",
       "    </tr>\n",
       "    <tr>\n",
       "      <th>23</th>\n",
       "      <td>Progresion Scb</td>\n",
       "      <td>27549</td>\n",
       "    </tr>\n",
       "    <tr>\n",
       "      <th>24</th>\n",
       "      <td>Progresion Sociedad Administradora De Inversio...</td>\n",
       "      <td>27537</td>\n",
       "    </tr>\n",
       "    <tr>\n",
       "      <th>25</th>\n",
       "      <td>Renta4g Fiduciaria</td>\n",
       "      <td>26232</td>\n",
       "    </tr>\n",
       "    <tr>\n",
       "      <th>26</th>\n",
       "      <td>Larrain Vial Colombia S.A.  Comisionista De Bolsa</td>\n",
       "      <td>25482</td>\n",
       "    </tr>\n",
       "    <tr>\n",
       "      <th>27</th>\n",
       "      <td>Fiducoldex</td>\n",
       "      <td>25070</td>\n",
       "    </tr>\n",
       "    <tr>\n",
       "      <th>28</th>\n",
       "      <td>Caja Social</td>\n",
       "      <td>24098</td>\n",
       "    </tr>\n",
       "    <tr>\n",
       "      <th>29</th>\n",
       "      <td>Acciones Y Valores S.A.  Comisionistas De Bolsa</td>\n",
       "      <td>22199</td>\n",
       "    </tr>\n",
       "    <tr>\n",
       "      <th>30</th>\n",
       "      <td>Seaf</td>\n",
       "      <td>20454</td>\n",
       "    </tr>\n",
       "    <tr>\n",
       "      <th>31</th>\n",
       "      <td>Scotiabank Fiduciaria Colpatria\", \"Colpatria S...</td>\n",
       "      <td>17465</td>\n",
       "    </tr>\n",
       "    <tr>\n",
       "      <th>32</th>\n",
       "      <td>Accion Sociedad Fiduciaria S.A.  Sigla Acción ...</td>\n",
       "      <td>13790</td>\n",
       "    </tr>\n",
       "    <tr>\n",
       "      <th>33</th>\n",
       "      <td>Alianza Valores</td>\n",
       "      <td>8028</td>\n",
       "    </tr>\n",
       "    <tr>\n",
       "      <th>34</th>\n",
       "      <td>Servitrust Gnb Sudameris S.A.</td>\n",
       "      <td>7879</td>\n",
       "    </tr>\n",
       "    <tr>\n",
       "      <th>35</th>\n",
       "      <td>Servivalores Gnb Sudameris S.A. Comisionista D...</td>\n",
       "      <td>6445</td>\n",
       "    </tr>\n",
       "    <tr>\n",
       "      <th>36</th>\n",
       "      <td>Itaú Comisionista De Bolsa</td>\n",
       "      <td>4941</td>\n",
       "    </tr>\n",
       "    <tr>\n",
       "      <th>37</th>\n",
       "      <td>Casa De Bolsa S.A.</td>\n",
       "      <td>4920</td>\n",
       "    </tr>\n",
       "    <tr>\n",
       "      <th>38</th>\n",
       "      <td>Citivalores</td>\n",
       "      <td>4185</td>\n",
       "    </tr>\n",
       "    <tr>\n",
       "      <th>39</th>\n",
       "      <td>Valoralta  S.A. Comisionista De Bolsa</td>\n",
       "      <td>3923</td>\n",
       "    </tr>\n",
       "    <tr>\n",
       "      <th>40</th>\n",
       "      <td>Ualet S.A. Comisionista De Bolsa</td>\n",
       "      <td>2673</td>\n",
       "    </tr>\n",
       "    <tr>\n",
       "      <th>41</th>\n",
       "      <td>Bbva Valores</td>\n",
       "      <td>2410</td>\n",
       "    </tr>\n",
       "    <tr>\n",
       "      <th>42</th>\n",
       "      <td>Fiduciaria Del País S.A. - Fidupais S.A.</td>\n",
       "      <td>2391</td>\n",
       "    </tr>\n",
       "    <tr>\n",
       "      <th>43</th>\n",
       "      <td>Skandia Valores S.A.</td>\n",
       "      <td>1320</td>\n",
       "    </tr>\n",
       "    <tr>\n",
       "      <th>44</th>\n",
       "      <td>Compass Group S.A.</td>\n",
       "      <td>1217</td>\n",
       "    </tr>\n",
       "    <tr>\n",
       "      <th>45</th>\n",
       "      <td>Seguridad Compañia Administradora De Fondos De...</td>\n",
       "      <td>304</td>\n",
       "    </tr>\n",
       "  </tbody>\n",
       "</table>\n",
       "</div>"
      ],
      "text/plain": [
       "                                       NOMBRE_ENTIDAD   count\n",
       "0                             Alianza Fiduciaria S.A.  384409\n",
       "1                                         Btg Pactual  135938\n",
       "2                     Fiduciaria Corficolombiana S.A.  129919\n",
       "3                                   Credicorp Capital  126476\n",
       "4     Corredores Davivienda S.A.Comisionista De Bolsa  121583\n",
       "5   Fiduciaria De Occidente S.A.  - Fiduoccidente ...   99396\n",
       "6                              Fiduciaria Bogotá S.A.   91688\n",
       "7     Fiduciaria Bancolombia S.A. Sociedad Fiduciaria   82620\n",
       "8      Fiduciaria Central S.A. Sigla Fiducentral S.A.   78625\n",
       "9      Bbva Asset Management S.A. Sociedad Fiduciaria   73377\n",
       "10                            Skandia Fiduciaria S.A.   70616\n",
       "11                                 Ultraserfinco S.A.   53278\n",
       "12  Sociedad Fiduciaria De Desarrollo Agropecuario...   49589\n",
       "13                            Fiduciaria Coomeva S.A.   46971\n",
       "14            Fiduciaria Popular S.A. - Fiduciar S.A.   45836\n",
       "15  Fiduciaria Davivienda S.A. Pudiendo Utilizar L...   42482\n",
       "16                               Fiduciaria Sura S.A.   41555\n",
       "17     Valores Bancolombia S.A. Comisionista De Bolsa   38047\n",
       "18  Fiduciaria La Previsora S.A.  Sigla Fiduprevis...   37760\n",
       "19                                    Itaú Fiduciaria   37330\n",
       "20       Global Securities S.A. Comisionista De Bolsa   37184\n",
       "21                             Profesionales De Bolsa   32045\n",
       "22                  Credicorp Capital Fiduciaria S.A.   28698\n",
       "23                                     Progresion Scb   27549\n",
       "24  Progresion Sociedad Administradora De Inversio...   27537\n",
       "25                                 Renta4g Fiduciaria   26232\n",
       "26  Larrain Vial Colombia S.A.  Comisionista De Bolsa   25482\n",
       "27                                         Fiducoldex   25070\n",
       "28                                        Caja Social   24098\n",
       "29    Acciones Y Valores S.A.  Comisionistas De Bolsa   22199\n",
       "30                                               Seaf   20454\n",
       "31  Scotiabank Fiduciaria Colpatria\", \"Colpatria S...   17465\n",
       "32  Accion Sociedad Fiduciaria S.A.  Sigla Acción ...   13790\n",
       "33                                    Alianza Valores    8028\n",
       "34                      Servitrust Gnb Sudameris S.A.    7879\n",
       "35  Servivalores Gnb Sudameris S.A. Comisionista D...    6445\n",
       "36                         Itaú Comisionista De Bolsa    4941\n",
       "37                                 Casa De Bolsa S.A.    4920\n",
       "38                                        Citivalores    4185\n",
       "39              Valoralta  S.A. Comisionista De Bolsa    3923\n",
       "40                   Ualet S.A. Comisionista De Bolsa    2673\n",
       "41                                       Bbva Valores    2410\n",
       "42           Fiduciaria Del País S.A. - Fidupais S.A.    2391\n",
       "43                               Skandia Valores S.A.    1320\n",
       "44                                 Compass Group S.A.    1217\n",
       "45  Seguridad Compañia Administradora De Fondos De...     304"
      ]
     },
     "execution_count": 23,
     "metadata": {},
     "output_type": "execute_result"
    }
   ],
   "source": [
    "df_FondosInversion_colectiva['NOMBRE_ENTIDAD'].value_counts().reset_index()"
   ]
  },
  {
   "cell_type": "code",
   "execution_count": 24,
   "metadata": {},
   "outputs": [
    {
     "data": {
      "text/html": [
       "<div>\n",
       "<style scoped>\n",
       "    .dataframe tbody tr th:only-of-type {\n",
       "        vertical-align: middle;\n",
       "    }\n",
       "\n",
       "    .dataframe tbody tr th {\n",
       "        vertical-align: top;\n",
       "    }\n",
       "\n",
       "    .dataframe thead th {\n",
       "        text-align: right;\n",
       "    }\n",
       "</style>\n",
       "<table border=\"1\" class=\"dataframe\">\n",
       "  <thead>\n",
       "    <tr style=\"text-align: right;\">\n",
       "      <th></th>\n",
       "      <th>NOMBRE_TIPO_PATRIMONIO</th>\n",
       "      <th>count</th>\n",
       "    </tr>\n",
       "  </thead>\n",
       "  <tbody>\n",
       "    <tr>\n",
       "      <th>0</th>\n",
       "      <td>FONDOS DE INVERSIÓN COLECTIVA</td>\n",
       "      <td>2165934</td>\n",
       "    </tr>\n",
       "  </tbody>\n",
       "</table>\n",
       "</div>"
      ],
      "text/plain": [
       "          NOMBRE_TIPO_PATRIMONIO    count\n",
       "0  FONDOS DE INVERSIÓN COLECTIVA  2165934"
      ]
     },
     "execution_count": 24,
     "metadata": {},
     "output_type": "execute_result"
    }
   ],
   "source": [
    "df_FondosInversion_colectiva['NOMBRE_TIPO_PATRIMONIO'].value_counts().reset_index()"
   ]
  },
  {
   "cell_type": "code",
   "execution_count": 25,
   "metadata": {},
   "outputs": [
    {
     "data": {
      "text/html": [
       "<div>\n",
       "<style scoped>\n",
       "    .dataframe tbody tr th:only-of-type {\n",
       "        vertical-align: middle;\n",
       "    }\n",
       "\n",
       "    .dataframe tbody tr th {\n",
       "        vertical-align: top;\n",
       "    }\n",
       "\n",
       "    .dataframe thead th {\n",
       "        text-align: right;\n",
       "    }\n",
       "</style>\n",
       "<table border=\"1\" class=\"dataframe\">\n",
       "  <thead>\n",
       "    <tr style=\"text-align: right;\">\n",
       "      <th></th>\n",
       "      <th>NOMBRE_SUBTIPO_PATRIMONIO</th>\n",
       "      <th>count</th>\n",
       "    </tr>\n",
       "  </thead>\n",
       "  <tbody>\n",
       "    <tr>\n",
       "      <th>0</th>\n",
       "      <td>FIC DE TIPO GENERAL</td>\n",
       "      <td>1438935</td>\n",
       "    </tr>\n",
       "    <tr>\n",
       "      <th>1</th>\n",
       "      <td>FONDOS DE CAPITAL PRIVADO</td>\n",
       "      <td>624622</td>\n",
       "    </tr>\n",
       "    <tr>\n",
       "      <th>2</th>\n",
       "      <td>FIC INMOBILIARIAS</td>\n",
       "      <td>52487</td>\n",
       "    </tr>\n",
       "    <tr>\n",
       "      <th>3</th>\n",
       "      <td>FIC DE MERCADO MONETARIO</td>\n",
       "      <td>42195</td>\n",
       "    </tr>\n",
       "    <tr>\n",
       "      <th>4</th>\n",
       "      <td>FIC BURSATILES</td>\n",
       "      <td>7695</td>\n",
       "    </tr>\n",
       "  </tbody>\n",
       "</table>\n",
       "</div>"
      ],
      "text/plain": [
       "   NOMBRE_SUBTIPO_PATRIMONIO    count\n",
       "0        FIC DE TIPO GENERAL  1438935\n",
       "1  FONDOS DE CAPITAL PRIVADO   624622\n",
       "2          FIC INMOBILIARIAS    52487\n",
       "3   FIC DE MERCADO MONETARIO    42195\n",
       "4             FIC BURSATILES     7695"
      ]
     },
     "execution_count": 25,
     "metadata": {},
     "output_type": "execute_result"
    }
   ],
   "source": [
    "df_FondosInversion_colectiva['NOMBRE_SUBTIPO_PATRIMONIO'].value_counts().reset_index()"
   ]
  },
  {
   "cell_type": "code",
   "execution_count": 26,
   "metadata": {},
   "outputs": [
    {
     "data": {
      "text/html": [
       "<div>\n",
       "<style scoped>\n",
       "    .dataframe tbody tr th:only-of-type {\n",
       "        vertical-align: middle;\n",
       "    }\n",
       "\n",
       "    .dataframe tbody tr th {\n",
       "        vertical-align: top;\n",
       "    }\n",
       "\n",
       "    .dataframe thead th {\n",
       "        text-align: right;\n",
       "    }\n",
       "</style>\n",
       "<table border=\"1\" class=\"dataframe\">\n",
       "  <thead>\n",
       "    <tr style=\"text-align: right;\">\n",
       "      <th></th>\n",
       "      <th>NOMBRE_PATRIMONIO</th>\n",
       "      <th>count</th>\n",
       "    </tr>\n",
       "  </thead>\n",
       "  <tbody>\n",
       "    <tr>\n",
       "      <th>0</th>\n",
       "      <td>FONDO ABIERTO ALIANZA</td>\n",
       "      <td>37650</td>\n",
       "    </tr>\n",
       "    <tr>\n",
       "      <th>1</th>\n",
       "      <td>F.I.C. VALOR PLUS I</td>\n",
       "      <td>36143</td>\n",
       "    </tr>\n",
       "    <tr>\n",
       "      <th>2</th>\n",
       "      <td>FONDO DE INVERSION COLECTIVA ABIERTO SUMAR</td>\n",
       "      <td>34656</td>\n",
       "    </tr>\n",
       "    <tr>\n",
       "      <th>3</th>\n",
       "      <td>FONDO DE INVERSION COLECTIVA ABIERTO FIDUGOB</td>\n",
       "      <td>28300</td>\n",
       "    </tr>\n",
       "    <tr>\n",
       "      <th>4</th>\n",
       "      <td>FONDO DE INVERSIÓN COLECTIVA ABIERTO BBVA EFEC...</td>\n",
       "      <td>26173</td>\n",
       "    </tr>\n",
       "    <tr>\n",
       "      <th>...</th>\n",
       "      <td>...</td>\n",
       "      <td>...</td>\n",
       "    </tr>\n",
       "    <tr>\n",
       "      <th>819</th>\n",
       "      <td>FONDO DE INVERSIÓN COLECTIVA SKANDIA CERRADO C...</td>\n",
       "      <td>9</td>\n",
       "    </tr>\n",
       "    <tr>\n",
       "      <th>820</th>\n",
       "      <td>FONDO DE INVERSIÓN COLECTIVA SKANDIA CERRADO C...</td>\n",
       "      <td>5</td>\n",
       "    </tr>\n",
       "    <tr>\n",
       "      <th>821</th>\n",
       "      <td>FONDO CERRADO ALIANZA ALTERNATIVOS &amp; EQUITY CO...</td>\n",
       "      <td>2</td>\n",
       "    </tr>\n",
       "    <tr>\n",
       "      <th>822</th>\n",
       "      <td>FONDO DE INVERSIÓN COLECTIVA ABIERTO RENTA ACC...</td>\n",
       "      <td>1</td>\n",
       "    </tr>\n",
       "    <tr>\n",
       "      <th>823</th>\n",
       "      <td>FONDO DE CAPITAL PRIVADO BTG PACUAL CACAO COMP...</td>\n",
       "      <td>1</td>\n",
       "    </tr>\n",
       "  </tbody>\n",
       "</table>\n",
       "<p>824 rows × 2 columns</p>\n",
       "</div>"
      ],
      "text/plain": [
       "                                     NOMBRE_PATRIMONIO  count\n",
       "0                                FONDO ABIERTO ALIANZA  37650\n",
       "1                                  F.I.C. VALOR PLUS I  36143\n",
       "2           FONDO DE INVERSION COLECTIVA ABIERTO SUMAR  34656\n",
       "3         FONDO DE INVERSION COLECTIVA ABIERTO FIDUGOB  28300\n",
       "4    FONDO DE INVERSIÓN COLECTIVA ABIERTO BBVA EFEC...  26173\n",
       "..                                                 ...    ...\n",
       "819  FONDO DE INVERSIÓN COLECTIVA SKANDIA CERRADO C...      9\n",
       "820  FONDO DE INVERSIÓN COLECTIVA SKANDIA CERRADO C...      5\n",
       "821  FONDO CERRADO ALIANZA ALTERNATIVOS & EQUITY CO...      2\n",
       "822  FONDO DE INVERSIÓN COLECTIVA ABIERTO RENTA ACC...      1\n",
       "823  FONDO DE CAPITAL PRIVADO BTG PACUAL CACAO COMP...      1\n",
       "\n",
       "[824 rows x 2 columns]"
      ]
     },
     "execution_count": 26,
     "metadata": {},
     "output_type": "execute_result"
    }
   ],
   "source": [
    "df_FondosInversion_colectiva['NOMBRE_PATRIMONIO'].value_counts().reset_index()"
   ]
  },
  {
   "cell_type": "markdown",
   "metadata": {},
   "source": [
    "Distribución de datos por clasificación de NOMBRE TIPO ENTIDAD"
   ]
  },
  {
   "cell_type": "code",
   "execution_count": 27,
   "metadata": {},
   "outputs": [
    {
     "data": {
      "image/png": "[encoded data removed]",
      "text/plain": [
       "<Figure size 1500x1000 with 1 Axes>"
      ]
     },
     "metadata": {},
     "output_type": "display_data"
    }
   ],
   "source": [
    "# Ordenar los datos por la cantidad de cada categoría\n",
    "order = df_FondosInversion_colectiva['NOMBRE_TIPO_ENTIDAD'].value_counts().index\n",
    "\n",
    "# Gráficos de barras\n",
    "plt.figure(figsize=(15, 10))\n",
    "ax = sns.countplot(data=df_FondosInversion_colectiva, x='NOMBRE_TIPO_ENTIDAD',order=order)\n",
    "plt.xticks(rotation=90)\n",
    "\n",
    "# Añadir la cantidad en cada barra\n",
    "for p in ax.patches:\n",
    "    ax.annotate(format(p.get_height(), '.0f'), \n",
    "                (p.get_x() + p.get_width() / 2., p.get_height()), \n",
    "                ha = 'center', va = 'center', \n",
    "                xytext = (0, 10), \n",
    "                textcoords = 'offset points')\n",
    "    \n",
    "# Títulos y etiquetas\n",
    "plt.title('Frecuencia de Nombre de entidad')\n",
    "plt.xlabel('Nombre de entidad')\n",
    "plt.ylabel('Frecuencia')\n",
    "\n",
    "plt.show()\n"
   ]
  },
  {
   "cell_type": "markdown",
   "metadata": {},
   "source": [
    "Promedio de la rentabilidad total según NOMBRE TIPO ENTIDAD"
   ]
  },
  {
   "cell_type": "code",
   "execution_count": 28,
   "metadata": {},
   "outputs": [
    {
     "data": {
      "image/png": "[encoded data removed]",
      "text/plain": [
       "<Figure size 1500x1000 with 1 Axes>"
      ]
     },
     "metadata": {},
     "output_type": "display_data"
    }
   ],
   "source": [
    "rentabilidad_prom = df_FondosInversion_colectiva.groupby('NOMBRE_TIPO_ENTIDAD')['RENTABILIDAD_ANUAL'].mean().reset_index()\n",
    "rentabilidad_prom = rentabilidad_prom.sort_values(by='RENTABILIDAD_ANUAL', ascending=False)\n",
    "plt.figure(figsize=(15, 10))\n",
    "ax = sns.barplot(data=rentabilidad_prom, x='NOMBRE_TIPO_ENTIDAD', y='RENTABILIDAD_ANUAL')\n",
    "plt.xticks(rotation=90)\n",
    "for p in ax.patches:\n",
    "    ax.annotate(format(p.get_height(), '.2f'), \n",
    "                (p.get_x() + p.get_width() / 2., p.get_height()), \n",
    "                ha = 'center', va = 'center', \n",
    "                xytext = (0, 10), \n",
    "                textcoords = 'offset points')\n",
    "# Títulos y etiquetas\n",
    "plt.title('Rentabilidad Anual por Tipo de Entidad')\n",
    "plt.xlabel('Tipo de Entidad')\n",
    "plt.ylabel('Rentabilidad Anual')\n",
    "plt.xticks(rotation=45) \n",
    "plt.show()"
   ]
  },
  {
   "cell_type": "code",
   "execution_count": 29,
   "metadata": {},
   "outputs": [
    {
     "data": {
      "application/vnd.plotly.v1+json": {
       "config": {
        "plotlyServerURL": "https://plot.ly"
       },
       "data": [
        {
         "domain": {
          "x": [
           0,
           1
          ],
          "y": [
           0,
           1
          ]
         },
         "hovertemplate": "label=%{label}<br>value=%{value}<extra></extra>",
         "labels": [
          "SF-SOCIEDAD FIDUCIARIA",
          "COMISIONISTAS DE BOLSA DE VALORES",
          "SOCIEDADES ADMINISTRADORAS DE INVERSIÓN"
         ],
         "legendgroup": "",
         "name": "",
         "showlegend": true,
         "type": "pie",
         "values": [
          1457796,
          659843,
          48295
         ]
        }
       ],
       "layout": {
        "height": 600,
        "legend": {
         "tracegroupgap": 0
        },
        "template": {
         "data": {
          "bar": [
           {
            "error_x": {
             "color": "#2a3f5f"
            },
            "error_y": {
             "color": "#2a3f5f"
            },
            "marker": {
             "line": {
              "color": "#E5ECF6",
              "width": 0.5
             },
             "pattern": {
              "fillmode": "overlay",
              "size": 10,
              "solidity": 0.2
             }
            },
            "type": "bar"
           }
          ],
          "barpolar": [
           {
            "marker": {
             "line": {
              "color": "#E5ECF6",
              "width": 0.5
             },
             "pattern": {
              "fillmode": "overlay",
              "size": 10,
              "solidity": 0.2
             }
            },
            "type": "barpolar"
           }
          ],
          "carpet": [
           {
            "aaxis": {
             "endlinecolor": "#2a3f5f",
             "gridcolor": "white",
             "linecolor": "white",
             "minorgridcolor": "white",
             "startlinecolor": "#2a3f5f"
            },
            "baxis": {
             "endlinecolor": "#2a3f5f",
             "gridcolor": "white",
             "linecolor": "white",
             "minorgridcolor": "white",
             "startlinecolor": "#2a3f5f"
            },
            "type": "carpet"
           }
          ],
          "choropleth": [
           {
            "colorbar": {
             "outlinewidth": 0,
             "ticks": ""
            },
            "type": "choropleth"
           }
          ],
          "contour": [
           {
            "colorbar": {
             "outlinewidth": 0,
             "ticks": ""
            },
            "colorscale": [
             [
              0,
              "#0d0887"
             ],
             [
              0.1111111111111111,
              "#46039f"
             ],
             [
              0.2222222222222222,
              "#7201a8"
             ],
             [
              0.3333333333333333,
              "#9c179e"
             ],
             [
              0.4444444444444444,
              "#bd3786"
             ],
             [
              0.5555555555555556,
              "#d8576b"
             ],
             [
              0.6666666666666666,
              "#ed7953"
             ],
             [
              0.7777777777777778,
              "#fb9f3a"
             ],
             [
              0.8888888888888888,
              "#fdca26"
             ],
             [
              1,
              "#f0f921"
             ]
            ],
            "type": "contour"
           }
          ],
          "contourcarpet": [
           {
            "colorbar": {
             "outlinewidth": 0,
             "ticks": ""
            },
            "type": "contourcarpet"
           }
          ],
          "heatmap": [
           {
            "colorbar": {
             "outlinewidth": 0,
             "ticks": ""
            },
            "colorscale": [
             [
              0,
              "#0d0887"
             ],
             [
              0.1111111111111111,
              "#46039f"
             ],
             [
              0.2222222222222222,
              "#7201a8"
             ],
             [
              0.3333333333333333,
              "#9c179e"
             ],
             [
              0.4444444444444444,
              "#bd3786"
             ],
             [
              0.5555555555555556,
              "#d8576b"
             ],
             [
              0.6666666666666666,
              "#ed7953"
             ],
             [
              0.7777777777777778,
              "#fb9f3a"
             ],
             [
              0.8888888888888888,
              "#fdca26"
             ],
             [
              1,
              "#f0f921"
             ]
            ],
            "type": "heatmap"
           }
          ],
          "heatmapgl": [
           {
            "colorbar": {
             "outlinewidth": 0,
             "ticks": ""
            },
            "colorscale": [
             [
              0,
              "#0d0887"
             ],
             [
              0.1111111111111111,
              "#46039f"
             ],
             [
              0.2222222222222222,
              "#7201a8"
             ],
             [
              0.3333333333333333,
              "#9c179e"
             ],
             [
              0.4444444444444444,
              "#bd3786"
             ],
             [
              0.5555555555555556,
              "#d8576b"
             ],
             [
              0.6666666666666666,
              "#ed7953"
             ],
             [
              0.7777777777777778,
              "#fb9f3a"
             ],
             [
              0.8888888888888888,
              "#fdca26"
             ],
             [
              1,
              "#f0f921"
             ]
            ],
            "type": "heatmapgl"
           }
          ],
          "histogram": [
           {
            "marker": {
             "pattern": {
              "fillmode": "overlay",
              "size": 10,
              "solidity": 0.2
             }
            },
            "type": "histogram"
           }
          ],
          "histogram2d": [
           {
            "colorbar": {
             "outlinewidth": 0,
             "ticks": ""
            },
            "colorscale": [
             [
              0,
              "#0d0887"
             ],
             [
              0.1111111111111111,
              "#46039f"
             ],
             [
              0.2222222222222222,
              "#7201a8"
             ],
             [
              0.3333333333333333,
              "#9c179e"
             ],
             [
              0.4444444444444444,
              "#bd3786"
             ],
             [
              0.5555555555555556,
              "#d8576b"
             ],
             [
              0.6666666666666666,
              "#ed7953"
             ],
             [
              0.7777777777777778,
              "#fb9f3a"
             ],
             [
              0.8888888888888888,
              "#fdca26"
             ],
             [
              1,
              "#f0f921"
             ]
            ],
            "type": "histogram2d"
           }
          ],
          "histogram2dcontour": [
           {
            "colorbar": {
             "outlinewidth": 0,
             "ticks": ""
            },
            "colorscale": [
             [
              0,
              "#0d0887"
             ],
             [
              0.1111111111111111,
              "#46039f"
             ],
             [
              0.2222222222222222,
              "#7201a8"
             ],
             [
              0.3333333333333333,
              "#9c179e"
             ],
             [
              0.4444444444444444,
              "#bd3786"
             ],
             [
              0.5555555555555556,
              "#d8576b"
             ],
             [
              0.6666666666666666,
              "#ed7953"
             ],
             [
              0.7777777777777778,
              "#fb9f3a"
             ],
             [
              0.8888888888888888,
              "#fdca26"
             ],
             [
              1,
              "#f0f921"
             ]
            ],
            "type": "histogram2dcontour"
           }
          ],
          "mesh3d": [
           {
            "colorbar": {
             "outlinewidth": 0,
             "ticks": ""
            },
            "type": "mesh3d"
           }
          ],
          "parcoords": [
           {
            "line": {
             "colorbar": {
              "outlinewidth": 0,
              "ticks": ""
             }
            },
            "type": "parcoords"
           }
          ],
          "pie": [
           {
            "automargin": true,
            "type": "pie"
           }
          ],
          "scatter": [
           {
            "fillpattern": {
             "fillmode": "overlay",
             "size": 10,
             "solidity": 0.2
            },
            "type": "scatter"
           }
          ],
          "scatter3d": [
           {
            "line": {
             "colorbar": {
              "outlinewidth": 0,
              "ticks": ""
             }
            },
            "marker": {
             "colorbar": {
              "outlinewidth": 0,
              "ticks": ""
             }
            },
            "type": "scatter3d"
           }
          ],
          "scattercarpet": [
           {
            "marker": {
             "colorbar": {
              "outlinewidth": 0,
              "ticks": ""
             }
            },
            "type": "scattercarpet"
           }
          ],
          "scattergeo": [
           {
            "marker": {
             "colorbar": {
              "outlinewidth": 0,
              "ticks": ""
             }
            },
            "type": "scattergeo"
           }
          ],
          "scattergl": [
           {
            "marker": {
             "colorbar": {
              "outlinewidth": 0,
              "ticks": ""
             }
            },
            "type": "scattergl"
           }
          ],
          "scattermapbox": [
           {
            "marker": {
             "colorbar": {
              "outlinewidth": 0,
              "ticks": ""
             }
            },
            "type": "scattermapbox"
           }
          ],
          "scatterpolar": [
           {
            "marker": {
             "colorbar": {
              "outlinewidth": 0,
              "ticks": ""
             }
            },
            "type": "scatterpolar"
           }
          ],
          "scatterpolargl": [
           {
            "marker": {
             "colorbar": {
              "outlinewidth": 0,
              "ticks": ""
             }
            },
            "type": "scatterpolargl"
           }
          ],
          "scatterternary": [
           {
            "marker": {
             "colorbar": {
              "outlinewidth": 0,
              "ticks": ""
             }
            },
            "type": "scatterternary"
           }
          ],
          "surface": [
           {
            "colorbar": {
             "outlinewidth": 0,
             "ticks": ""
            },
            "colorscale": [
             [
              0,
              "#0d0887"
             ],
             [
              0.1111111111111111,
              "#46039f"
             ],
             [
              0.2222222222222222,
              "#7201a8"
             ],
             [
              0.3333333333333333,
              "#9c179e"
             ],
             [
              0.4444444444444444,
              "#bd3786"
             ],
             [
              0.5555555555555556,
              "#d8576b"
             ],
             [
              0.6666666666666666,
              "#ed7953"
             ],
             [
              0.7777777777777778,
              "#fb9f3a"
             ],
             [
              0.8888888888888888,
              "#fdca26"
             ],
             [
              1,
              "#f0f921"
             ]
            ],
            "type": "surface"
           }
          ],
          "table": [
           {
            "cells": {
             "fill": {
              "color": "#EBF0F8"
             },
             "line": {
              "color": "white"
             }
            },
            "header": {
             "fill": {
              "color": "#C8D4E3"
             },
             "line": {
              "color": "white"
             }
            },
            "type": "table"
           }
          ]
         },
         "layout": {
          "annotationdefaults": {
           "arrowcolor": "#2a3f5f",
           "arrowhead": 0,
           "arrowwidth": 1
          },
          "autotypenumbers": "strict",
          "coloraxis": {
           "colorbar": {
            "outlinewidth": 0,
            "ticks": ""
           }
          },
          "colorscale": {
           "diverging": [
            [
             0,
             "#8e0152"
            ],
            [
             0.1,
             "#c51b7d"
            ],
            [
             0.2,
             "#de77ae"
            ],
            [
             0.3,
             "#f1b6da"
            ],
            [
             0.4,
             "#fde0ef"
            ],
            [
             0.5,
             "#f7f7f7"
            ],
            [
             0.6,
             "#e6f5d0"
            ],
            [
             0.7,
             "#b8e186"
            ],
            [
             0.8,
             "#7fbc41"
            ],
            [
             0.9,
             "#4d9221"
            ],
            [
             1,
             "#276419"
            ]
           ],
           "sequential": [
            [
             0,
             "#0d0887"
            ],
            [
             0.1111111111111111,
             "#46039f"
            ],
            [
             0.2222222222222222,
             "#7201a8"
            ],
            [
             0.3333333333333333,
             "#9c179e"
            ],
            [
             0.4444444444444444,
             "#bd3786"
            ],
            [
             0.5555555555555556,
             "#d8576b"
            ],
            [
             0.6666666666666666,
             "#ed7953"
            ],
            [
             0.7777777777777778,
             "#fb9f3a"
            ],
            [
             0.8888888888888888,
             "#fdca26"
            ],
            [
             1,
             "#f0f921"
            ]
           ],
           "sequentialminus": [
            [
             0,
             "#0d0887"
            ],
            [
             0.1111111111111111,
             "#46039f"
            ],
            [
             0.2222222222222222,
             "#7201a8"
            ],
            [
             0.3333333333333333,
             "#9c179e"
            ],
            [
             0.4444444444444444,
             "#bd3786"
            ],
            [
             0.5555555555555556,
             "#d8576b"
            ],
            [
             0.6666666666666666,
             "#ed7953"
            ],
            [
             0.7777777777777778,
             "#fb9f3a"
            ],
            [
             0.8888888888888888,
             "#fdca26"
            ],
            [
             1,
             "#f0f921"
            ]
           ]
          },
          "colorway": [
           "#636efa",
           "#EF553B",
           "#00cc96",
           "#ab63fa",
           "#FFA15A",
           "#19d3f3",
           "#FF6692",
           "#B6E880",
           "#FF97FF",
           "#FECB52"
          ],
          "font": {
           "color": "#2a3f5f"
          },
          "geo": {
           "bgcolor": "white",
           "lakecolor": "white",
           "landcolor": "#E5ECF6",
           "showlakes": true,
           "showland": true,
           "subunitcolor": "white"
          },
          "hoverlabel": {
           "align": "left"
          },
          "hovermode": "closest",
          "mapbox": {
           "style": "light"
          },
          "paper_bgcolor": "white",
          "plot_bgcolor": "#E5ECF6",
          "polar": {
           "angularaxis": {
            "gridcolor": "white",
            "linecolor": "white",
            "ticks": ""
           },
           "bgcolor": "#E5ECF6",
           "radialaxis": {
            "gridcolor": "white",
            "linecolor": "white",
            "ticks": ""
           }
          },
          "scene": {
           "xaxis": {
            "backgroundcolor": "#E5ECF6",
            "gridcolor": "white",
            "gridwidth": 2,
            "linecolor": "white",
            "showbackground": true,
            "ticks": "",
            "zerolinecolor": "white"
           },
           "yaxis": {
            "backgroundcolor": "#E5ECF6",
            "gridcolor": "white",
            "gridwidth": 2,
            "linecolor": "white",
            "showbackground": true,
            "ticks": "",
            "zerolinecolor": "white"
           },
           "zaxis": {
            "backgroundcolor": "#E5ECF6",
            "gridcolor": "white",
            "gridwidth": 2,
            "linecolor": "white",
            "showbackground": true,
            "ticks": "",
            "zerolinecolor": "white"
           }
          },
          "shapedefaults": {
           "line": {
            "color": "#2a3f5f"
           }
          },
          "ternary": {
           "aaxis": {
            "gridcolor": "white",
            "linecolor": "white",
            "ticks": ""
           },
           "baxis": {
            "gridcolor": "white",
            "linecolor": "white",
            "ticks": ""
           },
           "bgcolor": "#E5ECF6",
           "caxis": {
            "gridcolor": "white",
            "linecolor": "white",
            "ticks": ""
           }
          },
          "title": {
           "x": 0.05
          },
          "xaxis": {
           "automargin": true,
           "gridcolor": "white",
           "linecolor": "white",
           "ticks": "",
           "title": {
            "standoff": 15
           },
           "zerolinecolor": "white",
           "zerolinewidth": 2
          },
          "yaxis": {
           "automargin": true,
           "gridcolor": "white",
           "linecolor": "white",
           "ticks": "",
           "title": {
            "standoff": 15
           },
           "zerolinecolor": "white",
           "zerolinewidth": 2
          }
         }
        },
        "title": {
         "text": "Proporción de tipos de entidades"
        },
        "width": 800
       }
      }
     },
     "metadata": {},
     "output_type": "display_data"
    }
   ],
   "source": [
    "frecuencia_entidades = df_FondosInversion_colectiva['NOMBRE_TIPO_ENTIDAD'].value_counts().reset_index()\n",
    "\n",
    "# Renombrar las columnas para mejor legibilidad\n",
    "frecuencia_entidades.columns = ['Nombre de tipo entidad', 'Frecuencia']\n",
    "\n",
    "# Crear gráfico de pastel\n",
    "fig = px.pie(names=frecuencia_entidades['Nombre de tipo entidad'], \n",
    "             values=frecuencia_entidades['Frecuencia'],\n",
    "             title='Proporción de tipos de entidades')\n",
    "\n",
    "fig.update_layout(height=600, width=800)\n",
    "\n",
    "# Mostrar gráfico\n",
    "fig.show()"
   ]
  },
  {
   "cell_type": "markdown",
   "metadata": {},
   "source": [
    "*Conteo de valores atipicos*"
   ]
  },
  {
   "cell_type": "code",
   "execution_count": 30,
   "metadata": {},
   "outputs": [
    {
     "name": "stdout",
     "output_type": "stream",
     "text": [
      "RENDIMIENTOS_ABONADOS                               458925\n",
      "PRECIERRE_FONDO_DIA_T                               291292\n",
      "NUMERO_UNIDADES_FONDO_CIERRE_OPER_DIA_T_ANTERIOR    306852\n",
      "VALOR_UNIDAD_OPERACIONES_DIA_T                      355657\n",
      "APORTES_RECIBIDOS                                   537670\n",
      "RETIROS_REDENCIONES                                 534613\n",
      "ANULACIONES                                         113154\n",
      "VALOR_FONDO_CIERRE_DIA_T                            291274\n",
      "NUMERO_INVERSIONISTAS                               376665\n",
      "RENTABILIDAD_DIARIA                                 387413\n",
      "RENTABILIDAD_MENSUAL                                397846\n",
      "RENTABILIDAD_SEMESTRAL                              281662\n",
      "RENTABILIDAD_ANUAL                                  247519\n",
      "dtype: int64\n"
     ]
    }
   ],
   "source": [
    "columns_num = df_FondosInversion_colectiva.select_dtypes(include=['float64'])\n",
    "Q1 = columns_num.quantile(0.25)\n",
    "Q3 = columns_num.quantile(0.75)\n",
    "IQR = Q3 - Q1\n",
    "\n",
    "outliers = ((columns_num < (Q1 - 1.5 * IQR)) | (columns_num > (Q3 + 1.5 * IQR))).sum()\n",
    "print(outliers)"
   ]
  },
  {
   "cell_type": "markdown",
   "metadata": {},
   "source": [
    "# Eliminación y renombre de columnas"
   ]
  },
  {
   "cell_type": "markdown",
   "metadata": {},
   "source": [
    "Eliminación de columnas poco relevantes"
   ]
  },
  {
   "cell_type": "code",
   "execution_count": 31,
   "metadata": {},
   "outputs": [
    {
     "name": "stdout",
     "output_type": "stream",
     "text": [
      "Las columnas seleccionadas se eliminaron con éxito\n"
     ]
    }
   ],
   "source": [
    "# Eliminar columnas que no son necesarias\n",
    "columnas_a_eliminar = [\n",
    "                        'TIPO_ENTIDAD', 'CODIGO_ENTIDAD', 'TIPO_NEGOCIO', 'NOMBRE_TIPO_PATRIMONIO', 'SUBTIPO_NEGOCIO', \n",
    "                        'CODIGO_NEGOCIO', 'PRINCIPAL_COMPARTIMENTO' , 'TIPO_PARTICIPACION', 'PRECIERRE_FONDO_DIA_T', \n",
    "                        'NUMERO_UNIDADES_FONDO_CIERRE_OPER_DIA_T_ANTERIOR','RENTABILIDAD_DIARIA'\n",
    "                        ]\n",
    "\n",
    "try:\n",
    "    df_FondosInversion_colectiva_new = df_FondosInversion_colectiva.drop(columns=columnas_a_eliminar)\n",
    "    print(\"Las columnas seleccionadas se eliminaron con éxito\")\n",
    "except KeyError as e:\n",
    "    print(\"Error al aliminar columnas\")"
   ]
  },
  {
   "cell_type": "markdown",
   "metadata": {},
   "source": [
    "Renombre de las Columnas:"
   ]
  },
  {
   "cell_type": "markdown",
   "metadata": {},
   "source": [
    "*SF-SOCIEDAD FIDUCIARIA = SF* //\n",
    "*COMISIONISTAS DE BOLSA DE VALORES = CBV* //\n",
    "*SOCIEDADES ADMINISTRADORAS DE INVERSIÓN = SADI*"
   ]
  },
  {
   "cell_type": "code",
   "execution_count": 32,
   "metadata": {},
   "outputs": [
    {
     "name": "stdout",
     "output_type": "stream",
     "text": [
      "Se renombraron los datos de la columna NOMBRE_TIPO_ENTIDAD con exito\n"
     ]
    }
   ],
   "source": [
    "# Se renombra los datos de la columna 'NOMBRE_TIPO_ENTIDAD' \n",
    "try:\n",
    "    df_FondosInversion_colectiva_new['NOMBRE_TIPO_ENTIDAD'] = df_FondosInversion_colectiva_new['NOMBRE_TIPO_ENTIDAD'].replace({\n",
    "    'SF-SOCIEDAD FIDUCIARIA': 'SF',\n",
    "    'COMISIONISTAS DE BOLSA DE VALORES': 'CBV',\n",
    "    'SOCIEDADES ADMINISTRADORAS DE INVERSIÓN': 'SADI'\n",
    "})\n",
    "    print(\"Se renombraron los datos de la columna NOMBRE_TIPO_ENTIDAD con exito\")\n",
    "except Exception as e:\n",
    "     print(f\"Ocurrió un error: {e}\")"
   ]
  },
  {
   "cell_type": "markdown",
   "metadata": {},
   "source": [
    "## Validación de la cantidad de digitos por columnas de tipo float"
   ]
  },
  {
   "cell_type": "markdown",
   "metadata": {},
   "source": [
    "Longitud de los valores de la \"RENTABILIDAD_MENSUAL\""
   ]
  },
  {
   "cell_type": "code",
   "execution_count": 33,
   "metadata": {},
   "outputs": [
    {
     "name": "stdout",
     "output_type": "stream",
     "text": [
      "    LARGO_M   conteo\n",
      "0         1  1306450\n",
      "1         2   783468\n",
      "2         3    62592\n",
      "3         4     7804\n",
      "4         5     2091\n",
      "5         6      858\n",
      "6         7      506\n",
      "7         8      183\n",
      "8         9      243\n",
      "9        10      557\n",
      "10       11      156\n",
      "11       12      170\n",
      "12       13      101\n",
      "13       14       86\n",
      "14       15      238\n",
      "15       16       36\n",
      "16       17        3\n",
      "17       18       83\n",
      "18       19       67\n",
      "19       20       43\n",
      "20       21        6\n",
      "21       22        4\n",
      "22       23       12\n",
      "23       24       23\n",
      "24       25        8\n",
      "25       26        1\n",
      "26       27       16\n",
      "27       29        8\n",
      "28       30       21\n",
      "29       31      100\n"
     ]
    }
   ],
   "source": [
    "# Medir el largo de la parte entera de cada número en la columna 'numeros'\n",
    "df_FondosInversion_colectiva_new['LARGO_M'] = df_FondosInversion_colectiva_new['RENTABILIDAD_MENSUAL'].apply(lambda x: len(str(abs(int(x)))))\n",
    "\n",
    "# Clasificar y contar los números por su longitud\n",
    "conteo_por_largo = df_FondosInversion_colectiva_new.groupby('LARGO_M').size().reset_index(name='conteo')\n",
    "\n",
    "print(conteo_por_largo)"
   ]
  },
  {
   "cell_type": "markdown",
   "metadata": {},
   "source": [
    "Longitud de los valores de la \"RENTABILIDAD_SEMESTRAL\""
   ]
  },
  {
   "cell_type": "code",
   "execution_count": 34,
   "metadata": {},
   "outputs": [
    {
     "name": "stdout",
     "output_type": "stream",
     "text": [
      "    LARGO_S   conteo\n",
      "0         1  1365064\n",
      "1         2   768830\n",
      "2         3    25644\n",
      "3         4     2981\n",
      "4         5     1999\n",
      "5         6      439\n",
      "6         7      223\n",
      "7         8      238\n",
      "8         9      513\n",
      "9        12        1\n",
      "10       15        1\n",
      "11       23        1\n"
     ]
    }
   ],
   "source": [
    "# Medir el largo de la parte entera de cada número en la columna 'numeros'\n",
    "df_FondosInversion_colectiva_new['LARGO_S'] = df_FondosInversion_colectiva_new['RENTABILIDAD_SEMESTRAL'].apply(lambda x: len(str(abs(int(x)))))\n",
    "\n",
    "# Clasificar y contar los números por su longitud\n",
    "conteo_por_largo = df_FondosInversion_colectiva_new.groupby('LARGO_S').size().reset_index(name='conteo')\n",
    "\n",
    "print(conteo_por_largo)"
   ]
  },
  {
   "cell_type": "markdown",
   "metadata": {},
   "source": [
    "Longitud de los valores de la \"RENTABILIDAD_ANUAL\""
   ]
  },
  {
   "cell_type": "code",
   "execution_count": 35,
   "metadata": {},
   "outputs": [
    {
     "name": "stdout",
     "output_type": "stream",
     "text": [
      "   LARGO_A   conteo\n",
      "0        1  1483323\n",
      "1        2   660389\n",
      "2        3    17728\n",
      "3        4     2906\n",
      "4        5      493\n",
      "5        6     1091\n",
      "6       11        2\n",
      "7       12        1\n",
      "8       15        1\n"
     ]
    }
   ],
   "source": [
    "# Medir el largo de la parte entera de cada número en la columna 'numeros'\n",
    "df_FondosInversion_colectiva_new['LARGO_A'] = df_FondosInversion_colectiva_new['RENTABILIDAD_ANUAL'].apply(lambda x: len(str(abs(int(x)))))\n",
    "\n",
    "# Clasificar y contar los números por su longitud\n",
    "conteo_por_largo = df_FondosInversion_colectiva_new.groupby('LARGO_A').size().reset_index(name='conteo')\n",
    "\n",
    "print(conteo_por_largo)"
   ]
  },
  {
   "cell_type": "markdown",
   "metadata": {},
   "source": [
    "Filtrado de validaciones"
   ]
  },
  {
   "cell_type": "code",
   "execution_count": 36,
   "metadata": {},
   "outputs": [
    {
     "data": {
      "text/html": [
       "<div>\n",
       "<style scoped>\n",
       "    .dataframe tbody tr th:only-of-type {\n",
       "        vertical-align: middle;\n",
       "    }\n",
       "\n",
       "    .dataframe tbody tr th {\n",
       "        vertical-align: top;\n",
       "    }\n",
       "\n",
       "    .dataframe thead th {\n",
       "        text-align: right;\n",
       "    }\n",
       "</style>\n",
       "<table border=\"1\" class=\"dataframe\">\n",
       "  <thead>\n",
       "    <tr style=\"text-align: right;\">\n",
       "      <th></th>\n",
       "      <th>FECHA_CORTE</th>\n",
       "      <th>NOMBRE_TIPO_ENTIDAD</th>\n",
       "      <th>NOMBRE_ENTIDAD</th>\n",
       "      <th>NOMBRE_SUBTIPO_PATRIMONIO</th>\n",
       "      <th>NOMBRE_PATRIMONIO</th>\n",
       "      <th>RENDIMIENTOS_ABONADOS</th>\n",
       "      <th>VALOR_UNIDAD_OPERACIONES_DIA_T</th>\n",
       "      <th>APORTES_RECIBIDOS</th>\n",
       "      <th>RETIROS_REDENCIONES</th>\n",
       "      <th>ANULACIONES</th>\n",
       "      <th>VALOR_FONDO_CIERRE_DIA_T</th>\n",
       "      <th>NUMERO_INVERSIONISTAS</th>\n",
       "      <th>RENTABILIDAD_MENSUAL</th>\n",
       "      <th>RENTABILIDAD_SEMESTRAL</th>\n",
       "      <th>RENTABILIDAD_ANUAL</th>\n",
       "      <th>LARGO_M</th>\n",
       "      <th>LARGO_S</th>\n",
       "      <th>LARGO_A</th>\n",
       "    </tr>\n",
       "  </thead>\n",
       "  <tbody>\n",
       "    <tr>\n",
       "      <th>2021177</th>\n",
       "      <td>2021-01-18</td>\n",
       "      <td>SF</td>\n",
       "      <td>Alianza Fiduciaria S.A.</td>\n",
       "      <td>FONDOS DE CAPITAL PRIVADO</td>\n",
       "      <td>FONDO DE CAPITAL PRIVADO RUTA DEL SOL COMPARTI...</td>\n",
       "      <td>662.0</td>\n",
       "      <td>4505.6</td>\n",
       "      <td>0.0</td>\n",
       "      <td>0.0</td>\n",
       "      <td>0.0</td>\n",
       "      <td>23104511625.6</td>\n",
       "      <td>1.0</td>\n",
       "      <td>5382676172793999843760571154432.0</td>\n",
       "      <td>110927413.3</td>\n",
       "      <td>92275.0</td>\n",
       "      <td>31</td>\n",
       "      <td>9</td>\n",
       "      <td>5</td>\n",
       "    </tr>\n",
       "    <tr>\n",
       "      <th>2021486</th>\n",
       "      <td>2021-01-07</td>\n",
       "      <td>SF</td>\n",
       "      <td>Alianza Fiduciaria S.A.</td>\n",
       "      <td>FONDOS DE CAPITAL PRIVADO</td>\n",
       "      <td>FONDO DE CAPITAL PRIVADO RUTA DEL SOL COMPARTI...</td>\n",
       "      <td>3366.4</td>\n",
       "      <td>5236.2</td>\n",
       "      <td>0.0</td>\n",
       "      <td>0.0</td>\n",
       "      <td>0.0</td>\n",
       "      <td>64567068442.6</td>\n",
       "      <td>1.0</td>\n",
       "      <td>1006343365061999995209578971136.0</td>\n",
       "      <td>248868032.1</td>\n",
       "      <td>132724.8</td>\n",
       "      <td>31</td>\n",
       "      <td>9</td>\n",
       "      <td>6</td>\n",
       "    </tr>\n",
       "    <tr>\n",
       "      <th>2022574</th>\n",
       "      <td>2021-01-10</td>\n",
       "      <td>SF</td>\n",
       "      <td>Alianza Fiduciaria S.A.</td>\n",
       "      <td>FONDOS DE CAPITAL PRIVADO</td>\n",
       "      <td>FONDO DE CAPITAL PRIVADO RUTA DEL SOL COMPARTI...</td>\n",
       "      <td>5483.5</td>\n",
       "      <td>0.3</td>\n",
       "      <td>0.0</td>\n",
       "      <td>0.0</td>\n",
       "      <td>0.0</td>\n",
       "      <td>70644724722.0</td>\n",
       "      <td>5.0</td>\n",
       "      <td>2562190162390000062881784135680.0</td>\n",
       "      <td>727737.9</td>\n",
       "      <td>2520.0</td>\n",
       "      <td>31</td>\n",
       "      <td>6</td>\n",
       "      <td>4</td>\n",
       "    </tr>\n",
       "    <tr>\n",
       "      <th>2022703</th>\n",
       "      <td>2020-12-31</td>\n",
       "      <td>SF</td>\n",
       "      <td>Alianza Fiduciaria S.A.</td>\n",
       "      <td>FONDOS DE CAPITAL PRIVADO</td>\n",
       "      <td>FONDO DE CAPITAL PRIVADO RUTA DEL SOL COMPARTI...</td>\n",
       "      <td>6666.2</td>\n",
       "      <td>0.3</td>\n",
       "      <td>0.0</td>\n",
       "      <td>0.0</td>\n",
       "      <td>0.0</td>\n",
       "      <td>70644750999.3</td>\n",
       "      <td>5.0</td>\n",
       "      <td>6435146136200000167149035323392.0</td>\n",
       "      <td>727737.9</td>\n",
       "      <td>2522.7</td>\n",
       "      <td>31</td>\n",
       "      <td>6</td>\n",
       "      <td>4</td>\n",
       "    </tr>\n",
       "    <tr>\n",
       "      <th>2024822</th>\n",
       "      <td>2021-01-28</td>\n",
       "      <td>SF</td>\n",
       "      <td>Alianza Fiduciaria S.A.</td>\n",
       "      <td>FONDOS DE CAPITAL PRIVADO</td>\n",
       "      <td>FONDO DE CAPITAL PRIVADO RUTA DEL SOL COMPARTI...</td>\n",
       "      <td>-904879.6</td>\n",
       "      <td>4505.4</td>\n",
       "      <td>0.0</td>\n",
       "      <td>0.0</td>\n",
       "      <td>0.0</td>\n",
       "      <td>23103504860.7</td>\n",
       "      <td>1.0</td>\n",
       "      <td>5365105175259999750847840911360.0</td>\n",
       "      <td>110766850.2</td>\n",
       "      <td>92205.0</td>\n",
       "      <td>31</td>\n",
       "      <td>9</td>\n",
       "      <td>5</td>\n",
       "    </tr>\n",
       "    <tr>\n",
       "      <th>...</th>\n",
       "      <td>...</td>\n",
       "      <td>...</td>\n",
       "      <td>...</td>\n",
       "      <td>...</td>\n",
       "      <td>...</td>\n",
       "      <td>...</td>\n",
       "      <td>...</td>\n",
       "      <td>...</td>\n",
       "      <td>...</td>\n",
       "      <td>...</td>\n",
       "      <td>...</td>\n",
       "      <td>...</td>\n",
       "      <td>...</td>\n",
       "      <td>...</td>\n",
       "      <td>...</td>\n",
       "      <td>...</td>\n",
       "      <td>...</td>\n",
       "      <td>...</td>\n",
       "    </tr>\n",
       "    <tr>\n",
       "      <th>2154883</th>\n",
       "      <td>2021-01-28</td>\n",
       "      <td>SF</td>\n",
       "      <td>Alianza Fiduciaria S.A.</td>\n",
       "      <td>FONDOS DE CAPITAL PRIVADO</td>\n",
       "      <td>FONDO DE CAPITAL PRIVADO RUTA DEL SOL COMPARTI...</td>\n",
       "      <td>-4063925.6</td>\n",
       "      <td>0.3</td>\n",
       "      <td>0.0</td>\n",
       "      <td>0.0</td>\n",
       "      <td>0.0</td>\n",
       "      <td>70596038496.9</td>\n",
       "      <td>5.0</td>\n",
       "      <td>2045282573607999996849714888704.0</td>\n",
       "      <td>1826512.5</td>\n",
       "      <td>2509.6</td>\n",
       "      <td>31</td>\n",
       "      <td>7</td>\n",
       "      <td>4</td>\n",
       "    </tr>\n",
       "    <tr>\n",
       "      <th>2158808</th>\n",
       "      <td>2021-01-16</td>\n",
       "      <td>SF</td>\n",
       "      <td>Alianza Fiduciaria S.A.</td>\n",
       "      <td>FONDOS DE CAPITAL PRIVADO</td>\n",
       "      <td>FONDO DE CAPITAL PRIVADO RUTA DEL SOL COMPARTI...</td>\n",
       "      <td>1765.2</td>\n",
       "      <td>5236.2</td>\n",
       "      <td>0.0</td>\n",
       "      <td>0.0</td>\n",
       "      <td>0.0</td>\n",
       "      <td>64566780256.7</td>\n",
       "      <td>1.0</td>\n",
       "      <td>1570563869550000128891012775936.0</td>\n",
       "      <td>253342275.9</td>\n",
       "      <td>132494.1</td>\n",
       "      <td>31</td>\n",
       "      <td>9</td>\n",
       "      <td>6</td>\n",
       "    </tr>\n",
       "    <tr>\n",
       "      <th>2160709</th>\n",
       "      <td>2021-01-26</td>\n",
       "      <td>SF</td>\n",
       "      <td>Alianza Fiduciaria S.A.</td>\n",
       "      <td>FONDOS DE CAPITAL PRIVADO</td>\n",
       "      <td>FONDO DE CAPITAL PRIVADO RUTA DEL SOL COMPARTI...</td>\n",
       "      <td>3017.3</td>\n",
       "      <td>5236.2</td>\n",
       "      <td>0.0</td>\n",
       "      <td>0.0</td>\n",
       "      <td>0.0</td>\n",
       "      <td>64566507132.3</td>\n",
       "      <td>1.0</td>\n",
       "      <td>1555759960754999999626020388864.0</td>\n",
       "      <td>252696216.0</td>\n",
       "      <td>132278.7</td>\n",
       "      <td>31</td>\n",
       "      <td>9</td>\n",
       "      <td>6</td>\n",
       "    </tr>\n",
       "    <tr>\n",
       "      <th>2160769</th>\n",
       "      <td>2021-01-25</td>\n",
       "      <td>SF</td>\n",
       "      <td>Alianza Fiduciaria S.A.</td>\n",
       "      <td>FONDOS DE CAPITAL PRIVADO</td>\n",
       "      <td>FONDO DE CAPITAL PRIVADO RUTA DEL SOL COMPARTI...</td>\n",
       "      <td>3739.0</td>\n",
       "      <td>5236.2</td>\n",
       "      <td>0.0</td>\n",
       "      <td>0.0</td>\n",
       "      <td>0.0</td>\n",
       "      <td>64566504114.9</td>\n",
       "      <td>1.0</td>\n",
       "      <td>1556930135289000055399168081920.0</td>\n",
       "      <td>252747131.4</td>\n",
       "      <td>132299.1</td>\n",
       "      <td>31</td>\n",
       "      <td>9</td>\n",
       "      <td>6</td>\n",
       "    </tr>\n",
       "    <tr>\n",
       "      <th>2162771</th>\n",
       "      <td>2021-01-03</td>\n",
       "      <td>SF</td>\n",
       "      <td>Alianza Fiduciaria S.A.</td>\n",
       "      <td>FONDOS DE CAPITAL PRIVADO</td>\n",
       "      <td>FONDO DE CAPITAL PRIVADO RUTA DEL SOL COMPARTI...</td>\n",
       "      <td>379.9</td>\n",
       "      <td>4505.6</td>\n",
       "      <td>0.0</td>\n",
       "      <td>0.0</td>\n",
       "      <td>0.0</td>\n",
       "      <td>23104614435.2</td>\n",
       "      <td>1.0</td>\n",
       "      <td>4085861751302000045629391241216.0</td>\n",
       "      <td>109875348.2</td>\n",
       "      <td>92388.5</td>\n",
       "      <td>31</td>\n",
       "      <td>9</td>\n",
       "      <td>5</td>\n",
       "    </tr>\n",
       "  </tbody>\n",
       "</table>\n",
       "<p>100 rows × 18 columns</p>\n",
       "</div>"
      ],
      "text/plain": [
       "        FECHA_CORTE NOMBRE_TIPO_ENTIDAD           NOMBRE_ENTIDAD  \\\n",
       "2021177  2021-01-18                  SF  Alianza Fiduciaria S.A.   \n",
       "2021486  2021-01-07                  SF  Alianza Fiduciaria S.A.   \n",
       "2022574  2021-01-10                  SF  Alianza Fiduciaria S.A.   \n",
       "2022703  2020-12-31                  SF  Alianza Fiduciaria S.A.   \n",
       "2024822  2021-01-28                  SF  Alianza Fiduciaria S.A.   \n",
       "...             ...                 ...                      ...   \n",
       "2154883  2021-01-28                  SF  Alianza Fiduciaria S.A.   \n",
       "2158808  2021-01-16                  SF  Alianza Fiduciaria S.A.   \n",
       "2160709  2021-01-26                  SF  Alianza Fiduciaria S.A.   \n",
       "2160769  2021-01-25                  SF  Alianza Fiduciaria S.A.   \n",
       "2162771  2021-01-03                  SF  Alianza Fiduciaria S.A.   \n",
       "\n",
       "         NOMBRE_SUBTIPO_PATRIMONIO  \\\n",
       "2021177  FONDOS DE CAPITAL PRIVADO   \n",
       "2021486  FONDOS DE CAPITAL PRIVADO   \n",
       "2022574  FONDOS DE CAPITAL PRIVADO   \n",
       "2022703  FONDOS DE CAPITAL PRIVADO   \n",
       "2024822  FONDOS DE CAPITAL PRIVADO   \n",
       "...                            ...   \n",
       "2154883  FONDOS DE CAPITAL PRIVADO   \n",
       "2158808  FONDOS DE CAPITAL PRIVADO   \n",
       "2160709  FONDOS DE CAPITAL PRIVADO   \n",
       "2160769  FONDOS DE CAPITAL PRIVADO   \n",
       "2162771  FONDOS DE CAPITAL PRIVADO   \n",
       "\n",
       "                                         NOMBRE_PATRIMONIO  \\\n",
       "2021177  FONDO DE CAPITAL PRIVADO RUTA DEL SOL COMPARTI...   \n",
       "2021486  FONDO DE CAPITAL PRIVADO RUTA DEL SOL COMPARTI...   \n",
       "2022574  FONDO DE CAPITAL PRIVADO RUTA DEL SOL COMPARTI...   \n",
       "2022703  FONDO DE CAPITAL PRIVADO RUTA DEL SOL COMPARTI...   \n",
       "2024822  FONDO DE CAPITAL PRIVADO RUTA DEL SOL COMPARTI...   \n",
       "...                                                    ...   \n",
       "2154883  FONDO DE CAPITAL PRIVADO RUTA DEL SOL COMPARTI...   \n",
       "2158808  FONDO DE CAPITAL PRIVADO RUTA DEL SOL COMPARTI...   \n",
       "2160709  FONDO DE CAPITAL PRIVADO RUTA DEL SOL COMPARTI...   \n",
       "2160769  FONDO DE CAPITAL PRIVADO RUTA DEL SOL COMPARTI...   \n",
       "2162771  FONDO DE CAPITAL PRIVADO RUTA DEL SOL COMPARTI...   \n",
       "\n",
       "         RENDIMIENTOS_ABONADOS  VALOR_UNIDAD_OPERACIONES_DIA_T  \\\n",
       "2021177                  662.0                          4505.6   \n",
       "2021486                 3366.4                          5236.2   \n",
       "2022574                 5483.5                             0.3   \n",
       "2022703                 6666.2                             0.3   \n",
       "2024822              -904879.6                          4505.4   \n",
       "...                        ...                             ...   \n",
       "2154883             -4063925.6                             0.3   \n",
       "2158808                 1765.2                          5236.2   \n",
       "2160709                 3017.3                          5236.2   \n",
       "2160769                 3739.0                          5236.2   \n",
       "2162771                  379.9                          4505.6   \n",
       "\n",
       "         APORTES_RECIBIDOS  RETIROS_REDENCIONES  ANULACIONES  \\\n",
       "2021177                0.0                  0.0          0.0   \n",
       "2021486                0.0                  0.0          0.0   \n",
       "2022574                0.0                  0.0          0.0   \n",
       "2022703                0.0                  0.0          0.0   \n",
       "2024822                0.0                  0.0          0.0   \n",
       "...                    ...                  ...          ...   \n",
       "2154883                0.0                  0.0          0.0   \n",
       "2158808                0.0                  0.0          0.0   \n",
       "2160709                0.0                  0.0          0.0   \n",
       "2160769                0.0                  0.0          0.0   \n",
       "2162771                0.0                  0.0          0.0   \n",
       "\n",
       "         VALOR_FONDO_CIERRE_DIA_T  NUMERO_INVERSIONISTAS  \\\n",
       "2021177             23104511625.6                    1.0   \n",
       "2021486             64567068442.6                    1.0   \n",
       "2022574             70644724722.0                    5.0   \n",
       "2022703             70644750999.3                    5.0   \n",
       "2024822             23103504860.7                    1.0   \n",
       "...                           ...                    ...   \n",
       "2154883             70596038496.9                    5.0   \n",
       "2158808             64566780256.7                    1.0   \n",
       "2160709             64566507132.3                    1.0   \n",
       "2160769             64566504114.9                    1.0   \n",
       "2162771             23104614435.2                    1.0   \n",
       "\n",
       "                     RENTABILIDAD_MENSUAL  RENTABILIDAD_SEMESTRAL  \\\n",
       "2021177 5382676172793999843760571154432.0             110927413.3   \n",
       "2021486 1006343365061999995209578971136.0             248868032.1   \n",
       "2022574 2562190162390000062881784135680.0                727737.9   \n",
       "2022703 6435146136200000167149035323392.0                727737.9   \n",
       "2024822 5365105175259999750847840911360.0             110766850.2   \n",
       "...                                   ...                     ...   \n",
       "2154883 2045282573607999996849714888704.0               1826512.5   \n",
       "2158808 1570563869550000128891012775936.0             253342275.9   \n",
       "2160709 1555759960754999999626020388864.0             252696216.0   \n",
       "2160769 1556930135289000055399168081920.0             252747131.4   \n",
       "2162771 4085861751302000045629391241216.0             109875348.2   \n",
       "\n",
       "         RENTABILIDAD_ANUAL  LARGO_M  LARGO_S  LARGO_A  \n",
       "2021177             92275.0       31        9        5  \n",
       "2021486            132724.8       31        9        6  \n",
       "2022574              2520.0       31        6        4  \n",
       "2022703              2522.7       31        6        4  \n",
       "2024822             92205.0       31        9        5  \n",
       "...                     ...      ...      ...      ...  \n",
       "2154883              2509.6       31        7        4  \n",
       "2158808            132494.1       31        9        6  \n",
       "2160709            132278.7       31        9        6  \n",
       "2160769            132299.1       31        9        6  \n",
       "2162771             92388.5       31        9        5  \n",
       "\n",
       "[100 rows x 18 columns]"
      ]
     },
     "execution_count": 36,
     "metadata": {},
     "output_type": "execute_result"
    }
   ],
   "source": [
    "df_FondosInversion_colectiva_new[df_FondosInversion_colectiva_new['LARGO_M']==31]"
   ]
  },
  {
   "cell_type": "markdown",
   "metadata": {},
   "source": [
    "# Filtros para Eliminar las filas que contienen Datos atipicos o numeros demasiado extensos"
   ]
  },
  {
   "cell_type": "code",
   "execution_count": 37,
   "metadata": {},
   "outputs": [],
   "source": [
    "df_filtrado = df_FondosInversion_colectiva_new[df_FondosInversion_colectiva_new['LARGO_M'] <= 2]"
   ]
  },
  {
   "cell_type": "code",
   "execution_count": 38,
   "metadata": {},
   "outputs": [],
   "source": [
    "df_filtrado = df_filtrado[df_filtrado['LARGO_S'] <= 2]"
   ]
  },
  {
   "cell_type": "code",
   "execution_count": 39,
   "metadata": {},
   "outputs": [],
   "source": [
    "df_filtrado = df_filtrado[df_filtrado['LARGO_A'] <= 2]"
   ]
  },
  {
   "cell_type": "markdown",
   "metadata": {},
   "source": [
    "Verificación de los registros eliminados por longitud"
   ]
  },
  {
   "cell_type": "code",
   "execution_count": 40,
   "metadata": {},
   "outputs": [
    {
     "name": "stdout",
     "output_type": "stream",
     "text": [
      "LARGO_M\n",
      "1    1293583\n",
      "2     769375\n",
      "Name: count, dtype: int64\n",
      "LARGO_S\n",
      "1    1347681\n",
      "2     715277\n",
      "Name: count, dtype: int64\n",
      "LARGO_A\n",
      "1    1452425\n",
      "2     610533\n",
      "Name: count, dtype: int64\n"
     ]
    }
   ],
   "source": [
    "print(df_filtrado['LARGO_M'].value_counts())\n",
    "print(df_filtrado['LARGO_S'].value_counts())\n",
    "print(df_filtrado['LARGO_A'].value_counts())"
   ]
  },
  {
   "cell_type": "markdown",
   "metadata": {},
   "source": [
    "Inversionistas"
   ]
  },
  {
   "cell_type": "code",
   "execution_count": 41,
   "metadata": {},
   "outputs": [
    {
     "name": "stdout",
     "output_type": "stream",
     "text": [
      "   LARGO_I  conteo\n",
      "0        1  877271\n",
      "1        2  548179\n",
      "2        3  375642\n",
      "3        4  208661\n",
      "4        5   42305\n",
      "5        6   10899\n",
      "6       10       1\n"
     ]
    }
   ],
   "source": [
    "\n",
    "df_filtrado['LARGO_I'] = df_filtrado['NUMERO_INVERSIONISTAS'].apply(lambda x: len(str(abs(int(x)))))\n",
    "\n",
    "# Clasificar y contar los números por su longitud\n",
    "conteo_por_largo = df_filtrado.groupby('LARGO_I').size().reset_index(name='conteo')\n",
    "\n",
    "print(conteo_por_largo)"
   ]
  },
  {
   "cell_type": "code",
   "execution_count": 42,
   "metadata": {},
   "outputs": [],
   "source": [
    "df_filtrado = df_filtrado[df_filtrado['LARGO_I'] <= 4]"
   ]
  },
  {
   "cell_type": "code",
   "execution_count": 43,
   "metadata": {},
   "outputs": [
    {
     "data": {
      "text/plain": [
       "LARGO_I\n",
       "1    877271\n",
       "2    548179\n",
       "3    375642\n",
       "4    208661\n",
       "Name: count, dtype: int64"
      ]
     },
     "execution_count": 43,
     "metadata": {},
     "output_type": "execute_result"
    }
   ],
   "source": [
    "df_filtrado['LARGO_I'].value_counts()"
   ]
  },
  {
   "cell_type": "code",
   "execution_count": 46,
   "metadata": {},
   "outputs": [
    {
     "data": {
      "application/vnd.plotly.v1+json": {
       "config": {
        "plotlyServerURL": "https://plot.ly"
       },
       "data": [
        {
         "domain": {
          "x": [
           0,
           1
          ],
          "y": [
           0,
           1
          ]
         },
         "hovertemplate": "label=%{label}<br>value=%{value}<extra></extra>",
         "labels": [
          1,
          2,
          3,
          4
         ],
         "legendgroup": "",
         "name": "",
         "showlegend": true,
         "type": "pie",
         "values": [
          877271,
          548179,
          375642,
          208661
         ]
        }
       ],
       "layout": {
        "height": 600,
        "legend": {
         "tracegroupgap": 0
        },
        "template": {
         "data": {
          "bar": [
           {
            "error_x": {
             "color": "#2a3f5f"
            },
            "error_y": {
             "color": "#2a3f5f"
            },
            "marker": {
             "line": {
              "color": "#E5ECF6",
              "width": 0.5
             },
             "pattern": {
              "fillmode": "overlay",
              "size": 10,
              "solidity": 0.2
             }
            },
            "type": "bar"
           }
          ],
          "barpolar": [
           {
            "marker": {
             "line": {
              "color": "#E5ECF6",
              "width": 0.5
             },
             "pattern": {
              "fillmode": "overlay",
              "size": 10,
              "solidity": 0.2
             }
            },
            "type": "barpolar"
           }
          ],
          "carpet": [
           {
            "aaxis": {
             "endlinecolor": "#2a3f5f",
             "gridcolor": "white",
             "linecolor": "white",
             "minorgridcolor": "white",
             "startlinecolor": "#2a3f5f"
            },
            "baxis": {
             "endlinecolor": "#2a3f5f",
             "gridcolor": "white",
             "linecolor": "white",
             "minorgridcolor": "white",
             "startlinecolor": "#2a3f5f"
            },
            "type": "carpet"
           }
          ],
          "choropleth": [
           {
            "colorbar": {
             "outlinewidth": 0,
             "ticks": ""
            },
            "type": "choropleth"
           }
          ],
          "contour": [
           {
            "colorbar": {
             "outlinewidth": 0,
             "ticks": ""
            },
            "colorscale": [
             [
              0,
              "#0d0887"
             ],
             [
              0.1111111111111111,
              "#46039f"
             ],
             [
              0.2222222222222222,
              "#7201a8"
             ],
             [
              0.3333333333333333,
              "#9c179e"
             ],
             [
              0.4444444444444444,
              "#bd3786"
             ],
             [
              0.5555555555555556,
              "#d8576b"
             ],
             [
              0.6666666666666666,
              "#ed7953"
             ],
             [
              0.7777777777777778,
              "#fb9f3a"
             ],
             [
              0.8888888888888888,
              "#fdca26"
             ],
             [
              1,
              "#f0f921"
             ]
            ],
            "type": "contour"
           }
          ],
          "contourcarpet": [
           {
            "colorbar": {
             "outlinewidth": 0,
             "ticks": ""
            },
            "type": "contourcarpet"
           }
          ],
          "heatmap": [
           {
            "colorbar": {
             "outlinewidth": 0,
             "ticks": ""
            },
            "colorscale": [
             [
              0,
              "#0d0887"
             ],
             [
              0.1111111111111111,
              "#46039f"
             ],
             [
              0.2222222222222222,
              "#7201a8"
             ],
             [
              0.3333333333333333,
              "#9c179e"
             ],
             [
              0.4444444444444444,
              "#bd3786"
             ],
             [
              0.5555555555555556,
              "#d8576b"
             ],
             [
              0.6666666666666666,
              "#ed7953"
             ],
             [
              0.7777777777777778,
              "#fb9f3a"
             ],
             [
              0.8888888888888888,
              "#fdca26"
             ],
             [
              1,
              "#f0f921"
             ]
            ],
            "type": "heatmap"
           }
          ],
          "heatmapgl": [
           {
            "colorbar": {
             "outlinewidth": 0,
             "ticks": ""
            },
            "colorscale": [
             [
              0,
              "#0d0887"
             ],
             [
              0.1111111111111111,
              "#46039f"
             ],
             [
              0.2222222222222222,
              "#7201a8"
             ],
             [
              0.3333333333333333,
              "#9c179e"
             ],
             [
              0.4444444444444444,
              "#bd3786"
             ],
             [
              0.5555555555555556,
              "#d8576b"
             ],
             [
              0.6666666666666666,
              "#ed7953"
             ],
             [
              0.7777777777777778,
              "#fb9f3a"
             ],
             [
              0.8888888888888888,
              "#fdca26"
             ],
             [
              1,
              "#f0f921"
             ]
            ],
            "type": "heatmapgl"
           }
          ],
          "histogram": [
           {
            "marker": {
             "pattern": {
              "fillmode": "overlay",
              "size": 10,
              "solidity": 0.2
             }
            },
            "type": "histogram"
           }
          ],
          "histogram2d": [
           {
            "colorbar": {
             "outlinewidth": 0,
             "ticks": ""
            },
            "colorscale": [
             [
              0,
              "#0d0887"
             ],
             [
              0.1111111111111111,
              "#46039f"
             ],
             [
              0.2222222222222222,
              "#7201a8"
             ],
             [
              0.3333333333333333,
              "#9c179e"
             ],
             [
              0.4444444444444444,
              "#bd3786"
             ],
             [
              0.5555555555555556,
              "#d8576b"
             ],
             [
              0.6666666666666666,
              "#ed7953"
             ],
             [
              0.7777777777777778,
              "#fb9f3a"
             ],
             [
              0.8888888888888888,
              "#fdca26"
             ],
             [
              1,
              "#f0f921"
             ]
            ],
            "type": "histogram2d"
           }
          ],
          "histogram2dcontour": [
           {
            "colorbar": {
             "outlinewidth": 0,
             "ticks": ""
            },
            "colorscale": [
             [
              0,
              "#0d0887"
             ],
             [
              0.1111111111111111,
              "#46039f"
             ],
             [
              0.2222222222222222,
              "#7201a8"
             ],
             [
              0.3333333333333333,
              "#9c179e"
             ],
             [
              0.4444444444444444,
              "#bd3786"
             ],
             [
              0.5555555555555556,
              "#d8576b"
             ],
             [
              0.6666666666666666,
              "#ed7953"
             ],
             [
              0.7777777777777778,
              "#fb9f3a"
             ],
             [
              0.8888888888888888,
              "#fdca26"
             ],
             [
              1,
              "#f0f921"
             ]
            ],
            "type": "histogram2dcontour"
           }
          ],
          "mesh3d": [
           {
            "colorbar": {
             "outlinewidth": 0,
             "ticks": ""
            },
            "type": "mesh3d"
           }
          ],
          "parcoords": [
           {
            "line": {
             "colorbar": {
              "outlinewidth": 0,
              "ticks": ""
             }
            },
            "type": "parcoords"
           }
          ],
          "pie": [
           {
            "automargin": true,
            "type": "pie"
           }
          ],
          "scatter": [
           {
            "fillpattern": {
             "fillmode": "overlay",
             "size": 10,
             "solidity": 0.2
            },
            "type": "scatter"
           }
          ],
          "scatter3d": [
           {
            "line": {
             "colorbar": {
              "outlinewidth": 0,
              "ticks": ""
             }
            },
            "marker": {
             "colorbar": {
              "outlinewidth": 0,
              "ticks": ""
             }
            },
            "type": "scatter3d"
           }
          ],
          "scattercarpet": [
           {
            "marker": {
             "colorbar": {
              "outlinewidth": 0,
              "ticks": ""
             }
            },
            "type": "scattercarpet"
           }
          ],
          "scattergeo": [
           {
            "marker": {
             "colorbar": {
              "outlinewidth": 0,
              "ticks": ""
             }
            },
            "type": "scattergeo"
           }
          ],
          "scattergl": [
           {
            "marker": {
             "colorbar": {
              "outlinewidth": 0,
              "ticks": ""
             }
            },
            "type": "scattergl"
           }
          ],
          "scattermapbox": [
           {
            "marker": {
             "colorbar": {
              "outlinewidth": 0,
              "ticks": ""
             }
            },
            "type": "scattermapbox"
           }
          ],
          "scatterpolar": [
           {
            "marker": {
             "colorbar": {
              "outlinewidth": 0,
              "ticks": ""
             }
            },
            "type": "scatterpolar"
           }
          ],
          "scatterpolargl": [
           {
            "marker": {
             "colorbar": {
              "outlinewidth": 0,
              "ticks": ""
             }
            },
            "type": "scatterpolargl"
           }
          ],
          "scatterternary": [
           {
            "marker": {
             "colorbar": {
              "outlinewidth": 0,
              "ticks": ""
             }
            },
            "type": "scatterternary"
           }
          ],
          "surface": [
           {
            "colorbar": {
             "outlinewidth": 0,
             "ticks": ""
            },
            "colorscale": [
             [
              0,
              "#0d0887"
             ],
             [
              0.1111111111111111,
              "#46039f"
             ],
             [
              0.2222222222222222,
              "#7201a8"
             ],
             [
              0.3333333333333333,
              "#9c179e"
             ],
             [
              0.4444444444444444,
              "#bd3786"
             ],
             [
              0.5555555555555556,
              "#d8576b"
             ],
             [
              0.6666666666666666,
              "#ed7953"
             ],
             [
              0.7777777777777778,
              "#fb9f3a"
             ],
             [
              0.8888888888888888,
              "#fdca26"
             ],
             [
              1,
              "#f0f921"
             ]
            ],
            "type": "surface"
           }
          ],
          "table": [
           {
            "cells": {
             "fill": {
              "color": "#EBF0F8"
             },
             "line": {
              "color": "white"
             }
            },
            "header": {
             "fill": {
              "color": "#C8D4E3"
             },
             "line": {
              "color": "white"
             }
            },
            "type": "table"
           }
          ]
         },
         "layout": {
          "annotationdefaults": {
           "arrowcolor": "#2a3f5f",
           "arrowhead": 0,
           "arrowwidth": 1
          },
          "autotypenumbers": "strict",
          "coloraxis": {
           "colorbar": {
            "outlinewidth": 0,
            "ticks": ""
           }
          },
          "colorscale": {
           "diverging": [
            [
             0,
             "#8e0152"
            ],
            [
             0.1,
             "#c51b7d"
            ],
            [
             0.2,
             "#de77ae"
            ],
            [
             0.3,
             "#f1b6da"
            ],
            [
             0.4,
             "#fde0ef"
            ],
            [
             0.5,
             "#f7f7f7"
            ],
            [
             0.6,
             "#e6f5d0"
            ],
            [
             0.7,
             "#b8e186"
            ],
            [
             0.8,
             "#7fbc41"
            ],
            [
             0.9,
             "#4d9221"
            ],
            [
             1,
             "#276419"
            ]
           ],
           "sequential": [
            [
             0,
             "#0d0887"
            ],
            [
             0.1111111111111111,
             "#46039f"
            ],
            [
             0.2222222222222222,
             "#7201a8"
            ],
            [
             0.3333333333333333,
             "#9c179e"
            ],
            [
             0.4444444444444444,
             "#bd3786"
            ],
            [
             0.5555555555555556,
             "#d8576b"
            ],
            [
             0.6666666666666666,
             "#ed7953"
            ],
            [
             0.7777777777777778,
             "#fb9f3a"
            ],
            [
             0.8888888888888888,
             "#fdca26"
            ],
            [
             1,
             "#f0f921"
            ]
           ],
           "sequentialminus": [
            [
             0,
             "#0d0887"
            ],
            [
             0.1111111111111111,
             "#46039f"
            ],
            [
             0.2222222222222222,
             "#7201a8"
            ],
            [
             0.3333333333333333,
             "#9c179e"
            ],
            [
             0.4444444444444444,
             "#bd3786"
            ],
            [
             0.5555555555555556,
             "#d8576b"
            ],
            [
             0.6666666666666666,
             "#ed7953"
            ],
            [
             0.7777777777777778,
             "#fb9f3a"
            ],
            [
             0.8888888888888888,
             "#fdca26"
            ],
            [
             1,
             "#f0f921"
            ]
           ]
          },
          "colorway": [
           "#636efa",
           "#EF553B",
           "#00cc96",
           "#ab63fa",
           "#FFA15A",
           "#19d3f3",
           "#FF6692",
           "#B6E880",
           "#FF97FF",
           "#FECB52"
          ],
          "font": {
           "color": "#2a3f5f"
          },
          "geo": {
           "bgcolor": "white",
           "lakecolor": "white",
           "landcolor": "#E5ECF6",
           "showlakes": true,
           "showland": true,
           "subunitcolor": "white"
          },
          "hoverlabel": {
           "align": "left"
          },
          "hovermode": "closest",
          "mapbox": {
           "style": "light"
          },
          "paper_bgcolor": "white",
          "plot_bgcolor": "#E5ECF6",
          "polar": {
           "angularaxis": {
            "gridcolor": "white",
            "linecolor": "white",
            "ticks": ""
           },
           "bgcolor": "#E5ECF6",
           "radialaxis": {
            "gridcolor": "white",
            "linecolor": "white",
            "ticks": ""
           }
          },
          "scene": {
           "xaxis": {
            "backgroundcolor": "#E5ECF6",
            "gridcolor": "white",
            "gridwidth": 2,
            "linecolor": "white",
            "showbackground": true,
            "ticks": "",
            "zerolinecolor": "white"
           },
           "yaxis": {
            "backgroundcolor": "#E5ECF6",
            "gridcolor": "white",
            "gridwidth": 2,
            "linecolor": "white",
            "showbackground": true,
            "ticks": "",
            "zerolinecolor": "white"
           },
           "zaxis": {
            "backgroundcolor": "#E5ECF6",
            "gridcolor": "white",
            "gridwidth": 2,
            "linecolor": "white",
            "showbackground": true,
            "ticks": "",
            "zerolinecolor": "white"
           }
          },
          "shapedefaults": {
           "line": {
            "color": "#2a3f5f"
           }
          },
          "ternary": {
           "aaxis": {
            "gridcolor": "white",
            "linecolor": "white",
            "ticks": ""
           },
           "baxis": {
            "gridcolor": "white",
            "linecolor": "white",
            "ticks": ""
           },
           "bgcolor": "#E5ECF6",
           "caxis": {
            "gridcolor": "white",
            "linecolor": "white",
            "ticks": ""
           }
          },
          "title": {
           "x": 0.05
          },
          "xaxis": {
           "automargin": true,
           "gridcolor": "white",
           "linecolor": "white",
           "ticks": "",
           "title": {
            "standoff": 15
           },
           "zerolinecolor": "white",
           "zerolinewidth": 2
          },
          "yaxis": {
           "automargin": true,
           "gridcolor": "white",
           "linecolor": "white",
           "ticks": "",
           "title": {
            "standoff": 15
           },
           "zerolinecolor": "white",
           "zerolinewidth": 2
          }
         }
        },
        "title": {
         "text": "Proporción de tipos de entidades"
        },
        "width": 800
       }
      }
     },
     "metadata": {},
     "output_type": "display_data"
    }
   ],
   "source": [
    "frecuencia_entidades = df_filtrado['LARGO_I'].value_counts().reset_index()\n",
    "\n",
    "# Renombrar las columnas para mejor legibilidad\n",
    "frecuencia_entidades.columns = ['Largo I','Frecuencia']\n",
    "\n",
    "# Crear gráfico de pastel\n",
    "fig = px.pie(names=frecuencia_entidades['Largo I'], \n",
    "            values=frecuencia_entidades['Frecuencia'],\n",
    "            title='Proporción de tipos de entidades')\n",
    "\n",
    "fig.update_layout(height=600, width=800)\n",
    "\n",
    "# Mostrar gráfico\n",
    "fig.show()\n"
   ]
  },
  {
   "cell_type": "code",
   "execution_count": 47,
   "metadata": {},
   "outputs": [
    {
     "name": "stdout",
     "output_type": "stream",
     "text": [
      "   LARGO_I  conteo\n",
      "0        1  877271\n",
      "1        2  548179\n",
      "2        3  375642\n",
      "3        4  208661\n"
     ]
    }
   ],
   "source": [
    "\n",
    "df_filtrado['LARGO_I'] = df_filtrado['NUMERO_INVERSIONISTAS'].apply(lambda x: len(str(abs(int(x)))))\n",
    "\n",
    "# Clasificar y contar los números por su longitud\n",
    "conteo_por_largo = df_filtrado.groupby('LARGO_I').size().reset_index(name='conteo')\n",
    "\n",
    "print(conteo_por_largo)"
   ]
  },
  {
   "cell_type": "markdown",
   "metadata": {},
   "source": [
    "Rendimientos abonados"
   ]
  },
  {
   "cell_type": "code",
   "execution_count": 48,
   "metadata": {},
   "outputs": [
    {
     "name": "stdout",
     "output_type": "stream",
     "text": [
      "    LARGO_AB  conteo\n",
      "0          1   95559\n",
      "1          2    9486\n",
      "2          3   30268\n",
      "3          4   71242\n",
      "4          5  152678\n",
      "5          6  354025\n",
      "6          7  602934\n",
      "7          8  519701\n",
      "8          9  154380\n",
      "9         10   16675\n",
      "10        11    2652\n",
      "11        12     153\n"
     ]
    }
   ],
   "source": [
    "# Medir el largo de la parte entera de cada número en la columna 'numeros'\n",
    "df_filtrado['LARGO_AB'] = df_filtrado['RENDIMIENTOS_ABONADOS'].apply(lambda x: len(str(abs(int(x)))))\n",
    "\n",
    "# Clasificar y contar los números por su longitud\n",
    "conteo_por_largo = df_filtrado.groupby('LARGO_AB').size().reset_index(name='conteo')\n",
    "\n",
    "print(conteo_por_largo)\n",
    "\n"
   ]
  },
  {
   "cell_type": "code",
   "execution_count": 49,
   "metadata": {},
   "outputs": [],
   "source": [
    "df_filtrado = df_filtrado[df_filtrado['LARGO_AB'] <= 11]"
   ]
  },
  {
   "cell_type": "markdown",
   "metadata": {},
   "source": [
    "VALOR_UNIDAD_OPERACIONES_DIA_T"
   ]
  },
  {
   "cell_type": "code",
   "execution_count": 50,
   "metadata": {},
   "outputs": [
    {
     "name": "stdout",
     "output_type": "stream",
     "text": [
      "   LARGO_VUOD   conteo\n",
      "0           1    30758\n",
      "1           2     9144\n",
      "2           3    18078\n",
      "3           4   423122\n",
      "4           5  1433561\n",
      "5           6    66212\n",
      "6           7    28596\n",
      "7           8      129\n"
     ]
    }
   ],
   "source": [
    "# Medir el largo de la parte entera de cada número en la columna 'numeros'\n",
    "df_filtrado['LARGO_VUOD'] = df_filtrado['VALOR_UNIDAD_OPERACIONES_DIA_T'].apply(lambda x: len(str(abs(int(x)))))\n",
    "\n",
    "# Clasificar y contar los números por su longitud\n",
    "conteo_por_largo = df_filtrado.groupby('LARGO_VUOD').size().reset_index(name='conteo')\n",
    "\n",
    "print(conteo_por_largo)"
   ]
  },
  {
   "cell_type": "code",
   "execution_count": 51,
   "metadata": {},
   "outputs": [],
   "source": [
    "df_filtrado = df_filtrado[df_filtrado['LARGO_VUOD'] <= 8]"
   ]
  },
  {
   "cell_type": "markdown",
   "metadata": {},
   "source": [
    "RETIROS_REDENCIONES"
   ]
  },
  {
   "cell_type": "code",
   "execution_count": 52,
   "metadata": {},
   "outputs": [
    {
     "name": "stdout",
     "output_type": "stream",
     "text": [
      "    LARGO_RR   conteo\n",
      "0          1  1500402\n",
      "1          2     3937\n",
      "2          3      694\n",
      "3          4     1359\n",
      "4          5     3561\n",
      "5          6    14102\n",
      "6          7    43379\n",
      "7          8    82130\n",
      "8          9   115490\n",
      "9         10   142031\n",
      "10        11    94330\n",
      "11        12     8178\n",
      "12        13        6\n",
      "13        14        1\n"
     ]
    }
   ],
   "source": [
    "# Medir el largo de la parte entera de cada número en la columna 'numeros'\n",
    "df_filtrado['LARGO_RR'] = df_filtrado['RETIROS_REDENCIONES'].apply(lambda x: len(str(abs(int(x)))))\n",
    "\n",
    "# Clasificar y contar los números por su longitud\n",
    "conteo_por_largo = df_filtrado.groupby('LARGO_RR').size().reset_index(name='conteo')\n",
    "\n",
    "print(conteo_por_largo)"
   ]
  },
  {
   "cell_type": "code",
   "execution_count": 53,
   "metadata": {},
   "outputs": [],
   "source": [
    "df_filtrado = df_filtrado[df_filtrado['LARGO_RR'] <= 12]"
   ]
  },
  {
   "cell_type": "markdown",
   "metadata": {},
   "source": [
    "Anulaciones"
   ]
  },
  {
   "cell_type": "code",
   "execution_count": 54,
   "metadata": {},
   "outputs": [
    {
     "name": "stdout",
     "output_type": "stream",
     "text": [
      "    LARGO_AN   conteo\n",
      "0          1  1912635\n",
      "1          2       64\n",
      "2          3      220\n",
      "3          4      569\n",
      "4          5     1898\n",
      "5          6     7483\n",
      "6          7    18071\n",
      "7          8    25633\n",
      "8          9    27838\n",
      "9         10    13196\n",
      "10        11     1866\n",
      "11        12      116\n",
      "12        13        4\n"
     ]
    }
   ],
   "source": [
    "# Medir el largo de la parte entera de cada número en la columna 'numeros'\n",
    "df_filtrado['LARGO_AN'] = df_filtrado['ANULACIONES'].apply(lambda x: len(str(abs(int(x)))))\n",
    "\n",
    "# Clasificar y contar los números por su longitud\n",
    "conteo_por_largo = df_filtrado.groupby('LARGO_AN').size().reset_index(name='conteo')\n",
    "\n",
    "print(conteo_por_largo)"
   ]
  },
  {
   "cell_type": "code",
   "execution_count": 55,
   "metadata": {},
   "outputs": [],
   "source": [
    "df_filtrado = df_filtrado[~df_filtrado['LARGO_AN'].isin([2, 3,4,12, 13])]\n"
   ]
  },
  {
   "cell_type": "code",
   "execution_count": 56,
   "metadata": {},
   "outputs": [
    {
     "data": {
      "text/plain": [
       "LARGO_AN\n",
       "1     1912635\n",
       "9       27838\n",
       "8       25633\n",
       "7       18071\n",
       "10      13196\n",
       "6        7483\n",
       "5        1898\n",
       "11       1866\n",
       "Name: count, dtype: int64"
      ]
     },
     "execution_count": 56,
     "metadata": {},
     "output_type": "execute_result"
    }
   ],
   "source": [
    "df_filtrado['LARGO_AN'].value_counts()"
   ]
  },
  {
   "cell_type": "markdown",
   "metadata": {},
   "source": [
    "Aportes recibidos"
   ]
  },
  {
   "cell_type": "code",
   "execution_count": 57,
   "metadata": {},
   "outputs": [
    {
     "name": "stdout",
     "output_type": "stream",
     "text": [
      "    LARGO_AR   conteo\n",
      "0          1  1524306\n",
      "1          2     4489\n",
      "2          3      982\n",
      "3          4     1450\n",
      "4          5     3624\n",
      "5          6    13779\n",
      "6          7    39369\n",
      "7          8    70649\n",
      "8          9   102148\n",
      "9         10   142855\n",
      "10        11    96873\n",
      "11        12     8074\n",
      "12        13       22\n"
     ]
    }
   ],
   "source": [
    "# Medir el largo de la parte entera de cada número en la columna 'numeros'\n",
    "df_filtrado['LARGO_AR'] = df_filtrado['APORTES_RECIBIDOS'].apply(lambda x: len(str(abs(int(x)))))\n",
    "\n",
    "# Clasificar y contar los números por su longitud\n",
    "conteo_por_largo = df_filtrado.groupby('LARGO_AR').size().reset_index(name='conteo')\n",
    "\n",
    "print(conteo_por_largo)"
   ]
  },
  {
   "cell_type": "code",
   "execution_count": 58,
   "metadata": {},
   "outputs": [],
   "source": [
    "df_filtrado = df_filtrado[~df_filtrado['LARGO_AR'].isin([2,3,4,5,13,12])]"
   ]
  },
  {
   "cell_type": "code",
   "execution_count": 59,
   "metadata": {},
   "outputs": [
    {
     "data": {
      "text/plain": [
       "LARGO_AR\n",
       "1     1524306\n",
       "10     142855\n",
       "9      102148\n",
       "11      96873\n",
       "8       70649\n",
       "7       39369\n",
       "6       13779\n",
       "Name: count, dtype: int64"
      ]
     },
     "execution_count": 59,
     "metadata": {},
     "output_type": "execute_result"
    }
   ],
   "source": [
    "df_filtrado['LARGO_AR'].value_counts()"
   ]
  },
  {
   "cell_type": "markdown",
   "metadata": {},
   "source": [
    "Eliminacion de las columnas temporales"
   ]
  },
  {
   "cell_type": "code",
   "execution_count": 60,
   "metadata": {},
   "outputs": [
    {
     "name": "stdout",
     "output_type": "stream",
     "text": [
      "Error al aliminar columnas\n"
     ]
    }
   ],
   "source": [
    "columnas_a_eliminar = [\n",
    "                        'LARGO_M','LARGO_S','LARGO_A'\n",
    "                        \"LARGO_I\",\t\"LARGO_AB\",\t\"LARGO_VUOD\",\n",
    "                        \"LARGO_RR\",\"LARGO_AN\",\t\"LARGO_AR\"\n",
    "                    ]\n",
    "\n",
    "try:\n",
    "    df_filtrado = df_filtrado.drop(columns=columnas_a_eliminar)\n",
    "    print(\"Las columnas seleccionadas se eliminaron con éxito\")\n",
    "except KeyError as e:\n",
    "    print(\"Error al aliminar columnas\")"
   ]
  },
  {
   "cell_type": "code",
   "execution_count": 61,
   "metadata": {},
   "outputs": [
    {
     "data": {
      "image/png": "[encoded data removed]",
      "text/plain": [
       "<Figure size 2500x2000 with 10 Axes>"
      ]
     },
     "metadata": {},
     "output_type": "display_data"
    }
   ],
   "source": [
    "numeric_cols = df_filtrado.select_dtypes(include=['Float64']).columns\n",
    "\n",
    "num_plots = len(numeric_cols)\n",
    "num_cols = 3\n",
    "num_rows = (num_plots + num_cols - 1) // num_cols  # Calcula cuántas filas se necesitan\n",
    "\n",
    "plt.figure(figsize=(25, 20))\n",
    "for i, col in enumerate(numeric_cols, 1):\n",
    "    plt.subplot(num_rows, num_cols, i)\n",
    "    sns.boxenplot(data=df_filtrado, x=col)\n",
    "    plt.title(col)\n",
    "\n",
    "plt.tight_layout()\n",
    "plt.show()"
   ]
  },
  {
   "cell_type": "markdown",
   "metadata": {},
   "source": [
    "Verificación del dataframe final"
   ]
  },
  {
   "cell_type": "code",
   "execution_count": 62,
   "metadata": {},
   "outputs": [
    {
     "data": {
      "text/html": [
       "<div>\n",
       "<style scoped>\n",
       "    .dataframe tbody tr th:only-of-type {\n",
       "        vertical-align: middle;\n",
       "    }\n",
       "\n",
       "    .dataframe tbody tr th {\n",
       "        vertical-align: top;\n",
       "    }\n",
       "\n",
       "    .dataframe thead th {\n",
       "        text-align: right;\n",
       "    }\n",
       "</style>\n",
       "<table border=\"1\" class=\"dataframe\">\n",
       "  <thead>\n",
       "    <tr style=\"text-align: right;\">\n",
       "      <th></th>\n",
       "      <th>FECHA_CORTE</th>\n",
       "      <th>NOMBRE_TIPO_ENTIDAD</th>\n",
       "      <th>NOMBRE_ENTIDAD</th>\n",
       "      <th>NOMBRE_SUBTIPO_PATRIMONIO</th>\n",
       "      <th>NOMBRE_PATRIMONIO</th>\n",
       "      <th>RENDIMIENTOS_ABONADOS</th>\n",
       "      <th>VALOR_UNIDAD_OPERACIONES_DIA_T</th>\n",
       "      <th>APORTES_RECIBIDOS</th>\n",
       "      <th>RETIROS_REDENCIONES</th>\n",
       "      <th>ANULACIONES</th>\n",
       "      <th>VALOR_FONDO_CIERRE_DIA_T</th>\n",
       "      <th>NUMERO_INVERSIONISTAS</th>\n",
       "      <th>RENTABILIDAD_MENSUAL</th>\n",
       "      <th>RENTABILIDAD_SEMESTRAL</th>\n",
       "      <th>RENTABILIDAD_ANUAL</th>\n",
       "      <th>LARGO_M</th>\n",
       "      <th>LARGO_S</th>\n",
       "      <th>LARGO_A</th>\n",
       "      <th>LARGO_I</th>\n",
       "      <th>LARGO_AB</th>\n",
       "      <th>LARGO_VUOD</th>\n",
       "      <th>LARGO_RR</th>\n",
       "      <th>LARGO_AN</th>\n",
       "      <th>LARGO_AR</th>\n",
       "    </tr>\n",
       "  </thead>\n",
       "  <tbody>\n",
       "    <tr>\n",
       "      <th>0</th>\n",
       "      <td>2020-07-20</td>\n",
       "      <td>SADI</td>\n",
       "      <td>Progresion Sociedad Administradora De Inversio...</td>\n",
       "      <td>FIC DE TIPO GENERAL</td>\n",
       "      <td>FONDO DE INVERSION COLECTIVA ABIERTO PROGRESIO...</td>\n",
       "      <td>308415.3</td>\n",
       "      <td>11813.7</td>\n",
       "      <td>0.0</td>\n",
       "      <td>0.0</td>\n",
       "      <td>0.0</td>\n",
       "      <td>6832704688.6</td>\n",
       "      <td>174.0</td>\n",
       "      <td>4.0</td>\n",
       "      <td>4.4</td>\n",
       "      <td>3.6</td>\n",
       "      <td>1</td>\n",
       "      <td>1</td>\n",
       "      <td>1</td>\n",
       "      <td>3</td>\n",
       "      <td>6</td>\n",
       "      <td>5</td>\n",
       "      <td>1</td>\n",
       "      <td>1</td>\n",
       "      <td>1</td>\n",
       "    </tr>\n",
       "    <tr>\n",
       "      <th>1</th>\n",
       "      <td>2021-09-12</td>\n",
       "      <td>SF</td>\n",
       "      <td>Sociedad Fiduciaria De Desarrollo Agropecuario...</td>\n",
       "      <td>FIC DE TIPO GENERAL</td>\n",
       "      <td>FONDO DE INVERSION COLECTIVA ABIERTO FIC 600</td>\n",
       "      <td>5909017.1</td>\n",
       "      <td>13326.5</td>\n",
       "      <td>0.0</td>\n",
       "      <td>0.0</td>\n",
       "      <td>0.0</td>\n",
       "      <td>105940936849.3</td>\n",
       "      <td>6.0</td>\n",
       "      <td>2.3</td>\n",
       "      <td>1.0</td>\n",
       "      <td>1.1</td>\n",
       "      <td>1</td>\n",
       "      <td>1</td>\n",
       "      <td>1</td>\n",
       "      <td>1</td>\n",
       "      <td>7</td>\n",
       "      <td>5</td>\n",
       "      <td>1</td>\n",
       "      <td>1</td>\n",
       "      <td>1</td>\n",
       "    </tr>\n",
       "    <tr>\n",
       "      <th>2</th>\n",
       "      <td>2022-12-09</td>\n",
       "      <td>SF</td>\n",
       "      <td>Skandia Fiduciaria S.A.</td>\n",
       "      <td>FIC DE TIPO GENERAL</td>\n",
       "      <td>FONDO DE INVERSIÓN COLECTIVA CON PACTO DE PERM...</td>\n",
       "      <td>-3079654.8</td>\n",
       "      <td>9521.4</td>\n",
       "      <td>0.0</td>\n",
       "      <td>0.0</td>\n",
       "      <td>0.0</td>\n",
       "      <td>1189565492.9</td>\n",
       "      <td>1.0</td>\n",
       "      <td>6.7</td>\n",
       "      <td>4.9</td>\n",
       "      <td>-3.4</td>\n",
       "      <td>1</td>\n",
       "      <td>1</td>\n",
       "      <td>1</td>\n",
       "      <td>1</td>\n",
       "      <td>7</td>\n",
       "      <td>4</td>\n",
       "      <td>1</td>\n",
       "      <td>1</td>\n",
       "      <td>1</td>\n",
       "    </tr>\n",
       "    <tr>\n",
       "      <th>4</th>\n",
       "      <td>2017-06-04</td>\n",
       "      <td>SF</td>\n",
       "      <td>Bbva Asset Management S.A. Sociedad Fiduciaria</td>\n",
       "      <td>FIC DE TIPO GENERAL</td>\n",
       "      <td>FIC ABIERTO BBVA FAM CON PARTICIPACIONES DIFER...</td>\n",
       "      <td>7491757.5</td>\n",
       "      <td>2224.9</td>\n",
       "      <td>0.0</td>\n",
       "      <td>3.2</td>\n",
       "      <td>0.0</td>\n",
       "      <td>44325566471.2</td>\n",
       "      <td>17.0</td>\n",
       "      <td>7.2</td>\n",
       "      <td>9.2</td>\n",
       "      <td>0.0</td>\n",
       "      <td>1</td>\n",
       "      <td>1</td>\n",
       "      <td>1</td>\n",
       "      <td>2</td>\n",
       "      <td>7</td>\n",
       "      <td>4</td>\n",
       "      <td>1</td>\n",
       "      <td>1</td>\n",
       "      <td>1</td>\n",
       "    </tr>\n",
       "    <tr>\n",
       "      <th>5</th>\n",
       "      <td>2021-04-27</td>\n",
       "      <td>SF</td>\n",
       "      <td>Alianza Fiduciaria S.A.</td>\n",
       "      <td>FIC DE TIPO GENERAL</td>\n",
       "      <td>FONDO ABIERTO ALIANZA</td>\n",
       "      <td>-14469336.4</td>\n",
       "      <td>155295.4</td>\n",
       "      <td>40813628392.1</td>\n",
       "      <td>50365792110.0</td>\n",
       "      <td>17215195207.2</td>\n",
       "      <td>289162132692.0</td>\n",
       "      <td>83.0</td>\n",
       "      <td>2.0</td>\n",
       "      <td>1.1</td>\n",
       "      <td>3.2</td>\n",
       "      <td>1</td>\n",
       "      <td>1</td>\n",
       "      <td>1</td>\n",
       "      <td>2</td>\n",
       "      <td>8</td>\n",
       "      <td>6</td>\n",
       "      <td>11</td>\n",
       "      <td>11</td>\n",
       "      <td>11</td>\n",
       "    </tr>\n",
       "    <tr>\n",
       "      <th>...</th>\n",
       "      <td>...</td>\n",
       "      <td>...</td>\n",
       "      <td>...</td>\n",
       "      <td>...</td>\n",
       "      <td>...</td>\n",
       "      <td>...</td>\n",
       "      <td>...</td>\n",
       "      <td>...</td>\n",
       "      <td>...</td>\n",
       "      <td>...</td>\n",
       "      <td>...</td>\n",
       "      <td>...</td>\n",
       "      <td>...</td>\n",
       "      <td>...</td>\n",
       "      <td>...</td>\n",
       "      <td>...</td>\n",
       "      <td>...</td>\n",
       "      <td>...</td>\n",
       "      <td>...</td>\n",
       "      <td>...</td>\n",
       "      <td>...</td>\n",
       "      <td>...</td>\n",
       "      <td>...</td>\n",
       "      <td>...</td>\n",
       "    </tr>\n",
       "    <tr>\n",
       "      <th>2165929</th>\n",
       "      <td>2019-06-25</td>\n",
       "      <td>SF</td>\n",
       "      <td>Fiduciaria Sura S.A.</td>\n",
       "      <td>FIC DE TIPO GENERAL</td>\n",
       "      <td>FIC CORPORATIVO II</td>\n",
       "      <td>3000592.2</td>\n",
       "      <td>15402.0</td>\n",
       "      <td>14540000000.0</td>\n",
       "      <td>13786967958.9</td>\n",
       "      <td>0.0</td>\n",
       "      <td>18283835774.3</td>\n",
       "      <td>19.0</td>\n",
       "      <td>4.5</td>\n",
       "      <td>6.3</td>\n",
       "      <td>6.3</td>\n",
       "      <td>1</td>\n",
       "      <td>1</td>\n",
       "      <td>1</td>\n",
       "      <td>2</td>\n",
       "      <td>7</td>\n",
       "      <td>5</td>\n",
       "      <td>11</td>\n",
       "      <td>1</td>\n",
       "      <td>11</td>\n",
       "    </tr>\n",
       "    <tr>\n",
       "      <th>2165930</th>\n",
       "      <td>2019-05-22</td>\n",
       "      <td>SF</td>\n",
       "      <td>Alianza Fiduciaria S.A.</td>\n",
       "      <td>FIC DE TIPO GENERAL</td>\n",
       "      <td>FONDO ABIERTO ALIANZA</td>\n",
       "      <td>81423066.4</td>\n",
       "      <td>144117.4</td>\n",
       "      <td>16602216877.8</td>\n",
       "      <td>22313379342.7</td>\n",
       "      <td>-10198765402.9</td>\n",
       "      <td>465195438702.2</td>\n",
       "      <td>22.0</td>\n",
       "      <td>4.4</td>\n",
       "      <td>4.0</td>\n",
       "      <td>3.9</td>\n",
       "      <td>1</td>\n",
       "      <td>1</td>\n",
       "      <td>1</td>\n",
       "      <td>2</td>\n",
       "      <td>8</td>\n",
       "      <td>6</td>\n",
       "      <td>11</td>\n",
       "      <td>11</td>\n",
       "      <td>11</td>\n",
       "    </tr>\n",
       "    <tr>\n",
       "      <th>2165931</th>\n",
       "      <td>2018-09-12</td>\n",
       "      <td>SF</td>\n",
       "      <td>Fiduciaria De Occidente S.A.  - Fiduoccidente ...</td>\n",
       "      <td>FIC DE TIPO GENERAL</td>\n",
       "      <td>FONDO DE INVERSIÓN COLECTIVA ABIERTO CON PACTO...</td>\n",
       "      <td>3421103.4</td>\n",
       "      <td>2387.7</td>\n",
       "      <td>0.0</td>\n",
       "      <td>15000000.0</td>\n",
       "      <td>0.0</td>\n",
       "      <td>4479968228.4</td>\n",
       "      <td>117.0</td>\n",
       "      <td>0.8</td>\n",
       "      <td>-6.8</td>\n",
       "      <td>-1.6</td>\n",
       "      <td>1</td>\n",
       "      <td>1</td>\n",
       "      <td>1</td>\n",
       "      <td>3</td>\n",
       "      <td>7</td>\n",
       "      <td>4</td>\n",
       "      <td>8</td>\n",
       "      <td>1</td>\n",
       "      <td>1</td>\n",
       "    </tr>\n",
       "    <tr>\n",
       "      <th>2165932</th>\n",
       "      <td>2020-01-30</td>\n",
       "      <td>SF</td>\n",
       "      <td>Itaú Fiduciaria</td>\n",
       "      <td>FIC DE TIPO GENERAL</td>\n",
       "      <td>FONDO DE INVERSION COLECTIVA ABIERTO ITAU CORT...</td>\n",
       "      <td>18867439.8</td>\n",
       "      <td>4308605.6</td>\n",
       "      <td>2717348162.5</td>\n",
       "      <td>7697812764.1</td>\n",
       "      <td>-700000000.0</td>\n",
       "      <td>122054686562.2</td>\n",
       "      <td>1224.0</td>\n",
       "      <td>5.5</td>\n",
       "      <td>3.7</td>\n",
       "      <td>4.3</td>\n",
       "      <td>1</td>\n",
       "      <td>1</td>\n",
       "      <td>1</td>\n",
       "      <td>4</td>\n",
       "      <td>8</td>\n",
       "      <td>7</td>\n",
       "      <td>10</td>\n",
       "      <td>9</td>\n",
       "      <td>10</td>\n",
       "    </tr>\n",
       "    <tr>\n",
       "      <th>2165933</th>\n",
       "      <td>2018-08-29</td>\n",
       "      <td>SF</td>\n",
       "      <td>Alianza Fiduciaria S.A.</td>\n",
       "      <td>FIC DE TIPO GENERAL</td>\n",
       "      <td>FONDO ABIERTO CON PACTO DE PERMANENCIA CXC</td>\n",
       "      <td>70567944.5</td>\n",
       "      <td>15184.1</td>\n",
       "      <td>3325679249.7</td>\n",
       "      <td>6315171983.7</td>\n",
       "      <td>720000000.0</td>\n",
       "      <td>406554366376.7</td>\n",
       "      <td>982.0</td>\n",
       "      <td>5.7</td>\n",
       "      <td>5.9</td>\n",
       "      <td>6.5</td>\n",
       "      <td>1</td>\n",
       "      <td>1</td>\n",
       "      <td>1</td>\n",
       "      <td>3</td>\n",
       "      <td>8</td>\n",
       "      <td>5</td>\n",
       "      <td>10</td>\n",
       "      <td>9</td>\n",
       "      <td>10</td>\n",
       "    </tr>\n",
       "  </tbody>\n",
       "</table>\n",
       "<p>1989979 rows × 24 columns</p>\n",
       "</div>"
      ],
      "text/plain": [
       "        FECHA_CORTE NOMBRE_TIPO_ENTIDAD  \\\n",
       "0        2020-07-20                SADI   \n",
       "1        2021-09-12                  SF   \n",
       "2        2022-12-09                  SF   \n",
       "4        2017-06-04                  SF   \n",
       "5        2021-04-27                  SF   \n",
       "...             ...                 ...   \n",
       "2165929  2019-06-25                  SF   \n",
       "2165930  2019-05-22                  SF   \n",
       "2165931  2018-09-12                  SF   \n",
       "2165932  2020-01-30                  SF   \n",
       "2165933  2018-08-29                  SF   \n",
       "\n",
       "                                            NOMBRE_ENTIDAD  \\\n",
       "0        Progresion Sociedad Administradora De Inversio...   \n",
       "1        Sociedad Fiduciaria De Desarrollo Agropecuario...   \n",
       "2                                  Skandia Fiduciaria S.A.   \n",
       "4           Bbva Asset Management S.A. Sociedad Fiduciaria   \n",
       "5                                  Alianza Fiduciaria S.A.   \n",
       "...                                                    ...   \n",
       "2165929                               Fiduciaria Sura S.A.   \n",
       "2165930                            Alianza Fiduciaria S.A.   \n",
       "2165931  Fiduciaria De Occidente S.A.  - Fiduoccidente ...   \n",
       "2165932                                    Itaú Fiduciaria   \n",
       "2165933                            Alianza Fiduciaria S.A.   \n",
       "\n",
       "        NOMBRE_SUBTIPO_PATRIMONIO  \\\n",
       "0             FIC DE TIPO GENERAL   \n",
       "1             FIC DE TIPO GENERAL   \n",
       "2             FIC DE TIPO GENERAL   \n",
       "4             FIC DE TIPO GENERAL   \n",
       "5             FIC DE TIPO GENERAL   \n",
       "...                           ...   \n",
       "2165929       FIC DE TIPO GENERAL   \n",
       "2165930       FIC DE TIPO GENERAL   \n",
       "2165931       FIC DE TIPO GENERAL   \n",
       "2165932       FIC DE TIPO GENERAL   \n",
       "2165933       FIC DE TIPO GENERAL   \n",
       "\n",
       "                                         NOMBRE_PATRIMONIO  \\\n",
       "0        FONDO DE INVERSION COLECTIVA ABIERTO PROGRESIO...   \n",
       "1             FONDO DE INVERSION COLECTIVA ABIERTO FIC 600   \n",
       "2        FONDO DE INVERSIÓN COLECTIVA CON PACTO DE PERM...   \n",
       "4        FIC ABIERTO BBVA FAM CON PARTICIPACIONES DIFER...   \n",
       "5                                    FONDO ABIERTO ALIANZA   \n",
       "...                                                    ...   \n",
       "2165929                                 FIC CORPORATIVO II   \n",
       "2165930                              FONDO ABIERTO ALIANZA   \n",
       "2165931  FONDO DE INVERSIÓN COLECTIVA ABIERTO CON PACTO...   \n",
       "2165932  FONDO DE INVERSION COLECTIVA ABIERTO ITAU CORT...   \n",
       "2165933         FONDO ABIERTO CON PACTO DE PERMANENCIA CXC   \n",
       "\n",
       "         RENDIMIENTOS_ABONADOS  VALOR_UNIDAD_OPERACIONES_DIA_T  \\\n",
       "0                     308415.3                         11813.7   \n",
       "1                    5909017.1                         13326.5   \n",
       "2                   -3079654.8                          9521.4   \n",
       "4                    7491757.5                          2224.9   \n",
       "5                  -14469336.4                        155295.4   \n",
       "...                        ...                             ...   \n",
       "2165929              3000592.2                         15402.0   \n",
       "2165930             81423066.4                        144117.4   \n",
       "2165931              3421103.4                          2387.7   \n",
       "2165932             18867439.8                       4308605.6   \n",
       "2165933             70567944.5                         15184.1   \n",
       "\n",
       "         APORTES_RECIBIDOS  RETIROS_REDENCIONES    ANULACIONES  \\\n",
       "0                      0.0                  0.0            0.0   \n",
       "1                      0.0                  0.0            0.0   \n",
       "2                      0.0                  0.0            0.0   \n",
       "4                      0.0                  3.2            0.0   \n",
       "5            40813628392.1        50365792110.0  17215195207.2   \n",
       "...                    ...                  ...            ...   \n",
       "2165929      14540000000.0        13786967958.9            0.0   \n",
       "2165930      16602216877.8        22313379342.7 -10198765402.9   \n",
       "2165931                0.0           15000000.0            0.0   \n",
       "2165932       2717348162.5         7697812764.1   -700000000.0   \n",
       "2165933       3325679249.7         6315171983.7    720000000.0   \n",
       "\n",
       "         VALOR_FONDO_CIERRE_DIA_T  NUMERO_INVERSIONISTAS  \\\n",
       "0                    6832704688.6                  174.0   \n",
       "1                  105940936849.3                    6.0   \n",
       "2                    1189565492.9                    1.0   \n",
       "4                   44325566471.2                   17.0   \n",
       "5                  289162132692.0                   83.0   \n",
       "...                           ...                    ...   \n",
       "2165929             18283835774.3                   19.0   \n",
       "2165930            465195438702.2                   22.0   \n",
       "2165931              4479968228.4                  117.0   \n",
       "2165932            122054686562.2                 1224.0   \n",
       "2165933            406554366376.7                  982.0   \n",
       "\n",
       "         RENTABILIDAD_MENSUAL  RENTABILIDAD_SEMESTRAL  RENTABILIDAD_ANUAL  \\\n",
       "0                         4.0                     4.4                 3.6   \n",
       "1                         2.3                     1.0                 1.1   \n",
       "2                         6.7                     4.9                -3.4   \n",
       "4                         7.2                     9.2                 0.0   \n",
       "5                         2.0                     1.1                 3.2   \n",
       "...                       ...                     ...                 ...   \n",
       "2165929                   4.5                     6.3                 6.3   \n",
       "2165930                   4.4                     4.0                 3.9   \n",
       "2165931                   0.8                    -6.8                -1.6   \n",
       "2165932                   5.5                     3.7                 4.3   \n",
       "2165933                   5.7                     5.9                 6.5   \n",
       "\n",
       "         LARGO_M  LARGO_S  LARGO_A  LARGO_I  LARGO_AB  LARGO_VUOD  LARGO_RR  \\\n",
       "0              1        1        1        3         6           5         1   \n",
       "1              1        1        1        1         7           5         1   \n",
       "2              1        1        1        1         7           4         1   \n",
       "4              1        1        1        2         7           4         1   \n",
       "5              1        1        1        2         8           6        11   \n",
       "...          ...      ...      ...      ...       ...         ...       ...   \n",
       "2165929        1        1        1        2         7           5        11   \n",
       "2165930        1        1        1        2         8           6        11   \n",
       "2165931        1        1        1        3         7           4         8   \n",
       "2165932        1        1        1        4         8           7        10   \n",
       "2165933        1        1        1        3         8           5        10   \n",
       "\n",
       "         LARGO_AN  LARGO_AR  \n",
       "0               1         1  \n",
       "1               1         1  \n",
       "2               1         1  \n",
       "4               1         1  \n",
       "5              11        11  \n",
       "...           ...       ...  \n",
       "2165929         1        11  \n",
       "2165930        11        11  \n",
       "2165931         1         1  \n",
       "2165932         9        10  \n",
       "2165933         9        10  \n",
       "\n",
       "[1989979 rows x 24 columns]"
      ]
     },
     "execution_count": 62,
     "metadata": {},
     "output_type": "execute_result"
    }
   ],
   "source": [
    "df_filtrado"
   ]
  },
  {
   "cell_type": "markdown",
   "metadata": {},
   "source": [
    "# Exportacion del dataFrame final para su uso en PowerBI"
   ]
  },
  {
   "cell_type": "code",
   "execution_count": 40,
   "metadata": {},
   "outputs": [],
   "source": [
    "df_filtrado.to_csv(\"Rentabilidad_FIC.csv\",index=False);"
   ]
  }
 ],
 "metadata": {
  "kernelspec": {
   "display_name": "test",
   "language": "python",
   "name": "python3"
  },
  "language_info": {
   "codemirror_mode": {
    "name": "ipython",
    "version": 3
   },
   "file_extension": ".py",
   "mimetype": "text/x-python",
   "name": "python",
   "nbconvert_exporter": "python",
   "pygments_lexer": "ipython3",
   "version": "3.12.4"
  }
 },
 "nbformat": 4,
 "nbformat_minor": 2
}
