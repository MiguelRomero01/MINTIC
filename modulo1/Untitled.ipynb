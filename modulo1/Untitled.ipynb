{
 "cells": [
  {
   "cell_type": "code",
   "execution_count": 5,
   "id": "c2428697",
   "metadata": {},
   "outputs": [],
   "source": [
    "import altair as alt\n",
    "import pandas as pd\n",
    "import numpy as np\n",
    "import seaborn as sns\n",
    "import matplotlib.pyplot as plt\n",
    "import plotly.express as px"
   ]
  },
  {
   "cell_type": "markdown",
   "id": "754c2173",
   "metadata": {},
   "source": [
    "Creacion del dataframe y la base de datos junto con el formateo necesario para visualizar de mejor forma la data"
   ]
  },
  {
   "cell_type": "code",
   "execution_count": 6,
   "id": "d43e4203",
   "metadata": {},
   "outputs": [
    {
     "name": "stdout",
     "output_type": "stream",
     "text": [
      "Se cargo exitosamente la fuente de datos\n"
     ]
    },
    {
     "data": {
      "text/html": [
       "<div>\n",
       "<style scoped>\n",
       "    .dataframe tbody tr th:only-of-type {\n",
       "        vertical-align: middle;\n",
       "    }\n",
       "\n",
       "    .dataframe tbody tr th {\n",
       "        vertical-align: top;\n",
       "    }\n",
       "\n",
       "    .dataframe thead th {\n",
       "        text-align: right;\n",
       "    }\n",
       "</style>\n",
       "<table border=\"1\" class=\"dataframe\">\n",
       "  <thead>\n",
       "    <tr style=\"text-align: right;\">\n",
       "      <th></th>\n",
       "      <th>FECHA_CORTE</th>\n",
       "      <th>TIPO_ENTIDAD</th>\n",
       "      <th>NOMBRE_TIPO_ENTIDAD</th>\n",
       "      <th>CODIGO_ENTIDAD</th>\n",
       "      <th>NOMBRE_ENTIDAD</th>\n",
       "      <th>TIPO_NEGOCIO</th>\n",
       "      <th>NOMBRE_TIPO_PATRIMONIO</th>\n",
       "      <th>SUBTIPO_NEGOCIO</th>\n",
       "      <th>NOMBRE_SUBTIPO_PATRIMONIO</th>\n",
       "      <th>CODIGO_NEGOCIO</th>\n",
       "      <th>...</th>\n",
       "      <th>VALOR_UNIDAD_OPERACIONES_DIA_T</th>\n",
       "      <th>APORTES_RECIBIDOS</th>\n",
       "      <th>RETIROS_REDENCIONES</th>\n",
       "      <th>ANULACIONES</th>\n",
       "      <th>VALOR_FONDO_CIERRE_DIA_T</th>\n",
       "      <th>NUMERO_INVERSIONISTAS</th>\n",
       "      <th>RENTABILIDAD_DIARIA</th>\n",
       "      <th>RENTABILIDAD_MENSUAL</th>\n",
       "      <th>RENTABILIDAD_SEMESTRAL</th>\n",
       "      <th>RENTABILIDAD_ANUAL</th>\n",
       "    </tr>\n",
       "  </thead>\n",
       "  <tbody>\n",
       "    <tr>\n",
       "      <th>0</th>\n",
       "      <td>20/07/2020</td>\n",
       "      <td>87</td>\n",
       "      <td>SOCIEDADES ADMINISTRADORAS DE INVERSIÓN</td>\n",
       "      <td>11</td>\n",
       "      <td>Progresion Sociedad Administradora De Inversio...</td>\n",
       "      <td>9</td>\n",
       "      <td>FONDOS DE INVERSIÓN COLECTIVA</td>\n",
       "      <td>1</td>\n",
       "      <td>FIC DE TIPO GENERAL</td>\n",
       "      <td>63109</td>\n",
       "      <td>...</td>\n",
       "      <td>11813.7</td>\n",
       "      <td>0.0</td>\n",
       "      <td>0.0</td>\n",
       "      <td>0.0</td>\n",
       "      <td>6832704688.6</td>\n",
       "      <td>174.0</td>\n",
       "      <td>1.7</td>\n",
       "      <td>4.0</td>\n",
       "      <td>4.4</td>\n",
       "      <td>3.6</td>\n",
       "    </tr>\n",
       "    <tr>\n",
       "      <th>1</th>\n",
       "      <td>12/09/2021</td>\n",
       "      <td>5</td>\n",
       "      <td>SF-SOCIEDAD FIDUCIARIA</td>\n",
       "      <td>39</td>\n",
       "      <td>Sociedad Fiduciaria De Desarrollo Agropecuario...</td>\n",
       "      <td>9</td>\n",
       "      <td>FONDOS DE INVERSIÓN COLECTIVA</td>\n",
       "      <td>1</td>\n",
       "      <td>FIC DE TIPO GENERAL</td>\n",
       "      <td>69537</td>\n",
       "      <td>...</td>\n",
       "      <td>13326.5</td>\n",
       "      <td>0.0</td>\n",
       "      <td>0.0</td>\n",
       "      <td>0.0</td>\n",
       "      <td>105940936849.3</td>\n",
       "      <td>6.0</td>\n",
       "      <td>2.1</td>\n",
       "      <td>2.3</td>\n",
       "      <td>1.0</td>\n",
       "      <td>1.1</td>\n",
       "    </tr>\n",
       "    <tr>\n",
       "      <th>2</th>\n",
       "      <td>09/12/2022</td>\n",
       "      <td>5</td>\n",
       "      <td>SF-SOCIEDAD FIDUCIARIA</td>\n",
       "      <td>7</td>\n",
       "      <td>Skandia Fiduciaria S.A.</td>\n",
       "      <td>9</td>\n",
       "      <td>FONDOS DE INVERSIÓN COLECTIVA</td>\n",
       "      <td>1</td>\n",
       "      <td>FIC DE TIPO GENERAL</td>\n",
       "      <td>97207</td>\n",
       "      <td>...</td>\n",
       "      <td>9521.4</td>\n",
       "      <td>0.0</td>\n",
       "      <td>0.0</td>\n",
       "      <td>0.0</td>\n",
       "      <td>1189565492.9</td>\n",
       "      <td>1.0</td>\n",
       "      <td>-61.1</td>\n",
       "      <td>6.7</td>\n",
       "      <td>4.9</td>\n",
       "      <td>-3.4</td>\n",
       "    </tr>\n",
       "    <tr>\n",
       "      <th>3</th>\n",
       "      <td>23/08/2019</td>\n",
       "      <td>5</td>\n",
       "      <td>SF-SOCIEDAD FIDUCIARIA</td>\n",
       "      <td>38</td>\n",
       "      <td>Fiduciaria Central S.A. Sigla Fiducentral S.A.</td>\n",
       "      <td>9</td>\n",
       "      <td>FONDOS DE INVERSIÓN COLECTIVA</td>\n",
       "      <td>7</td>\n",
       "      <td>FONDOS DE CAPITAL PRIVADO</td>\n",
       "      <td>73593</td>\n",
       "      <td>...</td>\n",
       "      <td>7098.2</td>\n",
       "      <td>0.0</td>\n",
       "      <td>0.0</td>\n",
       "      <td>0.0</td>\n",
       "      <td>6487056745.4</td>\n",
       "      <td>20.0</td>\n",
       "      <td>-5.2</td>\n",
       "      <td>319.5</td>\n",
       "      <td>-33.8</td>\n",
       "      <td>-34.2</td>\n",
       "    </tr>\n",
       "    <tr>\n",
       "      <th>4</th>\n",
       "      <td>04/06/2017</td>\n",
       "      <td>5</td>\n",
       "      <td>SF-SOCIEDAD FIDUCIARIA</td>\n",
       "      <td>3</td>\n",
       "      <td>Bbva Asset Management S.A. Sociedad Fiduciaria</td>\n",
       "      <td>9</td>\n",
       "      <td>FONDOS DE INVERSIÓN COLECTIVA</td>\n",
       "      <td>1</td>\n",
       "      <td>FIC DE TIPO GENERAL</td>\n",
       "      <td>8742</td>\n",
       "      <td>...</td>\n",
       "      <td>2224.9</td>\n",
       "      <td>0.0</td>\n",
       "      <td>3.2</td>\n",
       "      <td>0.0</td>\n",
       "      <td>44325566471.2</td>\n",
       "      <td>17.0</td>\n",
       "      <td>6.4</td>\n",
       "      <td>7.2</td>\n",
       "      <td>9.2</td>\n",
       "      <td>0.0</td>\n",
       "    </tr>\n",
       "    <tr>\n",
       "      <th>...</th>\n",
       "      <td>...</td>\n",
       "      <td>...</td>\n",
       "      <td>...</td>\n",
       "      <td>...</td>\n",
       "      <td>...</td>\n",
       "      <td>...</td>\n",
       "      <td>...</td>\n",
       "      <td>...</td>\n",
       "      <td>...</td>\n",
       "      <td>...</td>\n",
       "      <td>...</td>\n",
       "      <td>...</td>\n",
       "      <td>...</td>\n",
       "      <td>...</td>\n",
       "      <td>...</td>\n",
       "      <td>...</td>\n",
       "      <td>...</td>\n",
       "      <td>...</td>\n",
       "      <td>...</td>\n",
       "      <td>...</td>\n",
       "      <td>...</td>\n",
       "    </tr>\n",
       "    <tr>\n",
       "      <th>2165929</th>\n",
       "      <td>25/06/2019</td>\n",
       "      <td>5</td>\n",
       "      <td>SF-SOCIEDAD FIDUCIARIA</td>\n",
       "      <td>58</td>\n",
       "      <td>Fiduciaria Sura S.A.</td>\n",
       "      <td>9</td>\n",
       "      <td>FONDOS DE INVERSIÓN COLECTIVA</td>\n",
       "      <td>1</td>\n",
       "      <td>FIC DE TIPO GENERAL</td>\n",
       "      <td>53965</td>\n",
       "      <td>...</td>\n",
       "      <td>15402.0</td>\n",
       "      <td>14540000000.0</td>\n",
       "      <td>13786967958.9</td>\n",
       "      <td>0.0</td>\n",
       "      <td>18283835774.3</td>\n",
       "      <td>19.0</td>\n",
       "      <td>6.4</td>\n",
       "      <td>4.5</td>\n",
       "      <td>6.3</td>\n",
       "      <td>6.3</td>\n",
       "    </tr>\n",
       "    <tr>\n",
       "      <th>2165930</th>\n",
       "      <td>22/05/2019</td>\n",
       "      <td>5</td>\n",
       "      <td>SF-SOCIEDAD FIDUCIARIA</td>\n",
       "      <td>16</td>\n",
       "      <td>Alianza Fiduciaria S.A.</td>\n",
       "      <td>9</td>\n",
       "      <td>FONDOS DE INVERSIÓN COLECTIVA</td>\n",
       "      <td>1</td>\n",
       "      <td>FIC DE TIPO GENERAL</td>\n",
       "      <td>10936</td>\n",
       "      <td>...</td>\n",
       "      <td>144117.4</td>\n",
       "      <td>16602216877.8</td>\n",
       "      <td>22313379342.7</td>\n",
       "      <td>-10198765402.9</td>\n",
       "      <td>465195438702.2</td>\n",
       "      <td>22.0</td>\n",
       "      <td>6.4</td>\n",
       "      <td>4.4</td>\n",
       "      <td>4.0</td>\n",
       "      <td>3.9</td>\n",
       "    </tr>\n",
       "    <tr>\n",
       "      <th>2165931</th>\n",
       "      <td>12/09/2018</td>\n",
       "      <td>5</td>\n",
       "      <td>SF-SOCIEDAD FIDUCIARIA</td>\n",
       "      <td>21</td>\n",
       "      <td>Fiduciaria De Occidente S.A.  - Fiduoccidente ...</td>\n",
       "      <td>9</td>\n",
       "      <td>FONDOS DE INVERSIÓN COLECTIVA</td>\n",
       "      <td>1</td>\n",
       "      <td>FIC DE TIPO GENERAL</td>\n",
       "      <td>9452</td>\n",
       "      <td>...</td>\n",
       "      <td>2387.7</td>\n",
       "      <td>0.0</td>\n",
       "      <td>15000000.0</td>\n",
       "      <td>0.0</td>\n",
       "      <td>4479968228.4</td>\n",
       "      <td>117.0</td>\n",
       "      <td>32.0</td>\n",
       "      <td>0.8</td>\n",
       "      <td>-6.8</td>\n",
       "      <td>-1.6</td>\n",
       "    </tr>\n",
       "    <tr>\n",
       "      <th>2165932</th>\n",
       "      <td>30/01/2020</td>\n",
       "      <td>5</td>\n",
       "      <td>SF-SOCIEDAD FIDUCIARIA</td>\n",
       "      <td>23</td>\n",
       "      <td>Itaú Fiduciaria</td>\n",
       "      <td>9</td>\n",
       "      <td>FONDOS DE INVERSIÓN COLECTIVA</td>\n",
       "      <td>1</td>\n",
       "      <td>FIC DE TIPO GENERAL</td>\n",
       "      <td>48153</td>\n",
       "      <td>...</td>\n",
       "      <td>4308605.6</td>\n",
       "      <td>2717348162.5</td>\n",
       "      <td>7697812764.1</td>\n",
       "      <td>-700000000.0</td>\n",
       "      <td>122054686562.2</td>\n",
       "      <td>1224.0</td>\n",
       "      <td>5.5</td>\n",
       "      <td>5.5</td>\n",
       "      <td>3.7</td>\n",
       "      <td>4.3</td>\n",
       "    </tr>\n",
       "    <tr>\n",
       "      <th>2165933</th>\n",
       "      <td>29/08/2018</td>\n",
       "      <td>5</td>\n",
       "      <td>SF-SOCIEDAD FIDUCIARIA</td>\n",
       "      <td>16</td>\n",
       "      <td>Alianza Fiduciaria S.A.</td>\n",
       "      <td>9</td>\n",
       "      <td>FONDOS DE INVERSIÓN COLECTIVA</td>\n",
       "      <td>1</td>\n",
       "      <td>FIC DE TIPO GENERAL</td>\n",
       "      <td>10824</td>\n",
       "      <td>...</td>\n",
       "      <td>15184.1</td>\n",
       "      <td>3325679249.7</td>\n",
       "      <td>6315171983.7</td>\n",
       "      <td>720000000.0</td>\n",
       "      <td>406554366376.7</td>\n",
       "      <td>982.0</td>\n",
       "      <td>6.5</td>\n",
       "      <td>5.7</td>\n",
       "      <td>5.9</td>\n",
       "      <td>6.5</td>\n",
       "    </tr>\n",
       "  </tbody>\n",
       "</table>\n",
       "<p>2165934 rows × 26 columns</p>\n",
       "</div>"
      ],
      "text/plain": [
       "        FECHA_CORTE  TIPO_ENTIDAD                      NOMBRE_TIPO_ENTIDAD  \\\n",
       "0        20/07/2020            87  SOCIEDADES ADMINISTRADORAS DE INVERSIÓN   \n",
       "1        12/09/2021             5                   SF-SOCIEDAD FIDUCIARIA   \n",
       "2        09/12/2022             5                   SF-SOCIEDAD FIDUCIARIA   \n",
       "3        23/08/2019             5                   SF-SOCIEDAD FIDUCIARIA   \n",
       "4        04/06/2017             5                   SF-SOCIEDAD FIDUCIARIA   \n",
       "...             ...           ...                                      ...   \n",
       "2165929  25/06/2019             5                   SF-SOCIEDAD FIDUCIARIA   \n",
       "2165930  22/05/2019             5                   SF-SOCIEDAD FIDUCIARIA   \n",
       "2165931  12/09/2018             5                   SF-SOCIEDAD FIDUCIARIA   \n",
       "2165932  30/01/2020             5                   SF-SOCIEDAD FIDUCIARIA   \n",
       "2165933  29/08/2018             5                   SF-SOCIEDAD FIDUCIARIA   \n",
       "\n",
       "         CODIGO_ENTIDAD                                     NOMBRE_ENTIDAD  \\\n",
       "0                    11  Progresion Sociedad Administradora De Inversio...   \n",
       "1                    39  Sociedad Fiduciaria De Desarrollo Agropecuario...   \n",
       "2                     7                            Skandia Fiduciaria S.A.   \n",
       "3                    38     Fiduciaria Central S.A. Sigla Fiducentral S.A.   \n",
       "4                     3     Bbva Asset Management S.A. Sociedad Fiduciaria   \n",
       "...                 ...                                                ...   \n",
       "2165929              58                               Fiduciaria Sura S.A.   \n",
       "2165930              16                            Alianza Fiduciaria S.A.   \n",
       "2165931              21  Fiduciaria De Occidente S.A.  - Fiduoccidente ...   \n",
       "2165932              23                                    Itaú Fiduciaria   \n",
       "2165933              16                            Alianza Fiduciaria S.A.   \n",
       "\n",
       "         TIPO_NEGOCIO         NOMBRE_TIPO_PATRIMONIO  SUBTIPO_NEGOCIO  \\\n",
       "0                   9  FONDOS DE INVERSIÓN COLECTIVA                1   \n",
       "1                   9  FONDOS DE INVERSIÓN COLECTIVA                1   \n",
       "2                   9  FONDOS DE INVERSIÓN COLECTIVA                1   \n",
       "3                   9  FONDOS DE INVERSIÓN COLECTIVA                7   \n",
       "4                   9  FONDOS DE INVERSIÓN COLECTIVA                1   \n",
       "...               ...                            ...              ...   \n",
       "2165929             9  FONDOS DE INVERSIÓN COLECTIVA                1   \n",
       "2165930             9  FONDOS DE INVERSIÓN COLECTIVA                1   \n",
       "2165931             9  FONDOS DE INVERSIÓN COLECTIVA                1   \n",
       "2165932             9  FONDOS DE INVERSIÓN COLECTIVA                1   \n",
       "2165933             9  FONDOS DE INVERSIÓN COLECTIVA                1   \n",
       "\n",
       "         NOMBRE_SUBTIPO_PATRIMONIO  CODIGO_NEGOCIO  ...  \\\n",
       "0              FIC DE TIPO GENERAL           63109  ...   \n",
       "1              FIC DE TIPO GENERAL           69537  ...   \n",
       "2              FIC DE TIPO GENERAL           97207  ...   \n",
       "3        FONDOS DE CAPITAL PRIVADO           73593  ...   \n",
       "4              FIC DE TIPO GENERAL            8742  ...   \n",
       "...                            ...             ...  ...   \n",
       "2165929        FIC DE TIPO GENERAL           53965  ...   \n",
       "2165930        FIC DE TIPO GENERAL           10936  ...   \n",
       "2165931        FIC DE TIPO GENERAL            9452  ...   \n",
       "2165932        FIC DE TIPO GENERAL           48153  ...   \n",
       "2165933        FIC DE TIPO GENERAL           10824  ...   \n",
       "\n",
       "        VALOR_UNIDAD_OPERACIONES_DIA_T  APORTES_RECIBIDOS  \\\n",
       "0                              11813.7                0.0   \n",
       "1                              13326.5                0.0   \n",
       "2                               9521.4                0.0   \n",
       "3                               7098.2                0.0   \n",
       "4                               2224.9                0.0   \n",
       "...                                ...                ...   \n",
       "2165929                        15402.0      14540000000.0   \n",
       "2165930                       144117.4      16602216877.8   \n",
       "2165931                         2387.7                0.0   \n",
       "2165932                      4308605.6       2717348162.5   \n",
       "2165933                        15184.1       3325679249.7   \n",
       "\n",
       "         RETIROS_REDENCIONES    ANULACIONES  VALOR_FONDO_CIERRE_DIA_T  \\\n",
       "0                        0.0            0.0              6832704688.6   \n",
       "1                        0.0            0.0            105940936849.3   \n",
       "2                        0.0            0.0              1189565492.9   \n",
       "3                        0.0            0.0              6487056745.4   \n",
       "4                        3.2            0.0             44325566471.2   \n",
       "...                      ...            ...                       ...   \n",
       "2165929        13786967958.9            0.0             18283835774.3   \n",
       "2165930        22313379342.7 -10198765402.9            465195438702.2   \n",
       "2165931           15000000.0            0.0              4479968228.4   \n",
       "2165932         7697812764.1   -700000000.0            122054686562.2   \n",
       "2165933         6315171983.7    720000000.0            406554366376.7   \n",
       "\n",
       "         NUMERO_INVERSIONISTAS  RENTABILIDAD_DIARIA  RENTABILIDAD_MENSUAL  \\\n",
       "0                        174.0                  1.7                   4.0   \n",
       "1                          6.0                  2.1                   2.3   \n",
       "2                          1.0                -61.1                   6.7   \n",
       "3                         20.0                 -5.2                 319.5   \n",
       "4                         17.0                  6.4                   7.2   \n",
       "...                        ...                  ...                   ...   \n",
       "2165929                   19.0                  6.4                   4.5   \n",
       "2165930                   22.0                  6.4                   4.4   \n",
       "2165931                  117.0                 32.0                   0.8   \n",
       "2165932                 1224.0                  5.5                   5.5   \n",
       "2165933                  982.0                  6.5                   5.7   \n",
       "\n",
       "         RENTABILIDAD_SEMESTRAL  RENTABILIDAD_ANUAL  \n",
       "0                           4.4                 3.6  \n",
       "1                           1.0                 1.1  \n",
       "2                           4.9                -3.4  \n",
       "3                         -33.8               -34.2  \n",
       "4                           9.2                 0.0  \n",
       "...                         ...                 ...  \n",
       "2165929                     6.3                 6.3  \n",
       "2165930                     4.0                 3.9  \n",
       "2165931                    -6.8                -1.6  \n",
       "2165932                     3.7                 4.3  \n",
       "2165933                     5.9                 6.5  \n",
       "\n",
       "[2165934 rows x 26 columns]"
      ]
     },
     "execution_count": 6,
     "metadata": {},
     "output_type": "execute_result"
    }
   ],
   "source": [
    "#Intentar traer los datos a utilizar en formato csv\n",
    "try:    \n",
    "    pd.set_option('display.float_format', lambda x: '%.1f' % x)\n",
    "    df_FondosInversion_colectiva = pd.read_csv(\"C:/Users/migue/Music/MINTIC/mintic/modulo1/fuente de datos/Rentabilidades_de_los_Fondos_de_Inversi_n_Colectiva__FIC__20240914.csv\")\t\n",
    "    print(\"Se cargo exitosamente la fuente de datos\")\n",
    "\n",
    "#Error en la lectura del archivo\n",
    "except FileExistsError as e:\n",
    "    print(\"Error encontrado: \",e)\n",
    "    \n",
    "#Cualquier otro tipo de error\n",
    "except Exception as e:\n",
    "    print(\"Error: \",e)\n",
    "    \n",
    "df_FondosInversion_colectiva\n"
   ]
  },
  {
   "cell_type": "markdown",
   "id": "2244eb9a",
   "metadata": {},
   "source": [
    "validacion aleatoria de los datos"
   ]
  },
  {
   "cell_type": "code",
   "execution_count": 3,
   "id": "03a75b2c",
   "metadata": {},
   "outputs": [
    {
     "data": {
      "text/html": [
       "<div>\n",
       "<style scoped>\n",
       "    .dataframe tbody tr th:only-of-type {\n",
       "        vertical-align: middle;\n",
       "    }\n",
       "\n",
       "    .dataframe tbody tr th {\n",
       "        vertical-align: top;\n",
       "    }\n",
       "\n",
       "    .dataframe thead th {\n",
       "        text-align: right;\n",
       "    }\n",
       "</style>\n",
       "<table border=\"1\" class=\"dataframe\">\n",
       "  <thead>\n",
       "    <tr style=\"text-align: right;\">\n",
       "      <th></th>\n",
       "      <th>FECHA_CORTE</th>\n",
       "      <th>TIPO_ENTIDAD</th>\n",
       "      <th>NOMBRE_TIPO_ENTIDAD</th>\n",
       "      <th>CODIGO_ENTIDAD</th>\n",
       "      <th>NOMBRE_ENTIDAD</th>\n",
       "      <th>TIPO_NEGOCIO</th>\n",
       "      <th>NOMBRE_TIPO_PATRIMONIO</th>\n",
       "      <th>SUBTIPO_NEGOCIO</th>\n",
       "      <th>NOMBRE_SUBTIPO_PATRIMONIO</th>\n",
       "      <th>CODIGO_NEGOCIO</th>\n",
       "      <th>...</th>\n",
       "      <th>VALOR_UNIDAD_OPERACIONES_DIA_T</th>\n",
       "      <th>APORTES_RECIBIDOS</th>\n",
       "      <th>RETIROS_REDENCIONES</th>\n",
       "      <th>ANULACIONES</th>\n",
       "      <th>VALOR_FONDO_CIERRE_DIA_T</th>\n",
       "      <th>NUMERO_INVERSIONISTAS</th>\n",
       "      <th>RENTABILIDAD_DIARIA</th>\n",
       "      <th>RENTABILIDAD_MENSUAL</th>\n",
       "      <th>RENTABILIDAD_SEMESTRAL</th>\n",
       "      <th>RENTABILIDAD_ANUAL</th>\n",
       "    </tr>\n",
       "  </thead>\n",
       "  <tbody>\n",
       "    <tr>\n",
       "      <th>1394403</th>\n",
       "      <td>30/08/2019</td>\n",
       "      <td>5</td>\n",
       "      <td>SF-SOCIEDAD FIDUCIARIA</td>\n",
       "      <td>3</td>\n",
       "      <td>Bbva Asset Management S.A. Sociedad Fiduciaria</td>\n",
       "      <td>9</td>\n",
       "      <td>FONDOS DE INVERSIÓN COLECTIVA</td>\n",
       "      <td>1</td>\n",
       "      <td>FIC DE TIPO GENERAL</td>\n",
       "      <td>8742</td>\n",
       "      <td>...</td>\n",
       "      <td>2486.7</td>\n",
       "      <td>41013000025.3</td>\n",
       "      <td>1780141078.0</td>\n",
       "      <td>0.0</td>\n",
       "      <td>221833296007.5</td>\n",
       "      <td>53.0</td>\n",
       "      <td>8.7</td>\n",
       "      <td>5.2</td>\n",
       "      <td>5.3</td>\n",
       "      <td>4.9</td>\n",
       "    </tr>\n",
       "    <tr>\n",
       "      <th>757271</th>\n",
       "      <td>06/08/2022</td>\n",
       "      <td>5</td>\n",
       "      <td>SF-SOCIEDAD FIDUCIARIA</td>\n",
       "      <td>16</td>\n",
       "      <td>Alianza Fiduciaria S.A.</td>\n",
       "      <td>9</td>\n",
       "      <td>FONDOS DE INVERSIÓN COLECTIVA</td>\n",
       "      <td>1</td>\n",
       "      <td>FIC DE TIPO GENERAL</td>\n",
       "      <td>10824</td>\n",
       "      <td>...</td>\n",
       "      <td>18208.9</td>\n",
       "      <td>0.0</td>\n",
       "      <td>0.0</td>\n",
       "      <td>0.0</td>\n",
       "      <td>986182058165.4</td>\n",
       "      <td>341.0</td>\n",
       "      <td>9.5</td>\n",
       "      <td>8.5</td>\n",
       "      <td>5.8</td>\n",
       "      <td>4.2</td>\n",
       "    </tr>\n",
       "    <tr>\n",
       "      <th>568424</th>\n",
       "      <td>17/09/2021</td>\n",
       "      <td>5</td>\n",
       "      <td>SF-SOCIEDAD FIDUCIARIA</td>\n",
       "      <td>20</td>\n",
       "      <td>Fiduciaria Corficolombiana S.A.</td>\n",
       "      <td>9</td>\n",
       "      <td>FONDOS DE INVERSIÓN COLECTIVA</td>\n",
       "      <td>1</td>\n",
       "      <td>FIC DE TIPO GENERAL</td>\n",
       "      <td>53954</td>\n",
       "      <td>...</td>\n",
       "      <td>38254.8</td>\n",
       "      <td>10185151069.8</td>\n",
       "      <td>12145459884.0</td>\n",
       "      <td>0.0</td>\n",
       "      <td>84933814116.2</td>\n",
       "      <td>9.0</td>\n",
       "      <td>-4.6</td>\n",
       "      <td>1.9</td>\n",
       "      <td>0.8</td>\n",
       "      <td>0.7</td>\n",
       "    </tr>\n",
       "    <tr>\n",
       "      <th>247295</th>\n",
       "      <td>28/04/2021</td>\n",
       "      <td>5</td>\n",
       "      <td>SF-SOCIEDAD FIDUCIARIA</td>\n",
       "      <td>22</td>\n",
       "      <td>Fiduciaria Bogotá S.A.</td>\n",
       "      <td>9</td>\n",
       "      <td>FONDOS DE INVERSIÓN COLECTIVA</td>\n",
       "      <td>1</td>\n",
       "      <td>FIC DE TIPO GENERAL</td>\n",
       "      <td>10659</td>\n",
       "      <td>...</td>\n",
       "      <td>15675.5</td>\n",
       "      <td>0.0</td>\n",
       "      <td>44839159948.5</td>\n",
       "      <td>0.0</td>\n",
       "      <td>160560768280.1</td>\n",
       "      <td>1.0</td>\n",
       "      <td>-0.8</td>\n",
       "      <td>2.1</td>\n",
       "      <td>1.3</td>\n",
       "      <td>3.4</td>\n",
       "    </tr>\n",
       "    <tr>\n",
       "      <th>1143829</th>\n",
       "      <td>27/06/2022</td>\n",
       "      <td>5</td>\n",
       "      <td>SF-SOCIEDAD FIDUCIARIA</td>\n",
       "      <td>16</td>\n",
       "      <td>Alianza Fiduciaria S.A.</td>\n",
       "      <td>9</td>\n",
       "      <td>FONDOS DE INVERSIÓN COLECTIVA</td>\n",
       "      <td>1</td>\n",
       "      <td>FIC DE TIPO GENERAL</td>\n",
       "      <td>10936</td>\n",
       "      <td>...</td>\n",
       "      <td>146650.2</td>\n",
       "      <td>400029031.7</td>\n",
       "      <td>0.0</td>\n",
       "      <td>0.0</td>\n",
       "      <td>701301295391.4</td>\n",
       "      <td>1665.0</td>\n",
       "      <td>8.0</td>\n",
       "      <td>3.0</td>\n",
       "      <td>1.3</td>\n",
       "      <td>0.4</td>\n",
       "    </tr>\n",
       "    <tr>\n",
       "      <th>577253</th>\n",
       "      <td>30/05/2019</td>\n",
       "      <td>85</td>\n",
       "      <td>COMISIONISTAS DE BOLSA DE VALORES</td>\n",
       "      <td>26</td>\n",
       "      <td>Corredores Davivienda S.A.Comisionista De Bolsa</td>\n",
       "      <td>9</td>\n",
       "      <td>FONDOS DE INVERSIÓN COLECTIVA</td>\n",
       "      <td>3</td>\n",
       "      <td>FIC INMOBILIARIAS</td>\n",
       "      <td>63935</td>\n",
       "      <td>...</td>\n",
       "      <td>33124.4</td>\n",
       "      <td>0.0</td>\n",
       "      <td>0.0</td>\n",
       "      <td>0.0</td>\n",
       "      <td>26013941629.7</td>\n",
       "      <td>2.0</td>\n",
       "      <td>-1.5</td>\n",
       "      <td>193.8</td>\n",
       "      <td>79.7</td>\n",
       "      <td>162.0</td>\n",
       "    </tr>\n",
       "    <tr>\n",
       "      <th>1179966</th>\n",
       "      <td>06/05/2023</td>\n",
       "      <td>5</td>\n",
       "      <td>SF-SOCIEDAD FIDUCIARIA</td>\n",
       "      <td>16</td>\n",
       "      <td>Alianza Fiduciaria S.A.</td>\n",
       "      <td>9</td>\n",
       "      <td>FONDOS DE INVERSIÓN COLECTIVA</td>\n",
       "      <td>1</td>\n",
       "      <td>FIC DE TIPO GENERAL</td>\n",
       "      <td>10824</td>\n",
       "      <td>...</td>\n",
       "      <td>11734.4</td>\n",
       "      <td>0.0</td>\n",
       "      <td>0.0</td>\n",
       "      <td>0.0</td>\n",
       "      <td>154661208331.2</td>\n",
       "      <td>2.0</td>\n",
       "      <td>15.2</td>\n",
       "      <td>15.6</td>\n",
       "      <td>17.6</td>\n",
       "      <td>15.1</td>\n",
       "    </tr>\n",
       "    <tr>\n",
       "      <th>162402</th>\n",
       "      <td>04/11/2019</td>\n",
       "      <td>85</td>\n",
       "      <td>COMISIONISTAS DE BOLSA DE VALORES</td>\n",
       "      <td>62</td>\n",
       "      <td>Ultraserfinco S.A.</td>\n",
       "      <td>9</td>\n",
       "      <td>FONDOS DE INVERSIÓN COLECTIVA</td>\n",
       "      <td>1</td>\n",
       "      <td>FIC DE TIPO GENERAL</td>\n",
       "      <td>60117</td>\n",
       "      <td>...</td>\n",
       "      <td>13163.0</td>\n",
       "      <td>0.1</td>\n",
       "      <td>0.0</td>\n",
       "      <td>0.0</td>\n",
       "      <td>22427641458.0</td>\n",
       "      <td>344.0</td>\n",
       "      <td>1.2</td>\n",
       "      <td>6.5</td>\n",
       "      <td>5.8</td>\n",
       "      <td>7.1</td>\n",
       "    </tr>\n",
       "    <tr>\n",
       "      <th>515078</th>\n",
       "      <td>23/02/2020</td>\n",
       "      <td>85</td>\n",
       "      <td>COMISIONISTAS DE BOLSA DE VALORES</td>\n",
       "      <td>62</td>\n",
       "      <td>Ultraserfinco S.A.</td>\n",
       "      <td>9</td>\n",
       "      <td>FONDOS DE INVERSIÓN COLECTIVA</td>\n",
       "      <td>1</td>\n",
       "      <td>FIC DE TIPO GENERAL</td>\n",
       "      <td>58980</td>\n",
       "      <td>...</td>\n",
       "      <td>21354.3</td>\n",
       "      <td>0.1</td>\n",
       "      <td>0.0</td>\n",
       "      <td>0.0</td>\n",
       "      <td>107322159584.6</td>\n",
       "      <td>1145.0</td>\n",
       "      <td>5.6</td>\n",
       "      <td>6.3</td>\n",
       "      <td>6.2</td>\n",
       "      <td>6.1</td>\n",
       "    </tr>\n",
       "    <tr>\n",
       "      <th>1869018</th>\n",
       "      <td>09/06/2024</td>\n",
       "      <td>5</td>\n",
       "      <td>SF-SOCIEDAD FIDUCIARIA</td>\n",
       "      <td>16</td>\n",
       "      <td>Alianza Fiduciaria S.A.</td>\n",
       "      <td>9</td>\n",
       "      <td>FONDOS DE INVERSIÓN COLECTIVA</td>\n",
       "      <td>7</td>\n",
       "      <td>FONDOS DE CAPITAL PRIVADO</td>\n",
       "      <td>58247</td>\n",
       "      <td>...</td>\n",
       "      <td>17.7</td>\n",
       "      <td>0.0</td>\n",
       "      <td>0.0</td>\n",
       "      <td>0.0</td>\n",
       "      <td>1913055566322.3</td>\n",
       "      <td>20.0</td>\n",
       "      <td>0.0</td>\n",
       "      <td>14.1</td>\n",
       "      <td>16.9</td>\n",
       "      <td>14.8</td>\n",
       "    </tr>\n",
       "    <tr>\n",
       "      <th>431034</th>\n",
       "      <td>28/03/2022</td>\n",
       "      <td>5</td>\n",
       "      <td>SF-SOCIEDAD FIDUCIARIA</td>\n",
       "      <td>31</td>\n",
       "      <td>Fiduciaria Bancolombia S.A. Sociedad Fiduciaria</td>\n",
       "      <td>9</td>\n",
       "      <td>FONDOS DE INVERSIÓN COLECTIVA</td>\n",
       "      <td>1</td>\n",
       "      <td>FIC DE TIPO GENERAL</td>\n",
       "      <td>104377</td>\n",
       "      <td>...</td>\n",
       "      <td>10098.9</td>\n",
       "      <td>0.0</td>\n",
       "      <td>0.0</td>\n",
       "      <td>0.0</td>\n",
       "      <td>30257736483.8</td>\n",
       "      <td>2.0</td>\n",
       "      <td>64.9</td>\n",
       "      <td>5.1</td>\n",
       "      <td>0.0</td>\n",
       "      <td>0.0</td>\n",
       "    </tr>\n",
       "    <tr>\n",
       "      <th>1993173</th>\n",
       "      <td>19/08/2024</td>\n",
       "      <td>5</td>\n",
       "      <td>SF-SOCIEDAD FIDUCIARIA</td>\n",
       "      <td>58</td>\n",
       "      <td>Fiduciaria Sura S.A.</td>\n",
       "      <td>9</td>\n",
       "      <td>FONDOS DE INVERSIÓN COLECTIVA</td>\n",
       "      <td>1</td>\n",
       "      <td>FIC DE TIPO GENERAL</td>\n",
       "      <td>117765</td>\n",
       "      <td>...</td>\n",
       "      <td>11227.2</td>\n",
       "      <td>0.0</td>\n",
       "      <td>0.0</td>\n",
       "      <td>0.0</td>\n",
       "      <td>99222509654.5</td>\n",
       "      <td>444.0</td>\n",
       "      <td>18.3</td>\n",
       "      <td>18.5</td>\n",
       "      <td>18.2</td>\n",
       "      <td>0.0</td>\n",
       "    </tr>\n",
       "    <tr>\n",
       "      <th>1161257</th>\n",
       "      <td>16/02/2019</td>\n",
       "      <td>5</td>\n",
       "      <td>SF-SOCIEDAD FIDUCIARIA</td>\n",
       "      <td>16</td>\n",
       "      <td>Alianza Fiduciaria S.A.</td>\n",
       "      <td>9</td>\n",
       "      <td>FONDOS DE INVERSIÓN COLECTIVA</td>\n",
       "      <td>7</td>\n",
       "      <td>FONDOS DE CAPITAL PRIVADO</td>\n",
       "      <td>50276</td>\n",
       "      <td>...</td>\n",
       "      <td>28130.5</td>\n",
       "      <td>0.0</td>\n",
       "      <td>0.0</td>\n",
       "      <td>0.0</td>\n",
       "      <td>410489609982.1</td>\n",
       "      <td>12.0</td>\n",
       "      <td>0.0</td>\n",
       "      <td>0.2</td>\n",
       "      <td>-14.5</td>\n",
       "      <td>-4.9</td>\n",
       "    </tr>\n",
       "    <tr>\n",
       "      <th>1626746</th>\n",
       "      <td>10/03/2022</td>\n",
       "      <td>5</td>\n",
       "      <td>SF-SOCIEDAD FIDUCIARIA</td>\n",
       "      <td>39</td>\n",
       "      <td>Sociedad Fiduciaria De Desarrollo Agropecuario...</td>\n",
       "      <td>9</td>\n",
       "      <td>FONDOS DE INVERSIÓN COLECTIVA</td>\n",
       "      <td>1</td>\n",
       "      <td>FIC DE TIPO GENERAL</td>\n",
       "      <td>69537</td>\n",
       "      <td>...</td>\n",
       "      <td>10078.3</td>\n",
       "      <td>0.0</td>\n",
       "      <td>0.0</td>\n",
       "      <td>0.0</td>\n",
       "      <td>50391729775.1</td>\n",
       "      <td>1.0</td>\n",
       "      <td>4.9</td>\n",
       "      <td>3.4</td>\n",
       "      <td>0.0</td>\n",
       "      <td>0.0</td>\n",
       "    </tr>\n",
       "    <tr>\n",
       "      <th>1134248</th>\n",
       "      <td>25/08/2018</td>\n",
       "      <td>5</td>\n",
       "      <td>SF-SOCIEDAD FIDUCIARIA</td>\n",
       "      <td>16</td>\n",
       "      <td>Alianza Fiduciaria S.A.</td>\n",
       "      <td>9</td>\n",
       "      <td>FONDOS DE INVERSIÓN COLECTIVA</td>\n",
       "      <td>7</td>\n",
       "      <td>FONDOS DE CAPITAL PRIVADO</td>\n",
       "      <td>66857</td>\n",
       "      <td>...</td>\n",
       "      <td>20345.1</td>\n",
       "      <td>0.0</td>\n",
       "      <td>0.0</td>\n",
       "      <td>0.0</td>\n",
       "      <td>203968223719.7</td>\n",
       "      <td>2.0</td>\n",
       "      <td>0.1</td>\n",
       "      <td>5.3</td>\n",
       "      <td>5.0</td>\n",
       "      <td>63.6</td>\n",
       "    </tr>\n",
       "    <tr>\n",
       "      <th>1138373</th>\n",
       "      <td>06/07/2018</td>\n",
       "      <td>85</td>\n",
       "      <td>COMISIONISTAS DE BOLSA DE VALORES</td>\n",
       "      <td>26</td>\n",
       "      <td>Corredores Davivienda S.A.Comisionista De Bolsa</td>\n",
       "      <td>9</td>\n",
       "      <td>FONDOS DE INVERSIÓN COLECTIVA</td>\n",
       "      <td>7</td>\n",
       "      <td>FONDOS DE CAPITAL PRIVADO</td>\n",
       "      <td>59009</td>\n",
       "      <td>...</td>\n",
       "      <td>11762.6</td>\n",
       "      <td>0.0</td>\n",
       "      <td>0.0</td>\n",
       "      <td>0.0</td>\n",
       "      <td>8485186106.5</td>\n",
       "      <td>1.0</td>\n",
       "      <td>-42.9</td>\n",
       "      <td>510.8</td>\n",
       "      <td>-3.4</td>\n",
       "      <td>22.8</td>\n",
       "    </tr>\n",
       "    <tr>\n",
       "      <th>2035280</th>\n",
       "      <td>23/04/2018</td>\n",
       "      <td>5</td>\n",
       "      <td>SF-SOCIEDAD FIDUCIARIA</td>\n",
       "      <td>42</td>\n",
       "      <td>Fiduciaria Davivienda S.A. Pudiendo Utilizar L...</td>\n",
       "      <td>9</td>\n",
       "      <td>FONDOS DE INVERSIÓN COLECTIVA</td>\n",
       "      <td>1</td>\n",
       "      <td>FIC DE TIPO GENERAL</td>\n",
       "      <td>10026</td>\n",
       "      <td>...</td>\n",
       "      <td>7479.9</td>\n",
       "      <td>11009000000.0</td>\n",
       "      <td>14008099396.0</td>\n",
       "      <td>0.0</td>\n",
       "      <td>340972605504.7</td>\n",
       "      <td>45.0</td>\n",
       "      <td>5.5</td>\n",
       "      <td>5.7</td>\n",
       "      <td>5.3</td>\n",
       "      <td>5.5</td>\n",
       "    </tr>\n",
       "    <tr>\n",
       "      <th>184927</th>\n",
       "      <td>20/11/2020</td>\n",
       "      <td>5</td>\n",
       "      <td>SF-SOCIEDAD FIDUCIARIA</td>\n",
       "      <td>16</td>\n",
       "      <td>Alianza Fiduciaria S.A.</td>\n",
       "      <td>9</td>\n",
       "      <td>FONDOS DE INVERSIÓN COLECTIVA</td>\n",
       "      <td>1</td>\n",
       "      <td>FIC DE TIPO GENERAL</td>\n",
       "      <td>10824</td>\n",
       "      <td>...</td>\n",
       "      <td>17073.5</td>\n",
       "      <td>5838099633.4</td>\n",
       "      <td>4174244948.8</td>\n",
       "      <td>13879296.0</td>\n",
       "      <td>531488783463.9</td>\n",
       "      <td>1277.0</td>\n",
       "      <td>2.9</td>\n",
       "      <td>3.4</td>\n",
       "      <td>4.4</td>\n",
       "      <td>4.8</td>\n",
       "    </tr>\n",
       "    <tr>\n",
       "      <th>415454</th>\n",
       "      <td>04/04/2018</td>\n",
       "      <td>5</td>\n",
       "      <td>SF-SOCIEDAD FIDUCIARIA</td>\n",
       "      <td>62</td>\n",
       "      <td>Fiduciaria Coomeva S.A.</td>\n",
       "      <td>9</td>\n",
       "      <td>FONDOS DE INVERSIÓN COLECTIVA</td>\n",
       "      <td>1</td>\n",
       "      <td>FIC DE TIPO GENERAL</td>\n",
       "      <td>72576</td>\n",
       "      <td>...</td>\n",
       "      <td>10284.1</td>\n",
       "      <td>0.0</td>\n",
       "      <td>0.0</td>\n",
       "      <td>0.0</td>\n",
       "      <td>5393846159.6</td>\n",
       "      <td>1.0</td>\n",
       "      <td>5.0</td>\n",
       "      <td>6.0</td>\n",
       "      <td>0.0</td>\n",
       "      <td>0.0</td>\n",
       "    </tr>\n",
       "    <tr>\n",
       "      <th>87564</th>\n",
       "      <td>13/03/2016</td>\n",
       "      <td>5</td>\n",
       "      <td>SF-SOCIEDAD FIDUCIARIA</td>\n",
       "      <td>42</td>\n",
       "      <td>Fiduciaria Davivienda S.A. Pudiendo Utilizar L...</td>\n",
       "      <td>9</td>\n",
       "      <td>FONDOS DE INVERSIÓN COLECTIVA</td>\n",
       "      <td>1</td>\n",
       "      <td>FIC DE TIPO GENERAL</td>\n",
       "      <td>10026</td>\n",
       "      <td>...</td>\n",
       "      <td>6500.9</td>\n",
       "      <td>0.0</td>\n",
       "      <td>0.0</td>\n",
       "      <td>0.0</td>\n",
       "      <td>57473380852.8</td>\n",
       "      <td>51.0</td>\n",
       "      <td>6.9</td>\n",
       "      <td>6.8</td>\n",
       "      <td>4.5</td>\n",
       "      <td>0.0</td>\n",
       "    </tr>\n",
       "    <tr>\n",
       "      <th>414805</th>\n",
       "      <td>02/01/2023</td>\n",
       "      <td>5</td>\n",
       "      <td>SF-SOCIEDAD FIDUCIARIA</td>\n",
       "      <td>39</td>\n",
       "      <td>Sociedad Fiduciaria De Desarrollo Agropecuario...</td>\n",
       "      <td>9</td>\n",
       "      <td>FONDOS DE INVERSIÓN COLECTIVA</td>\n",
       "      <td>1</td>\n",
       "      <td>FIC DE TIPO GENERAL</td>\n",
       "      <td>69537</td>\n",
       "      <td>...</td>\n",
       "      <td>10801.1</td>\n",
       "      <td>0.0</td>\n",
       "      <td>0.0</td>\n",
       "      <td>0.0</td>\n",
       "      <td>65963124561.7</td>\n",
       "      <td>3.0</td>\n",
       "      <td>14.2</td>\n",
       "      <td>15.7</td>\n",
       "      <td>9.9</td>\n",
       "      <td>7.2</td>\n",
       "    </tr>\n",
       "    <tr>\n",
       "      <th>1996137</th>\n",
       "      <td>20/08/2024</td>\n",
       "      <td>5</td>\n",
       "      <td>SF-SOCIEDAD FIDUCIARIA</td>\n",
       "      <td>42</td>\n",
       "      <td>Fiduciaria Davivienda S.A. Pudiendo Utilizar L...</td>\n",
       "      <td>9</td>\n",
       "      <td>FONDOS DE INVERSIÓN COLECTIVA</td>\n",
       "      <td>1</td>\n",
       "      <td>FIC DE TIPO GENERAL</td>\n",
       "      <td>10026</td>\n",
       "      <td>...</td>\n",
       "      <td>10882.9</td>\n",
       "      <td>46552152.0</td>\n",
       "      <td>436262187.0</td>\n",
       "      <td>0.0</td>\n",
       "      <td>365565090255.4</td>\n",
       "      <td>287.0</td>\n",
       "      <td>9.8</td>\n",
       "      <td>12.3</td>\n",
       "      <td>10.4</td>\n",
       "      <td>12.3</td>\n",
       "    </tr>\n",
       "    <tr>\n",
       "      <th>1838849</th>\n",
       "      <td>19/04/2016</td>\n",
       "      <td>85</td>\n",
       "      <td>COMISIONISTAS DE BOLSA DE VALORES</td>\n",
       "      <td>76</td>\n",
       "      <td>Casa De Bolsa S.A.</td>\n",
       "      <td>9</td>\n",
       "      <td>FONDOS DE INVERSIÓN COLECTIVA</td>\n",
       "      <td>1</td>\n",
       "      <td>FIC DE TIPO GENERAL</td>\n",
       "      <td>58908</td>\n",
       "      <td>...</td>\n",
       "      <td>11443.5</td>\n",
       "      <td>0.0</td>\n",
       "      <td>60100930.4</td>\n",
       "      <td>0.0</td>\n",
       "      <td>3628431850.7</td>\n",
       "      <td>70.0</td>\n",
       "      <td>506.7</td>\n",
       "      <td>8.8</td>\n",
       "      <td>4.7</td>\n",
       "      <td>0.1</td>\n",
       "    </tr>\n",
       "    <tr>\n",
       "      <th>968900</th>\n",
       "      <td>05/04/2024</td>\n",
       "      <td>85</td>\n",
       "      <td>COMISIONISTAS DE BOLSA DE VALORES</td>\n",
       "      <td>28</td>\n",
       "      <td>Credicorp Capital</td>\n",
       "      <td>9</td>\n",
       "      <td>FONDOS DE INVERSIÓN COLECTIVA</td>\n",
       "      <td>1</td>\n",
       "      <td>FIC DE TIPO GENERAL</td>\n",
       "      <td>93197</td>\n",
       "      <td>...</td>\n",
       "      <td>10008.9</td>\n",
       "      <td>0.0</td>\n",
       "      <td>0.0</td>\n",
       "      <td>0.0</td>\n",
       "      <td>55778671249.4</td>\n",
       "      <td>1.0</td>\n",
       "      <td>11.7</td>\n",
       "      <td>0.0</td>\n",
       "      <td>0.0</td>\n",
       "      <td>0.0</td>\n",
       "    </tr>\n",
       "    <tr>\n",
       "      <th>1373385</th>\n",
       "      <td>06/05/2022</td>\n",
       "      <td>85</td>\n",
       "      <td>COMISIONISTAS DE BOLSA DE VALORES</td>\n",
       "      <td>97</td>\n",
       "      <td>Larrain Vial Colombia S.A.  Comisionista De Bolsa</td>\n",
       "      <td>9</td>\n",
       "      <td>FONDOS DE INVERSIÓN COLECTIVA</td>\n",
       "      <td>7</td>\n",
       "      <td>FONDOS DE CAPITAL PRIVADO</td>\n",
       "      <td>99377</td>\n",
       "      <td>...</td>\n",
       "      <td>12921.8</td>\n",
       "      <td>0.0</td>\n",
       "      <td>0.0</td>\n",
       "      <td>0.0</td>\n",
       "      <td>27887723279.0</td>\n",
       "      <td>4.0</td>\n",
       "      <td>25.5</td>\n",
       "      <td>7.7</td>\n",
       "      <td>75.6</td>\n",
       "      <td>0.0</td>\n",
       "    </tr>\n",
       "    <tr>\n",
       "      <th>218891</th>\n",
       "      <td>06/03/2023</td>\n",
       "      <td>5</td>\n",
       "      <td>SF-SOCIEDAD FIDUCIARIA</td>\n",
       "      <td>20</td>\n",
       "      <td>Fiduciaria Corficolombiana S.A.</td>\n",
       "      <td>9</td>\n",
       "      <td>FONDOS DE INVERSIÓN COLECTIVA</td>\n",
       "      <td>7</td>\n",
       "      <td>FONDOS DE CAPITAL PRIVADO</td>\n",
       "      <td>88922</td>\n",
       "      <td>...</td>\n",
       "      <td>16898.4</td>\n",
       "      <td>0.0</td>\n",
       "      <td>0.0</td>\n",
       "      <td>0.0</td>\n",
       "      <td>2955920813.3</td>\n",
       "      <td>1.0</td>\n",
       "      <td>-91.4</td>\n",
       "      <td>-30.6</td>\n",
       "      <td>22.4</td>\n",
       "      <td>25.6</td>\n",
       "    </tr>\n",
       "    <tr>\n",
       "      <th>1987470</th>\n",
       "      <td>09/09/2021</td>\n",
       "      <td>5</td>\n",
       "      <td>SF-SOCIEDAD FIDUCIARIA</td>\n",
       "      <td>6</td>\n",
       "      <td>Caja Social</td>\n",
       "      <td>9</td>\n",
       "      <td>FONDOS DE INVERSIÓN COLECTIVA</td>\n",
       "      <td>1</td>\n",
       "      <td>FIC DE TIPO GENERAL</td>\n",
       "      <td>61653</td>\n",
       "      <td>...</td>\n",
       "      <td>14942.5</td>\n",
       "      <td>2131680.5</td>\n",
       "      <td>81772865.0</td>\n",
       "      <td>0.0</td>\n",
       "      <td>46134552434.8</td>\n",
       "      <td>4736.0</td>\n",
       "      <td>1.3</td>\n",
       "      <td>5.8</td>\n",
       "      <td>1.1</td>\n",
       "      <td>1.6</td>\n",
       "    </tr>\n",
       "    <tr>\n",
       "      <th>1334771</th>\n",
       "      <td>14/12/2023</td>\n",
       "      <td>5</td>\n",
       "      <td>SF-SOCIEDAD FIDUCIARIA</td>\n",
       "      <td>22</td>\n",
       "      <td>Fiduciaria Bogotá S.A.</td>\n",
       "      <td>9</td>\n",
       "      <td>FONDOS DE INVERSIÓN COLECTIVA</td>\n",
       "      <td>1</td>\n",
       "      <td>FIC DE TIPO GENERAL</td>\n",
       "      <td>10659</td>\n",
       "      <td>...</td>\n",
       "      <td>19421.8</td>\n",
       "      <td>18303719618.0</td>\n",
       "      <td>62042743983.7</td>\n",
       "      <td>0.0</td>\n",
       "      <td>152202425104.2</td>\n",
       "      <td>1.0</td>\n",
       "      <td>79.3</td>\n",
       "      <td>16.0</td>\n",
       "      <td>14.1</td>\n",
       "      <td>15.9</td>\n",
       "    </tr>\n",
       "    <tr>\n",
       "      <th>38676</th>\n",
       "      <td>31/07/2018</td>\n",
       "      <td>85</td>\n",
       "      <td>COMISIONISTAS DE BOLSA DE VALORES</td>\n",
       "      <td>28</td>\n",
       "      <td>Credicorp Capital</td>\n",
       "      <td>9</td>\n",
       "      <td>FONDOS DE INVERSIÓN COLECTIVA</td>\n",
       "      <td>1</td>\n",
       "      <td>FIC DE TIPO GENERAL</td>\n",
       "      <td>58756</td>\n",
       "      <td>...</td>\n",
       "      <td>4122.0</td>\n",
       "      <td>274155871854.7</td>\n",
       "      <td>382071854547.6</td>\n",
       "      <td>-1913039019.2</td>\n",
       "      <td>2384393323642.2</td>\n",
       "      <td>7992.0</td>\n",
       "      <td>1.5</td>\n",
       "      <td>3.4</td>\n",
       "      <td>4.2</td>\n",
       "      <td>4.5</td>\n",
       "    </tr>\n",
       "    <tr>\n",
       "      <th>1569823</th>\n",
       "      <td>04/08/2021</td>\n",
       "      <td>5</td>\n",
       "      <td>SF-SOCIEDAD FIDUCIARIA</td>\n",
       "      <td>16</td>\n",
       "      <td>Alianza Fiduciaria S.A.</td>\n",
       "      <td>9</td>\n",
       "      <td>FONDOS DE INVERSIÓN COLECTIVA</td>\n",
       "      <td>1</td>\n",
       "      <td>FIC DE TIPO GENERAL</td>\n",
       "      <td>67404</td>\n",
       "      <td>...</td>\n",
       "      <td>13243.9</td>\n",
       "      <td>0.0</td>\n",
       "      <td>0.0</td>\n",
       "      <td>0.0</td>\n",
       "      <td>68738866.4</td>\n",
       "      <td>7.0</td>\n",
       "      <td>18.5</td>\n",
       "      <td>-5.8</td>\n",
       "      <td>-2.7</td>\n",
       "      <td>0.7</td>\n",
       "    </tr>\n",
       "    <tr>\n",
       "      <th>2075325</th>\n",
       "      <td>03/12/2020</td>\n",
       "      <td>5</td>\n",
       "      <td>SF-SOCIEDAD FIDUCIARIA</td>\n",
       "      <td>22</td>\n",
       "      <td>Fiduciaria Bogotá S.A.</td>\n",
       "      <td>9</td>\n",
       "      <td>FONDOS DE INVERSIÓN COLECTIVA</td>\n",
       "      <td>1</td>\n",
       "      <td>FIC DE TIPO GENERAL</td>\n",
       "      <td>29496</td>\n",
       "      <td>...</td>\n",
       "      <td>24816.7</td>\n",
       "      <td>45000000.0</td>\n",
       "      <td>1748931.6</td>\n",
       "      <td>1318931.6</td>\n",
       "      <td>5513171850.0</td>\n",
       "      <td>276.0</td>\n",
       "      <td>614.7</td>\n",
       "      <td>273.1</td>\n",
       "      <td>25.1</td>\n",
       "      <td>-9.8</td>\n",
       "    </tr>\n",
       "    <tr>\n",
       "      <th>619368</th>\n",
       "      <td>16/04/2018</td>\n",
       "      <td>85</td>\n",
       "      <td>COMISIONISTAS DE BOLSA DE VALORES</td>\n",
       "      <td>14</td>\n",
       "      <td>Btg Pactual</td>\n",
       "      <td>9</td>\n",
       "      <td>FONDOS DE INVERSIÓN COLECTIVA</td>\n",
       "      <td>1</td>\n",
       "      <td>FIC DE TIPO GENERAL</td>\n",
       "      <td>71259</td>\n",
       "      <td>...</td>\n",
       "      <td>8856.1</td>\n",
       "      <td>649426385.9</td>\n",
       "      <td>23667244.6</td>\n",
       "      <td>0.0</td>\n",
       "      <td>13486880751.3</td>\n",
       "      <td>98.0</td>\n",
       "      <td>601.1</td>\n",
       "      <td>-42.6</td>\n",
       "      <td>-17.5</td>\n",
       "      <td>0.0</td>\n",
       "    </tr>\n",
       "    <tr>\n",
       "      <th>1333639</th>\n",
       "      <td>04/06/2018</td>\n",
       "      <td>5</td>\n",
       "      <td>SF-SOCIEDAD FIDUCIARIA</td>\n",
       "      <td>16</td>\n",
       "      <td>Alianza Fiduciaria S.A.</td>\n",
       "      <td>9</td>\n",
       "      <td>FONDOS DE INVERSIÓN COLECTIVA</td>\n",
       "      <td>1</td>\n",
       "      <td>FIC DE TIPO GENERAL</td>\n",
       "      <td>67405</td>\n",
       "      <td>...</td>\n",
       "      <td>10020.1</td>\n",
       "      <td>0.0</td>\n",
       "      <td>0.0</td>\n",
       "      <td>0.0</td>\n",
       "      <td>254476017.4</td>\n",
       "      <td>1.0</td>\n",
       "      <td>-1.3</td>\n",
       "      <td>8.3</td>\n",
       "      <td>0.0</td>\n",
       "      <td>0.0</td>\n",
       "    </tr>\n",
       "    <tr>\n",
       "      <th>1510915</th>\n",
       "      <td>31/01/2023</td>\n",
       "      <td>85</td>\n",
       "      <td>COMISIONISTAS DE BOLSA DE VALORES</td>\n",
       "      <td>26</td>\n",
       "      <td>Corredores Davivienda S.A.Comisionista De Bolsa</td>\n",
       "      <td>9</td>\n",
       "      <td>FONDOS DE INVERSIÓN COLECTIVA</td>\n",
       "      <td>7</td>\n",
       "      <td>FONDOS DE CAPITAL PRIVADO</td>\n",
       "      <td>102495</td>\n",
       "      <td>...</td>\n",
       "      <td>11800.9</td>\n",
       "      <td>0.0</td>\n",
       "      <td>0.0</td>\n",
       "      <td>0.0</td>\n",
       "      <td>47681844087.9</td>\n",
       "      <td>1.0</td>\n",
       "      <td>2.0</td>\n",
       "      <td>17.8</td>\n",
       "      <td>16.1</td>\n",
       "      <td>18.2</td>\n",
       "    </tr>\n",
       "    <tr>\n",
       "      <th>944090</th>\n",
       "      <td>17/02/2024</td>\n",
       "      <td>5</td>\n",
       "      <td>SF-SOCIEDAD FIDUCIARIA</td>\n",
       "      <td>16</td>\n",
       "      <td>Alianza Fiduciaria S.A.</td>\n",
       "      <td>9</td>\n",
       "      <td>FONDOS DE INVERSIÓN COLECTIVA</td>\n",
       "      <td>1</td>\n",
       "      <td>FIC DE TIPO GENERAL</td>\n",
       "      <td>113579</td>\n",
       "      <td>...</td>\n",
       "      <td>10988.1</td>\n",
       "      <td>0.0</td>\n",
       "      <td>0.0</td>\n",
       "      <td>0.0</td>\n",
       "      <td>1613734734.8</td>\n",
       "      <td>1.0</td>\n",
       "      <td>17.7</td>\n",
       "      <td>15.5</td>\n",
       "      <td>14.7</td>\n",
       "      <td>0.0</td>\n",
       "    </tr>\n",
       "    <tr>\n",
       "      <th>1528224</th>\n",
       "      <td>04/08/2018</td>\n",
       "      <td>85</td>\n",
       "      <td>COMISIONISTAS DE BOLSA DE VALORES</td>\n",
       "      <td>14</td>\n",
       "      <td>Btg Pactual</td>\n",
       "      <td>9</td>\n",
       "      <td>FONDOS DE INVERSIÓN COLECTIVA</td>\n",
       "      <td>2</td>\n",
       "      <td>FIC DE MERCADO MONETARIO</td>\n",
       "      <td>58564</td>\n",
       "      <td>...</td>\n",
       "      <td>10308.5</td>\n",
       "      <td>0.0</td>\n",
       "      <td>0.0</td>\n",
       "      <td>0.0</td>\n",
       "      <td>40555623531.1</td>\n",
       "      <td>7.0</td>\n",
       "      <td>3.6</td>\n",
       "      <td>3.5</td>\n",
       "      <td>4.3</td>\n",
       "      <td>0.0</td>\n",
       "    </tr>\n",
       "    <tr>\n",
       "      <th>365833</th>\n",
       "      <td>09/05/2017</td>\n",
       "      <td>5</td>\n",
       "      <td>SF-SOCIEDAD FIDUCIARIA</td>\n",
       "      <td>16</td>\n",
       "      <td>Alianza Fiduciaria S.A.</td>\n",
       "      <td>9</td>\n",
       "      <td>FONDOS DE INVERSIÓN COLECTIVA</td>\n",
       "      <td>7</td>\n",
       "      <td>FONDOS DE CAPITAL PRIVADO</td>\n",
       "      <td>50413</td>\n",
       "      <td>...</td>\n",
       "      <td>19063.9</td>\n",
       "      <td>0.0</td>\n",
       "      <td>0.0</td>\n",
       "      <td>0.0</td>\n",
       "      <td>53426798167.5</td>\n",
       "      <td>8.0</td>\n",
       "      <td>-6.2</td>\n",
       "      <td>-9.0</td>\n",
       "      <td>-75.1</td>\n",
       "      <td>-38.8</td>\n",
       "    </tr>\n",
       "    <tr>\n",
       "      <th>1231556</th>\n",
       "      <td>03/02/2024</td>\n",
       "      <td>85</td>\n",
       "      <td>COMISIONISTAS DE BOLSA DE VALORES</td>\n",
       "      <td>9</td>\n",
       "      <td>Progresion Scb</td>\n",
       "      <td>9</td>\n",
       "      <td>FONDOS DE INVERSIÓN COLECTIVA</td>\n",
       "      <td>7</td>\n",
       "      <td>FONDOS DE CAPITAL PRIVADO</td>\n",
       "      <td>108402</td>\n",
       "      <td>...</td>\n",
       "      <td>21390.9</td>\n",
       "      <td>0.0</td>\n",
       "      <td>0.0</td>\n",
       "      <td>0.0</td>\n",
       "      <td>293295951294.7</td>\n",
       "      <td>150.0</td>\n",
       "      <td>4.7</td>\n",
       "      <td>9.0</td>\n",
       "      <td>3.0</td>\n",
       "      <td>9.2</td>\n",
       "    </tr>\n",
       "    <tr>\n",
       "      <th>1644358</th>\n",
       "      <td>08/01/2024</td>\n",
       "      <td>5</td>\n",
       "      <td>SF-SOCIEDAD FIDUCIARIA</td>\n",
       "      <td>20</td>\n",
       "      <td>Fiduciaria Corficolombiana S.A.</td>\n",
       "      <td>9</td>\n",
       "      <td>FONDOS DE INVERSIÓN COLECTIVA</td>\n",
       "      <td>7</td>\n",
       "      <td>FONDOS DE CAPITAL PRIVADO</td>\n",
       "      <td>111307</td>\n",
       "      <td>...</td>\n",
       "      <td>142576.7</td>\n",
       "      <td>0.0</td>\n",
       "      <td>0.0</td>\n",
       "      <td>0.0</td>\n",
       "      <td>85170265765.9</td>\n",
       "      <td>1.0</td>\n",
       "      <td>0.0</td>\n",
       "      <td>-13.8</td>\n",
       "      <td>10.4</td>\n",
       "      <td>1326.4</td>\n",
       "    </tr>\n",
       "    <tr>\n",
       "      <th>2074197</th>\n",
       "      <td>15/09/2019</td>\n",
       "      <td>5</td>\n",
       "      <td>SF-SOCIEDAD FIDUCIARIA</td>\n",
       "      <td>42</td>\n",
       "      <td>Fiduciaria Davivienda S.A. Pudiendo Utilizar L...</td>\n",
       "      <td>9</td>\n",
       "      <td>FONDOS DE INVERSIÓN COLECTIVA</td>\n",
       "      <td>1</td>\n",
       "      <td>FIC DE TIPO GENERAL</td>\n",
       "      <td>10026</td>\n",
       "      <td>...</td>\n",
       "      <td>7797.5</td>\n",
       "      <td>0.0</td>\n",
       "      <td>23051310.0</td>\n",
       "      <td>0.0</td>\n",
       "      <td>166013214872.8</td>\n",
       "      <td>171.0</td>\n",
       "      <td>3.7</td>\n",
       "      <td>4.1</td>\n",
       "      <td>4.2</td>\n",
       "      <td>3.8</td>\n",
       "    </tr>\n",
       "    <tr>\n",
       "      <th>2023822</th>\n",
       "      <td>16/10/2019</td>\n",
       "      <td>85</td>\n",
       "      <td>COMISIONISTAS DE BOLSA DE VALORES</td>\n",
       "      <td>62</td>\n",
       "      <td>Ultraserfinco S.A.</td>\n",
       "      <td>9</td>\n",
       "      <td>FONDOS DE INVERSIÓN COLECTIVA</td>\n",
       "      <td>1</td>\n",
       "      <td>FIC DE TIPO GENERAL</td>\n",
       "      <td>68802</td>\n",
       "      <td>...</td>\n",
       "      <td>10291.2</td>\n",
       "      <td>16839950.0</td>\n",
       "      <td>6506000.1</td>\n",
       "      <td>0.0</td>\n",
       "      <td>39507218710.4</td>\n",
       "      <td>708.0</td>\n",
       "      <td>38.0</td>\n",
       "      <td>-16.3</td>\n",
       "      <td>-5.5</td>\n",
       "      <td>9.8</td>\n",
       "    </tr>\n",
       "    <tr>\n",
       "      <th>1769621</th>\n",
       "      <td>26/10/2023</td>\n",
       "      <td>85</td>\n",
       "      <td>COMISIONISTAS DE BOLSA DE VALORES</td>\n",
       "      <td>9</td>\n",
       "      <td>Progresion Scb</td>\n",
       "      <td>9</td>\n",
       "      <td>FONDOS DE INVERSIÓN COLECTIVA</td>\n",
       "      <td>1</td>\n",
       "      <td>FIC DE TIPO GENERAL</td>\n",
       "      <td>106810</td>\n",
       "      <td>...</td>\n",
       "      <td>20280.8</td>\n",
       "      <td>0.0</td>\n",
       "      <td>0.0</td>\n",
       "      <td>0.0</td>\n",
       "      <td>8313744652.0</td>\n",
       "      <td>72.0</td>\n",
       "      <td>11.7</td>\n",
       "      <td>12.2</td>\n",
       "      <td>11.7</td>\n",
       "      <td>11.5</td>\n",
       "    </tr>\n",
       "    <tr>\n",
       "      <th>1776356</th>\n",
       "      <td>19/02/2023</td>\n",
       "      <td>5</td>\n",
       "      <td>SF-SOCIEDAD FIDUCIARIA</td>\n",
       "      <td>38</td>\n",
       "      <td>Fiduciaria Central S.A. Sigla Fiducentral S.A.</td>\n",
       "      <td>9</td>\n",
       "      <td>FONDOS DE INVERSIÓN COLECTIVA</td>\n",
       "      <td>1</td>\n",
       "      <td>FIC DE TIPO GENERAL</td>\n",
       "      <td>36570</td>\n",
       "      <td>...</td>\n",
       "      <td>10526.1</td>\n",
       "      <td>0.0</td>\n",
       "      <td>0.0</td>\n",
       "      <td>0.0</td>\n",
       "      <td>7314378487.6</td>\n",
       "      <td>1.0</td>\n",
       "      <td>14.9</td>\n",
       "      <td>20.0</td>\n",
       "      <td>0.0</td>\n",
       "      <td>0.0</td>\n",
       "    </tr>\n",
       "    <tr>\n",
       "      <th>1649965</th>\n",
       "      <td>28/05/2024</td>\n",
       "      <td>5</td>\n",
       "      <td>SF-SOCIEDAD FIDUCIARIA</td>\n",
       "      <td>16</td>\n",
       "      <td>Alianza Fiduciaria S.A.</td>\n",
       "      <td>9</td>\n",
       "      <td>FONDOS DE INVERSIÓN COLECTIVA</td>\n",
       "      <td>7</td>\n",
       "      <td>FONDOS DE CAPITAL PRIVADO</td>\n",
       "      <td>95663</td>\n",
       "      <td>...</td>\n",
       "      <td>16279.3</td>\n",
       "      <td>0.0</td>\n",
       "      <td>0.0</td>\n",
       "      <td>0.0</td>\n",
       "      <td>99261072539.1</td>\n",
       "      <td>2.0</td>\n",
       "      <td>-6.9</td>\n",
       "      <td>1.1</td>\n",
       "      <td>-33.7</td>\n",
       "      <td>-7.9</td>\n",
       "    </tr>\n",
       "    <tr>\n",
       "      <th>1830993</th>\n",
       "      <td>27/10/2016</td>\n",
       "      <td>85</td>\n",
       "      <td>COMISIONISTAS DE BOLSA DE VALORES</td>\n",
       "      <td>21</td>\n",
       "      <td>Profesionales De Bolsa</td>\n",
       "      <td>9</td>\n",
       "      <td>FONDOS DE INVERSIÓN COLECTIVA</td>\n",
       "      <td>7</td>\n",
       "      <td>FONDOS DE CAPITAL PRIVADO</td>\n",
       "      <td>59725</td>\n",
       "      <td>...</td>\n",
       "      <td>11049.8</td>\n",
       "      <td>0.0</td>\n",
       "      <td>0.0</td>\n",
       "      <td>0.0</td>\n",
       "      <td>52470367.8</td>\n",
       "      <td>2.0</td>\n",
       "      <td>0.0</td>\n",
       "      <td>0.0</td>\n",
       "      <td>0.0</td>\n",
       "      <td>0.0</td>\n",
       "    </tr>\n",
       "    <tr>\n",
       "      <th>1088602</th>\n",
       "      <td>17/07/2019</td>\n",
       "      <td>5</td>\n",
       "      <td>SF-SOCIEDAD FIDUCIARIA</td>\n",
       "      <td>16</td>\n",
       "      <td>Alianza Fiduciaria S.A.</td>\n",
       "      <td>9</td>\n",
       "      <td>FONDOS DE INVERSIÓN COLECTIVA</td>\n",
       "      <td>7</td>\n",
       "      <td>FONDOS DE CAPITAL PRIVADO</td>\n",
       "      <td>73317</td>\n",
       "      <td>...</td>\n",
       "      <td>118795.7</td>\n",
       "      <td>0.0</td>\n",
       "      <td>0.0</td>\n",
       "      <td>0.0</td>\n",
       "      <td>170052754581.9</td>\n",
       "      <td>1.0</td>\n",
       "      <td>15.5</td>\n",
       "      <td>0.4</td>\n",
       "      <td>14.2</td>\n",
       "      <td>14.7</td>\n",
       "    </tr>\n",
       "    <tr>\n",
       "      <th>2029169</th>\n",
       "      <td>28/08/2023</td>\n",
       "      <td>85</td>\n",
       "      <td>COMISIONISTAS DE BOLSA DE VALORES</td>\n",
       "      <td>14</td>\n",
       "      <td>Btg Pactual</td>\n",
       "      <td>9</td>\n",
       "      <td>FONDOS DE INVERSIÓN COLECTIVA</td>\n",
       "      <td>2</td>\n",
       "      <td>FIC DE MERCADO MONETARIO</td>\n",
       "      <td>58564</td>\n",
       "      <td>...</td>\n",
       "      <td>16789.9</td>\n",
       "      <td>4200000000.0</td>\n",
       "      <td>14519431890.0</td>\n",
       "      <td>0.0</td>\n",
       "      <td>157351426588.7</td>\n",
       "      <td>19.0</td>\n",
       "      <td>42.6</td>\n",
       "      <td>14.8</td>\n",
       "      <td>14.8</td>\n",
       "      <td>15.1</td>\n",
       "    </tr>\n",
       "    <tr>\n",
       "      <th>1147204</th>\n",
       "      <td>08/07/2016</td>\n",
       "      <td>85</td>\n",
       "      <td>COMISIONISTAS DE BOLSA DE VALORES</td>\n",
       "      <td>51</td>\n",
       "      <td>Alianza Valores</td>\n",
       "      <td>9</td>\n",
       "      <td>FONDOS DE INVERSIÓN COLECTIVA</td>\n",
       "      <td>1</td>\n",
       "      <td>FIC DE TIPO GENERAL</td>\n",
       "      <td>59509</td>\n",
       "      <td>...</td>\n",
       "      <td>7859.9</td>\n",
       "      <td>0.0</td>\n",
       "      <td>0.0</td>\n",
       "      <td>0.0</td>\n",
       "      <td>5148996767.5</td>\n",
       "      <td>224.0</td>\n",
       "      <td>-66.1</td>\n",
       "      <td>-24.0</td>\n",
       "      <td>37.7</td>\n",
       "      <td>2.0</td>\n",
       "    </tr>\n",
       "    <tr>\n",
       "      <th>1523873</th>\n",
       "      <td>10/06/2017</td>\n",
       "      <td>87</td>\n",
       "      <td>SOCIEDADES ADMINISTRADORAS DE INVERSIÓN</td>\n",
       "      <td>11</td>\n",
       "      <td>Progresion Sociedad Administradora De Inversio...</td>\n",
       "      <td>9</td>\n",
       "      <td>FONDOS DE INVERSIÓN COLECTIVA</td>\n",
       "      <td>1</td>\n",
       "      <td>FIC DE TIPO GENERAL</td>\n",
       "      <td>60046</td>\n",
       "      <td>...</td>\n",
       "      <td>16669.8</td>\n",
       "      <td>0.0</td>\n",
       "      <td>0.0</td>\n",
       "      <td>0.0</td>\n",
       "      <td>11349973575.2</td>\n",
       "      <td>149.0</td>\n",
       "      <td>7.6</td>\n",
       "      <td>7.0</td>\n",
       "      <td>8.2</td>\n",
       "      <td>7.9</td>\n",
       "    </tr>\n",
       "    <tr>\n",
       "      <th>946460</th>\n",
       "      <td>04/10/2022</td>\n",
       "      <td>85</td>\n",
       "      <td>COMISIONISTAS DE BOLSA DE VALORES</td>\n",
       "      <td>97</td>\n",
       "      <td>Larrain Vial Colombia S.A.  Comisionista De Bolsa</td>\n",
       "      <td>9</td>\n",
       "      <td>FONDOS DE INVERSIÓN COLECTIVA</td>\n",
       "      <td>7</td>\n",
       "      <td>FONDOS DE CAPITAL PRIVADO</td>\n",
       "      <td>99379</td>\n",
       "      <td>...</td>\n",
       "      <td>11230.6</td>\n",
       "      <td>0.0</td>\n",
       "      <td>0.0</td>\n",
       "      <td>0.0</td>\n",
       "      <td>74877680659.8</td>\n",
       "      <td>12.0</td>\n",
       "      <td>-0.6</td>\n",
       "      <td>6.7</td>\n",
       "      <td>14.7</td>\n",
       "      <td>10.9</td>\n",
       "    </tr>\n",
       "  </tbody>\n",
       "</table>\n",
       "<p>50 rows × 26 columns</p>\n",
       "</div>"
      ],
      "text/plain": [
       "        FECHA_CORTE  TIPO_ENTIDAD                      NOMBRE_TIPO_ENTIDAD  \\\n",
       "1394403  30/08/2019             5                   SF-SOCIEDAD FIDUCIARIA   \n",
       "757271   06/08/2022             5                   SF-SOCIEDAD FIDUCIARIA   \n",
       "568424   17/09/2021             5                   SF-SOCIEDAD FIDUCIARIA   \n",
       "247295   28/04/2021             5                   SF-SOCIEDAD FIDUCIARIA   \n",
       "1143829  27/06/2022             5                   SF-SOCIEDAD FIDUCIARIA   \n",
       "577253   30/05/2019            85        COMISIONISTAS DE BOLSA DE VALORES   \n",
       "1179966  06/05/2023             5                   SF-SOCIEDAD FIDUCIARIA   \n",
       "162402   04/11/2019            85        COMISIONISTAS DE BOLSA DE VALORES   \n",
       "515078   23/02/2020            85        COMISIONISTAS DE BOLSA DE VALORES   \n",
       "1869018  09/06/2024             5                   SF-SOCIEDAD FIDUCIARIA   \n",
       "431034   28/03/2022             5                   SF-SOCIEDAD FIDUCIARIA   \n",
       "1993173  19/08/2024             5                   SF-SOCIEDAD FIDUCIARIA   \n",
       "1161257  16/02/2019             5                   SF-SOCIEDAD FIDUCIARIA   \n",
       "1626746  10/03/2022             5                   SF-SOCIEDAD FIDUCIARIA   \n",
       "1134248  25/08/2018             5                   SF-SOCIEDAD FIDUCIARIA   \n",
       "1138373  06/07/2018            85        COMISIONISTAS DE BOLSA DE VALORES   \n",
       "2035280  23/04/2018             5                   SF-SOCIEDAD FIDUCIARIA   \n",
       "184927   20/11/2020             5                   SF-SOCIEDAD FIDUCIARIA   \n",
       "415454   04/04/2018             5                   SF-SOCIEDAD FIDUCIARIA   \n",
       "87564    13/03/2016             5                   SF-SOCIEDAD FIDUCIARIA   \n",
       "414805   02/01/2023             5                   SF-SOCIEDAD FIDUCIARIA   \n",
       "1996137  20/08/2024             5                   SF-SOCIEDAD FIDUCIARIA   \n",
       "1838849  19/04/2016            85        COMISIONISTAS DE BOLSA DE VALORES   \n",
       "968900   05/04/2024            85        COMISIONISTAS DE BOLSA DE VALORES   \n",
       "1373385  06/05/2022            85        COMISIONISTAS DE BOLSA DE VALORES   \n",
       "218891   06/03/2023             5                   SF-SOCIEDAD FIDUCIARIA   \n",
       "1987470  09/09/2021             5                   SF-SOCIEDAD FIDUCIARIA   \n",
       "1334771  14/12/2023             5                   SF-SOCIEDAD FIDUCIARIA   \n",
       "38676    31/07/2018            85        COMISIONISTAS DE BOLSA DE VALORES   \n",
       "1569823  04/08/2021             5                   SF-SOCIEDAD FIDUCIARIA   \n",
       "2075325  03/12/2020             5                   SF-SOCIEDAD FIDUCIARIA   \n",
       "619368   16/04/2018            85        COMISIONISTAS DE BOLSA DE VALORES   \n",
       "1333639  04/06/2018             5                   SF-SOCIEDAD FIDUCIARIA   \n",
       "1510915  31/01/2023            85        COMISIONISTAS DE BOLSA DE VALORES   \n",
       "944090   17/02/2024             5                   SF-SOCIEDAD FIDUCIARIA   \n",
       "1528224  04/08/2018            85        COMISIONISTAS DE BOLSA DE VALORES   \n",
       "365833   09/05/2017             5                   SF-SOCIEDAD FIDUCIARIA   \n",
       "1231556  03/02/2024            85        COMISIONISTAS DE BOLSA DE VALORES   \n",
       "1644358  08/01/2024             5                   SF-SOCIEDAD FIDUCIARIA   \n",
       "2074197  15/09/2019             5                   SF-SOCIEDAD FIDUCIARIA   \n",
       "2023822  16/10/2019            85        COMISIONISTAS DE BOLSA DE VALORES   \n",
       "1769621  26/10/2023            85        COMISIONISTAS DE BOLSA DE VALORES   \n",
       "1776356  19/02/2023             5                   SF-SOCIEDAD FIDUCIARIA   \n",
       "1649965  28/05/2024             5                   SF-SOCIEDAD FIDUCIARIA   \n",
       "1830993  27/10/2016            85        COMISIONISTAS DE BOLSA DE VALORES   \n",
       "1088602  17/07/2019             5                   SF-SOCIEDAD FIDUCIARIA   \n",
       "2029169  28/08/2023            85        COMISIONISTAS DE BOLSA DE VALORES   \n",
       "1147204  08/07/2016            85        COMISIONISTAS DE BOLSA DE VALORES   \n",
       "1523873  10/06/2017            87  SOCIEDADES ADMINISTRADORAS DE INVERSIÓN   \n",
       "946460   04/10/2022            85        COMISIONISTAS DE BOLSA DE VALORES   \n",
       "\n",
       "         CODIGO_ENTIDAD                                     NOMBRE_ENTIDAD  \\\n",
       "1394403               3     Bbva Asset Management S.A. Sociedad Fiduciaria   \n",
       "757271               16                            Alianza Fiduciaria S.A.   \n",
       "568424               20                    Fiduciaria Corficolombiana S.A.   \n",
       "247295               22                             Fiduciaria Bogotá S.A.   \n",
       "1143829              16                            Alianza Fiduciaria S.A.   \n",
       "577253               26    Corredores Davivienda S.A.Comisionista De Bolsa   \n",
       "1179966              16                            Alianza Fiduciaria S.A.   \n",
       "162402               62                                 Ultraserfinco S.A.   \n",
       "515078               62                                 Ultraserfinco S.A.   \n",
       "1869018              16                            Alianza Fiduciaria S.A.   \n",
       "431034               31    Fiduciaria Bancolombia S.A. Sociedad Fiduciaria   \n",
       "1993173              58                               Fiduciaria Sura S.A.   \n",
       "1161257              16                            Alianza Fiduciaria S.A.   \n",
       "1626746              39  Sociedad Fiduciaria De Desarrollo Agropecuario...   \n",
       "1134248              16                            Alianza Fiduciaria S.A.   \n",
       "1138373              26    Corredores Davivienda S.A.Comisionista De Bolsa   \n",
       "2035280              42  Fiduciaria Davivienda S.A. Pudiendo Utilizar L...   \n",
       "184927               16                            Alianza Fiduciaria S.A.   \n",
       "415454               62                            Fiduciaria Coomeva S.A.   \n",
       "87564                42  Fiduciaria Davivienda S.A. Pudiendo Utilizar L...   \n",
       "414805               39  Sociedad Fiduciaria De Desarrollo Agropecuario...   \n",
       "1996137              42  Fiduciaria Davivienda S.A. Pudiendo Utilizar L...   \n",
       "1838849              76                                 Casa De Bolsa S.A.   \n",
       "968900               28                                  Credicorp Capital   \n",
       "1373385              97  Larrain Vial Colombia S.A.  Comisionista De Bolsa   \n",
       "218891               20                    Fiduciaria Corficolombiana S.A.   \n",
       "1987470               6                                        Caja Social   \n",
       "1334771              22                             Fiduciaria Bogotá S.A.   \n",
       "38676                28                                  Credicorp Capital   \n",
       "1569823              16                            Alianza Fiduciaria S.A.   \n",
       "2075325              22                             Fiduciaria Bogotá S.A.   \n",
       "619368               14                                        Btg Pactual   \n",
       "1333639              16                            Alianza Fiduciaria S.A.   \n",
       "1510915              26    Corredores Davivienda S.A.Comisionista De Bolsa   \n",
       "944090               16                            Alianza Fiduciaria S.A.   \n",
       "1528224              14                                        Btg Pactual   \n",
       "365833               16                            Alianza Fiduciaria S.A.   \n",
       "1231556               9                                     Progresion Scb   \n",
       "1644358              20                    Fiduciaria Corficolombiana S.A.   \n",
       "2074197              42  Fiduciaria Davivienda S.A. Pudiendo Utilizar L...   \n",
       "2023822              62                                 Ultraserfinco S.A.   \n",
       "1769621               9                                     Progresion Scb   \n",
       "1776356              38     Fiduciaria Central S.A. Sigla Fiducentral S.A.   \n",
       "1649965              16                            Alianza Fiduciaria S.A.   \n",
       "1830993              21                             Profesionales De Bolsa   \n",
       "1088602              16                            Alianza Fiduciaria S.A.   \n",
       "2029169              14                                        Btg Pactual   \n",
       "1147204              51                                    Alianza Valores   \n",
       "1523873              11  Progresion Sociedad Administradora De Inversio...   \n",
       "946460               97  Larrain Vial Colombia S.A.  Comisionista De Bolsa   \n",
       "\n",
       "         TIPO_NEGOCIO         NOMBRE_TIPO_PATRIMONIO  SUBTIPO_NEGOCIO  \\\n",
       "1394403             9  FONDOS DE INVERSIÓN COLECTIVA                1   \n",
       "757271              9  FONDOS DE INVERSIÓN COLECTIVA                1   \n",
       "568424              9  FONDOS DE INVERSIÓN COLECTIVA                1   \n",
       "247295              9  FONDOS DE INVERSIÓN COLECTIVA                1   \n",
       "1143829             9  FONDOS DE INVERSIÓN COLECTIVA                1   \n",
       "577253              9  FONDOS DE INVERSIÓN COLECTIVA                3   \n",
       "1179966             9  FONDOS DE INVERSIÓN COLECTIVA                1   \n",
       "162402              9  FONDOS DE INVERSIÓN COLECTIVA                1   \n",
       "515078              9  FONDOS DE INVERSIÓN COLECTIVA                1   \n",
       "1869018             9  FONDOS DE INVERSIÓN COLECTIVA                7   \n",
       "431034              9  FONDOS DE INVERSIÓN COLECTIVA                1   \n",
       "1993173             9  FONDOS DE INVERSIÓN COLECTIVA                1   \n",
       "1161257             9  FONDOS DE INVERSIÓN COLECTIVA                7   \n",
       "1626746             9  FONDOS DE INVERSIÓN COLECTIVA                1   \n",
       "1134248             9  FONDOS DE INVERSIÓN COLECTIVA                7   \n",
       "1138373             9  FONDOS DE INVERSIÓN COLECTIVA                7   \n",
       "2035280             9  FONDOS DE INVERSIÓN COLECTIVA                1   \n",
       "184927              9  FONDOS DE INVERSIÓN COLECTIVA                1   \n",
       "415454              9  FONDOS DE INVERSIÓN COLECTIVA                1   \n",
       "87564               9  FONDOS DE INVERSIÓN COLECTIVA                1   \n",
       "414805              9  FONDOS DE INVERSIÓN COLECTIVA                1   \n",
       "1996137             9  FONDOS DE INVERSIÓN COLECTIVA                1   \n",
       "1838849             9  FONDOS DE INVERSIÓN COLECTIVA                1   \n",
       "968900              9  FONDOS DE INVERSIÓN COLECTIVA                1   \n",
       "1373385             9  FONDOS DE INVERSIÓN COLECTIVA                7   \n",
       "218891              9  FONDOS DE INVERSIÓN COLECTIVA                7   \n",
       "1987470             9  FONDOS DE INVERSIÓN COLECTIVA                1   \n",
       "1334771             9  FONDOS DE INVERSIÓN COLECTIVA                1   \n",
       "38676               9  FONDOS DE INVERSIÓN COLECTIVA                1   \n",
       "1569823             9  FONDOS DE INVERSIÓN COLECTIVA                1   \n",
       "2075325             9  FONDOS DE INVERSIÓN COLECTIVA                1   \n",
       "619368              9  FONDOS DE INVERSIÓN COLECTIVA                1   \n",
       "1333639             9  FONDOS DE INVERSIÓN COLECTIVA                1   \n",
       "1510915             9  FONDOS DE INVERSIÓN COLECTIVA                7   \n",
       "944090              9  FONDOS DE INVERSIÓN COLECTIVA                1   \n",
       "1528224             9  FONDOS DE INVERSIÓN COLECTIVA                2   \n",
       "365833              9  FONDOS DE INVERSIÓN COLECTIVA                7   \n",
       "1231556             9  FONDOS DE INVERSIÓN COLECTIVA                7   \n",
       "1644358             9  FONDOS DE INVERSIÓN COLECTIVA                7   \n",
       "2074197             9  FONDOS DE INVERSIÓN COLECTIVA                1   \n",
       "2023822             9  FONDOS DE INVERSIÓN COLECTIVA                1   \n",
       "1769621             9  FONDOS DE INVERSIÓN COLECTIVA                1   \n",
       "1776356             9  FONDOS DE INVERSIÓN COLECTIVA                1   \n",
       "1649965             9  FONDOS DE INVERSIÓN COLECTIVA                7   \n",
       "1830993             9  FONDOS DE INVERSIÓN COLECTIVA                7   \n",
       "1088602             9  FONDOS DE INVERSIÓN COLECTIVA                7   \n",
       "2029169             9  FONDOS DE INVERSIÓN COLECTIVA                2   \n",
       "1147204             9  FONDOS DE INVERSIÓN COLECTIVA                1   \n",
       "1523873             9  FONDOS DE INVERSIÓN COLECTIVA                1   \n",
       "946460              9  FONDOS DE INVERSIÓN COLECTIVA                7   \n",
       "\n",
       "         NOMBRE_SUBTIPO_PATRIMONIO  CODIGO_NEGOCIO  ...  \\\n",
       "1394403        FIC DE TIPO GENERAL            8742  ...   \n",
       "757271         FIC DE TIPO GENERAL           10824  ...   \n",
       "568424         FIC DE TIPO GENERAL           53954  ...   \n",
       "247295         FIC DE TIPO GENERAL           10659  ...   \n",
       "1143829        FIC DE TIPO GENERAL           10936  ...   \n",
       "577253           FIC INMOBILIARIAS           63935  ...   \n",
       "1179966        FIC DE TIPO GENERAL           10824  ...   \n",
       "162402         FIC DE TIPO GENERAL           60117  ...   \n",
       "515078         FIC DE TIPO GENERAL           58980  ...   \n",
       "1869018  FONDOS DE CAPITAL PRIVADO           58247  ...   \n",
       "431034         FIC DE TIPO GENERAL          104377  ...   \n",
       "1993173        FIC DE TIPO GENERAL          117765  ...   \n",
       "1161257  FONDOS DE CAPITAL PRIVADO           50276  ...   \n",
       "1626746        FIC DE TIPO GENERAL           69537  ...   \n",
       "1134248  FONDOS DE CAPITAL PRIVADO           66857  ...   \n",
       "1138373  FONDOS DE CAPITAL PRIVADO           59009  ...   \n",
       "2035280        FIC DE TIPO GENERAL           10026  ...   \n",
       "184927         FIC DE TIPO GENERAL           10824  ...   \n",
       "415454         FIC DE TIPO GENERAL           72576  ...   \n",
       "87564          FIC DE TIPO GENERAL           10026  ...   \n",
       "414805         FIC DE TIPO GENERAL           69537  ...   \n",
       "1996137        FIC DE TIPO GENERAL           10026  ...   \n",
       "1838849        FIC DE TIPO GENERAL           58908  ...   \n",
       "968900         FIC DE TIPO GENERAL           93197  ...   \n",
       "1373385  FONDOS DE CAPITAL PRIVADO           99377  ...   \n",
       "218891   FONDOS DE CAPITAL PRIVADO           88922  ...   \n",
       "1987470        FIC DE TIPO GENERAL           61653  ...   \n",
       "1334771        FIC DE TIPO GENERAL           10659  ...   \n",
       "38676          FIC DE TIPO GENERAL           58756  ...   \n",
       "1569823        FIC DE TIPO GENERAL           67404  ...   \n",
       "2075325        FIC DE TIPO GENERAL           29496  ...   \n",
       "619368         FIC DE TIPO GENERAL           71259  ...   \n",
       "1333639        FIC DE TIPO GENERAL           67405  ...   \n",
       "1510915  FONDOS DE CAPITAL PRIVADO          102495  ...   \n",
       "944090         FIC DE TIPO GENERAL          113579  ...   \n",
       "1528224   FIC DE MERCADO MONETARIO           58564  ...   \n",
       "365833   FONDOS DE CAPITAL PRIVADO           50413  ...   \n",
       "1231556  FONDOS DE CAPITAL PRIVADO          108402  ...   \n",
       "1644358  FONDOS DE CAPITAL PRIVADO          111307  ...   \n",
       "2074197        FIC DE TIPO GENERAL           10026  ...   \n",
       "2023822        FIC DE TIPO GENERAL           68802  ...   \n",
       "1769621        FIC DE TIPO GENERAL          106810  ...   \n",
       "1776356        FIC DE TIPO GENERAL           36570  ...   \n",
       "1649965  FONDOS DE CAPITAL PRIVADO           95663  ...   \n",
       "1830993  FONDOS DE CAPITAL PRIVADO           59725  ...   \n",
       "1088602  FONDOS DE CAPITAL PRIVADO           73317  ...   \n",
       "2029169   FIC DE MERCADO MONETARIO           58564  ...   \n",
       "1147204        FIC DE TIPO GENERAL           59509  ...   \n",
       "1523873        FIC DE TIPO GENERAL           60046  ...   \n",
       "946460   FONDOS DE CAPITAL PRIVADO           99379  ...   \n",
       "\n",
       "        VALOR_UNIDAD_OPERACIONES_DIA_T  APORTES_RECIBIDOS  \\\n",
       "1394403                         2486.7      41013000025.3   \n",
       "757271                         18208.9                0.0   \n",
       "568424                         38254.8      10185151069.8   \n",
       "247295                         15675.5                0.0   \n",
       "1143829                       146650.2        400029031.7   \n",
       "577253                         33124.4                0.0   \n",
       "1179966                        11734.4                0.0   \n",
       "162402                         13163.0                0.1   \n",
       "515078                         21354.3                0.1   \n",
       "1869018                           17.7                0.0   \n",
       "431034                         10098.9                0.0   \n",
       "1993173                        11227.2                0.0   \n",
       "1161257                        28130.5                0.0   \n",
       "1626746                        10078.3                0.0   \n",
       "1134248                        20345.1                0.0   \n",
       "1138373                        11762.6                0.0   \n",
       "2035280                         7479.9      11009000000.0   \n",
       "184927                         17073.5       5838099633.4   \n",
       "415454                         10284.1                0.0   \n",
       "87564                           6500.9                0.0   \n",
       "414805                         10801.1                0.0   \n",
       "1996137                        10882.9         46552152.0   \n",
       "1838849                        11443.5                0.0   \n",
       "968900                         10008.9                0.0   \n",
       "1373385                        12921.8                0.0   \n",
       "218891                         16898.4                0.0   \n",
       "1987470                        14942.5          2131680.5   \n",
       "1334771                        19421.8      18303719618.0   \n",
       "38676                           4122.0     274155871854.7   \n",
       "1569823                        13243.9                0.0   \n",
       "2075325                        24816.7         45000000.0   \n",
       "619368                          8856.1        649426385.9   \n",
       "1333639                        10020.1                0.0   \n",
       "1510915                        11800.9                0.0   \n",
       "944090                         10988.1                0.0   \n",
       "1528224                        10308.5                0.0   \n",
       "365833                         19063.9                0.0   \n",
       "1231556                        21390.9                0.0   \n",
       "1644358                       142576.7                0.0   \n",
       "2074197                         7797.5                0.0   \n",
       "2023822                        10291.2         16839950.0   \n",
       "1769621                        20280.8                0.0   \n",
       "1776356                        10526.1                0.0   \n",
       "1649965                        16279.3                0.0   \n",
       "1830993                        11049.8                0.0   \n",
       "1088602                       118795.7                0.0   \n",
       "2029169                        16789.9       4200000000.0   \n",
       "1147204                         7859.9                0.0   \n",
       "1523873                        16669.8                0.0   \n",
       "946460                         11230.6                0.0   \n",
       "\n",
       "         RETIROS_REDENCIONES   ANULACIONES  VALOR_FONDO_CIERRE_DIA_T  \\\n",
       "1394403         1780141078.0           0.0            221833296007.5   \n",
       "757271                   0.0           0.0            986182058165.4   \n",
       "568424         12145459884.0           0.0             84933814116.2   \n",
       "247295         44839159948.5           0.0            160560768280.1   \n",
       "1143829                  0.0           0.0            701301295391.4   \n",
       "577253                   0.0           0.0             26013941629.7   \n",
       "1179966                  0.0           0.0            154661208331.2   \n",
       "162402                   0.0           0.0             22427641458.0   \n",
       "515078                   0.0           0.0            107322159584.6   \n",
       "1869018                  0.0           0.0           1913055566322.3   \n",
       "431034                   0.0           0.0             30257736483.8   \n",
       "1993173                  0.0           0.0             99222509654.5   \n",
       "1161257                  0.0           0.0            410489609982.1   \n",
       "1626746                  0.0           0.0             50391729775.1   \n",
       "1134248                  0.0           0.0            203968223719.7   \n",
       "1138373                  0.0           0.0              8485186106.5   \n",
       "2035280        14008099396.0           0.0            340972605504.7   \n",
       "184927          4174244948.8    13879296.0            531488783463.9   \n",
       "415454                   0.0           0.0              5393846159.6   \n",
       "87564                    0.0           0.0             57473380852.8   \n",
       "414805                   0.0           0.0             65963124561.7   \n",
       "1996137          436262187.0           0.0            365565090255.4   \n",
       "1838849           60100930.4           0.0              3628431850.7   \n",
       "968900                   0.0           0.0             55778671249.4   \n",
       "1373385                  0.0           0.0             27887723279.0   \n",
       "218891                   0.0           0.0              2955920813.3   \n",
       "1987470           81772865.0           0.0             46134552434.8   \n",
       "1334771        62042743983.7           0.0            152202425104.2   \n",
       "38676         382071854547.6 -1913039019.2           2384393323642.2   \n",
       "1569823                  0.0           0.0                68738866.4   \n",
       "2075325            1748931.6     1318931.6              5513171850.0   \n",
       "619368            23667244.6           0.0             13486880751.3   \n",
       "1333639                  0.0           0.0               254476017.4   \n",
       "1510915                  0.0           0.0             47681844087.9   \n",
       "944090                   0.0           0.0              1613734734.8   \n",
       "1528224                  0.0           0.0             40555623531.1   \n",
       "365833                   0.0           0.0             53426798167.5   \n",
       "1231556                  0.0           0.0            293295951294.7   \n",
       "1644358                  0.0           0.0             85170265765.9   \n",
       "2074197           23051310.0           0.0            166013214872.8   \n",
       "2023822            6506000.1           0.0             39507218710.4   \n",
       "1769621                  0.0           0.0              8313744652.0   \n",
       "1776356                  0.0           0.0              7314378487.6   \n",
       "1649965                  0.0           0.0             99261072539.1   \n",
       "1830993                  0.0           0.0                52470367.8   \n",
       "1088602                  0.0           0.0            170052754581.9   \n",
       "2029169        14519431890.0           0.0            157351426588.7   \n",
       "1147204                  0.0           0.0              5148996767.5   \n",
       "1523873                  0.0           0.0             11349973575.2   \n",
       "946460                   0.0           0.0             74877680659.8   \n",
       "\n",
       "         NUMERO_INVERSIONISTAS  RENTABILIDAD_DIARIA  RENTABILIDAD_MENSUAL  \\\n",
       "1394403                   53.0                  8.7                   5.2   \n",
       "757271                   341.0                  9.5                   8.5   \n",
       "568424                     9.0                 -4.6                   1.9   \n",
       "247295                     1.0                 -0.8                   2.1   \n",
       "1143829                 1665.0                  8.0                   3.0   \n",
       "577253                     2.0                 -1.5                 193.8   \n",
       "1179966                    2.0                 15.2                  15.6   \n",
       "162402                   344.0                  1.2                   6.5   \n",
       "515078                  1145.0                  5.6                   6.3   \n",
       "1869018                   20.0                  0.0                  14.1   \n",
       "431034                     2.0                 64.9                   5.1   \n",
       "1993173                  444.0                 18.3                  18.5   \n",
       "1161257                   12.0                  0.0                   0.2   \n",
       "1626746                    1.0                  4.9                   3.4   \n",
       "1134248                    2.0                  0.1                   5.3   \n",
       "1138373                    1.0                -42.9                 510.8   \n",
       "2035280                   45.0                  5.5                   5.7   \n",
       "184927                  1277.0                  2.9                   3.4   \n",
       "415454                     1.0                  5.0                   6.0   \n",
       "87564                     51.0                  6.9                   6.8   \n",
       "414805                     3.0                 14.2                  15.7   \n",
       "1996137                  287.0                  9.8                  12.3   \n",
       "1838849                   70.0                506.7                   8.8   \n",
       "968900                     1.0                 11.7                   0.0   \n",
       "1373385                    4.0                 25.5                   7.7   \n",
       "218891                     1.0                -91.4                 -30.6   \n",
       "1987470                 4736.0                  1.3                   5.8   \n",
       "1334771                    1.0                 79.3                  16.0   \n",
       "38676                   7992.0                  1.5                   3.4   \n",
       "1569823                    7.0                 18.5                  -5.8   \n",
       "2075325                  276.0                614.7                 273.1   \n",
       "619368                    98.0                601.1                 -42.6   \n",
       "1333639                    1.0                 -1.3                   8.3   \n",
       "1510915                    1.0                  2.0                  17.8   \n",
       "944090                     1.0                 17.7                  15.5   \n",
       "1528224                    7.0                  3.6                   3.5   \n",
       "365833                     8.0                 -6.2                  -9.0   \n",
       "1231556                  150.0                  4.7                   9.0   \n",
       "1644358                    1.0                  0.0                 -13.8   \n",
       "2074197                  171.0                  3.7                   4.1   \n",
       "2023822                  708.0                 38.0                 -16.3   \n",
       "1769621                   72.0                 11.7                  12.2   \n",
       "1776356                    1.0                 14.9                  20.0   \n",
       "1649965                    2.0                 -6.9                   1.1   \n",
       "1830993                    2.0                  0.0                   0.0   \n",
       "1088602                    1.0                 15.5                   0.4   \n",
       "2029169                   19.0                 42.6                  14.8   \n",
       "1147204                  224.0                -66.1                 -24.0   \n",
       "1523873                  149.0                  7.6                   7.0   \n",
       "946460                    12.0                 -0.6                   6.7   \n",
       "\n",
       "         RENTABILIDAD_SEMESTRAL  RENTABILIDAD_ANUAL  \n",
       "1394403                     5.3                 4.9  \n",
       "757271                      5.8                 4.2  \n",
       "568424                      0.8                 0.7  \n",
       "247295                      1.3                 3.4  \n",
       "1143829                     1.3                 0.4  \n",
       "577253                     79.7               162.0  \n",
       "1179966                    17.6                15.1  \n",
       "162402                      5.8                 7.1  \n",
       "515078                      6.2                 6.1  \n",
       "1869018                    16.9                14.8  \n",
       "431034                      0.0                 0.0  \n",
       "1993173                    18.2                 0.0  \n",
       "1161257                   -14.5                -4.9  \n",
       "1626746                     0.0                 0.0  \n",
       "1134248                     5.0                63.6  \n",
       "1138373                    -3.4                22.8  \n",
       "2035280                     5.3                 5.5  \n",
       "184927                      4.4                 4.8  \n",
       "415454                      0.0                 0.0  \n",
       "87564                       4.5                 0.0  \n",
       "414805                      9.9                 7.2  \n",
       "1996137                    10.4                12.3  \n",
       "1838849                     4.7                 0.1  \n",
       "968900                      0.0                 0.0  \n",
       "1373385                    75.6                 0.0  \n",
       "218891                     22.4                25.6  \n",
       "1987470                     1.1                 1.6  \n",
       "1334771                    14.1                15.9  \n",
       "38676                       4.2                 4.5  \n",
       "1569823                    -2.7                 0.7  \n",
       "2075325                    25.1                -9.8  \n",
       "619368                    -17.5                 0.0  \n",
       "1333639                     0.0                 0.0  \n",
       "1510915                    16.1                18.2  \n",
       "944090                     14.7                 0.0  \n",
       "1528224                     4.3                 0.0  \n",
       "365833                    -75.1               -38.8  \n",
       "1231556                     3.0                 9.2  \n",
       "1644358                    10.4              1326.4  \n",
       "2074197                     4.2                 3.8  \n",
       "2023822                    -5.5                 9.8  \n",
       "1769621                    11.7                11.5  \n",
       "1776356                     0.0                 0.0  \n",
       "1649965                   -33.7                -7.9  \n",
       "1830993                     0.0                 0.0  \n",
       "1088602                    14.2                14.7  \n",
       "2029169                    14.8                15.1  \n",
       "1147204                    37.7                 2.0  \n",
       "1523873                     8.2                 7.9  \n",
       "946460                     14.7                10.9  \n",
       "\n",
       "[50 rows x 26 columns]"
      ]
     },
     "execution_count": 3,
     "metadata": {},
     "output_type": "execute_result"
    }
   ],
   "source": [
    "df_FondosInversion_colectiva.sample(50)"
   ]
  },
  {
   "cell_type": "markdown",
   "id": "7b4d280b",
   "metadata": {},
   "source": [
    "Validacion de cantidad de columnas y filas"
   ]
  },
  {
   "cell_type": "code",
   "execution_count": 4,
   "id": "8ff6ea98",
   "metadata": {},
   "outputs": [
    {
     "name": "stdout",
     "output_type": "stream",
     "text": [
      "Datos del dataframe: \n",
      "Filas: 2165934 \n",
      "Columnas: 26\n"
     ]
    }
   ],
   "source": [
    "# Se crea un DataFrame nuevo, utilizando los datos existentes del dataset\n",
    "df_FondosInversion_colectiva = pd.DataFrame(df_FondosInversion_colectiva)\n",
    "\n",
    "# Consulta y validación de la cantidad de filas y columnas del dataframe\n",
    "num_rows, num_cols = df_FondosInversion_colectiva.shape\n",
    "\n",
    "# Imprimir mensaje y valores de salidas del dataframe\n",
    "print(f'Datos del dataframe: \\nFilas: {num_rows} \\nColumnas: {num_cols}')"
   ]
  },
  {
   "cell_type": "markdown",
   "id": "0076f354",
   "metadata": {},
   "source": [
    "---------------------------------------------Verificacion de cuantos datos hay por cada tipo de dato en columnas-------------------------------------"
   ]
  },
  {
   "cell_type": "code",
   "execution_count": 5,
   "id": "c694df9c",
   "metadata": {},
   "outputs": [
    {
     "data": {
      "text/html": [
       "<div>\n",
       "<style scoped>\n",
       "    .dataframe tbody tr th:only-of-type {\n",
       "        vertical-align: middle;\n",
       "    }\n",
       "\n",
       "    .dataframe tbody tr th {\n",
       "        vertical-align: top;\n",
       "    }\n",
       "\n",
       "    .dataframe thead th {\n",
       "        text-align: right;\n",
       "    }\n",
       "</style>\n",
       "<table border=\"1\" class=\"dataframe\">\n",
       "  <thead>\n",
       "    <tr style=\"text-align: right;\">\n",
       "      <th></th>\n",
       "      <th>TIPO_ENTIDAD</th>\n",
       "      <th>count</th>\n",
       "    </tr>\n",
       "  </thead>\n",
       "  <tbody>\n",
       "    <tr>\n",
       "      <th>0</th>\n",
       "      <td>5</td>\n",
       "      <td>1457796</td>\n",
       "    </tr>\n",
       "    <tr>\n",
       "      <th>1</th>\n",
       "      <td>85</td>\n",
       "      <td>659843</td>\n",
       "    </tr>\n",
       "    <tr>\n",
       "      <th>2</th>\n",
       "      <td>87</td>\n",
       "      <td>48295</td>\n",
       "    </tr>\n",
       "  </tbody>\n",
       "</table>\n",
       "</div>"
      ],
      "text/plain": [
       "   TIPO_ENTIDAD    count\n",
       "0             5  1457796\n",
       "1            85   659843\n",
       "2            87    48295"
      ]
     },
     "execution_count": 5,
     "metadata": {},
     "output_type": "execute_result"
    }
   ],
   "source": [
    "df_FondosInversion_colectiva['TIPO_ENTIDAD'].value_counts().reset_index()"
   ]
  },
  {
   "cell_type": "code",
   "execution_count": 6,
   "id": "806aad91",
   "metadata": {},
   "outputs": [
    {
     "data": {
      "text/html": [
       "<div>\n",
       "<style scoped>\n",
       "    .dataframe tbody tr th:only-of-type {\n",
       "        vertical-align: middle;\n",
       "    }\n",
       "\n",
       "    .dataframe tbody tr th {\n",
       "        vertical-align: top;\n",
       "    }\n",
       "\n",
       "    .dataframe thead th {\n",
       "        text-align: right;\n",
       "    }\n",
       "</style>\n",
       "<table border=\"1\" class=\"dataframe\">\n",
       "  <thead>\n",
       "    <tr style=\"text-align: right;\">\n",
       "      <th></th>\n",
       "      <th>NOMBRE_TIPO_ENTIDAD</th>\n",
       "      <th>count</th>\n",
       "    </tr>\n",
       "  </thead>\n",
       "  <tbody>\n",
       "    <tr>\n",
       "      <th>0</th>\n",
       "      <td>SF-SOCIEDAD FIDUCIARIA</td>\n",
       "      <td>1457796</td>\n",
       "    </tr>\n",
       "    <tr>\n",
       "      <th>1</th>\n",
       "      <td>COMISIONISTAS DE BOLSA DE VALORES</td>\n",
       "      <td>659843</td>\n",
       "    </tr>\n",
       "    <tr>\n",
       "      <th>2</th>\n",
       "      <td>SOCIEDADES ADMINISTRADORAS DE INVERSIÓN</td>\n",
       "      <td>48295</td>\n",
       "    </tr>\n",
       "  </tbody>\n",
       "</table>\n",
       "</div>"
      ],
      "text/plain": [
       "                       NOMBRE_TIPO_ENTIDAD    count\n",
       "0                   SF-SOCIEDAD FIDUCIARIA  1457796\n",
       "1        COMISIONISTAS DE BOLSA DE VALORES   659843\n",
       "2  SOCIEDADES ADMINISTRADORAS DE INVERSIÓN    48295"
      ]
     },
     "execution_count": 6,
     "metadata": {},
     "output_type": "execute_result"
    }
   ],
   "source": [
    "df_FondosInversion_colectiva['NOMBRE_TIPO_ENTIDAD'].value_counts().reset_index()"
   ]
  },
  {
   "cell_type": "code",
   "execution_count": 7,
   "id": "fb3de663",
   "metadata": {},
   "outputs": [
    {
     "data": {
      "text/html": [
       "<div>\n",
       "<style scoped>\n",
       "    .dataframe tbody tr th:only-of-type {\n",
       "        vertical-align: middle;\n",
       "    }\n",
       "\n",
       "    .dataframe tbody tr th {\n",
       "        vertical-align: top;\n",
       "    }\n",
       "\n",
       "    .dataframe thead th {\n",
       "        text-align: right;\n",
       "    }\n",
       "</style>\n",
       "<table border=\"1\" class=\"dataframe\">\n",
       "  <thead>\n",
       "    <tr style=\"text-align: right;\">\n",
       "      <th></th>\n",
       "      <th>NOMBRE_ENTIDAD</th>\n",
       "      <th>count</th>\n",
       "    </tr>\n",
       "  </thead>\n",
       "  <tbody>\n",
       "    <tr>\n",
       "      <th>0</th>\n",
       "      <td>Alianza Fiduciaria S.A.</td>\n",
       "      <td>384409</td>\n",
       "    </tr>\n",
       "    <tr>\n",
       "      <th>1</th>\n",
       "      <td>Btg Pactual</td>\n",
       "      <td>135938</td>\n",
       "    </tr>\n",
       "    <tr>\n",
       "      <th>2</th>\n",
       "      <td>Fiduciaria Corficolombiana S.A.</td>\n",
       "      <td>129919</td>\n",
       "    </tr>\n",
       "    <tr>\n",
       "      <th>3</th>\n",
       "      <td>Credicorp Capital</td>\n",
       "      <td>126476</td>\n",
       "    </tr>\n",
       "    <tr>\n",
       "      <th>4</th>\n",
       "      <td>Corredores Davivienda S.A.Comisionista De Bolsa</td>\n",
       "      <td>121583</td>\n",
       "    </tr>\n",
       "    <tr>\n",
       "      <th>5</th>\n",
       "      <td>Fiduciaria De Occidente S.A.  - Fiduoccidente ...</td>\n",
       "      <td>99396</td>\n",
       "    </tr>\n",
       "    <tr>\n",
       "      <th>6</th>\n",
       "      <td>Fiduciaria Bogotá S.A.</td>\n",
       "      <td>91688</td>\n",
       "    </tr>\n",
       "    <tr>\n",
       "      <th>7</th>\n",
       "      <td>Fiduciaria Bancolombia S.A. Sociedad Fiduciaria</td>\n",
       "      <td>82620</td>\n",
       "    </tr>\n",
       "    <tr>\n",
       "      <th>8</th>\n",
       "      <td>Fiduciaria Central S.A. Sigla Fiducentral S.A.</td>\n",
       "      <td>78625</td>\n",
       "    </tr>\n",
       "    <tr>\n",
       "      <th>9</th>\n",
       "      <td>Bbva Asset Management S.A. Sociedad Fiduciaria</td>\n",
       "      <td>73377</td>\n",
       "    </tr>\n",
       "    <tr>\n",
       "      <th>10</th>\n",
       "      <td>Skandia Fiduciaria S.A.</td>\n",
       "      <td>70616</td>\n",
       "    </tr>\n",
       "    <tr>\n",
       "      <th>11</th>\n",
       "      <td>Ultraserfinco S.A.</td>\n",
       "      <td>53278</td>\n",
       "    </tr>\n",
       "    <tr>\n",
       "      <th>12</th>\n",
       "      <td>Sociedad Fiduciaria De Desarrollo Agropecuario...</td>\n",
       "      <td>49589</td>\n",
       "    </tr>\n",
       "    <tr>\n",
       "      <th>13</th>\n",
       "      <td>Fiduciaria Coomeva S.A.</td>\n",
       "      <td>46971</td>\n",
       "    </tr>\n",
       "    <tr>\n",
       "      <th>14</th>\n",
       "      <td>Fiduciaria Popular S.A. - Fiduciar S.A.</td>\n",
       "      <td>45836</td>\n",
       "    </tr>\n",
       "    <tr>\n",
       "      <th>15</th>\n",
       "      <td>Fiduciaria Davivienda S.A. Pudiendo Utilizar L...</td>\n",
       "      <td>42482</td>\n",
       "    </tr>\n",
       "    <tr>\n",
       "      <th>16</th>\n",
       "      <td>Fiduciaria Sura S.A.</td>\n",
       "      <td>41555</td>\n",
       "    </tr>\n",
       "    <tr>\n",
       "      <th>17</th>\n",
       "      <td>Valores Bancolombia S.A. Comisionista De Bolsa</td>\n",
       "      <td>38047</td>\n",
       "    </tr>\n",
       "    <tr>\n",
       "      <th>18</th>\n",
       "      <td>Fiduciaria La Previsora S.A.  Sigla Fiduprevis...</td>\n",
       "      <td>37760</td>\n",
       "    </tr>\n",
       "    <tr>\n",
       "      <th>19</th>\n",
       "      <td>Itaú Fiduciaria</td>\n",
       "      <td>37330</td>\n",
       "    </tr>\n",
       "    <tr>\n",
       "      <th>20</th>\n",
       "      <td>Global Securities S.A. Comisionista De Bolsa</td>\n",
       "      <td>37184</td>\n",
       "    </tr>\n",
       "    <tr>\n",
       "      <th>21</th>\n",
       "      <td>Profesionales De Bolsa</td>\n",
       "      <td>32045</td>\n",
       "    </tr>\n",
       "    <tr>\n",
       "      <th>22</th>\n",
       "      <td>Credicorp Capital Fiduciaria S.A.</td>\n",
       "      <td>28698</td>\n",
       "    </tr>\n",
       "    <tr>\n",
       "      <th>23</th>\n",
       "      <td>Progresion Scb</td>\n",
       "      <td>27549</td>\n",
       "    </tr>\n",
       "    <tr>\n",
       "      <th>24</th>\n",
       "      <td>Progresion Sociedad Administradora De Inversio...</td>\n",
       "      <td>27537</td>\n",
       "    </tr>\n",
       "    <tr>\n",
       "      <th>25</th>\n",
       "      <td>Renta4g Fiduciaria</td>\n",
       "      <td>26232</td>\n",
       "    </tr>\n",
       "    <tr>\n",
       "      <th>26</th>\n",
       "      <td>Larrain Vial Colombia S.A.  Comisionista De Bolsa</td>\n",
       "      <td>25482</td>\n",
       "    </tr>\n",
       "    <tr>\n",
       "      <th>27</th>\n",
       "      <td>Fiducoldex</td>\n",
       "      <td>25070</td>\n",
       "    </tr>\n",
       "    <tr>\n",
       "      <th>28</th>\n",
       "      <td>Caja Social</td>\n",
       "      <td>24098</td>\n",
       "    </tr>\n",
       "    <tr>\n",
       "      <th>29</th>\n",
       "      <td>Acciones Y Valores S.A.  Comisionistas De Bolsa</td>\n",
       "      <td>22199</td>\n",
       "    </tr>\n",
       "    <tr>\n",
       "      <th>30</th>\n",
       "      <td>Seaf</td>\n",
       "      <td>20454</td>\n",
       "    </tr>\n",
       "    <tr>\n",
       "      <th>31</th>\n",
       "      <td>Scotiabank Fiduciaria Colpatria\", \"Colpatria S...</td>\n",
       "      <td>17465</td>\n",
       "    </tr>\n",
       "    <tr>\n",
       "      <th>32</th>\n",
       "      <td>Accion Sociedad Fiduciaria S.A.  Sigla Acción ...</td>\n",
       "      <td>13790</td>\n",
       "    </tr>\n",
       "    <tr>\n",
       "      <th>33</th>\n",
       "      <td>Alianza Valores</td>\n",
       "      <td>8028</td>\n",
       "    </tr>\n",
       "    <tr>\n",
       "      <th>34</th>\n",
       "      <td>Servitrust Gnb Sudameris S.A.</td>\n",
       "      <td>7879</td>\n",
       "    </tr>\n",
       "    <tr>\n",
       "      <th>35</th>\n",
       "      <td>Servivalores Gnb Sudameris S.A. Comisionista D...</td>\n",
       "      <td>6445</td>\n",
       "    </tr>\n",
       "    <tr>\n",
       "      <th>36</th>\n",
       "      <td>Itaú Comisionista De Bolsa</td>\n",
       "      <td>4941</td>\n",
       "    </tr>\n",
       "    <tr>\n",
       "      <th>37</th>\n",
       "      <td>Casa De Bolsa S.A.</td>\n",
       "      <td>4920</td>\n",
       "    </tr>\n",
       "    <tr>\n",
       "      <th>38</th>\n",
       "      <td>Citivalores</td>\n",
       "      <td>4185</td>\n",
       "    </tr>\n",
       "    <tr>\n",
       "      <th>39</th>\n",
       "      <td>Valoralta  S.A. Comisionista De Bolsa</td>\n",
       "      <td>3923</td>\n",
       "    </tr>\n",
       "    <tr>\n",
       "      <th>40</th>\n",
       "      <td>Ualet S.A. Comisionista De Bolsa</td>\n",
       "      <td>2673</td>\n",
       "    </tr>\n",
       "    <tr>\n",
       "      <th>41</th>\n",
       "      <td>Bbva Valores</td>\n",
       "      <td>2410</td>\n",
       "    </tr>\n",
       "    <tr>\n",
       "      <th>42</th>\n",
       "      <td>Fiduciaria Del País S.A. - Fidupais S.A.</td>\n",
       "      <td>2391</td>\n",
       "    </tr>\n",
       "    <tr>\n",
       "      <th>43</th>\n",
       "      <td>Skandia Valores S.A.</td>\n",
       "      <td>1320</td>\n",
       "    </tr>\n",
       "    <tr>\n",
       "      <th>44</th>\n",
       "      <td>Compass Group S.A.</td>\n",
       "      <td>1217</td>\n",
       "    </tr>\n",
       "    <tr>\n",
       "      <th>45</th>\n",
       "      <td>Seguridad Compañia Administradora De Fondos De...</td>\n",
       "      <td>304</td>\n",
       "    </tr>\n",
       "  </tbody>\n",
       "</table>\n",
       "</div>"
      ],
      "text/plain": [
       "                                       NOMBRE_ENTIDAD   count\n",
       "0                             Alianza Fiduciaria S.A.  384409\n",
       "1                                         Btg Pactual  135938\n",
       "2                     Fiduciaria Corficolombiana S.A.  129919\n",
       "3                                   Credicorp Capital  126476\n",
       "4     Corredores Davivienda S.A.Comisionista De Bolsa  121583\n",
       "5   Fiduciaria De Occidente S.A.  - Fiduoccidente ...   99396\n",
       "6                              Fiduciaria Bogotá S.A.   91688\n",
       "7     Fiduciaria Bancolombia S.A. Sociedad Fiduciaria   82620\n",
       "8      Fiduciaria Central S.A. Sigla Fiducentral S.A.   78625\n",
       "9      Bbva Asset Management S.A. Sociedad Fiduciaria   73377\n",
       "10                            Skandia Fiduciaria S.A.   70616\n",
       "11                                 Ultraserfinco S.A.   53278\n",
       "12  Sociedad Fiduciaria De Desarrollo Agropecuario...   49589\n",
       "13                            Fiduciaria Coomeva S.A.   46971\n",
       "14            Fiduciaria Popular S.A. - Fiduciar S.A.   45836\n",
       "15  Fiduciaria Davivienda S.A. Pudiendo Utilizar L...   42482\n",
       "16                               Fiduciaria Sura S.A.   41555\n",
       "17     Valores Bancolombia S.A. Comisionista De Bolsa   38047\n",
       "18  Fiduciaria La Previsora S.A.  Sigla Fiduprevis...   37760\n",
       "19                                    Itaú Fiduciaria   37330\n",
       "20       Global Securities S.A. Comisionista De Bolsa   37184\n",
       "21                             Profesionales De Bolsa   32045\n",
       "22                  Credicorp Capital Fiduciaria S.A.   28698\n",
       "23                                     Progresion Scb   27549\n",
       "24  Progresion Sociedad Administradora De Inversio...   27537\n",
       "25                                 Renta4g Fiduciaria   26232\n",
       "26  Larrain Vial Colombia S.A.  Comisionista De Bolsa   25482\n",
       "27                                         Fiducoldex   25070\n",
       "28                                        Caja Social   24098\n",
       "29    Acciones Y Valores S.A.  Comisionistas De Bolsa   22199\n",
       "30                                               Seaf   20454\n",
       "31  Scotiabank Fiduciaria Colpatria\", \"Colpatria S...   17465\n",
       "32  Accion Sociedad Fiduciaria S.A.  Sigla Acción ...   13790\n",
       "33                                    Alianza Valores    8028\n",
       "34                      Servitrust Gnb Sudameris S.A.    7879\n",
       "35  Servivalores Gnb Sudameris S.A. Comisionista D...    6445\n",
       "36                         Itaú Comisionista De Bolsa    4941\n",
       "37                                 Casa De Bolsa S.A.    4920\n",
       "38                                        Citivalores    4185\n",
       "39              Valoralta  S.A. Comisionista De Bolsa    3923\n",
       "40                   Ualet S.A. Comisionista De Bolsa    2673\n",
       "41                                       Bbva Valores    2410\n",
       "42           Fiduciaria Del País S.A. - Fidupais S.A.    2391\n",
       "43                               Skandia Valores S.A.    1320\n",
       "44                                 Compass Group S.A.    1217\n",
       "45  Seguridad Compañia Administradora De Fondos De...     304"
      ]
     },
     "execution_count": 7,
     "metadata": {},
     "output_type": "execute_result"
    }
   ],
   "source": [
    "df_FondosInversion_colectiva['NOMBRE_ENTIDAD'].value_counts().reset_index()"
   ]
  },
  {
   "cell_type": "code",
   "execution_count": 8,
   "id": "cff766b7",
   "metadata": {},
   "outputs": [
    {
     "data": {
      "text/html": [
       "<div>\n",
       "<style scoped>\n",
       "    .dataframe tbody tr th:only-of-type {\n",
       "        vertical-align: middle;\n",
       "    }\n",
       "\n",
       "    .dataframe tbody tr th {\n",
       "        vertical-align: top;\n",
       "    }\n",
       "\n",
       "    .dataframe thead th {\n",
       "        text-align: right;\n",
       "    }\n",
       "</style>\n",
       "<table border=\"1\" class=\"dataframe\">\n",
       "  <thead>\n",
       "    <tr style=\"text-align: right;\">\n",
       "      <th></th>\n",
       "      <th>CODIGO_ENTIDAD</th>\n",
       "      <th>count</th>\n",
       "    </tr>\n",
       "  </thead>\n",
       "  <tbody>\n",
       "    <tr>\n",
       "      <th>0</th>\n",
       "      <td>16</td>\n",
       "      <td>384409</td>\n",
       "    </tr>\n",
       "    <tr>\n",
       "      <th>1</th>\n",
       "      <td>14</td>\n",
       "      <td>135938</td>\n",
       "    </tr>\n",
       "    <tr>\n",
       "      <th>2</th>\n",
       "      <td>21</td>\n",
       "      <td>131441</td>\n",
       "    </tr>\n",
       "    <tr>\n",
       "      <th>3</th>\n",
       "      <td>20</td>\n",
       "      <td>129919</td>\n",
       "    </tr>\n",
       "    <tr>\n",
       "      <th>4</th>\n",
       "      <td>22</td>\n",
       "      <td>129735</td>\n",
       "    </tr>\n",
       "    <tr>\n",
       "      <th>5</th>\n",
       "      <td>28</td>\n",
       "      <td>126476</td>\n",
       "    </tr>\n",
       "    <tr>\n",
       "      <th>6</th>\n",
       "      <td>26</td>\n",
       "      <td>121583</td>\n",
       "    </tr>\n",
       "    <tr>\n",
       "      <th>7</th>\n",
       "      <td>62</td>\n",
       "      <td>100249</td>\n",
       "    </tr>\n",
       "    <tr>\n",
       "      <th>8</th>\n",
       "      <td>3</td>\n",
       "      <td>95576</td>\n",
       "    </tr>\n",
       "    <tr>\n",
       "      <th>9</th>\n",
       "      <td>31</td>\n",
       "      <td>82620</td>\n",
       "    </tr>\n",
       "    <tr>\n",
       "      <th>10</th>\n",
       "      <td>38</td>\n",
       "      <td>78625</td>\n",
       "    </tr>\n",
       "    <tr>\n",
       "      <th>11</th>\n",
       "      <td>7</td>\n",
       "      <td>70616</td>\n",
       "    </tr>\n",
       "    <tr>\n",
       "      <th>12</th>\n",
       "      <td>39</td>\n",
       "      <td>49589</td>\n",
       "    </tr>\n",
       "    <tr>\n",
       "      <th>13</th>\n",
       "      <td>9</td>\n",
       "      <td>48003</td>\n",
       "    </tr>\n",
       "    <tr>\n",
       "      <th>14</th>\n",
       "      <td>18</td>\n",
       "      <td>45836</td>\n",
       "    </tr>\n",
       "    <tr>\n",
       "      <th>15</th>\n",
       "      <td>42</td>\n",
       "      <td>42482</td>\n",
       "    </tr>\n",
       "    <tr>\n",
       "      <th>16</th>\n",
       "      <td>58</td>\n",
       "      <td>41555</td>\n",
       "    </tr>\n",
       "    <tr>\n",
       "      <th>17</th>\n",
       "      <td>12</td>\n",
       "      <td>37760</td>\n",
       "    </tr>\n",
       "    <tr>\n",
       "      <th>18</th>\n",
       "      <td>23</td>\n",
       "      <td>37330</td>\n",
       "    </tr>\n",
       "    <tr>\n",
       "      <th>19</th>\n",
       "      <td>68</td>\n",
       "      <td>37184</td>\n",
       "    </tr>\n",
       "    <tr>\n",
       "      <th>20</th>\n",
       "      <td>59</td>\n",
       "      <td>28698</td>\n",
       "    </tr>\n",
       "    <tr>\n",
       "      <th>21</th>\n",
       "      <td>11</td>\n",
       "      <td>27537</td>\n",
       "    </tr>\n",
       "    <tr>\n",
       "      <th>22</th>\n",
       "      <td>63</td>\n",
       "      <td>26232</td>\n",
       "    </tr>\n",
       "    <tr>\n",
       "      <th>23</th>\n",
       "      <td>97</td>\n",
       "      <td>25482</td>\n",
       "    </tr>\n",
       "    <tr>\n",
       "      <th>24</th>\n",
       "      <td>40</td>\n",
       "      <td>25070</td>\n",
       "    </tr>\n",
       "    <tr>\n",
       "      <th>25</th>\n",
       "      <td>6</td>\n",
       "      <td>24098</td>\n",
       "    </tr>\n",
       "    <tr>\n",
       "      <th>26</th>\n",
       "      <td>25</td>\n",
       "      <td>17465</td>\n",
       "    </tr>\n",
       "    <tr>\n",
       "      <th>27</th>\n",
       "      <td>33</td>\n",
       "      <td>13790</td>\n",
       "    </tr>\n",
       "    <tr>\n",
       "      <th>28</th>\n",
       "      <td>51</td>\n",
       "      <td>8028</td>\n",
       "    </tr>\n",
       "    <tr>\n",
       "      <th>29</th>\n",
       "      <td>34</td>\n",
       "      <td>7879</td>\n",
       "    </tr>\n",
       "    <tr>\n",
       "      <th>30</th>\n",
       "      <td>91</td>\n",
       "      <td>6445</td>\n",
       "    </tr>\n",
       "    <tr>\n",
       "      <th>31</th>\n",
       "      <td>88</td>\n",
       "      <td>4941</td>\n",
       "    </tr>\n",
       "    <tr>\n",
       "      <th>32</th>\n",
       "      <td>76</td>\n",
       "      <td>4920</td>\n",
       "    </tr>\n",
       "    <tr>\n",
       "      <th>33</th>\n",
       "      <td>73</td>\n",
       "      <td>4185</td>\n",
       "    </tr>\n",
       "    <tr>\n",
       "      <th>34</th>\n",
       "      <td>10</td>\n",
       "      <td>3923</td>\n",
       "    </tr>\n",
       "    <tr>\n",
       "      <th>35</th>\n",
       "      <td>5</td>\n",
       "      <td>2977</td>\n",
       "    </tr>\n",
       "    <tr>\n",
       "      <th>36</th>\n",
       "      <td>27</td>\n",
       "      <td>2410</td>\n",
       "    </tr>\n",
       "    <tr>\n",
       "      <th>37</th>\n",
       "      <td>57</td>\n",
       "      <td>2391</td>\n",
       "    </tr>\n",
       "    <tr>\n",
       "      <th>38</th>\n",
       "      <td>93</td>\n",
       "      <td>1320</td>\n",
       "    </tr>\n",
       "    <tr>\n",
       "      <th>39</th>\n",
       "      <td>32</td>\n",
       "      <td>1217</td>\n",
       "    </tr>\n",
       "  </tbody>\n",
       "</table>\n",
       "</div>"
      ],
      "text/plain": [
       "    CODIGO_ENTIDAD   count\n",
       "0               16  384409\n",
       "1               14  135938\n",
       "2               21  131441\n",
       "3               20  129919\n",
       "4               22  129735\n",
       "5               28  126476\n",
       "6               26  121583\n",
       "7               62  100249\n",
       "8                3   95576\n",
       "9               31   82620\n",
       "10              38   78625\n",
       "11               7   70616\n",
       "12              39   49589\n",
       "13               9   48003\n",
       "14              18   45836\n",
       "15              42   42482\n",
       "16              58   41555\n",
       "17              12   37760\n",
       "18              23   37330\n",
       "19              68   37184\n",
       "20              59   28698\n",
       "21              11   27537\n",
       "22              63   26232\n",
       "23              97   25482\n",
       "24              40   25070\n",
       "25               6   24098\n",
       "26              25   17465\n",
       "27              33   13790\n",
       "28              51    8028\n",
       "29              34    7879\n",
       "30              91    6445\n",
       "31              88    4941\n",
       "32              76    4920\n",
       "33              73    4185\n",
       "34              10    3923\n",
       "35               5    2977\n",
       "36              27    2410\n",
       "37              57    2391\n",
       "38              93    1320\n",
       "39              32    1217"
      ]
     },
     "execution_count": 8,
     "metadata": {},
     "output_type": "execute_result"
    }
   ],
   "source": [
    "df_FondosInversion_colectiva['CODIGO_ENTIDAD'].value_counts().reset_index()"
   ]
  },
  {
   "cell_type": "code",
   "execution_count": 9,
   "id": "a8e3c220",
   "metadata": {},
   "outputs": [
    {
     "data": {
      "text/html": [
       "<div>\n",
       "<style scoped>\n",
       "    .dataframe tbody tr th:only-of-type {\n",
       "        vertical-align: middle;\n",
       "    }\n",
       "\n",
       "    .dataframe tbody tr th {\n",
       "        vertical-align: top;\n",
       "    }\n",
       "\n",
       "    .dataframe thead th {\n",
       "        text-align: right;\n",
       "    }\n",
       "</style>\n",
       "<table border=\"1\" class=\"dataframe\">\n",
       "  <thead>\n",
       "    <tr style=\"text-align: right;\">\n",
       "      <th></th>\n",
       "      <th>SUBTIPO_NEGOCIO</th>\n",
       "      <th>count</th>\n",
       "    </tr>\n",
       "  </thead>\n",
       "  <tbody>\n",
       "    <tr>\n",
       "      <th>0</th>\n",
       "      <td>1</td>\n",
       "      <td>1438935</td>\n",
       "    </tr>\n",
       "    <tr>\n",
       "      <th>1</th>\n",
       "      <td>7</td>\n",
       "      <td>624622</td>\n",
       "    </tr>\n",
       "    <tr>\n",
       "      <th>2</th>\n",
       "      <td>3</td>\n",
       "      <td>52487</td>\n",
       "    </tr>\n",
       "    <tr>\n",
       "      <th>3</th>\n",
       "      <td>2</td>\n",
       "      <td>42195</td>\n",
       "    </tr>\n",
       "    <tr>\n",
       "      <th>4</th>\n",
       "      <td>6</td>\n",
       "      <td>7695</td>\n",
       "    </tr>\n",
       "  </tbody>\n",
       "</table>\n",
       "</div>"
      ],
      "text/plain": [
       "   SUBTIPO_NEGOCIO    count\n",
       "0                1  1438935\n",
       "1                7   624622\n",
       "2                3    52487\n",
       "3                2    42195\n",
       "4                6     7695"
      ]
     },
     "execution_count": 9,
     "metadata": {},
     "output_type": "execute_result"
    }
   ],
   "source": [
    "df_FondosInversion_colectiva['SUBTIPO_NEGOCIO'].value_counts().reset_index()"
   ]
  },
  {
   "cell_type": "code",
   "execution_count": 10,
   "id": "8648712e",
   "metadata": {},
   "outputs": [
    {
     "data": {
      "text/html": [
       "<div>\n",
       "<style scoped>\n",
       "    .dataframe tbody tr th:only-of-type {\n",
       "        vertical-align: middle;\n",
       "    }\n",
       "\n",
       "    .dataframe tbody tr th {\n",
       "        vertical-align: top;\n",
       "    }\n",
       "\n",
       "    .dataframe thead th {\n",
       "        text-align: right;\n",
       "    }\n",
       "</style>\n",
       "<table border=\"1\" class=\"dataframe\">\n",
       "  <thead>\n",
       "    <tr style=\"text-align: right;\">\n",
       "      <th></th>\n",
       "      <th>NOMBRE_SUBTIPO_PATRIMONIO</th>\n",
       "      <th>count</th>\n",
       "    </tr>\n",
       "  </thead>\n",
       "  <tbody>\n",
       "    <tr>\n",
       "      <th>0</th>\n",
       "      <td>FIC DE TIPO GENERAL</td>\n",
       "      <td>1438935</td>\n",
       "    </tr>\n",
       "    <tr>\n",
       "      <th>1</th>\n",
       "      <td>FONDOS DE CAPITAL PRIVADO</td>\n",
       "      <td>624622</td>\n",
       "    </tr>\n",
       "    <tr>\n",
       "      <th>2</th>\n",
       "      <td>FIC INMOBILIARIAS</td>\n",
       "      <td>52487</td>\n",
       "    </tr>\n",
       "    <tr>\n",
       "      <th>3</th>\n",
       "      <td>FIC DE MERCADO MONETARIO</td>\n",
       "      <td>42195</td>\n",
       "    </tr>\n",
       "    <tr>\n",
       "      <th>4</th>\n",
       "      <td>FIC BURSATILES</td>\n",
       "      <td>7695</td>\n",
       "    </tr>\n",
       "  </tbody>\n",
       "</table>\n",
       "</div>"
      ],
      "text/plain": [
       "   NOMBRE_SUBTIPO_PATRIMONIO    count\n",
       "0        FIC DE TIPO GENERAL  1438935\n",
       "1  FONDOS DE CAPITAL PRIVADO   624622\n",
       "2          FIC INMOBILIARIAS    52487\n",
       "3   FIC DE MERCADO MONETARIO    42195\n",
       "4             FIC BURSATILES     7695"
      ]
     },
     "execution_count": 10,
     "metadata": {},
     "output_type": "execute_result"
    }
   ],
   "source": [
    "df_FondosInversion_colectiva['NOMBRE_SUBTIPO_PATRIMONIO'].value_counts().reset_index()"
   ]
  },
  {
   "cell_type": "code",
   "execution_count": 11,
   "id": "02fac0f9",
   "metadata": {},
   "outputs": [
    {
     "data": {
      "text/html": [
       "<div>\n",
       "<style scoped>\n",
       "    .dataframe tbody tr th:only-of-type {\n",
       "        vertical-align: middle;\n",
       "    }\n",
       "\n",
       "    .dataframe tbody tr th {\n",
       "        vertical-align: top;\n",
       "    }\n",
       "\n",
       "    .dataframe thead th {\n",
       "        text-align: right;\n",
       "    }\n",
       "</style>\n",
       "<table border=\"1\" class=\"dataframe\">\n",
       "  <thead>\n",
       "    <tr style=\"text-align: right;\">\n",
       "      <th></th>\n",
       "      <th>NOMBRE_SUBTIPO_PATRIMONIO</th>\n",
       "      <th>count</th>\n",
       "    </tr>\n",
       "  </thead>\n",
       "  <tbody>\n",
       "    <tr>\n",
       "      <th>0</th>\n",
       "      <td>FIC DE TIPO GENERAL</td>\n",
       "      <td>1438935</td>\n",
       "    </tr>\n",
       "    <tr>\n",
       "      <th>1</th>\n",
       "      <td>FONDOS DE CAPITAL PRIVADO</td>\n",
       "      <td>624622</td>\n",
       "    </tr>\n",
       "    <tr>\n",
       "      <th>2</th>\n",
       "      <td>FIC INMOBILIARIAS</td>\n",
       "      <td>52487</td>\n",
       "    </tr>\n",
       "    <tr>\n",
       "      <th>3</th>\n",
       "      <td>FIC DE MERCADO MONETARIO</td>\n",
       "      <td>42195</td>\n",
       "    </tr>\n",
       "    <tr>\n",
       "      <th>4</th>\n",
       "      <td>FIC BURSATILES</td>\n",
       "      <td>7695</td>\n",
       "    </tr>\n",
       "  </tbody>\n",
       "</table>\n",
       "</div>"
      ],
      "text/plain": [
       "   NOMBRE_SUBTIPO_PATRIMONIO    count\n",
       "0        FIC DE TIPO GENERAL  1438935\n",
       "1  FONDOS DE CAPITAL PRIVADO   624622\n",
       "2          FIC INMOBILIARIAS    52487\n",
       "3   FIC DE MERCADO MONETARIO    42195\n",
       "4             FIC BURSATILES     7695"
      ]
     },
     "execution_count": 11,
     "metadata": {},
     "output_type": "execute_result"
    }
   ],
   "source": [
    "df_FondosInversion_colectiva['NOMBRE_SUBTIPO_PATRIMONIO'].value_counts().reset_index()"
   ]
  },
  {
   "cell_type": "code",
   "execution_count": 12,
   "id": "2a8dae40",
   "metadata": {},
   "outputs": [
    {
     "data": {
      "text/html": [
       "<div>\n",
       "<style scoped>\n",
       "    .dataframe tbody tr th:only-of-type {\n",
       "        vertical-align: middle;\n",
       "    }\n",
       "\n",
       "    .dataframe tbody tr th {\n",
       "        vertical-align: top;\n",
       "    }\n",
       "\n",
       "    .dataframe thead th {\n",
       "        text-align: right;\n",
       "    }\n",
       "</style>\n",
       "<table border=\"1\" class=\"dataframe\">\n",
       "  <thead>\n",
       "    <tr style=\"text-align: right;\">\n",
       "      <th></th>\n",
       "      <th>CODIGO_NEGOCIO</th>\n",
       "      <th>count</th>\n",
       "    </tr>\n",
       "  </thead>\n",
       "  <tbody>\n",
       "    <tr>\n",
       "      <th>0</th>\n",
       "      <td>10936</td>\n",
       "      <td>37650</td>\n",
       "    </tr>\n",
       "    <tr>\n",
       "      <th>1</th>\n",
       "      <td>53954</td>\n",
       "      <td>36143</td>\n",
       "    </tr>\n",
       "    <tr>\n",
       "      <th>2</th>\n",
       "      <td>22969</td>\n",
       "      <td>34656</td>\n",
       "    </tr>\n",
       "    <tr>\n",
       "      <th>3</th>\n",
       "      <td>10659</td>\n",
       "      <td>28300</td>\n",
       "    </tr>\n",
       "    <tr>\n",
       "      <th>4</th>\n",
       "      <td>8734</td>\n",
       "      <td>26173</td>\n",
       "    </tr>\n",
       "    <tr>\n",
       "      <th>...</th>\n",
       "      <td>...</td>\n",
       "      <td>...</td>\n",
       "    </tr>\n",
       "    <tr>\n",
       "      <th>840</th>\n",
       "      <td>121416</td>\n",
       "      <td>2</td>\n",
       "    </tr>\n",
       "    <tr>\n",
       "      <th>841</th>\n",
       "      <td>60527</td>\n",
       "      <td>1</td>\n",
       "    </tr>\n",
       "    <tr>\n",
       "      <th>842</th>\n",
       "      <td>105787</td>\n",
       "      <td>1</td>\n",
       "    </tr>\n",
       "    <tr>\n",
       "      <th>843</th>\n",
       "      <td>109465</td>\n",
       "      <td>1</td>\n",
       "    </tr>\n",
       "    <tr>\n",
       "      <th>844</th>\n",
       "      <td>108495</td>\n",
       "      <td>1</td>\n",
       "    </tr>\n",
       "  </tbody>\n",
       "</table>\n",
       "<p>845 rows × 2 columns</p>\n",
       "</div>"
      ],
      "text/plain": [
       "     CODIGO_NEGOCIO  count\n",
       "0             10936  37650\n",
       "1             53954  36143\n",
       "2             22969  34656\n",
       "3             10659  28300\n",
       "4              8734  26173\n",
       "..              ...    ...\n",
       "840          121416      2\n",
       "841           60527      1\n",
       "842          105787      1\n",
       "843          109465      1\n",
       "844          108495      1\n",
       "\n",
       "[845 rows x 2 columns]"
      ]
     },
     "execution_count": 12,
     "metadata": {},
     "output_type": "execute_result"
    }
   ],
   "source": [
    "df_FondosInversion_colectiva['CODIGO_NEGOCIO'].value_counts().reset_index()"
   ]
  },
  {
   "cell_type": "code",
   "execution_count": 13,
   "id": "6cc9c7b4",
   "metadata": {},
   "outputs": [
    {
     "name": "stdout",
     "output_type": "stream",
     "text": [
      "Fecha máxima: 2024-09-11 00:00:00\n",
      "Fecha mínima: 2016-01-01 00:00:00\n"
     ]
    },
    {
     "name": "stderr",
     "output_type": "stream",
     "text": [
      "C:\\Users\\migue\\AppData\\Local\\Temp\\ipykernel_19024\\4072824086.py:1: UserWarning: Parsing dates in %d/%m/%Y format when dayfirst=False (the default) was specified. Pass `dayfirst=True` or specify a format to silence this warning.\n",
      "  df_FondosInversion_colectiva['fecha'] = pd.to_datetime(df_FondosInversion_colectiva['FECHA_CORTE'])\n"
     ]
    }
   ],
   "source": [
    "df_FondosInversion_colectiva['fecha'] = pd.to_datetime(df_FondosInversion_colectiva['FECHA_CORTE'])\n",
    "\n",
    "# Obtener la fecha máxima y mínima\n",
    "fecha_maxima = df_FondosInversion_colectiva['fecha'].max()\n",
    "fecha_minima = df_FondosInversion_colectiva['fecha'].min()\n",
    "\n",
    "print(\"Fecha máxima:\", fecha_maxima)\n",
    "print(\"Fecha mínima:\", fecha_minima)"
   ]
  },
  {
   "cell_type": "code",
   "execution_count": 14,
   "id": "979a9d41",
   "metadata": {},
   "outputs": [
    {
     "data": {
      "text/plain": [
       "TIPO_NEGOCIO\n",
       "9    2165934\n",
       "Name: count, dtype: int64"
      ]
     },
     "execution_count": 14,
     "metadata": {},
     "output_type": "execute_result"
    }
   ],
   "source": [
    "df_FondosInversion_colectiva['TIPO_NEGOCIO'].value_counts()"
   ]
  },
  {
   "cell_type": "markdown",
   "id": "f55f40a1",
   "metadata": {},
   "source": [
    "Posible eliminacion del tipo de negocio y nom. negocio. Dado que en todas las filas se repite el mismo codigo y mismo nombre de negocio"
   ]
  },
  {
   "cell_type": "markdown",
   "id": "e5173f85",
   "metadata": {},
   "source": [
    "Validacion de datos NO NULOS"
   ]
  },
  {
   "cell_type": "code",
   "execution_count": 15,
   "id": "8929b9c5",
   "metadata": {},
   "outputs": [
    {
     "data": {
      "text/plain": [
       "FECHA_CORTE                                         2165934\n",
       "TIPO_ENTIDAD                                        2165934\n",
       "NOMBRE_TIPO_ENTIDAD                                 2165934\n",
       "CODIGO_ENTIDAD                                      2165934\n",
       "NOMBRE_ENTIDAD                                      2165934\n",
       "TIPO_NEGOCIO                                        2165934\n",
       "NOMBRE_TIPO_PATRIMONIO                              2165934\n",
       "SUBTIPO_NEGOCIO                                     2165934\n",
       "NOMBRE_SUBTIPO_PATRIMONIO                           2165934\n",
       "CODIGO_NEGOCIO                                      2165934\n",
       "NOMBRE_PATRIMONIO                                   2165934\n",
       "PRINCIPAL_COMPARTIMENTO                             2165934\n",
       "TIPO_PARTICIPACION                                  2165934\n",
       "RENDIMIENTOS_ABONADOS                               2165934\n",
       "PRECIERRE_FONDO_DIA_T                               2165934\n",
       "NUMERO_UNIDADES_FONDO_CIERRE_OPER_DIA_T_ANTERIOR    2165934\n",
       "VALOR_UNIDAD_OPERACIONES_DIA_T                      2165934\n",
       "APORTES_RECIBIDOS                                   2165934\n",
       "RETIROS_REDENCIONES                                 2165934\n",
       "ANULACIONES                                         2165934\n",
       "VALOR_FONDO_CIERRE_DIA_T                            2165934\n",
       "NUMERO_INVERSIONISTAS                               2165934\n",
       "RENTABILIDAD_DIARIA                                 2165934\n",
       "RENTABILIDAD_MENSUAL                                2165934\n",
       "RENTABILIDAD_SEMESTRAL                              2165934\n",
       "RENTABILIDAD_ANUAL                                  2165934\n",
       "fecha                                               2165934\n",
       "dtype: int64"
      ]
     },
     "execution_count": 15,
     "metadata": {},
     "output_type": "execute_result"
    }
   ],
   "source": [
    "df_FondosInversion_colectiva.notna().sum()"
   ]
  },
  {
   "cell_type": "markdown",
   "id": "11c82a32",
   "metadata": {},
   "source": [
    "Validacion de datos Nulos"
   ]
  },
  {
   "cell_type": "code",
   "execution_count": 16,
   "id": "be42c9e5",
   "metadata": {},
   "outputs": [
    {
     "data": {
      "text/plain": [
       "FECHA_CORTE                                         0\n",
       "TIPO_ENTIDAD                                        0\n",
       "NOMBRE_TIPO_ENTIDAD                                 0\n",
       "CODIGO_ENTIDAD                                      0\n",
       "NOMBRE_ENTIDAD                                      0\n",
       "TIPO_NEGOCIO                                        0\n",
       "NOMBRE_TIPO_PATRIMONIO                              0\n",
       "SUBTIPO_NEGOCIO                                     0\n",
       "NOMBRE_SUBTIPO_PATRIMONIO                           0\n",
       "CODIGO_NEGOCIO                                      0\n",
       "NOMBRE_PATRIMONIO                                   0\n",
       "PRINCIPAL_COMPARTIMENTO                             0\n",
       "TIPO_PARTICIPACION                                  0\n",
       "RENDIMIENTOS_ABONADOS                               0\n",
       "PRECIERRE_FONDO_DIA_T                               0\n",
       "NUMERO_UNIDADES_FONDO_CIERRE_OPER_DIA_T_ANTERIOR    0\n",
       "VALOR_UNIDAD_OPERACIONES_DIA_T                      0\n",
       "APORTES_RECIBIDOS                                   0\n",
       "RETIROS_REDENCIONES                                 0\n",
       "ANULACIONES                                         0\n",
       "VALOR_FONDO_CIERRE_DIA_T                            0\n",
       "NUMERO_INVERSIONISTAS                               0\n",
       "RENTABILIDAD_DIARIA                                 0\n",
       "RENTABILIDAD_MENSUAL                                0\n",
       "RENTABILIDAD_SEMESTRAL                              0\n",
       "RENTABILIDAD_ANUAL                                  0\n",
       "fecha                                               0\n",
       "dtype: int64"
      ]
     },
     "execution_count": 16,
     "metadata": {},
     "output_type": "execute_result"
    }
   ],
   "source": [
    "df_FondosInversion_colectiva.isna().sum()"
   ]
  },
  {
   "cell_type": "markdown",
   "id": "7c7bed08",
   "metadata": {},
   "source": [
    "Confirmamos que la data se puede trabajar bien, dado que no hay datos nulos y no tenemos que recurrir o otras tecnicas para solventar el problema"
   ]
  },
  {
   "cell_type": "code",
   "execution_count": 17,
   "id": "d434d62e",
   "metadata": {},
   "outputs": [
    {
     "data": {
      "text/html": [
       "<div>\n",
       "<style scoped>\n",
       "    .dataframe tbody tr th:only-of-type {\n",
       "        vertical-align: middle;\n",
       "    }\n",
       "\n",
       "    .dataframe tbody tr th {\n",
       "        vertical-align: top;\n",
       "    }\n",
       "\n",
       "    .dataframe thead th {\n",
       "        text-align: right;\n",
       "    }\n",
       "</style>\n",
       "<table border=\"1\" class=\"dataframe\">\n",
       "  <thead>\n",
       "    <tr style=\"text-align: right;\">\n",
       "      <th></th>\n",
       "      <th>TIPO_ENTIDAD</th>\n",
       "      <th>CODIGO_ENTIDAD</th>\n",
       "      <th>TIPO_NEGOCIO</th>\n",
       "      <th>SUBTIPO_NEGOCIO</th>\n",
       "      <th>CODIGO_NEGOCIO</th>\n",
       "      <th>PRINCIPAL_COMPARTIMENTO</th>\n",
       "      <th>TIPO_PARTICIPACION</th>\n",
       "      <th>RENDIMIENTOS_ABONADOS</th>\n",
       "      <th>PRECIERRE_FONDO_DIA_T</th>\n",
       "      <th>NUMERO_UNIDADES_FONDO_CIERRE_OPER_DIA_T_ANTERIOR</th>\n",
       "      <th>...</th>\n",
       "      <th>APORTES_RECIBIDOS</th>\n",
       "      <th>RETIROS_REDENCIONES</th>\n",
       "      <th>ANULACIONES</th>\n",
       "      <th>VALOR_FONDO_CIERRE_DIA_T</th>\n",
       "      <th>NUMERO_INVERSIONISTAS</th>\n",
       "      <th>RENTABILIDAD_DIARIA</th>\n",
       "      <th>RENTABILIDAD_MENSUAL</th>\n",
       "      <th>RENTABILIDAD_SEMESTRAL</th>\n",
       "      <th>RENTABILIDAD_ANUAL</th>\n",
       "      <th>fecha</th>\n",
       "    </tr>\n",
       "  </thead>\n",
       "  <tbody>\n",
       "    <tr>\n",
       "      <th>count</th>\n",
       "      <td>2165934.0</td>\n",
       "      <td>2165934.0</td>\n",
       "      <td>2165934.0</td>\n",
       "      <td>2165934.0</td>\n",
       "      <td>2165934.0</td>\n",
       "      <td>2165934.0</td>\n",
       "      <td>2165934.0</td>\n",
       "      <td>2165934.0</td>\n",
       "      <td>2165934.0</td>\n",
       "      <td>2165934.0</td>\n",
       "      <td>...</td>\n",
       "      <td>2165934.0</td>\n",
       "      <td>2165934.0</td>\n",
       "      <td>2165934.0</td>\n",
       "      <td>2165934.0</td>\n",
       "      <td>2165934.0</td>\n",
       "      <td>2165934.0</td>\n",
       "      <td>2165934.0</td>\n",
       "      <td>2165934.0</td>\n",
       "      <td>2165934.0</td>\n",
       "      <td>2165934</td>\n",
       "    </tr>\n",
       "    <tr>\n",
       "      <th>mean</th>\n",
       "      <td>31.2</td>\n",
       "      <td>26.6</td>\n",
       "      <td>9.0</td>\n",
       "      <td>2.8</td>\n",
       "      <td>56329.6</td>\n",
       "      <td>1.2</td>\n",
       "      <td>635.6</td>\n",
       "      <td>26800601.4</td>\n",
       "      <td>160007493836.6</td>\n",
       "      <td>645079892210.2</td>\n",
       "      <td>...</td>\n",
       "      <td>3310246439.0</td>\n",
       "      <td>3250164539.0</td>\n",
       "      <td>-25796145.4</td>\n",
       "      <td>160041201963.7</td>\n",
       "      <td>4194.3</td>\n",
       "      <td>631408123631088733079470080.0</td>\n",
       "      <td>126456183574563568821993472.0</td>\n",
       "      <td>27810244690566532.0</td>\n",
       "      <td>46299076.8</td>\n",
       "      <td>2020-12-05 10:55:55.202514176</td>\n",
       "    </tr>\n",
       "    <tr>\n",
       "      <th>min</th>\n",
       "      <td>5.0</td>\n",
       "      <td>3.0</td>\n",
       "      <td>9.0</td>\n",
       "      <td>1.0</td>\n",
       "      <td>2713.0</td>\n",
       "      <td>1.0</td>\n",
       "      <td>5.0</td>\n",
       "      <td>-710090588833.6</td>\n",
       "      <td>-58653463459.0</td>\n",
       "      <td>0.0</td>\n",
       "      <td>...</td>\n",
       "      <td>-0.2</td>\n",
       "      <td>-12490602.2</td>\n",
       "      <td>-3099999999399.0</td>\n",
       "      <td>-56425862649.6</td>\n",
       "      <td>0.0</td>\n",
       "      <td>-108023068920482.0</td>\n",
       "      <td>-18744659.0</td>\n",
       "      <td>-247.5</td>\n",
       "      <td>-153.5</td>\n",
       "      <td>2016-01-01 00:00:00</td>\n",
       "    </tr>\n",
       "    <tr>\n",
       "      <th>25%</th>\n",
       "      <td>5.0</td>\n",
       "      <td>16.0</td>\n",
       "      <td>9.0</td>\n",
       "      <td>1.0</td>\n",
       "      <td>29495.0</td>\n",
       "      <td>1.0</td>\n",
       "      <td>504.0</td>\n",
       "      <td>0.0</td>\n",
       "      <td>3941332724.7</td>\n",
       "      <td>314504.0</td>\n",
       "      <td>...</td>\n",
       "      <td>0.0</td>\n",
       "      <td>0.0</td>\n",
       "      <td>0.0</td>\n",
       "      <td>3944277670.6</td>\n",
       "      <td>2.0</td>\n",
       "      <td>0.0</td>\n",
       "      <td>-0.1</td>\n",
       "      <td>0.0</td>\n",
       "      <td>0.0</td>\n",
       "      <td>2018-12-12 00:00:00</td>\n",
       "    </tr>\n",
       "    <tr>\n",
       "      <th>50%</th>\n",
       "      <td>5.0</td>\n",
       "      <td>21.0</td>\n",
       "      <td>9.0</td>\n",
       "      <td>1.0</td>\n",
       "      <td>59342.0</td>\n",
       "      <td>1.0</td>\n",
       "      <td>536.0</td>\n",
       "      <td>973929.4</td>\n",
       "      <td>22594370963.9</td>\n",
       "      <td>1696881.9</td>\n",
       "      <td>...</td>\n",
       "      <td>0.0</td>\n",
       "      <td>0.0</td>\n",
       "      <td>0.0</td>\n",
       "      <td>22606362015.6</td>\n",
       "      <td>15.0</td>\n",
       "      <td>3.7</td>\n",
       "      <td>4.7</td>\n",
       "      <td>4.5</td>\n",
       "      <td>3.9</td>\n",
       "      <td>2021-03-19 00:00:00</td>\n",
       "    </tr>\n",
       "    <tr>\n",
       "      <th>75%</th>\n",
       "      <td>85.0</td>\n",
       "      <td>31.0</td>\n",
       "      <td>9.0</td>\n",
       "      <td>7.0</td>\n",
       "      <td>73593.0</td>\n",
       "      <td>1.0</td>\n",
       "      <td>800.0</td>\n",
       "      <td>13473576.3</td>\n",
       "      <td>100600921545.3</td>\n",
       "      <td>7735792.0</td>\n",
       "      <td>...</td>\n",
       "      <td>0.7</td>\n",
       "      <td>268897.5</td>\n",
       "      <td>0.0</td>\n",
       "      <td>100638568834.8</td>\n",
       "      <td>174.0</td>\n",
       "      <td>10.2</td>\n",
       "      <td>11.0</td>\n",
       "      <td>11.1</td>\n",
       "      <td>9.5</td>\n",
       "      <td>2023-01-28 00:00:00</td>\n",
       "    </tr>\n",
       "    <tr>\n",
       "      <th>max</th>\n",
       "      <td>87.0</td>\n",
       "      <td>97.0</td>\n",
       "      <td>9.0</td>\n",
       "      <td>7.0</td>\n",
       "      <td>121580.0</td>\n",
       "      <td>2.0</td>\n",
       "      <td>825.0</td>\n",
       "      <td>518355711846.6</td>\n",
       "      <td>20575931167867.6</td>\n",
       "      <td>7590328546682310.0</td>\n",
       "      <td>...</td>\n",
       "      <td>10135099698650.0</td>\n",
       "      <td>10135003044471.9</td>\n",
       "      <td>457248295031.4</td>\n",
       "      <td>20566319829428.3</td>\n",
       "      <td>2849426803.8</td>\n",
       "      <td>97798776597479386416198260359168.0</td>\n",
       "      <td>6435146136200000167149035323392.0</td>\n",
       "      <td>60235154423262094557184.0</td>\n",
       "      <td>100000000000000.0</td>\n",
       "      <td>2024-09-11 00:00:00</td>\n",
       "    </tr>\n",
       "    <tr>\n",
       "      <th>std</th>\n",
       "      <td>37.6</td>\n",
       "      <td>18.5</td>\n",
       "      <td>0.0</td>\n",
       "      <td>2.7</td>\n",
       "      <td>30337.0</td>\n",
       "      <td>0.4</td>\n",
       "      <td>147.6</td>\n",
       "      <td>2234734740.2</td>\n",
       "      <td>631343695806.2</td>\n",
       "      <td>41570484302889.7</td>\n",
       "      <td>...</td>\n",
       "      <td>23902762770.2</td>\n",
       "      <td>23491467118.0</td>\n",
       "      <td>3059820525.0</td>\n",
       "      <td>631423421622.1</td>\n",
       "      <td>1936345.6</td>\n",
       "      <td>201941119238288943636801388544.0</td>\n",
       "      <td>21215792223669752970432479232.0</td>\n",
       "      <td>40928649876267196416.0</td>\n",
       "      <td>67948292223.4</td>\n",
       "      <td>NaN</td>\n",
       "    </tr>\n",
       "  </tbody>\n",
       "</table>\n",
       "<p>8 rows × 21 columns</p>\n",
       "</div>"
      ],
      "text/plain": [
       "       TIPO_ENTIDAD  CODIGO_ENTIDAD  TIPO_NEGOCIO  SUBTIPO_NEGOCIO  \\\n",
       "count     2165934.0       2165934.0     2165934.0        2165934.0   \n",
       "mean           31.2            26.6           9.0              2.8   \n",
       "min             5.0             3.0           9.0              1.0   \n",
       "25%             5.0            16.0           9.0              1.0   \n",
       "50%             5.0            21.0           9.0              1.0   \n",
       "75%            85.0            31.0           9.0              7.0   \n",
       "max            87.0            97.0           9.0              7.0   \n",
       "std            37.6            18.5           0.0              2.7   \n",
       "\n",
       "       CODIGO_NEGOCIO  PRINCIPAL_COMPARTIMENTO  TIPO_PARTICIPACION  \\\n",
       "count       2165934.0                2165934.0           2165934.0   \n",
       "mean          56329.6                      1.2               635.6   \n",
       "min            2713.0                      1.0                 5.0   \n",
       "25%           29495.0                      1.0               504.0   \n",
       "50%           59342.0                      1.0               536.0   \n",
       "75%           73593.0                      1.0               800.0   \n",
       "max          121580.0                      2.0               825.0   \n",
       "std           30337.0                      0.4               147.6   \n",
       "\n",
       "       RENDIMIENTOS_ABONADOS  PRECIERRE_FONDO_DIA_T  \\\n",
       "count              2165934.0              2165934.0   \n",
       "mean              26800601.4         160007493836.6   \n",
       "min          -710090588833.6         -58653463459.0   \n",
       "25%                      0.0           3941332724.7   \n",
       "50%                 973929.4          22594370963.9   \n",
       "75%               13473576.3         100600921545.3   \n",
       "max           518355711846.6       20575931167867.6   \n",
       "std             2234734740.2         631343695806.2   \n",
       "\n",
       "       NUMERO_UNIDADES_FONDO_CIERRE_OPER_DIA_T_ANTERIOR  ...  \\\n",
       "count                                         2165934.0  ...   \n",
       "mean                                     645079892210.2  ...   \n",
       "min                                                 0.0  ...   \n",
       "25%                                            314504.0  ...   \n",
       "50%                                           1696881.9  ...   \n",
       "75%                                           7735792.0  ...   \n",
       "max                                  7590328546682310.0  ...   \n",
       "std                                    41570484302889.7  ...   \n",
       "\n",
       "       APORTES_RECIBIDOS  RETIROS_REDENCIONES      ANULACIONES  \\\n",
       "count          2165934.0            2165934.0        2165934.0   \n",
       "mean        3310246439.0         3250164539.0      -25796145.4   \n",
       "min                 -0.2          -12490602.2 -3099999999399.0   \n",
       "25%                  0.0                  0.0              0.0   \n",
       "50%                  0.0                  0.0              0.0   \n",
       "75%                  0.7             268897.5              0.0   \n",
       "max     10135099698650.0     10135003044471.9   457248295031.4   \n",
       "std        23902762770.2        23491467118.0     3059820525.0   \n",
       "\n",
       "       VALOR_FONDO_CIERRE_DIA_T  NUMERO_INVERSIONISTAS  \\\n",
       "count                 2165934.0              2165934.0   \n",
       "mean             160041201963.7                 4194.3   \n",
       "min              -56425862649.6                    0.0   \n",
       "25%                3944277670.6                    2.0   \n",
       "50%               22606362015.6                   15.0   \n",
       "75%              100638568834.8                  174.0   \n",
       "max            20566319829428.3           2849426803.8   \n",
       "std              631423421622.1              1936345.6   \n",
       "\n",
       "                     RENTABILIDAD_DIARIA              RENTABILIDAD_MENSUAL  \\\n",
       "count                          2165934.0                         2165934.0   \n",
       "mean       631408123631088733079470080.0     126456183574563568821993472.0   \n",
       "min                   -108023068920482.0                       -18744659.0   \n",
       "25%                                  0.0                              -0.1   \n",
       "50%                                  3.7                               4.7   \n",
       "75%                                 10.2                              11.0   \n",
       "max   97798776597479386416198260359168.0 6435146136200000167149035323392.0   \n",
       "std     201941119238288943636801388544.0   21215792223669752970432479232.0   \n",
       "\n",
       "         RENTABILIDAD_SEMESTRAL  RENTABILIDAD_ANUAL  \\\n",
       "count                 2165934.0           2165934.0   \n",
       "mean        27810244690566532.0          46299076.8   \n",
       "min                      -247.5              -153.5   \n",
       "25%                         0.0                 0.0   \n",
       "50%                         4.5                 3.9   \n",
       "75%                        11.1                 9.5   \n",
       "max   60235154423262094557184.0   100000000000000.0   \n",
       "std      40928649876267196416.0       67948292223.4   \n",
       "\n",
       "                               fecha  \n",
       "count                        2165934  \n",
       "mean   2020-12-05 10:55:55.202514176  \n",
       "min              2016-01-01 00:00:00  \n",
       "25%              2018-12-12 00:00:00  \n",
       "50%              2021-03-19 00:00:00  \n",
       "75%              2023-01-28 00:00:00  \n",
       "max              2024-09-11 00:00:00  \n",
       "std                              NaN  \n",
       "\n",
       "[8 rows x 21 columns]"
      ]
     },
     "execution_count": 17,
     "metadata": {},
     "output_type": "execute_result"
    }
   ],
   "source": [
    "pd.set_option('display.float_format', lambda x: '%.1f' % x)\n",
    "\n",
    "df_FondosInversion_colectiva.describe()"
   ]
  },
  {
   "cell_type": "code",
   "execution_count": 18,
   "id": "220fa1e4",
   "metadata": {},
   "outputs": [
    {
     "data": {
      "text/html": [
       "<div>\n",
       "<style scoped>\n",
       "    .dataframe tbody tr th:only-of-type {\n",
       "        vertical-align: middle;\n",
       "    }\n",
       "\n",
       "    .dataframe tbody tr th {\n",
       "        vertical-align: top;\n",
       "    }\n",
       "\n",
       "    .dataframe thead th {\n",
       "        text-align: right;\n",
       "    }\n",
       "</style>\n",
       "<table border=\"1\" class=\"dataframe\">\n",
       "  <thead>\n",
       "    <tr style=\"text-align: right;\">\n",
       "      <th></th>\n",
       "      <th>FECHA_CORTE</th>\n",
       "      <th>NOMBRE_TIPO_ENTIDAD</th>\n",
       "      <th>NOMBRE_ENTIDAD</th>\n",
       "      <th>NOMBRE_TIPO_PATRIMONIO</th>\n",
       "      <th>NOMBRE_SUBTIPO_PATRIMONIO</th>\n",
       "      <th>NOMBRE_PATRIMONIO</th>\n",
       "    </tr>\n",
       "  </thead>\n",
       "  <tbody>\n",
       "    <tr>\n",
       "      <th>count</th>\n",
       "      <td>2165934</td>\n",
       "      <td>2165934</td>\n",
       "      <td>2165934</td>\n",
       "      <td>2165934</td>\n",
       "      <td>2165934</td>\n",
       "      <td>2165934</td>\n",
       "    </tr>\n",
       "    <tr>\n",
       "      <th>unique</th>\n",
       "      <td>3177</td>\n",
       "      <td>3</td>\n",
       "      <td>46</td>\n",
       "      <td>1</td>\n",
       "      <td>5</td>\n",
       "      <td>824</td>\n",
       "    </tr>\n",
       "    <tr>\n",
       "      <th>top</th>\n",
       "      <td>11/04/2024</td>\n",
       "      <td>SF-SOCIEDAD FIDUCIARIA</td>\n",
       "      <td>Alianza Fiduciaria S.A.</td>\n",
       "      <td>FONDOS DE INVERSIÓN COLECTIVA</td>\n",
       "      <td>FIC DE TIPO GENERAL</td>\n",
       "      <td>FONDO ABIERTO ALIANZA</td>\n",
       "    </tr>\n",
       "    <tr>\n",
       "      <th>freq</th>\n",
       "      <td>943</td>\n",
       "      <td>1457796</td>\n",
       "      <td>384409</td>\n",
       "      <td>2165934</td>\n",
       "      <td>1438935</td>\n",
       "      <td>37650</td>\n",
       "    </tr>\n",
       "  </tbody>\n",
       "</table>\n",
       "</div>"
      ],
      "text/plain": [
       "       FECHA_CORTE     NOMBRE_TIPO_ENTIDAD           NOMBRE_ENTIDAD  \\\n",
       "count      2165934                 2165934                  2165934   \n",
       "unique        3177                       3                       46   \n",
       "top     11/04/2024  SF-SOCIEDAD FIDUCIARIA  Alianza Fiduciaria S.A.   \n",
       "freq           943                 1457796                   384409   \n",
       "\n",
       "               NOMBRE_TIPO_PATRIMONIO NOMBRE_SUBTIPO_PATRIMONIO  \\\n",
       "count                         2165934                   2165934   \n",
       "unique                              1                         5   \n",
       "top     FONDOS DE INVERSIÓN COLECTIVA       FIC DE TIPO GENERAL   \n",
       "freq                          2165934                   1438935   \n",
       "\n",
       "            NOMBRE_PATRIMONIO  \n",
       "count                 2165934  \n",
       "unique                    824  \n",
       "top     FONDO ABIERTO ALIANZA  \n",
       "freq                    37650  "
      ]
     },
     "execution_count": 18,
     "metadata": {},
     "output_type": "execute_result"
    }
   ],
   "source": [
    "df_FondosInversion_colectiva.describe(include=['object'])"
   ]
  },
  {
   "cell_type": "markdown",
   "id": "e30ba5ab",
   "metadata": {},
   "source": [
    "Identificacion de los valores unicos que hay por columna"
   ]
  },
  {
   "cell_type": "code",
   "execution_count": 19,
   "id": "a2ab66c8",
   "metadata": {},
   "outputs": [
    {
     "name": "stdout",
     "output_type": "stream",
     "text": [
      "\n",
      "Valores únicos por columna:\n",
      "\n",
      "FECHA_CORTE (3177 valores únicos):\n",
      "['20/07/2020' '12/09/2021' '09/12/2022' '23/08/2019' '04/06/2017'\n",
      " '27/04/2021' '02/09/2023' '22/03/2024' '13/04/2017' '21/12/2019']\n",
      "...\n",
      "\n",
      "TIPO_ENTIDAD (3 valores únicos):\n",
      "[87  5 85]\n",
      "\n",
      "NOMBRE_TIPO_ENTIDAD (3 valores únicos):\n",
      "['SOCIEDADES ADMINISTRADORAS DE INVERSIÓN' 'SF-SOCIEDAD FIDUCIARIA'\n",
      " 'COMISIONISTAS DE BOLSA DE VALORES']\n",
      "\n",
      "CODIGO_ENTIDAD (40 valores únicos):\n",
      "[11 39  7 38  3 16 18 28 34 68]\n",
      "...\n",
      "\n",
      "NOMBRE_ENTIDAD (46 valores únicos):\n",
      "['Progresion Sociedad Administradora De Inversion S.A.'\n",
      " 'Sociedad Fiduciaria De Desarrollo Agropecuario S.A.'\n",
      " 'Skandia Fiduciaria S.A.'\n",
      " 'Fiduciaria Central S.A. Sigla Fiducentral S.A.'\n",
      " 'Bbva Asset Management S.A. Sociedad Fiduciaria'\n",
      " 'Alianza Fiduciaria S.A.' 'Fiduciaria Popular S.A. - Fiduciar S.A.'\n",
      " 'Credicorp Capital' 'Servitrust Gnb Sudameris S.A.'\n",
      " 'Global Securities S.A. Comisionista De Bolsa']\n",
      "...\n",
      "\n",
      "TIPO_NEGOCIO (1 valores únicos):\n",
      "[9]\n",
      "\n",
      "NOMBRE_TIPO_PATRIMONIO (1 valores únicos):\n",
      "['FONDOS DE INVERSIÓN COLECTIVA']\n",
      "\n",
      "SUBTIPO_NEGOCIO (5 valores únicos):\n",
      "[1 7 3 2 6]\n",
      "\n",
      "NOMBRE_SUBTIPO_PATRIMONIO (5 valores únicos):\n",
      "['FIC DE TIPO GENERAL' 'FONDOS DE CAPITAL PRIVADO' 'FIC INMOBILIARIAS'\n",
      " 'FIC DE MERCADO MONETARIO' 'FIC BURSATILES']\n",
      "\n",
      "CODIGO_NEGOCIO (845 valores únicos):\n",
      "[63109 69537 97207 73593  8742 10936 11356 67066 10440 59336]\n",
      "...\n",
      "\n",
      "NOMBRE_PATRIMONIO (824 valores únicos):\n",
      "['FONDO DE INVERSION COLECTIVA ABIERTO PROGRESION LIQUIDEZ'\n",
      " 'FONDO DE INVERSION COLECTIVA ABIERTO FIC 600'\n",
      " 'FONDO DE INVERSIÓN COLECTIVA CON PACTO DE PERMANENCIA SKANDIA DINÁMICO'\n",
      " 'FCP VALOR FORESTAL CACAO 01 (EN LIQUIDACIÓN)'\n",
      " 'FIC ABIERTO BBVA FAM CON PARTICIPACIONES DIFERENCIALES'\n",
      " 'FONDO ABIERTO ALIANZA'\n",
      " 'FONDO DE INVERSIÓN COLECTIVA ABIERTO FIDULIQUIDEZ'\n",
      " 'CREDICORP CAPITAL DEUDA CORPORATIVA LATAM'\n",
      " 'FONDO DE INVERSION ABIERTO CASH'\n",
      " 'FONDO DE INVERSION COLECTIVA ABIERTO CON PACTO DE PERMANENCIA GLOBAL SECURITIES ACCIONES']\n",
      "...\n",
      "\n",
      "PRINCIPAL_COMPARTIMENTO (2 valores únicos):\n",
      "[1 2]\n",
      "\n",
      "TIPO_PARTICIPACION (153 valores únicos):\n",
      "[800 712 514 704 506 525 818 588 511 521]\n",
      "...\n",
      "\n",
      "RENDIMIENTOS_ABONADOS (1997842 valores únicos):\n",
      "[   308415.33   5909017.1   -3079654.82   -946959.89   7491757.51\n",
      " -14469336.41  37499050.77   2213889.43  36864649.97   -452317.86]\n",
      "...\n",
      "\n",
      "PRECIERRE_FONDO_DIA_T (2066568 valores únicos):\n",
      "[6.83270469e+09 1.05940937e+11 1.18956549e+09 6.48705675e+09\n",
      " 4.43255665e+10 2.81499101e+11 1.11653312e+11 1.02491685e+09\n",
      " 2.36141999e+11 3.82791290e+09]\n",
      "...\n",
      "\n",
      "NUMERO_UNIDADES_FONDO_CIERRE_OPER_DIA_T_ANTERIOR (792743 valores únicos):\n",
      "[  578372.35505   7949621.320636   124935.649972   913899.749413\n",
      " 19922335.199702  1812669.002076  9307943.491948    88418.348112\n",
      " 15657487.411275   306217.497989]\n",
      "...\n",
      "\n",
      "VALOR_UNIDAD_OPERACIONES_DIA_T (2039131 valores únicos):\n",
      "[ 11813.677865  13326.538784   9521.425613   7098.21482    2224.918215\n",
      " 155295.368807  11995.48668   11591.676103  15081.730123  12500.634111]\n",
      "...\n",
      "\n",
      "APORTES_RECIBIDOS (453617 valores únicos):\n",
      "[0.00000000e+00 4.08136284e+10 2.10354902e+07 4.15122956e+10\n",
      " 9.22364700e+05 1.04079364e+09 3.69404423e+09 1.70000000e-01\n",
      " 4.73881261e+10 5.93053383e+09]\n",
      "...\n",
      "\n",
      "RETIROS_REDENCIONES (536099 valores únicos):\n",
      "[0.00000000e+00 3.21000000e+00 5.03657921e+10 2.65662380e+07\n",
      " 3.27855473e+10 7.51301116e+06 2.00039253e+08 1.47179687e+09\n",
      " 3.26734121e+09 5.56789267e+08]\n",
      "...\n",
      "\n",
      "ANULACIONES (96123 valores únicos):\n",
      "[ 0.00000000e+00  1.72151952e+10 -1.28195157e+08  1.00690411e+06\n",
      " -1.11817533e+07 -1.60385448e+08  1.69655920e+05  1.61220312e+06\n",
      " -1.09079391e+08 -2.55000000e+08]\n",
      "...\n",
      "\n",
      "VALOR_FONDO_CIERRE_DIA_T (2066411 valores únicos):\n",
      "[6.83270469e+09 1.05940937e+11 1.18956549e+09 6.48705675e+09\n",
      " 4.43255665e+10 2.89162133e+11 1.11653312e+11 1.02491685e+09\n",
      " 2.36141999e+11 3.82791290e+09]\n",
      "...\n",
      "\n",
      "NUMERO_INVERSIONISTAS (40719 valores únicos):\n",
      "[1.74e+02 6.00e+00 1.00e+00 2.00e+01 1.70e+01 8.30e+01 1.54e+02 2.46e+03\n",
      " 4.89e+02 8.70e+01]\n",
      "...\n",
      "\n",
      "RENTABILIDAD_DIARIA (1776000 valores únicos):\n",
      "[  1.661225   2.056766 -61.082414  -5.188327   6.363919  -1.858599\n",
      "  13.043982 120.180468   5.864036  -4.221025]\n",
      "...\n",
      "\n",
      "RENTABILIDAD_MENSUAL (1863199 valores únicos):\n",
      "[  3.968064   2.289001   6.700275 319.467674   7.21062    1.967873\n",
      "  17.783947  18.768959   7.641881  33.783163]\n",
      "...\n",
      "\n",
      "RENTABILIDAD_SEMESTRAL (1755075 valores únicos):\n",
      "[  4.398817   1.044863   4.908149 -33.798042   9.222093   1.138541\n",
      "  12.450863  21.44294    7.049846  10.778398]\n",
      "...\n",
      "\n",
      "RENTABILIDAD_ANUAL (1620816 valores únicos):\n",
      "[  3.585329   1.098479  -3.436502 -34.151399   0.         3.189674\n",
      "  13.547554  16.865269   6.999665  17.020856]\n",
      "...\n",
      "\n",
      "fecha (3177 valores únicos):\n",
      "<DatetimeArray>\n",
      "['2020-07-20 00:00:00', '2021-09-12 00:00:00', '2022-12-09 00:00:00',\n",
      " '2019-08-23 00:00:00', '2017-06-04 00:00:00', '2021-04-27 00:00:00',\n",
      " '2023-09-02 00:00:00', '2024-03-22 00:00:00', '2017-04-13 00:00:00',\n",
      " '2019-12-21 00:00:00']\n",
      "Length: 10, dtype: datetime64[ns]\n",
      "...\n"
     ]
    }
   ],
   "source": [
    "# Identificar valores únicos por columna\n",
    "print(\"\\nValores únicos por columna:\")\n",
    "for column in df_FondosInversion_colectiva.columns:\n",
    "    unique_values = df_FondosInversion_colectiva[column].unique()\n",
    "    print(f\"\\n{column} ({len(unique_values)} valores únicos):\\n{unique_values[:10]}\")\n",
    "    if len(unique_values) > 10:\n",
    "        print(\"...\")"
   ]
  },
  {
   "cell_type": "markdown",
   "id": "6229fc2d",
   "metadata": {},
   "source": [
    "GRAFICOS"
   ]
  },
  {
   "cell_type": "markdown",
   "id": "67387272",
   "metadata": {},
   "source": [
    "Grafico de bigotes para visualizar valores atipicos y donde se concentra la informacion"
   ]
  },
  {
   "cell_type": "code",
   "execution_count": 12,
   "id": "b1a8ef8b",
   "metadata": {},
   "outputs": [
    {
     "ename": "KeyboardInterrupt",
     "evalue": "",
     "output_type": "error",
     "traceback": [
      "\u001b[1;31m---------------------------------------------------------------------------\u001b[0m",
      "\u001b[1;31mKeyboardInterrupt\u001b[0m                         Traceback (most recent call last)",
      "Cell \u001b[1;32mIn[12], line 12\u001b[0m\n\u001b[0;32m     10\u001b[0m \u001b[38;5;28;01mfor\u001b[39;00m i, col \u001b[38;5;129;01min\u001b[39;00m \u001b[38;5;28menumerate\u001b[39m(numeric_cols, \u001b[38;5;241m1\u001b[39m):\n\u001b[0;32m     11\u001b[0m     plt\u001b[38;5;241m.\u001b[39msubplot(num_rows, num_cols, i)\n\u001b[1;32m---> 12\u001b[0m     sns\u001b[38;5;241m.\u001b[39mboxenplot(data\u001b[38;5;241m=\u001b[39mdf_FondosInversion_colectiva, x\u001b[38;5;241m=\u001b[39mcol)\n\u001b[0;32m     13\u001b[0m     plt\u001b[38;5;241m.\u001b[39mtitle(col)\n\u001b[0;32m     15\u001b[0m plt\u001b[38;5;241m.\u001b[39mtight_layout()\n",
      "File \u001b[1;32mc:\\Users\\migue\\anaconda3\\envs\\test\\Lib\\site-packages\\seaborn\\categorical.py:1955\u001b[0m, in \u001b[0;36mboxenplot\u001b[1;34m(data, x, y, hue, order, hue_order, orient, color, palette, saturation, fill, dodge, width, gap, linewidth, linecolor, width_method, k_depth, outlier_prop, trust_alpha, showfliers, hue_norm, log_scale, native_scale, formatter, legend, scale, box_kws, flier_kws, line_kws, ax, **kwargs)\u001b[0m\n\u001b[0;32m   1947\u001b[0m color \u001b[38;5;241m=\u001b[39m _default_color(\n\u001b[0;32m   1948\u001b[0m     ax\u001b[38;5;241m.\u001b[39mfill_between, hue, color,\n\u001b[0;32m   1949\u001b[0m     {},  \u001b[38;5;66;03m# TODO how to get default color?\u001b[39;00m\n\u001b[0;32m   1950\u001b[0m     \u001b[38;5;66;03m# {k: v for k, v in kwargs.items() if k in [\"c\", \"color\", \"fc\", \"facecolor\"]},\u001b[39;00m\n\u001b[0;32m   1951\u001b[0m     saturation\u001b[38;5;241m=\u001b[39msaturation,\n\u001b[0;32m   1952\u001b[0m )\n\u001b[0;32m   1953\u001b[0m linecolor \u001b[38;5;241m=\u001b[39m p\u001b[38;5;241m.\u001b[39m_complement_color(linecolor, color, p\u001b[38;5;241m.\u001b[39m_hue_map)\n\u001b[1;32m-> 1955\u001b[0m p\u001b[38;5;241m.\u001b[39mplot_boxens(\n\u001b[0;32m   1956\u001b[0m     width\u001b[38;5;241m=\u001b[39mwidth,\n\u001b[0;32m   1957\u001b[0m     dodge\u001b[38;5;241m=\u001b[39mdodge,\n\u001b[0;32m   1958\u001b[0m     gap\u001b[38;5;241m=\u001b[39mgap,\n\u001b[0;32m   1959\u001b[0m     fill\u001b[38;5;241m=\u001b[39mfill,\n\u001b[0;32m   1960\u001b[0m     color\u001b[38;5;241m=\u001b[39mcolor,\n\u001b[0;32m   1961\u001b[0m     linecolor\u001b[38;5;241m=\u001b[39mlinecolor,\n\u001b[0;32m   1962\u001b[0m     linewidth\u001b[38;5;241m=\u001b[39mlinewidth,\n\u001b[0;32m   1963\u001b[0m     width_method\u001b[38;5;241m=\u001b[39mwidth_method,\n\u001b[0;32m   1964\u001b[0m     k_depth\u001b[38;5;241m=\u001b[39mk_depth,\n\u001b[0;32m   1965\u001b[0m     outlier_prop\u001b[38;5;241m=\u001b[39moutlier_prop,\n\u001b[0;32m   1966\u001b[0m     trust_alpha\u001b[38;5;241m=\u001b[39mtrust_alpha,\n\u001b[0;32m   1967\u001b[0m     showfliers\u001b[38;5;241m=\u001b[39mshowfliers,\n\u001b[0;32m   1968\u001b[0m     box_kws\u001b[38;5;241m=\u001b[39mbox_kws,\n\u001b[0;32m   1969\u001b[0m     flier_kws\u001b[38;5;241m=\u001b[39mflier_kws,\n\u001b[0;32m   1970\u001b[0m     line_kws\u001b[38;5;241m=\u001b[39mline_kws,\n\u001b[0;32m   1971\u001b[0m     plot_kws\u001b[38;5;241m=\u001b[39mkwargs,\n\u001b[0;32m   1972\u001b[0m )\n\u001b[0;32m   1974\u001b[0m p\u001b[38;5;241m.\u001b[39m_add_axis_labels(ax)\n\u001b[0;32m   1975\u001b[0m p\u001b[38;5;241m.\u001b[39m_adjust_cat_axis(ax, axis\u001b[38;5;241m=\u001b[39mp\u001b[38;5;241m.\u001b[39morient)\n",
      "File \u001b[1;32mc:\\Users\\migue\\anaconda3\\envs\\test\\Lib\\site-packages\\seaborn\\categorical.py:787\u001b[0m, in \u001b[0;36m_CategoricalPlotter.plot_boxens\u001b[1;34m(self, width, dodge, gap, fill, color, linecolor, linewidth, width_method, k_depth, outlier_prop, trust_alpha, showfliers, box_kws, flier_kws, line_kws, plot_kws)\u001b[0m\n\u001b[0;32m    783\u001b[0m         linewidth \u001b[38;5;241m=\u001b[39m mpl\u001b[38;5;241m.\u001b[39mrcParams[\u001b[38;5;124m\"\u001b[39m\u001b[38;5;124mlines.linewidth\u001b[39m\u001b[38;5;124m\"\u001b[39m]\n\u001b[0;32m    785\u001b[0m ax \u001b[38;5;241m=\u001b[39m \u001b[38;5;28mself\u001b[39m\u001b[38;5;241m.\u001b[39max\n\u001b[1;32m--> 787\u001b[0m \u001b[38;5;28;01mfor\u001b[39;00m sub_vars, sub_data \u001b[38;5;129;01min\u001b[39;00m \u001b[38;5;28mself\u001b[39m\u001b[38;5;241m.\u001b[39miter_data(iter_vars,\n\u001b[0;32m    788\u001b[0m                                          from_comp_data\u001b[38;5;241m=\u001b[39m\u001b[38;5;28;01mTrue\u001b[39;00m,\n\u001b[0;32m    789\u001b[0m                                          allow_empty\u001b[38;5;241m=\u001b[39m\u001b[38;5;28;01mFalse\u001b[39;00m):\n\u001b[0;32m    791\u001b[0m     ax \u001b[38;5;241m=\u001b[39m \u001b[38;5;28mself\u001b[39m\u001b[38;5;241m.\u001b[39m_get_axes(sub_vars)\n\u001b[0;32m    792\u001b[0m     _, inv_ori \u001b[38;5;241m=\u001b[39m _get_transform_functions(ax, \u001b[38;5;28mself\u001b[39m\u001b[38;5;241m.\u001b[39morient)\n",
      "File \u001b[1;32mc:\\Users\\migue\\anaconda3\\envs\\test\\Lib\\site-packages\\seaborn\\_base.py:902\u001b[0m, in \u001b[0;36mVectorPlotter.iter_data\u001b[1;34m(self, grouping_vars, reverse, from_comp_data, by_facet, allow_empty, dropna)\u001b[0m\n\u001b[0;32m    899\u001b[0m grouping_vars \u001b[38;5;241m=\u001b[39m [var \u001b[38;5;28;01mfor\u001b[39;00m var \u001b[38;5;129;01min\u001b[39;00m grouping_vars \u001b[38;5;28;01mif\u001b[39;00m var \u001b[38;5;129;01min\u001b[39;00m \u001b[38;5;28mself\u001b[39m\u001b[38;5;241m.\u001b[39mvariables]\n\u001b[0;32m    901\u001b[0m \u001b[38;5;28;01mif\u001b[39;00m from_comp_data:\n\u001b[1;32m--> 902\u001b[0m     data \u001b[38;5;241m=\u001b[39m \u001b[38;5;28mself\u001b[39m\u001b[38;5;241m.\u001b[39mcomp_data\n\u001b[0;32m    903\u001b[0m \u001b[38;5;28;01melse\u001b[39;00m:\n\u001b[0;32m    904\u001b[0m     data \u001b[38;5;241m=\u001b[39m \u001b[38;5;28mself\u001b[39m\u001b[38;5;241m.\u001b[39mplot_data\n",
      "File \u001b[1;32mc:\\Users\\migue\\anaconda3\\envs\\test\\Lib\\site-packages\\seaborn\\_base.py:993\u001b[0m, in \u001b[0;36mVectorPlotter.comp_data\u001b[1;34m(self)\u001b[0m\n\u001b[0;32m    991\u001b[0m grouped \u001b[38;5;241m=\u001b[39m \u001b[38;5;28mself\u001b[39m\u001b[38;5;241m.\u001b[39mplot_data[var]\u001b[38;5;241m.\u001b[39mgroupby(\u001b[38;5;28mself\u001b[39m\u001b[38;5;241m.\u001b[39mconverters[var], sort\u001b[38;5;241m=\u001b[39m\u001b[38;5;28;01mFalse\u001b[39;00m)\n\u001b[0;32m    992\u001b[0m \u001b[38;5;28;01mfor\u001b[39;00m converter, orig \u001b[38;5;129;01min\u001b[39;00m grouped:\n\u001b[1;32m--> 993\u001b[0m     orig \u001b[38;5;241m=\u001b[39m orig\u001b[38;5;241m.\u001b[39mmask(orig\u001b[38;5;241m.\u001b[39misin([np\u001b[38;5;241m.\u001b[39minf, \u001b[38;5;241m-\u001b[39mnp\u001b[38;5;241m.\u001b[39minf]), np\u001b[38;5;241m.\u001b[39mnan)\n\u001b[0;32m    994\u001b[0m     orig \u001b[38;5;241m=\u001b[39m orig\u001b[38;5;241m.\u001b[39mdropna()\n\u001b[0;32m    995\u001b[0m     \u001b[38;5;28;01mif\u001b[39;00m var \u001b[38;5;129;01min\u001b[39;00m \u001b[38;5;28mself\u001b[39m\u001b[38;5;241m.\u001b[39mvar_levels:\n\u001b[0;32m    996\u001b[0m         \u001b[38;5;66;03m# TODO this should happen in some centralized location\u001b[39;00m\n\u001b[0;32m    997\u001b[0m         \u001b[38;5;66;03m# it is similar to GH2419, but more complicated because\u001b[39;00m\n\u001b[0;32m    998\u001b[0m         \u001b[38;5;66;03m# supporting `order` in categorical plots is tricky\u001b[39;00m\n",
      "File \u001b[1;32mc:\\Users\\migue\\anaconda3\\envs\\test\\Lib\\site-packages\\pandas\\core\\series.py:5559\u001b[0m, in \u001b[0;36mSeries.isin\u001b[1;34m(self, values)\u001b[0m\n\u001b[0;32m   5486\u001b[0m \u001b[38;5;28;01mdef\u001b[39;00m \u001b[38;5;21misin\u001b[39m(\u001b[38;5;28mself\u001b[39m, values) \u001b[38;5;241m-\u001b[39m\u001b[38;5;241m>\u001b[39m Series:\n\u001b[0;32m   5487\u001b[0m \u001b[38;5;250m    \u001b[39m\u001b[38;5;124;03m\"\"\"\u001b[39;00m\n\u001b[0;32m   5488\u001b[0m \u001b[38;5;124;03m    Whether elements in Series are contained in `values`.\u001b[39;00m\n\u001b[0;32m   5489\u001b[0m \n\u001b[1;32m   (...)\u001b[0m\n\u001b[0;32m   5557\u001b[0m \u001b[38;5;124;03m    dtype: bool\u001b[39;00m\n\u001b[0;32m   5558\u001b[0m \u001b[38;5;124;03m    \"\"\"\u001b[39;00m\n\u001b[1;32m-> 5559\u001b[0m     result \u001b[38;5;241m=\u001b[39m algorithms\u001b[38;5;241m.\u001b[39misin(\u001b[38;5;28mself\u001b[39m\u001b[38;5;241m.\u001b[39m_values, values)\n\u001b[0;32m   5560\u001b[0m     \u001b[38;5;28;01mreturn\u001b[39;00m \u001b[38;5;28mself\u001b[39m\u001b[38;5;241m.\u001b[39m_constructor(result, index\u001b[38;5;241m=\u001b[39m\u001b[38;5;28mself\u001b[39m\u001b[38;5;241m.\u001b[39mindex, copy\u001b[38;5;241m=\u001b[39m\u001b[38;5;28;01mFalse\u001b[39;00m)\u001b[38;5;241m.\u001b[39m__finalize__(\n\u001b[0;32m   5561\u001b[0m         \u001b[38;5;28mself\u001b[39m, method\u001b[38;5;241m=\u001b[39m\u001b[38;5;124m\"\u001b[39m\u001b[38;5;124misin\u001b[39m\u001b[38;5;124m\"\u001b[39m\n\u001b[0;32m   5562\u001b[0m     )\n",
      "File \u001b[1;32mc:\\Users\\migue\\anaconda3\\envs\\test\\Lib\\site-packages\\pandas\\core\\algorithms.py:545\u001b[0m, in \u001b[0;36misin\u001b[1;34m(comps, values)\u001b[0m\n\u001b[0;32m    542\u001b[0m     comps_array \u001b[38;5;241m=\u001b[39m comps_array\u001b[38;5;241m.\u001b[39mastype(common, copy\u001b[38;5;241m=\u001b[39m\u001b[38;5;28;01mFalse\u001b[39;00m)\n\u001b[0;32m    543\u001b[0m     f \u001b[38;5;241m=\u001b[39m htable\u001b[38;5;241m.\u001b[39mismember\n\u001b[1;32m--> 545\u001b[0m \u001b[38;5;28;01mreturn\u001b[39;00m f(comps_array, values)\n",
      "File \u001b[1;32mc:\\Users\\migue\\anaconda3\\envs\\test\\Lib\\site-packages\\pandas\\core\\algorithms.py:537\u001b[0m, in \u001b[0;36misin.<locals>.<lambda>\u001b[1;34m(a, b)\u001b[0m\n\u001b[0;32m    534\u001b[0m             \u001b[38;5;28;01mreturn\u001b[39;00m np\u001b[38;5;241m.\u001b[39mlogical_or(np\u001b[38;5;241m.\u001b[39misin(c, v)\u001b[38;5;241m.\u001b[39mravel(), np\u001b[38;5;241m.\u001b[39misnan(c))\n\u001b[0;32m    536\u001b[0m     \u001b[38;5;28;01melse\u001b[39;00m:\n\u001b[1;32m--> 537\u001b[0m         f \u001b[38;5;241m=\u001b[39m \u001b[38;5;28;01mlambda\u001b[39;00m a, b: np\u001b[38;5;241m.\u001b[39misin(a, b)\u001b[38;5;241m.\u001b[39mravel()\n\u001b[0;32m    539\u001b[0m \u001b[38;5;28;01melse\u001b[39;00m:\n\u001b[0;32m    540\u001b[0m     common \u001b[38;5;241m=\u001b[39m np_find_common_type(values\u001b[38;5;241m.\u001b[39mdtype, comps_array\u001b[38;5;241m.\u001b[39mdtype)\n",
      "File \u001b[1;32mc:\\Users\\migue\\anaconda3\\envs\\test\\Lib\\site-packages\\numpy\\lib\\_arraysetops_impl.py:1138\u001b[0m, in \u001b[0;36misin\u001b[1;34m(element, test_elements, assume_unique, invert, kind)\u001b[0m\n\u001b[0;32m   1021\u001b[0m \u001b[38;5;250m\u001b[39m\u001b[38;5;124;03m\"\"\"\u001b[39;00m\n\u001b[0;32m   1022\u001b[0m \u001b[38;5;124;03mCalculates ``element in test_elements``, broadcasting over `element` only.\u001b[39;00m\n\u001b[0;32m   1023\u001b[0m \u001b[38;5;124;03mReturns a boolean array of the same shape as `element` that is True\u001b[39;00m\n\u001b[1;32m   (...)\u001b[0m\n\u001b[0;32m   1135\u001b[0m \u001b[38;5;124;03m       [ True, False]])\u001b[39;00m\n\u001b[0;32m   1136\u001b[0m \u001b[38;5;124;03m\"\"\"\u001b[39;00m\n\u001b[0;32m   1137\u001b[0m element \u001b[38;5;241m=\u001b[39m np\u001b[38;5;241m.\u001b[39masarray(element)\n\u001b[1;32m-> 1138\u001b[0m \u001b[38;5;28;01mreturn\u001b[39;00m _in1d(element, test_elements, assume_unique\u001b[38;5;241m=\u001b[39massume_unique,\n\u001b[0;32m   1139\u001b[0m              invert\u001b[38;5;241m=\u001b[39minvert, kind\u001b[38;5;241m=\u001b[39mkind)\u001b[38;5;241m.\u001b[39mreshape(element\u001b[38;5;241m.\u001b[39mshape)\n",
      "File \u001b[1;32mc:\\Users\\migue\\anaconda3\\envs\\test\\Lib\\site-packages\\numpy\\lib\\_arraysetops_impl.py:985\u001b[0m, in \u001b[0;36m_in1d\u001b[1;34m(ar1, ar2, assume_unique, invert, kind)\u001b[0m\n\u001b[0;32m    983\u001b[0m         mask \u001b[38;5;241m=\u001b[39m np\u001b[38;5;241m.\u001b[39mzeros(\u001b[38;5;28mlen\u001b[39m(ar1), dtype\u001b[38;5;241m=\u001b[39m\u001b[38;5;28mbool\u001b[39m)\n\u001b[0;32m    984\u001b[0m         \u001b[38;5;28;01mfor\u001b[39;00m a \u001b[38;5;129;01min\u001b[39;00m ar2:\n\u001b[1;32m--> 985\u001b[0m             mask \u001b[38;5;241m|\u001b[39m\u001b[38;5;241m=\u001b[39m (ar1 \u001b[38;5;241m==\u001b[39m a)\n\u001b[0;32m    986\u001b[0m     \u001b[38;5;28;01mreturn\u001b[39;00m mask\n\u001b[0;32m    988\u001b[0m \u001b[38;5;66;03m# Otherwise use sorting\u001b[39;00m\n",
      "\u001b[1;31mKeyboardInterrupt\u001b[0m: "
     ]
    },
    {
     "data": {
      "image/png": "[encoded data removed]",
      "text/plain": [
       "<Figure size 2500x2000 with 20 Axes>"
      ]
     },
     "metadata": {},
     "output_type": "display_data"
    }
   ],
   "source": [
    "import matplotlib.pyplot as plt\n",
    "\n",
    "numeric_cols = df_FondosInversion_colectiva.select_dtypes(include=['float64', 'int64']).columns\n",
    "\n",
    "num_plots = len(numeric_cols)\n",
    "num_cols = 3\n",
    "num_rows = (num_plots + num_cols - 1) // num_cols  # Calcula cuántas filas se necesitan\n",
    "\n",
    "plt.figure(figsize=(25, 20))\n",
    "for i, col in enumerate(numeric_cols, 1):\n",
    "    plt.subplot(num_rows, num_cols, i)\n",
    "    sns.boxenplot(data=df_FondosInversion_colectiva, x=col)\n",
    "    plt.title(col)\n",
    "\n",
    "plt.tight_layout()\n",
    "plt.show()\n",
    "\n"
   ]
  },
  {
   "cell_type": "markdown",
   "id": "2f6cb6b1",
   "metadata": {},
   "source": [
    "NOTA: VARIFICAR POR QUE LA RENTABILIDAD ANUAL Y SEMESTRAL SE MANTIENE EN 0 EN SU MAYORIA, DADO QUE HAY DATOS QUE SUPERAN ESTO POR MUCHO"
   ]
  },
  {
   "cell_type": "markdown",
   "id": "191cc9c0",
   "metadata": {},
   "source": [
    "Grafica de barras ver la rentabilidad anual acorde al tipo de entidad"
   ]
  },
  {
   "cell_type": "code",
   "execution_count": 18,
   "id": "85e65a1e",
   "metadata": {},
   "outputs": [
    {
     "data": {
      "application/vnd.plotly.v1+json": {
       "config": {
        "plotlyServerURL": "https://plot.ly"
       },
       "data": [
        {
         "alignmentgroup": "True",
         "hovertemplate": "Nombre de tipo entidad=%{x}<br>Rentabilidad anual=%{y}<br>text=%{text}<extra></extra>",
         "legendgroup": "",
         "marker": {
          "color": "#636efa",
          "pattern": {
           "shape": ""
          }
         },
         "name": "",
         "offsetgroup": "",
         "orientation": "v",
         "showlegend": false,
         "text": [
          242.87199618430748,
          68779715.16436863,
          285551.06848720246
         ],
         "textposition": "outside",
         "type": "bar",
         "x": [
          "COMISIONISTAS DE BOLSA DE VALORES",
          "SF-SOCIEDAD FIDUCIARIA",
          "SOCIEDADES ADMINISTRADORAS DE INVERSIÓN"
         ],
         "xaxis": "x",
         "y": [
          242.87199618430748,
          68779715.16436863,
          285551.06848720246
         ],
         "yaxis": "y"
        }
       ],
       "layout": {
        "barmode": "relative",
        "height": 700,
        "legend": {
         "tracegroupgap": 0
        },
        "template": {
         "data": {
          "bar": [
           {
            "error_x": {
             "color": "#2a3f5f"
            },
            "error_y": {
             "color": "#2a3f5f"
            },
            "marker": {
             "line": {
              "color": "#E5ECF6",
              "width": 0.5
             },
             "pattern": {
              "fillmode": "overlay",
              "size": 10,
              "solidity": 0.2
             }
            },
            "type": "bar"
           }
          ],
          "barpolar": [
           {
            "marker": {
             "line": {
              "color": "#E5ECF6",
              "width": 0.5
             },
             "pattern": {
              "fillmode": "overlay",
              "size": 10,
              "solidity": 0.2
             }
            },
            "type": "barpolar"
           }
          ],
          "carpet": [
           {
            "aaxis": {
             "endlinecolor": "#2a3f5f",
             "gridcolor": "white",
             "linecolor": "white",
             "minorgridcolor": "white",
             "startlinecolor": "#2a3f5f"
            },
            "baxis": {
             "endlinecolor": "#2a3f5f",
             "gridcolor": "white",
             "linecolor": "white",
             "minorgridcolor": "white",
             "startlinecolor": "#2a3f5f"
            },
            "type": "carpet"
           }
          ],
          "choropleth": [
           {
            "colorbar": {
             "outlinewidth": 0,
             "ticks": ""
            },
            "type": "choropleth"
           }
          ],
          "contour": [
           {
            "colorbar": {
             "outlinewidth": 0,
             "ticks": ""
            },
            "colorscale": [
             [
              0,
              "#0d0887"
             ],
             [
              0.1111111111111111,
              "#46039f"
             ],
             [
              0.2222222222222222,
              "#7201a8"
             ],
             [
              0.3333333333333333,
              "#9c179e"
             ],
             [
              0.4444444444444444,
              "#bd3786"
             ],
             [
              0.5555555555555556,
              "#d8576b"
             ],
             [
              0.6666666666666666,
              "#ed7953"
             ],
             [
              0.7777777777777778,
              "#fb9f3a"
             ],
             [
              0.8888888888888888,
              "#fdca26"
             ],
             [
              1,
              "#f0f921"
             ]
            ],
            "type": "contour"
           }
          ],
          "contourcarpet": [
           {
            "colorbar": {
             "outlinewidth": 0,
             "ticks": ""
            },
            "type": "contourcarpet"
           }
          ],
          "heatmap": [
           {
            "colorbar": {
             "outlinewidth": 0,
             "ticks": ""
            },
            "colorscale": [
             [
              0,
              "#0d0887"
             ],
             [
              0.1111111111111111,
              "#46039f"
             ],
             [
              0.2222222222222222,
              "#7201a8"
             ],
             [
              0.3333333333333333,
              "#9c179e"
             ],
             [
              0.4444444444444444,
              "#bd3786"
             ],
             [
              0.5555555555555556,
              "#d8576b"
             ],
             [
              0.6666666666666666,
              "#ed7953"
             ],
             [
              0.7777777777777778,
              "#fb9f3a"
             ],
             [
              0.8888888888888888,
              "#fdca26"
             ],
             [
              1,
              "#f0f921"
             ]
            ],
            "type": "heatmap"
           }
          ],
          "heatmapgl": [
           {
            "colorbar": {
             "outlinewidth": 0,
             "ticks": ""
            },
            "colorscale": [
             [
              0,
              "#0d0887"
             ],
             [
              0.1111111111111111,
              "#46039f"
             ],
             [
              0.2222222222222222,
              "#7201a8"
             ],
             [
              0.3333333333333333,
              "#9c179e"
             ],
             [
              0.4444444444444444,
              "#bd3786"
             ],
             [
              0.5555555555555556,
              "#d8576b"
             ],
             [
              0.6666666666666666,
              "#ed7953"
             ],
             [
              0.7777777777777778,
              "#fb9f3a"
             ],
             [
              0.8888888888888888,
              "#fdca26"
             ],
             [
              1,
              "#f0f921"
             ]
            ],
            "type": "heatmapgl"
           }
          ],
          "histogram": [
           {
            "marker": {
             "pattern": {
              "fillmode": "overlay",
              "size": 10,
              "solidity": 0.2
             }
            },
            "type": "histogram"
           }
          ],
          "histogram2d": [
           {
            "colorbar": {
             "outlinewidth": 0,
             "ticks": ""
            },
            "colorscale": [
             [
              0,
              "#0d0887"
             ],
             [
              0.1111111111111111,
              "#46039f"
             ],
             [
              0.2222222222222222,
              "#7201a8"
             ],
             [
              0.3333333333333333,
              "#9c179e"
             ],
             [
              0.4444444444444444,
              "#bd3786"
             ],
             [
              0.5555555555555556,
              "#d8576b"
             ],
             [
              0.6666666666666666,
              "#ed7953"
             ],
             [
              0.7777777777777778,
              "#fb9f3a"
             ],
             [
              0.8888888888888888,
              "#fdca26"
             ],
             [
              1,
              "#f0f921"
             ]
            ],
            "type": "histogram2d"
           }
          ],
          "histogram2dcontour": [
           {
            "colorbar": {
             "outlinewidth": 0,
             "ticks": ""
            },
            "colorscale": [
             [
              0,
              "#0d0887"
             ],
             [
              0.1111111111111111,
              "#46039f"
             ],
             [
              0.2222222222222222,
              "#7201a8"
             ],
             [
              0.3333333333333333,
              "#9c179e"
             ],
             [
              0.4444444444444444,
              "#bd3786"
             ],
             [
              0.5555555555555556,
              "#d8576b"
             ],
             [
              0.6666666666666666,
              "#ed7953"
             ],
             [
              0.7777777777777778,
              "#fb9f3a"
             ],
             [
              0.8888888888888888,
              "#fdca26"
             ],
             [
              1,
              "#f0f921"
             ]
            ],
            "type": "histogram2dcontour"
           }
          ],
          "mesh3d": [
           {
            "colorbar": {
             "outlinewidth": 0,
             "ticks": ""
            },
            "type": "mesh3d"
           }
          ],
          "parcoords": [
           {
            "line": {
             "colorbar": {
              "outlinewidth": 0,
              "ticks": ""
             }
            },
            "type": "parcoords"
           }
          ],
          "pie": [
           {
            "automargin": true,
            "type": "pie"
           }
          ],
          "scatter": [
           {
            "fillpattern": {
             "fillmode": "overlay",
             "size": 10,
             "solidity": 0.2
            },
            "type": "scatter"
           }
          ],
          "scatter3d": [
           {
            "line": {
             "colorbar": {
              "outlinewidth": 0,
              "ticks": ""
             }
            },
            "marker": {
             "colorbar": {
              "outlinewidth": 0,
              "ticks": ""
             }
            },
            "type": "scatter3d"
           }
          ],
          "scattercarpet": [
           {
            "marker": {
             "colorbar": {
              "outlinewidth": 0,
              "ticks": ""
             }
            },
            "type": "scattercarpet"
           }
          ],
          "scattergeo": [
           {
            "marker": {
             "colorbar": {
              "outlinewidth": 0,
              "ticks": ""
             }
            },
            "type": "scattergeo"
           }
          ],
          "scattergl": [
           {
            "marker": {
             "colorbar": {
              "outlinewidth": 0,
              "ticks": ""
             }
            },
            "type": "scattergl"
           }
          ],
          "scattermapbox": [
           {
            "marker": {
             "colorbar": {
              "outlinewidth": 0,
              "ticks": ""
             }
            },
            "type": "scattermapbox"
           }
          ],
          "scatterpolar": [
           {
            "marker": {
             "colorbar": {
              "outlinewidth": 0,
              "ticks": ""
             }
            },
            "type": "scatterpolar"
           }
          ],
          "scatterpolargl": [
           {
            "marker": {
             "colorbar": {
              "outlinewidth": 0,
              "ticks": ""
             }
            },
            "type": "scatterpolargl"
           }
          ],
          "scatterternary": [
           {
            "marker": {
             "colorbar": {
              "outlinewidth": 0,
              "ticks": ""
             }
            },
            "type": "scatterternary"
           }
          ],
          "surface": [
           {
            "colorbar": {
             "outlinewidth": 0,
             "ticks": ""
            },
            "colorscale": [
             [
              0,
              "#0d0887"
             ],
             [
              0.1111111111111111,
              "#46039f"
             ],
             [
              0.2222222222222222,
              "#7201a8"
             ],
             [
              0.3333333333333333,
              "#9c179e"
             ],
             [
              0.4444444444444444,
              "#bd3786"
             ],
             [
              0.5555555555555556,
              "#d8576b"
             ],
             [
              0.6666666666666666,
              "#ed7953"
             ],
             [
              0.7777777777777778,
              "#fb9f3a"
             ],
             [
              0.8888888888888888,
              "#fdca26"
             ],
             [
              1,
              "#f0f921"
             ]
            ],
            "type": "surface"
           }
          ],
          "table": [
           {
            "cells": {
             "fill": {
              "color": "#EBF0F8"
             },
             "line": {
              "color": "white"
             }
            },
            "header": {
             "fill": {
              "color": "#C8D4E3"
             },
             "line": {
              "color": "white"
             }
            },
            "type": "table"
           }
          ]
         },
         "layout": {
          "annotationdefaults": {
           "arrowcolor": "#2a3f5f",
           "arrowhead": 0,
           "arrowwidth": 1
          },
          "autotypenumbers": "strict",
          "coloraxis": {
           "colorbar": {
            "outlinewidth": 0,
            "ticks": ""
           }
          },
          "colorscale": {
           "diverging": [
            [
             0,
             "#8e0152"
            ],
            [
             0.1,
             "#c51b7d"
            ],
            [
             0.2,
             "#de77ae"
            ],
            [
             0.3,
             "#f1b6da"
            ],
            [
             0.4,
             "#fde0ef"
            ],
            [
             0.5,
             "#f7f7f7"
            ],
            [
             0.6,
             "#e6f5d0"
            ],
            [
             0.7,
             "#b8e186"
            ],
            [
             0.8,
             "#7fbc41"
            ],
            [
             0.9,
             "#4d9221"
            ],
            [
             1,
             "#276419"
            ]
           ],
           "sequential": [
            [
             0,
             "#0d0887"
            ],
            [
             0.1111111111111111,
             "#46039f"
            ],
            [
             0.2222222222222222,
             "#7201a8"
            ],
            [
             0.3333333333333333,
             "#9c179e"
            ],
            [
             0.4444444444444444,
             "#bd3786"
            ],
            [
             0.5555555555555556,
             "#d8576b"
            ],
            [
             0.6666666666666666,
             "#ed7953"
            ],
            [
             0.7777777777777778,
             "#fb9f3a"
            ],
            [
             0.8888888888888888,
             "#fdca26"
            ],
            [
             1,
             "#f0f921"
            ]
           ],
           "sequentialminus": [
            [
             0,
             "#0d0887"
            ],
            [
             0.1111111111111111,
             "#46039f"
            ],
            [
             0.2222222222222222,
             "#7201a8"
            ],
            [
             0.3333333333333333,
             "#9c179e"
            ],
            [
             0.4444444444444444,
             "#bd3786"
            ],
            [
             0.5555555555555556,
             "#d8576b"
            ],
            [
             0.6666666666666666,
             "#ed7953"
            ],
            [
             0.7777777777777778,
             "#fb9f3a"
            ],
            [
             0.8888888888888888,
             "#fdca26"
            ],
            [
             1,
             "#f0f921"
            ]
           ]
          },
          "colorway": [
           "#636efa",
           "#EF553B",
           "#00cc96",
           "#ab63fa",
           "#FFA15A",
           "#19d3f3",
           "#FF6692",
           "#B6E880",
           "#FF97FF",
           "#FECB52"
          ],
          "font": {
           "color": "#2a3f5f"
          },
          "geo": {
           "bgcolor": "white",
           "lakecolor": "white",
           "landcolor": "#E5ECF6",
           "showlakes": true,
           "showland": true,
           "subunitcolor": "white"
          },
          "hoverlabel": {
           "align": "left"
          },
          "hovermode": "closest",
          "mapbox": {
           "style": "light"
          },
          "paper_bgcolor": "white",
          "plot_bgcolor": "#E5ECF6",
          "polar": {
           "angularaxis": {
            "gridcolor": "white",
            "linecolor": "white",
            "ticks": ""
           },
           "bgcolor": "#E5ECF6",
           "radialaxis": {
            "gridcolor": "white",
            "linecolor": "white",
            "ticks": ""
           }
          },
          "scene": {
           "xaxis": {
            "backgroundcolor": "#E5ECF6",
            "gridcolor": "white",
            "gridwidth": 2,
            "linecolor": "white",
            "showbackground": true,
            "ticks": "",
            "zerolinecolor": "white"
           },
           "yaxis": {
            "backgroundcolor": "#E5ECF6",
            "gridcolor": "white",
            "gridwidth": 2,
            "linecolor": "white",
            "showbackground": true,
            "ticks": "",
            "zerolinecolor": "white"
           },
           "zaxis": {
            "backgroundcolor": "#E5ECF6",
            "gridcolor": "white",
            "gridwidth": 2,
            "linecolor": "white",
            "showbackground": true,
            "ticks": "",
            "zerolinecolor": "white"
           }
          },
          "shapedefaults": {
           "line": {
            "color": "#2a3f5f"
           }
          },
          "ternary": {
           "aaxis": {
            "gridcolor": "white",
            "linecolor": "white",
            "ticks": ""
           },
           "baxis": {
            "gridcolor": "white",
            "linecolor": "white",
            "ticks": ""
           },
           "bgcolor": "#E5ECF6",
           "caxis": {
            "gridcolor": "white",
            "linecolor": "white",
            "ticks": ""
           }
          },
          "title": {
           "x": 0.05
          },
          "xaxis": {
           "automargin": true,
           "gridcolor": "white",
           "linecolor": "white",
           "ticks": "",
           "title": {
            "standoff": 15
           },
           "zerolinecolor": "white",
           "zerolinewidth": 2
          },
          "yaxis": {
           "automargin": true,
           "gridcolor": "white",
           "linecolor": "white",
           "ticks": "",
           "title": {
            "standoff": 15
           },
           "zerolinecolor": "white",
           "zerolinewidth": 2
          }
         }
        },
        "title": {
         "text": "Rentabilidad Anual por Tipo de Entidad"
        },
        "width": 800,
        "xaxis": {
         "anchor": "y",
         "domain": [
          0,
          1
         ],
         "title": {
          "text": "Nombre de tipo entidad"
         }
        },
        "yaxis": {
         "anchor": "x",
         "domain": [
          0,
          1
         ],
         "title": {
          "text": "Rentabilidad anual"
         }
        }
       }
      }
     },
     "metadata": {},
     "output_type": "display_data"
    },
    {
     "data": {
      "text/plain": [
       "\" # Agrupar por NOMBRE_TIPO_ENTIDAD y calcular la media de RENTABILIDAD_ANUAL\\nresultado = df_FondosInversion_colectiva.groupby('NOMBRE_TIPO_ENTIDAD')['RENTABILIDAD_ANUAL'].mean().reset_index()\\n\\n# Crear la gráfica de barras\\nplt.figure(figsize=(12, 8))\\nax = plt.bar(resultado['NOMBRE_TIPO_ENTIDAD'], resultado['RENTABILIDAD_ANUAL'], color='blue')\\n\\n# Añadir la cantidad en cada barra\\nfor i, v in enumerate(resultado['RENTABILIDAD_ANUAL']):\\n    plt.text(i, v + 0.1, f'{v:.2f}', ha='center', va='bottom', fontsize=10)\\n\\n# Títulos y etiquetas\\nplt.title('Rentabilidad Anual por Tipo de Entidad')\\nplt.xlabel('Tipo de Entidad')\\nplt.ylabel('Rentabilidad Anual')\\nplt.xticks(rotation=45) \\n\\nplt.tight_layout()  # Ajustar layout\\nplt.show() \""
      ]
     },
     "execution_count": 18,
     "metadata": {},
     "output_type": "execute_result"
    }
   ],
   "source": [
    "\n",
    "resultado = df_FondosInversion_colectiva.groupby('NOMBRE_TIPO_ENTIDAD')['RENTABILIDAD_ANUAL'].mean().reset_index()\n",
    "\n",
    "\n",
    "# Crear el gráfico de barras y mostrar la frecuencia encima de cada barra\n",
    "fig = px.bar(x=resultado['NOMBRE_TIPO_ENTIDAD'], \n",
    "             y=resultado['RENTABILIDAD_ANUAL'],\n",
    "             labels={'x':'Nombre de tipo entidad', 'y':'Rentabilidad anual'},\n",
    "             title='Rentabilidad Anual por Tipo de Entidad',\n",
    "             text=resultado['RENTABILIDAD_ANUAL']  # Mostrar la frecuencia encima de las barras\n",
    "            )\n",
    "\n",
    "fig.update_layout(height=700, width=800)\n",
    "\n",
    "# Ajustar el formato del texto encima de las barras\n",
    "fig.update_traces(textposition='outside')  # Colocar las etiquetas fuera de las barras\n",
    "\n",
    "# Mostrar gráfico\n",
    "fig.show()"
   ]
  },
  {
   "cell_type": "code",
   "execution_count": 16,
   "id": "61d8d9d8",
   "metadata": {},
   "outputs": [
    {
     "data": {
      "application/vnd.plotly.v1+json": {
       "config": {
        "plotlyServerURL": "https://plot.ly"
       },
       "data": [
        {
         "alignmentgroup": "True",
         "hovertemplate": "Nombre de entidad=%{x}<br>Frecuencia=%{y}<br>text=%{text}<extra></extra>",
         "legendgroup": "",
         "marker": {
          "color": "#636efa",
          "pattern": {
           "shape": ""
          }
         },
         "name": "",
         "offsetgroup": "",
         "orientation": "v",
         "showlegend": false,
         "text": [
          1457796,
          659843,
          48295
         ],
         "textposition": "outside",
         "type": "bar",
         "x": [
          "SF-SOCIEDAD FIDUCIARIA",
          "COMISIONISTAS DE BOLSA DE VALORES",
          "SOCIEDADES ADMINISTRADORAS DE INVERSIÓN"
         ],
         "xaxis": "x",
         "y": [
          1457796,
          659843,
          48295
         ],
         "yaxis": "y"
        }
       ],
       "layout": {
        "barmode": "relative",
        "height": 800,
        "legend": {
         "tracegroupgap": 0
        },
        "template": {
         "data": {
          "bar": [
           {
            "error_x": {
             "color": "#2a3f5f"
            },
            "error_y": {
             "color": "#2a3f5f"
            },
            "marker": {
             "line": {
              "color": "#E5ECF6",
              "width": 0.5
             },
             "pattern": {
              "fillmode": "overlay",
              "size": 10,
              "solidity": 0.2
             }
            },
            "type": "bar"
           }
          ],
          "barpolar": [
           {
            "marker": {
             "line": {
              "color": "#E5ECF6",
              "width": 0.5
             },
             "pattern": {
              "fillmode": "overlay",
              "size": 10,
              "solidity": 0.2
             }
            },
            "type": "barpolar"
           }
          ],
          "carpet": [
           {
            "aaxis": {
             "endlinecolor": "#2a3f5f",
             "gridcolor": "white",
             "linecolor": "white",
             "minorgridcolor": "white",
             "startlinecolor": "#2a3f5f"
            },
            "baxis": {
             "endlinecolor": "#2a3f5f",
             "gridcolor": "white",
             "linecolor": "white",
             "minorgridcolor": "white",
             "startlinecolor": "#2a3f5f"
            },
            "type": "carpet"
           }
          ],
          "choropleth": [
           {
            "colorbar": {
             "outlinewidth": 0,
             "ticks": ""
            },
            "type": "choropleth"
           }
          ],
          "contour": [
           {
            "colorbar": {
             "outlinewidth": 0,
             "ticks": ""
            },
            "colorscale": [
             [
              0,
              "#0d0887"
             ],
             [
              0.1111111111111111,
              "#46039f"
             ],
             [
              0.2222222222222222,
              "#7201a8"
             ],
             [
              0.3333333333333333,
              "#9c179e"
             ],
             [
              0.4444444444444444,
              "#bd3786"
             ],
             [
              0.5555555555555556,
              "#d8576b"
             ],
             [
              0.6666666666666666,
              "#ed7953"
             ],
             [
              0.7777777777777778,
              "#fb9f3a"
             ],
             [
              0.8888888888888888,
              "#fdca26"
             ],
             [
              1,
              "#f0f921"
             ]
            ],
            "type": "contour"
           }
          ],
          "contourcarpet": [
           {
            "colorbar": {
             "outlinewidth": 0,
             "ticks": ""
            },
            "type": "contourcarpet"
           }
          ],
          "heatmap": [
           {
            "colorbar": {
             "outlinewidth": 0,
             "ticks": ""
            },
            "colorscale": [
             [
              0,
              "#0d0887"
             ],
             [
              0.1111111111111111,
              "#46039f"
             ],
             [
              0.2222222222222222,
              "#7201a8"
             ],
             [
              0.3333333333333333,
              "#9c179e"
             ],
             [
              0.4444444444444444,
              "#bd3786"
             ],
             [
              0.5555555555555556,
              "#d8576b"
             ],
             [
              0.6666666666666666,
              "#ed7953"
             ],
             [
              0.7777777777777778,
              "#fb9f3a"
             ],
             [
              0.8888888888888888,
              "#fdca26"
             ],
             [
              1,
              "#f0f921"
             ]
            ],
            "type": "heatmap"
           }
          ],
          "heatmapgl": [
           {
            "colorbar": {
             "outlinewidth": 0,
             "ticks": ""
            },
            "colorscale": [
             [
              0,
              "#0d0887"
             ],
             [
              0.1111111111111111,
              "#46039f"
             ],
             [
              0.2222222222222222,
              "#7201a8"
             ],
             [
              0.3333333333333333,
              "#9c179e"
             ],
             [
              0.4444444444444444,
              "#bd3786"
             ],
             [
              0.5555555555555556,
              "#d8576b"
             ],
             [
              0.6666666666666666,
              "#ed7953"
             ],
             [
              0.7777777777777778,
              "#fb9f3a"
             ],
             [
              0.8888888888888888,
              "#fdca26"
             ],
             [
              1,
              "#f0f921"
             ]
            ],
            "type": "heatmapgl"
           }
          ],
          "histogram": [
           {
            "marker": {
             "pattern": {
              "fillmode": "overlay",
              "size": 10,
              "solidity": 0.2
             }
            },
            "type": "histogram"
           }
          ],
          "histogram2d": [
           {
            "colorbar": {
             "outlinewidth": 0,
             "ticks": ""
            },
            "colorscale": [
             [
              0,
              "#0d0887"
             ],
             [
              0.1111111111111111,
              "#46039f"
             ],
             [
              0.2222222222222222,
              "#7201a8"
             ],
             [
              0.3333333333333333,
              "#9c179e"
             ],
             [
              0.4444444444444444,
              "#bd3786"
             ],
             [
              0.5555555555555556,
              "#d8576b"
             ],
             [
              0.6666666666666666,
              "#ed7953"
             ],
             [
              0.7777777777777778,
              "#fb9f3a"
             ],
             [
              0.8888888888888888,
              "#fdca26"
             ],
             [
              1,
              "#f0f921"
             ]
            ],
            "type": "histogram2d"
           }
          ],
          "histogram2dcontour": [
           {
            "colorbar": {
             "outlinewidth": 0,
             "ticks": ""
            },
            "colorscale": [
             [
              0,
              "#0d0887"
             ],
             [
              0.1111111111111111,
              "#46039f"
             ],
             [
              0.2222222222222222,
              "#7201a8"
             ],
             [
              0.3333333333333333,
              "#9c179e"
             ],
             [
              0.4444444444444444,
              "#bd3786"
             ],
             [
              0.5555555555555556,
              "#d8576b"
             ],
             [
              0.6666666666666666,
              "#ed7953"
             ],
             [
              0.7777777777777778,
              "#fb9f3a"
             ],
             [
              0.8888888888888888,
              "#fdca26"
             ],
             [
              1,
              "#f0f921"
             ]
            ],
            "type": "histogram2dcontour"
           }
          ],
          "mesh3d": [
           {
            "colorbar": {
             "outlinewidth": 0,
             "ticks": ""
            },
            "type": "mesh3d"
           }
          ],
          "parcoords": [
           {
            "line": {
             "colorbar": {
              "outlinewidth": 0,
              "ticks": ""
             }
            },
            "type": "parcoords"
           }
          ],
          "pie": [
           {
            "automargin": true,
            "type": "pie"
           }
          ],
          "scatter": [
           {
            "fillpattern": {
             "fillmode": "overlay",
             "size": 10,
             "solidity": 0.2
            },
            "type": "scatter"
           }
          ],
          "scatter3d": [
           {
            "line": {
             "colorbar": {
              "outlinewidth": 0,
              "ticks": ""
             }
            },
            "marker": {
             "colorbar": {
              "outlinewidth": 0,
              "ticks": ""
             }
            },
            "type": "scatter3d"
           }
          ],
          "scattercarpet": [
           {
            "marker": {
             "colorbar": {
              "outlinewidth": 0,
              "ticks": ""
             }
            },
            "type": "scattercarpet"
           }
          ],
          "scattergeo": [
           {
            "marker": {
             "colorbar": {
              "outlinewidth": 0,
              "ticks": ""
             }
            },
            "type": "scattergeo"
           }
          ],
          "scattergl": [
           {
            "marker": {
             "colorbar": {
              "outlinewidth": 0,
              "ticks": ""
             }
            },
            "type": "scattergl"
           }
          ],
          "scattermapbox": [
           {
            "marker": {
             "colorbar": {
              "outlinewidth": 0,
              "ticks": ""
             }
            },
            "type": "scattermapbox"
           }
          ],
          "scatterpolar": [
           {
            "marker": {
             "colorbar": {
              "outlinewidth": 0,
              "ticks": ""
             }
            },
            "type": "scatterpolar"
           }
          ],
          "scatterpolargl": [
           {
            "marker": {
             "colorbar": {
              "outlinewidth": 0,
              "ticks": ""
             }
            },
            "type": "scatterpolargl"
           }
          ],
          "scatterternary": [
           {
            "marker": {
             "colorbar": {
              "outlinewidth": 0,
              "ticks": ""
             }
            },
            "type": "scatterternary"
           }
          ],
          "surface": [
           {
            "colorbar": {
             "outlinewidth": 0,
             "ticks": ""
            },
            "colorscale": [
             [
              0,
              "#0d0887"
             ],
             [
              0.1111111111111111,
              "#46039f"
             ],
             [
              0.2222222222222222,
              "#7201a8"
             ],
             [
              0.3333333333333333,
              "#9c179e"
             ],
             [
              0.4444444444444444,
              "#bd3786"
             ],
             [
              0.5555555555555556,
              "#d8576b"
             ],
             [
              0.6666666666666666,
              "#ed7953"
             ],
             [
              0.7777777777777778,
              "#fb9f3a"
             ],
             [
              0.8888888888888888,
              "#fdca26"
             ],
             [
              1,
              "#f0f921"
             ]
            ],
            "type": "surface"
           }
          ],
          "table": [
           {
            "cells": {
             "fill": {
              "color": "#EBF0F8"
             },
             "line": {
              "color": "white"
             }
            },
            "header": {
             "fill": {
              "color": "#C8D4E3"
             },
             "line": {
              "color": "white"
             }
            },
            "type": "table"
           }
          ]
         },
         "layout": {
          "annotationdefaults": {
           "arrowcolor": "#2a3f5f",
           "arrowhead": 0,
           "arrowwidth": 1
          },
          "autotypenumbers": "strict",
          "coloraxis": {
           "colorbar": {
            "outlinewidth": 0,
            "ticks": ""
           }
          },
          "colorscale": {
           "diverging": [
            [
             0,
             "#8e0152"
            ],
            [
             0.1,
             "#c51b7d"
            ],
            [
             0.2,
             "#de77ae"
            ],
            [
             0.3,
             "#f1b6da"
            ],
            [
             0.4,
             "#fde0ef"
            ],
            [
             0.5,
             "#f7f7f7"
            ],
            [
             0.6,
             "#e6f5d0"
            ],
            [
             0.7,
             "#b8e186"
            ],
            [
             0.8,
             "#7fbc41"
            ],
            [
             0.9,
             "#4d9221"
            ],
            [
             1,
             "#276419"
            ]
           ],
           "sequential": [
            [
             0,
             "#0d0887"
            ],
            [
             0.1111111111111111,
             "#46039f"
            ],
            [
             0.2222222222222222,
             "#7201a8"
            ],
            [
             0.3333333333333333,
             "#9c179e"
            ],
            [
             0.4444444444444444,
             "#bd3786"
            ],
            [
             0.5555555555555556,
             "#d8576b"
            ],
            [
             0.6666666666666666,
             "#ed7953"
            ],
            [
             0.7777777777777778,
             "#fb9f3a"
            ],
            [
             0.8888888888888888,
             "#fdca26"
            ],
            [
             1,
             "#f0f921"
            ]
           ],
           "sequentialminus": [
            [
             0,
             "#0d0887"
            ],
            [
             0.1111111111111111,
             "#46039f"
            ],
            [
             0.2222222222222222,
             "#7201a8"
            ],
            [
             0.3333333333333333,
             "#9c179e"
            ],
            [
             0.4444444444444444,
             "#bd3786"
            ],
            [
             0.5555555555555556,
             "#d8576b"
            ],
            [
             0.6666666666666666,
             "#ed7953"
            ],
            [
             0.7777777777777778,
             "#fb9f3a"
            ],
            [
             0.8888888888888888,
             "#fdca26"
            ],
            [
             1,
             "#f0f921"
            ]
           ]
          },
          "colorway": [
           "#636efa",
           "#EF553B",
           "#00cc96",
           "#ab63fa",
           "#FFA15A",
           "#19d3f3",
           "#FF6692",
           "#B6E880",
           "#FF97FF",
           "#FECB52"
          ],
          "font": {
           "color": "#2a3f5f"
          },
          "geo": {
           "bgcolor": "white",
           "lakecolor": "white",
           "landcolor": "#E5ECF6",
           "showlakes": true,
           "showland": true,
           "subunitcolor": "white"
          },
          "hoverlabel": {
           "align": "left"
          },
          "hovermode": "closest",
          "mapbox": {
           "style": "light"
          },
          "paper_bgcolor": "white",
          "plot_bgcolor": "#E5ECF6",
          "polar": {
           "angularaxis": {
            "gridcolor": "white",
            "linecolor": "white",
            "ticks": ""
           },
           "bgcolor": "#E5ECF6",
           "radialaxis": {
            "gridcolor": "white",
            "linecolor": "white",
            "ticks": ""
           }
          },
          "scene": {
           "xaxis": {
            "backgroundcolor": "#E5ECF6",
            "gridcolor": "white",
            "gridwidth": 2,
            "linecolor": "white",
            "showbackground": true,
            "ticks": "",
            "zerolinecolor": "white"
           },
           "yaxis": {
            "backgroundcolor": "#E5ECF6",
            "gridcolor": "white",
            "gridwidth": 2,
            "linecolor": "white",
            "showbackground": true,
            "ticks": "",
            "zerolinecolor": "white"
           },
           "zaxis": {
            "backgroundcolor": "#E5ECF6",
            "gridcolor": "white",
            "gridwidth": 2,
            "linecolor": "white",
            "showbackground": true,
            "ticks": "",
            "zerolinecolor": "white"
           }
          },
          "shapedefaults": {
           "line": {
            "color": "#2a3f5f"
           }
          },
          "ternary": {
           "aaxis": {
            "gridcolor": "white",
            "linecolor": "white",
            "ticks": ""
           },
           "baxis": {
            "gridcolor": "white",
            "linecolor": "white",
            "ticks": ""
           },
           "bgcolor": "#E5ECF6",
           "caxis": {
            "gridcolor": "white",
            "linecolor": "white",
            "ticks": ""
           }
          },
          "title": {
           "x": 0.05
          },
          "xaxis": {
           "automargin": true,
           "gridcolor": "white",
           "linecolor": "white",
           "ticks": "",
           "title": {
            "standoff": 15
           },
           "zerolinecolor": "white",
           "zerolinewidth": 2
          },
          "yaxis": {
           "automargin": true,
           "gridcolor": "white",
           "linecolor": "white",
           "ticks": "",
           "title": {
            "standoff": 15
           },
           "zerolinecolor": "white",
           "zerolinewidth": 2
          }
         }
        },
        "title": {
         "text": "Frecuencia de Nombre de entidad"
        },
        "width": 1000,
        "xaxis": {
         "anchor": "y",
         "domain": [
          0,
          1
         ],
         "title": {
          "text": "Nombre de entidad"
         }
        },
        "yaxis": {
         "anchor": "x",
         "domain": [
          0,
          1
         ],
         "title": {
          "text": "Frecuencia"
         }
        }
       }
      }
     },
     "metadata": {},
     "output_type": "display_data"
    }
   ],
   "source": [
    "\n",
    "\n",
    "# Contar la frecuencia de cada entidad y convertirlo en un DataFrame\n",
    "frecuencia_entidades = df_FondosInversion_colectiva['NOMBRE_TIPO_ENTIDAD'].value_counts().reset_index()\n",
    "\n",
    "# Renombrar las columnas para mejor legibilidad\n",
    "frecuencia_entidades.columns = ['Nombre de tipo entidad', 'Frecuencia']\n",
    "\n",
    "# Crear el gráfico de barras y mostrar la frecuencia encima de cada barra\n",
    "fig = px.bar(x=frecuencia_entidades['Nombre de tipo entidad'], \n",
    "             y=frecuencia_entidades['Frecuencia'],\n",
    "             labels={'x':'Nombre de entidad', 'y':'Frecuencia'},\n",
    "             title='Frecuencia de Nombre de entidad',\n",
    "             text=frecuencia_entidades['Frecuencia']  # Mostrar la frecuencia encima de las barras\n",
    "            )\n",
    "\n",
    "fig.update_layout(height=800, width=1000)\n",
    "\n",
    "# Ajustar el formato del texto encima de las barras\n",
    "fig.update_traces(textposition='outside')  # Colocar las etiquetas fuera de las barras\n",
    "\n",
    "# Mostrar gráfico\n",
    "fig.show()\n"
   ]
  },
  {
   "cell_type": "code",
   "execution_count": 19,
   "id": "48e7343a",
   "metadata": {},
   "outputs": [
    {
     "data": {
      "application/vnd.plotly.v1+json": {
       "config": {
        "plotlyServerURL": "https://plot.ly"
       },
       "data": [
        {
         "domain": {
          "x": [
           0,
           1
          ],
          "y": [
           0,
           1
          ]
         },
         "hovertemplate": "label=%{label}<br>value=%{value}<extra></extra>",
         "labels": [
          "SF-SOCIEDAD FIDUCIARIA",
          "COMISIONISTAS DE BOLSA DE VALORES",
          "SOCIEDADES ADMINISTRADORAS DE INVERSIÓN"
         ],
         "legendgroup": "",
         "name": "",
         "showlegend": true,
         "type": "pie",
         "values": [
          1457796,
          659843,
          48295
         ]
        }
       ],
       "layout": {
        "legend": {
         "tracegroupgap": 0
        },
        "template": {
         "data": {
          "bar": [
           {
            "error_x": {
             "color": "#2a3f5f"
            },
            "error_y": {
             "color": "#2a3f5f"
            },
            "marker": {
             "line": {
              "color": "#E5ECF6",
              "width": 0.5
             },
             "pattern": {
              "fillmode": "overlay",
              "size": 10,
              "solidity": 0.2
             }
            },
            "type": "bar"
           }
          ],
          "barpolar": [
           {
            "marker": {
             "line": {
              "color": "#E5ECF6",
              "width": 0.5
             },
             "pattern": {
              "fillmode": "overlay",
              "size": 10,
              "solidity": 0.2
             }
            },
            "type": "barpolar"
           }
          ],
          "carpet": [
           {
            "aaxis": {
             "endlinecolor": "#2a3f5f",
             "gridcolor": "white",
             "linecolor": "white",
             "minorgridcolor": "white",
             "startlinecolor": "#2a3f5f"
            },
            "baxis": {
             "endlinecolor": "#2a3f5f",
             "gridcolor": "white",
             "linecolor": "white",
             "minorgridcolor": "white",
             "startlinecolor": "#2a3f5f"
            },
            "type": "carpet"
           }
          ],
          "choropleth": [
           {
            "colorbar": {
             "outlinewidth": 0,
             "ticks": ""
            },
            "type": "choropleth"
           }
          ],
          "contour": [
           {
            "colorbar": {
             "outlinewidth": 0,
             "ticks": ""
            },
            "colorscale": [
             [
              0,
              "#0d0887"
             ],
             [
              0.1111111111111111,
              "#46039f"
             ],
             [
              0.2222222222222222,
              "#7201a8"
             ],
             [
              0.3333333333333333,
              "#9c179e"
             ],
             [
              0.4444444444444444,
              "#bd3786"
             ],
             [
              0.5555555555555556,
              "#d8576b"
             ],
             [
              0.6666666666666666,
              "#ed7953"
             ],
             [
              0.7777777777777778,
              "#fb9f3a"
             ],
             [
              0.8888888888888888,
              "#fdca26"
             ],
             [
              1,
              "#f0f921"
             ]
            ],
            "type": "contour"
           }
          ],
          "contourcarpet": [
           {
            "colorbar": {
             "outlinewidth": 0,
             "ticks": ""
            },
            "type": "contourcarpet"
           }
          ],
          "heatmap": [
           {
            "colorbar": {
             "outlinewidth": 0,
             "ticks": ""
            },
            "colorscale": [
             [
              0,
              "#0d0887"
             ],
             [
              0.1111111111111111,
              "#46039f"
             ],
             [
              0.2222222222222222,
              "#7201a8"
             ],
             [
              0.3333333333333333,
              "#9c179e"
             ],
             [
              0.4444444444444444,
              "#bd3786"
             ],
             [
              0.5555555555555556,
              "#d8576b"
             ],
             [
              0.6666666666666666,
              "#ed7953"
             ],
             [
              0.7777777777777778,
              "#fb9f3a"
             ],
             [
              0.8888888888888888,
              "#fdca26"
             ],
             [
              1,
              "#f0f921"
             ]
            ],
            "type": "heatmap"
           }
          ],
          "heatmapgl": [
           {
            "colorbar": {
             "outlinewidth": 0,
             "ticks": ""
            },
            "colorscale": [
             [
              0,
              "#0d0887"
             ],
             [
              0.1111111111111111,
              "#46039f"
             ],
             [
              0.2222222222222222,
              "#7201a8"
             ],
             [
              0.3333333333333333,
              "#9c179e"
             ],
             [
              0.4444444444444444,
              "#bd3786"
             ],
             [
              0.5555555555555556,
              "#d8576b"
             ],
             [
              0.6666666666666666,
              "#ed7953"
             ],
             [
              0.7777777777777778,
              "#fb9f3a"
             ],
             [
              0.8888888888888888,
              "#fdca26"
             ],
             [
              1,
              "#f0f921"
             ]
            ],
            "type": "heatmapgl"
           }
          ],
          "histogram": [
           {
            "marker": {
             "pattern": {
              "fillmode": "overlay",
              "size": 10,
              "solidity": 0.2
             }
            },
            "type": "histogram"
           }
          ],
          "histogram2d": [
           {
            "colorbar": {
             "outlinewidth": 0,
             "ticks": ""
            },
            "colorscale": [
             [
              0,
              "#0d0887"
             ],
             [
              0.1111111111111111,
              "#46039f"
             ],
             [
              0.2222222222222222,
              "#7201a8"
             ],
             [
              0.3333333333333333,
              "#9c179e"
             ],
             [
              0.4444444444444444,
              "#bd3786"
             ],
             [
              0.5555555555555556,
              "#d8576b"
             ],
             [
              0.6666666666666666,
              "#ed7953"
             ],
             [
              0.7777777777777778,
              "#fb9f3a"
             ],
             [
              0.8888888888888888,
              "#fdca26"
             ],
             [
              1,
              "#f0f921"
             ]
            ],
            "type": "histogram2d"
           }
          ],
          "histogram2dcontour": [
           {
            "colorbar": {
             "outlinewidth": 0,
             "ticks": ""
            },
            "colorscale": [
             [
              0,
              "#0d0887"
             ],
             [
              0.1111111111111111,
              "#46039f"
             ],
             [
              0.2222222222222222,
              "#7201a8"
             ],
             [
              0.3333333333333333,
              "#9c179e"
             ],
             [
              0.4444444444444444,
              "#bd3786"
             ],
             [
              0.5555555555555556,
              "#d8576b"
             ],
             [
              0.6666666666666666,
              "#ed7953"
             ],
             [
              0.7777777777777778,
              "#fb9f3a"
             ],
             [
              0.8888888888888888,
              "#fdca26"
             ],
             [
              1,
              "#f0f921"
             ]
            ],
            "type": "histogram2dcontour"
           }
          ],
          "mesh3d": [
           {
            "colorbar": {
             "outlinewidth": 0,
             "ticks": ""
            },
            "type": "mesh3d"
           }
          ],
          "parcoords": [
           {
            "line": {
             "colorbar": {
              "outlinewidth": 0,
              "ticks": ""
             }
            },
            "type": "parcoords"
           }
          ],
          "pie": [
           {
            "automargin": true,
            "type": "pie"
           }
          ],
          "scatter": [
           {
            "fillpattern": {
             "fillmode": "overlay",
             "size": 10,
             "solidity": 0.2
            },
            "type": "scatter"
           }
          ],
          "scatter3d": [
           {
            "line": {
             "colorbar": {
              "outlinewidth": 0,
              "ticks": ""
             }
            },
            "marker": {
             "colorbar": {
              "outlinewidth": 0,
              "ticks": ""
             }
            },
            "type": "scatter3d"
           }
          ],
          "scattercarpet": [
           {
            "marker": {
             "colorbar": {
              "outlinewidth": 0,
              "ticks": ""
             }
            },
            "type": "scattercarpet"
           }
          ],
          "scattergeo": [
           {
            "marker": {
             "colorbar": {
              "outlinewidth": 0,
              "ticks": ""
             }
            },
            "type": "scattergeo"
           }
          ],
          "scattergl": [
           {
            "marker": {
             "colorbar": {
              "outlinewidth": 0,
              "ticks": ""
             }
            },
            "type": "scattergl"
           }
          ],
          "scattermapbox": [
           {
            "marker": {
             "colorbar": {
              "outlinewidth": 0,
              "ticks": ""
             }
            },
            "type": "scattermapbox"
           }
          ],
          "scatterpolar": [
           {
            "marker": {
             "colorbar": {
              "outlinewidth": 0,
              "ticks": ""
             }
            },
            "type": "scatterpolar"
           }
          ],
          "scatterpolargl": [
           {
            "marker": {
             "colorbar": {
              "outlinewidth": 0,
              "ticks": ""
             }
            },
            "type": "scatterpolargl"
           }
          ],
          "scatterternary": [
           {
            "marker": {
             "colorbar": {
              "outlinewidth": 0,
              "ticks": ""
             }
            },
            "type": "scatterternary"
           }
          ],
          "surface": [
           {
            "colorbar": {
             "outlinewidth": 0,
             "ticks": ""
            },
            "colorscale": [
             [
              0,
              "#0d0887"
             ],
             [
              0.1111111111111111,
              "#46039f"
             ],
             [
              0.2222222222222222,
              "#7201a8"
             ],
             [
              0.3333333333333333,
              "#9c179e"
             ],
             [
              0.4444444444444444,
              "#bd3786"
             ],
             [
              0.5555555555555556,
              "#d8576b"
             ],
             [
              0.6666666666666666,
              "#ed7953"
             ],
             [
              0.7777777777777778,
              "#fb9f3a"
             ],
             [
              0.8888888888888888,
              "#fdca26"
             ],
             [
              1,
              "#f0f921"
             ]
            ],
            "type": "surface"
           }
          ],
          "table": [
           {
            "cells": {
             "fill": {
              "color": "#EBF0F8"
             },
             "line": {
              "color": "white"
             }
            },
            "header": {
             "fill": {
              "color": "#C8D4E3"
             },
             "line": {
              "color": "white"
             }
            },
            "type": "table"
           }
          ]
         },
         "layout": {
          "annotationdefaults": {
           "arrowcolor": "#2a3f5f",
           "arrowhead": 0,
           "arrowwidth": 1
          },
          "autotypenumbers": "strict",
          "coloraxis": {
           "colorbar": {
            "outlinewidth": 0,
            "ticks": ""
           }
          },
          "colorscale": {
           "diverging": [
            [
             0,
             "#8e0152"
            ],
            [
             0.1,
             "#c51b7d"
            ],
            [
             0.2,
             "#de77ae"
            ],
            [
             0.3,
             "#f1b6da"
            ],
            [
             0.4,
             "#fde0ef"
            ],
            [
             0.5,
             "#f7f7f7"
            ],
            [
             0.6,
             "#e6f5d0"
            ],
            [
             0.7,
             "#b8e186"
            ],
            [
             0.8,
             "#7fbc41"
            ],
            [
             0.9,
             "#4d9221"
            ],
            [
             1,
             "#276419"
            ]
           ],
           "sequential": [
            [
             0,
             "#0d0887"
            ],
            [
             0.1111111111111111,
             "#46039f"
            ],
            [
             0.2222222222222222,
             "#7201a8"
            ],
            [
             0.3333333333333333,
             "#9c179e"
            ],
            [
             0.4444444444444444,
             "#bd3786"
            ],
            [
             0.5555555555555556,
             "#d8576b"
            ],
            [
             0.6666666666666666,
             "#ed7953"
            ],
            [
             0.7777777777777778,
             "#fb9f3a"
            ],
            [
             0.8888888888888888,
             "#fdca26"
            ],
            [
             1,
             "#f0f921"
            ]
           ],
           "sequentialminus": [
            [
             0,
             "#0d0887"
            ],
            [
             0.1111111111111111,
             "#46039f"
            ],
            [
             0.2222222222222222,
             "#7201a8"
            ],
            [
             0.3333333333333333,
             "#9c179e"
            ],
            [
             0.4444444444444444,
             "#bd3786"
            ],
            [
             0.5555555555555556,
             "#d8576b"
            ],
            [
             0.6666666666666666,
             "#ed7953"
            ],
            [
             0.7777777777777778,
             "#fb9f3a"
            ],
            [
             0.8888888888888888,
             "#fdca26"
            ],
            [
             1,
             "#f0f921"
            ]
           ]
          },
          "colorway": [
           "#636efa",
           "#EF553B",
           "#00cc96",
           "#ab63fa",
           "#FFA15A",
           "#19d3f3",
           "#FF6692",
           "#B6E880",
           "#FF97FF",
           "#FECB52"
          ],
          "font": {
           "color": "#2a3f5f"
          },
          "geo": {
           "bgcolor": "white",
           "lakecolor": "white",
           "landcolor": "#E5ECF6",
           "showlakes": true,
           "showland": true,
           "subunitcolor": "white"
          },
          "hoverlabel": {
           "align": "left"
          },
          "hovermode": "closest",
          "mapbox": {
           "style": "light"
          },
          "paper_bgcolor": "white",
          "plot_bgcolor": "#E5ECF6",
          "polar": {
           "angularaxis": {
            "gridcolor": "white",
            "linecolor": "white",
            "ticks": ""
           },
           "bgcolor": "#E5ECF6",
           "radialaxis": {
            "gridcolor": "white",
            "linecolor": "white",
            "ticks": ""
           }
          },
          "scene": {
           "xaxis": {
            "backgroundcolor": "#E5ECF6",
            "gridcolor": "white",
            "gridwidth": 2,
            "linecolor": "white",
            "showbackground": true,
            "ticks": "",
            "zerolinecolor": "white"
           },
           "yaxis": {
            "backgroundcolor": "#E5ECF6",
            "gridcolor": "white",
            "gridwidth": 2,
            "linecolor": "white",
            "showbackground": true,
            "ticks": "",
            "zerolinecolor": "white"
           },
           "zaxis": {
            "backgroundcolor": "#E5ECF6",
            "gridcolor": "white",
            "gridwidth": 2,
            "linecolor": "white",
            "showbackground": true,
            "ticks": "",
            "zerolinecolor": "white"
           }
          },
          "shapedefaults": {
           "line": {
            "color": "#2a3f5f"
           }
          },
          "ternary": {
           "aaxis": {
            "gridcolor": "white",
            "linecolor": "white",
            "ticks": ""
           },
           "baxis": {
            "gridcolor": "white",
            "linecolor": "white",
            "ticks": ""
           },
           "bgcolor": "#E5ECF6",
           "caxis": {
            "gridcolor": "white",
            "linecolor": "white",
            "ticks": ""
           }
          },
          "title": {
           "x": 0.05
          },
          "xaxis": {
           "automargin": true,
           "gridcolor": "white",
           "linecolor": "white",
           "ticks": "",
           "title": {
            "standoff": 15
           },
           "zerolinecolor": "white",
           "zerolinewidth": 2
          },
          "yaxis": {
           "automargin": true,
           "gridcolor": "white",
           "linecolor": "white",
           "ticks": "",
           "title": {
            "standoff": 15
           },
           "zerolinecolor": "white",
           "zerolinewidth": 2
          }
         }
        },
        "title": {
         "text": "Proporción de tipos de entidades"
        }
       }
      }
     },
     "metadata": {},
     "output_type": "display_data"
    }
   ],
   "source": [
    "\n",
    "# Contar la frecuencia de cada entidad y convertirlo en un DataFrame\n",
    "frecuencia_entidades = df_FondosInversion_colectiva['NOMBRE_TIPO_ENTIDAD'].value_counts().reset_index()\n",
    "\n",
    "# Renombrar las columnas para mejor legibilidad\n",
    "frecuencia_entidades.columns = ['Nombre de tipo entidad', 'Frecuencia']\n",
    "\n",
    "# Crear gráfico de pastel\n",
    "fig = px.pie(names=frecuencia_entidades['Nombre de tipo entidad'], \n",
    "             values=frecuencia_entidades['Frecuencia'],\n",
    "             title='Proporción de tipos de entidades')\n",
    "\n",
    "# Mostrar gráfico\n",
    "fig.show()"
   ]
  },
  {
   "cell_type": "markdown",
   "id": "d7f8ef36",
   "metadata": {},
   "source": [
    "Eliminamos 2 columnas que no eran necesarias para la base de datos, dado que no aportaba informacion relevante y se repetian en todas las filas. (TIPO_NEGOCIO y NOMBRE_TIPO_PATRIMONIO)"
   ]
  },
  {
   "cell_type": "code",
   "execution_count": 23,
   "id": "777a7815",
   "metadata": {},
   "outputs": [
    {
     "name": "stdout",
     "output_type": "stream",
     "text": [
      "Las columnas seleccionadas se eliminaron con éxito\n"
     ]
    },
    {
     "data": {
      "text/html": [
       "<div>\n",
       "<style scoped>\n",
       "    .dataframe tbody tr th:only-of-type {\n",
       "        vertical-align: middle;\n",
       "    }\n",
       "\n",
       "    .dataframe tbody tr th {\n",
       "        vertical-align: top;\n",
       "    }\n",
       "\n",
       "    .dataframe thead th {\n",
       "        text-align: right;\n",
       "    }\n",
       "</style>\n",
       "<table border=\"1\" class=\"dataframe\">\n",
       "  <thead>\n",
       "    <tr style=\"text-align: right;\">\n",
       "      <th></th>\n",
       "      <th>FECHA_CORTE</th>\n",
       "      <th>TIPO_ENTIDAD</th>\n",
       "      <th>NOMBRE_TIPO_ENTIDAD</th>\n",
       "      <th>CODIGO_ENTIDAD</th>\n",
       "      <th>NOMBRE_ENTIDAD</th>\n",
       "      <th>SUBTIPO_NEGOCIO</th>\n",
       "      <th>NOMBRE_SUBTIPO_PATRIMONIO</th>\n",
       "      <th>CODIGO_NEGOCIO</th>\n",
       "      <th>NOMBRE_PATRIMONIO</th>\n",
       "      <th>PRINCIPAL_COMPARTIMENTO</th>\n",
       "      <th>...</th>\n",
       "      <th>APORTES_RECIBIDOS</th>\n",
       "      <th>RETIROS_REDENCIONES</th>\n",
       "      <th>ANULACIONES</th>\n",
       "      <th>VALOR_FONDO_CIERRE_DIA_T</th>\n",
       "      <th>NUMERO_INVERSIONISTAS</th>\n",
       "      <th>RENTABILIDAD_DIARIA</th>\n",
       "      <th>RENTABILIDAD_MENSUAL</th>\n",
       "      <th>RENTABILIDAD_SEMESTRAL</th>\n",
       "      <th>RENTABILIDAD_ANUAL</th>\n",
       "      <th>fecha</th>\n",
       "    </tr>\n",
       "  </thead>\n",
       "  <tbody>\n",
       "    <tr>\n",
       "      <th>0</th>\n",
       "      <td>20/07/2020</td>\n",
       "      <td>87</td>\n",
       "      <td>SOCIEDADES ADMINISTRADORAS DE INVERSIÓN</td>\n",
       "      <td>11</td>\n",
       "      <td>Progresion Sociedad Administradora De Inversio...</td>\n",
       "      <td>1</td>\n",
       "      <td>FIC DE TIPO GENERAL</td>\n",
       "      <td>63109</td>\n",
       "      <td>FONDO DE INVERSION COLECTIVA ABIERTO PROGRESIO...</td>\n",
       "      <td>1</td>\n",
       "      <td>...</td>\n",
       "      <td>0.0</td>\n",
       "      <td>0.0</td>\n",
       "      <td>0.0</td>\n",
       "      <td>6832704688.6</td>\n",
       "      <td>174.0</td>\n",
       "      <td>1.7</td>\n",
       "      <td>4.0</td>\n",
       "      <td>4.4</td>\n",
       "      <td>3.6</td>\n",
       "      <td>2020-07-20</td>\n",
       "    </tr>\n",
       "    <tr>\n",
       "      <th>1</th>\n",
       "      <td>12/09/2021</td>\n",
       "      <td>5</td>\n",
       "      <td>SF-SOCIEDAD FIDUCIARIA</td>\n",
       "      <td>39</td>\n",
       "      <td>Sociedad Fiduciaria De Desarrollo Agropecuario...</td>\n",
       "      <td>1</td>\n",
       "      <td>FIC DE TIPO GENERAL</td>\n",
       "      <td>69537</td>\n",
       "      <td>FONDO DE INVERSION COLECTIVA ABIERTO FIC 600</td>\n",
       "      <td>1</td>\n",
       "      <td>...</td>\n",
       "      <td>0.0</td>\n",
       "      <td>0.0</td>\n",
       "      <td>0.0</td>\n",
       "      <td>105940936849.3</td>\n",
       "      <td>6.0</td>\n",
       "      <td>2.1</td>\n",
       "      <td>2.3</td>\n",
       "      <td>1.0</td>\n",
       "      <td>1.1</td>\n",
       "      <td>2021-09-12</td>\n",
       "    </tr>\n",
       "    <tr>\n",
       "      <th>2</th>\n",
       "      <td>09/12/2022</td>\n",
       "      <td>5</td>\n",
       "      <td>SF-SOCIEDAD FIDUCIARIA</td>\n",
       "      <td>7</td>\n",
       "      <td>Skandia Fiduciaria S.A.</td>\n",
       "      <td>1</td>\n",
       "      <td>FIC DE TIPO GENERAL</td>\n",
       "      <td>97207</td>\n",
       "      <td>FONDO DE INVERSIÓN COLECTIVA CON PACTO DE PERM...</td>\n",
       "      <td>1</td>\n",
       "      <td>...</td>\n",
       "      <td>0.0</td>\n",
       "      <td>0.0</td>\n",
       "      <td>0.0</td>\n",
       "      <td>1189565492.9</td>\n",
       "      <td>1.0</td>\n",
       "      <td>-61.1</td>\n",
       "      <td>6.7</td>\n",
       "      <td>4.9</td>\n",
       "      <td>-3.4</td>\n",
       "      <td>2022-12-09</td>\n",
       "    </tr>\n",
       "    <tr>\n",
       "      <th>3</th>\n",
       "      <td>23/08/2019</td>\n",
       "      <td>5</td>\n",
       "      <td>SF-SOCIEDAD FIDUCIARIA</td>\n",
       "      <td>38</td>\n",
       "      <td>Fiduciaria Central S.A. Sigla Fiducentral S.A.</td>\n",
       "      <td>7</td>\n",
       "      <td>FONDOS DE CAPITAL PRIVADO</td>\n",
       "      <td>73593</td>\n",
       "      <td>FCP VALOR FORESTAL CACAO 01 (EN LIQUIDACIÓN)</td>\n",
       "      <td>2</td>\n",
       "      <td>...</td>\n",
       "      <td>0.0</td>\n",
       "      <td>0.0</td>\n",
       "      <td>0.0</td>\n",
       "      <td>6487056745.4</td>\n",
       "      <td>20.0</td>\n",
       "      <td>-5.2</td>\n",
       "      <td>319.5</td>\n",
       "      <td>-33.8</td>\n",
       "      <td>-34.2</td>\n",
       "      <td>2019-08-23</td>\n",
       "    </tr>\n",
       "    <tr>\n",
       "      <th>4</th>\n",
       "      <td>04/06/2017</td>\n",
       "      <td>5</td>\n",
       "      <td>SF-SOCIEDAD FIDUCIARIA</td>\n",
       "      <td>3</td>\n",
       "      <td>Bbva Asset Management S.A. Sociedad Fiduciaria</td>\n",
       "      <td>1</td>\n",
       "      <td>FIC DE TIPO GENERAL</td>\n",
       "      <td>8742</td>\n",
       "      <td>FIC ABIERTO BBVA FAM CON PARTICIPACIONES DIFER...</td>\n",
       "      <td>1</td>\n",
       "      <td>...</td>\n",
       "      <td>0.0</td>\n",
       "      <td>3.2</td>\n",
       "      <td>0.0</td>\n",
       "      <td>44325566471.2</td>\n",
       "      <td>17.0</td>\n",
       "      <td>6.4</td>\n",
       "      <td>7.2</td>\n",
       "      <td>9.2</td>\n",
       "      <td>0.0</td>\n",
       "      <td>2017-06-04</td>\n",
       "    </tr>\n",
       "    <tr>\n",
       "      <th>...</th>\n",
       "      <td>...</td>\n",
       "      <td>...</td>\n",
       "      <td>...</td>\n",
       "      <td>...</td>\n",
       "      <td>...</td>\n",
       "      <td>...</td>\n",
       "      <td>...</td>\n",
       "      <td>...</td>\n",
       "      <td>...</td>\n",
       "      <td>...</td>\n",
       "      <td>...</td>\n",
       "      <td>...</td>\n",
       "      <td>...</td>\n",
       "      <td>...</td>\n",
       "      <td>...</td>\n",
       "      <td>...</td>\n",
       "      <td>...</td>\n",
       "      <td>...</td>\n",
       "      <td>...</td>\n",
       "      <td>...</td>\n",
       "      <td>...</td>\n",
       "    </tr>\n",
       "    <tr>\n",
       "      <th>2165929</th>\n",
       "      <td>25/06/2019</td>\n",
       "      <td>5</td>\n",
       "      <td>SF-SOCIEDAD FIDUCIARIA</td>\n",
       "      <td>58</td>\n",
       "      <td>Fiduciaria Sura S.A.</td>\n",
       "      <td>1</td>\n",
       "      <td>FIC DE TIPO GENERAL</td>\n",
       "      <td>53965</td>\n",
       "      <td>FIC CORPORATIVO II</td>\n",
       "      <td>1</td>\n",
       "      <td>...</td>\n",
       "      <td>14540000000.0</td>\n",
       "      <td>13786967958.9</td>\n",
       "      <td>0.0</td>\n",
       "      <td>18283835774.3</td>\n",
       "      <td>19.0</td>\n",
       "      <td>6.4</td>\n",
       "      <td>4.5</td>\n",
       "      <td>6.3</td>\n",
       "      <td>6.3</td>\n",
       "      <td>2019-06-25</td>\n",
       "    </tr>\n",
       "    <tr>\n",
       "      <th>2165930</th>\n",
       "      <td>22/05/2019</td>\n",
       "      <td>5</td>\n",
       "      <td>SF-SOCIEDAD FIDUCIARIA</td>\n",
       "      <td>16</td>\n",
       "      <td>Alianza Fiduciaria S.A.</td>\n",
       "      <td>1</td>\n",
       "      <td>FIC DE TIPO GENERAL</td>\n",
       "      <td>10936</td>\n",
       "      <td>FONDO ABIERTO ALIANZA</td>\n",
       "      <td>1</td>\n",
       "      <td>...</td>\n",
       "      <td>16602216877.8</td>\n",
       "      <td>22313379342.7</td>\n",
       "      <td>-10198765402.9</td>\n",
       "      <td>465195438702.2</td>\n",
       "      <td>22.0</td>\n",
       "      <td>6.4</td>\n",
       "      <td>4.4</td>\n",
       "      <td>4.0</td>\n",
       "      <td>3.9</td>\n",
       "      <td>2019-05-22</td>\n",
       "    </tr>\n",
       "    <tr>\n",
       "      <th>2165931</th>\n",
       "      <td>12/09/2018</td>\n",
       "      <td>5</td>\n",
       "      <td>SF-SOCIEDAD FIDUCIARIA</td>\n",
       "      <td>21</td>\n",
       "      <td>Fiduciaria De Occidente S.A.  - Fiduoccidente ...</td>\n",
       "      <td>1</td>\n",
       "      <td>FIC DE TIPO GENERAL</td>\n",
       "      <td>9452</td>\n",
       "      <td>FONDO DE INVERSIÓN COLECTIVA ABIERTO CON PACTO...</td>\n",
       "      <td>1</td>\n",
       "      <td>...</td>\n",
       "      <td>0.0</td>\n",
       "      <td>15000000.0</td>\n",
       "      <td>0.0</td>\n",
       "      <td>4479968228.4</td>\n",
       "      <td>117.0</td>\n",
       "      <td>32.0</td>\n",
       "      <td>0.8</td>\n",
       "      <td>-6.8</td>\n",
       "      <td>-1.6</td>\n",
       "      <td>2018-09-12</td>\n",
       "    </tr>\n",
       "    <tr>\n",
       "      <th>2165932</th>\n",
       "      <td>30/01/2020</td>\n",
       "      <td>5</td>\n",
       "      <td>SF-SOCIEDAD FIDUCIARIA</td>\n",
       "      <td>23</td>\n",
       "      <td>Itaú Fiduciaria</td>\n",
       "      <td>1</td>\n",
       "      <td>FIC DE TIPO GENERAL</td>\n",
       "      <td>48153</td>\n",
       "      <td>FONDO DE INVERSION COLECTIVA ABIERTO ITAU CORT...</td>\n",
       "      <td>1</td>\n",
       "      <td>...</td>\n",
       "      <td>2717348162.5</td>\n",
       "      <td>7697812764.1</td>\n",
       "      <td>-700000000.0</td>\n",
       "      <td>122054686562.2</td>\n",
       "      <td>1224.0</td>\n",
       "      <td>5.5</td>\n",
       "      <td>5.5</td>\n",
       "      <td>3.7</td>\n",
       "      <td>4.3</td>\n",
       "      <td>2020-01-30</td>\n",
       "    </tr>\n",
       "    <tr>\n",
       "      <th>2165933</th>\n",
       "      <td>29/08/2018</td>\n",
       "      <td>5</td>\n",
       "      <td>SF-SOCIEDAD FIDUCIARIA</td>\n",
       "      <td>16</td>\n",
       "      <td>Alianza Fiduciaria S.A.</td>\n",
       "      <td>1</td>\n",
       "      <td>FIC DE TIPO GENERAL</td>\n",
       "      <td>10824</td>\n",
       "      <td>FONDO ABIERTO CON PACTO DE PERMANENCIA CXC</td>\n",
       "      <td>1</td>\n",
       "      <td>...</td>\n",
       "      <td>3325679249.7</td>\n",
       "      <td>6315171983.7</td>\n",
       "      <td>720000000.0</td>\n",
       "      <td>406554366376.7</td>\n",
       "      <td>982.0</td>\n",
       "      <td>6.5</td>\n",
       "      <td>5.7</td>\n",
       "      <td>5.9</td>\n",
       "      <td>6.5</td>\n",
       "      <td>2018-08-29</td>\n",
       "    </tr>\n",
       "  </tbody>\n",
       "</table>\n",
       "<p>2165934 rows × 25 columns</p>\n",
       "</div>"
      ],
      "text/plain": [
       "        FECHA_CORTE  TIPO_ENTIDAD                      NOMBRE_TIPO_ENTIDAD  \\\n",
       "0        20/07/2020            87  SOCIEDADES ADMINISTRADORAS DE INVERSIÓN   \n",
       "1        12/09/2021             5                   SF-SOCIEDAD FIDUCIARIA   \n",
       "2        09/12/2022             5                   SF-SOCIEDAD FIDUCIARIA   \n",
       "3        23/08/2019             5                   SF-SOCIEDAD FIDUCIARIA   \n",
       "4        04/06/2017             5                   SF-SOCIEDAD FIDUCIARIA   \n",
       "...             ...           ...                                      ...   \n",
       "2165929  25/06/2019             5                   SF-SOCIEDAD FIDUCIARIA   \n",
       "2165930  22/05/2019             5                   SF-SOCIEDAD FIDUCIARIA   \n",
       "2165931  12/09/2018             5                   SF-SOCIEDAD FIDUCIARIA   \n",
       "2165932  30/01/2020             5                   SF-SOCIEDAD FIDUCIARIA   \n",
       "2165933  29/08/2018             5                   SF-SOCIEDAD FIDUCIARIA   \n",
       "\n",
       "         CODIGO_ENTIDAD                                     NOMBRE_ENTIDAD  \\\n",
       "0                    11  Progresion Sociedad Administradora De Inversio...   \n",
       "1                    39  Sociedad Fiduciaria De Desarrollo Agropecuario...   \n",
       "2                     7                            Skandia Fiduciaria S.A.   \n",
       "3                    38     Fiduciaria Central S.A. Sigla Fiducentral S.A.   \n",
       "4                     3     Bbva Asset Management S.A. Sociedad Fiduciaria   \n",
       "...                 ...                                                ...   \n",
       "2165929              58                               Fiduciaria Sura S.A.   \n",
       "2165930              16                            Alianza Fiduciaria S.A.   \n",
       "2165931              21  Fiduciaria De Occidente S.A.  - Fiduoccidente ...   \n",
       "2165932              23                                    Itaú Fiduciaria   \n",
       "2165933              16                            Alianza Fiduciaria S.A.   \n",
       "\n",
       "         SUBTIPO_NEGOCIO  NOMBRE_SUBTIPO_PATRIMONIO  CODIGO_NEGOCIO  \\\n",
       "0                      1        FIC DE TIPO GENERAL           63109   \n",
       "1                      1        FIC DE TIPO GENERAL           69537   \n",
       "2                      1        FIC DE TIPO GENERAL           97207   \n",
       "3                      7  FONDOS DE CAPITAL PRIVADO           73593   \n",
       "4                      1        FIC DE TIPO GENERAL            8742   \n",
       "...                  ...                        ...             ...   \n",
       "2165929                1        FIC DE TIPO GENERAL           53965   \n",
       "2165930                1        FIC DE TIPO GENERAL           10936   \n",
       "2165931                1        FIC DE TIPO GENERAL            9452   \n",
       "2165932                1        FIC DE TIPO GENERAL           48153   \n",
       "2165933                1        FIC DE TIPO GENERAL           10824   \n",
       "\n",
       "                                         NOMBRE_PATRIMONIO  \\\n",
       "0        FONDO DE INVERSION COLECTIVA ABIERTO PROGRESIO...   \n",
       "1             FONDO DE INVERSION COLECTIVA ABIERTO FIC 600   \n",
       "2        FONDO DE INVERSIÓN COLECTIVA CON PACTO DE PERM...   \n",
       "3             FCP VALOR FORESTAL CACAO 01 (EN LIQUIDACIÓN)   \n",
       "4        FIC ABIERTO BBVA FAM CON PARTICIPACIONES DIFER...   \n",
       "...                                                    ...   \n",
       "2165929                                 FIC CORPORATIVO II   \n",
       "2165930                              FONDO ABIERTO ALIANZA   \n",
       "2165931  FONDO DE INVERSIÓN COLECTIVA ABIERTO CON PACTO...   \n",
       "2165932  FONDO DE INVERSION COLECTIVA ABIERTO ITAU CORT...   \n",
       "2165933         FONDO ABIERTO CON PACTO DE PERMANENCIA CXC   \n",
       "\n",
       "         PRINCIPAL_COMPARTIMENTO  ...  APORTES_RECIBIDOS  RETIROS_REDENCIONES  \\\n",
       "0                              1  ...                0.0                  0.0   \n",
       "1                              1  ...                0.0                  0.0   \n",
       "2                              1  ...                0.0                  0.0   \n",
       "3                              2  ...                0.0                  0.0   \n",
       "4                              1  ...                0.0                  3.2   \n",
       "...                          ...  ...                ...                  ...   \n",
       "2165929                        1  ...      14540000000.0        13786967958.9   \n",
       "2165930                        1  ...      16602216877.8        22313379342.7   \n",
       "2165931                        1  ...                0.0           15000000.0   \n",
       "2165932                        1  ...       2717348162.5         7697812764.1   \n",
       "2165933                        1  ...       3325679249.7         6315171983.7   \n",
       "\n",
       "           ANULACIONES  VALOR_FONDO_CIERRE_DIA_T  NUMERO_INVERSIONISTAS  \\\n",
       "0                  0.0              6832704688.6                  174.0   \n",
       "1                  0.0            105940936849.3                    6.0   \n",
       "2                  0.0              1189565492.9                    1.0   \n",
       "3                  0.0              6487056745.4                   20.0   \n",
       "4                  0.0             44325566471.2                   17.0   \n",
       "...                ...                       ...                    ...   \n",
       "2165929            0.0             18283835774.3                   19.0   \n",
       "2165930 -10198765402.9            465195438702.2                   22.0   \n",
       "2165931            0.0              4479968228.4                  117.0   \n",
       "2165932   -700000000.0            122054686562.2                 1224.0   \n",
       "2165933    720000000.0            406554366376.7                  982.0   \n",
       "\n",
       "         RENTABILIDAD_DIARIA  RENTABILIDAD_MENSUAL  RENTABILIDAD_SEMESTRAL  \\\n",
       "0                        1.7                   4.0                     4.4   \n",
       "1                        2.1                   2.3                     1.0   \n",
       "2                      -61.1                   6.7                     4.9   \n",
       "3                       -5.2                 319.5                   -33.8   \n",
       "4                        6.4                   7.2                     9.2   \n",
       "...                      ...                   ...                     ...   \n",
       "2165929                  6.4                   4.5                     6.3   \n",
       "2165930                  6.4                   4.4                     4.0   \n",
       "2165931                 32.0                   0.8                    -6.8   \n",
       "2165932                  5.5                   5.5                     3.7   \n",
       "2165933                  6.5                   5.7                     5.9   \n",
       "\n",
       "         RENTABILIDAD_ANUAL      fecha  \n",
       "0                       3.6 2020-07-20  \n",
       "1                       1.1 2021-09-12  \n",
       "2                      -3.4 2022-12-09  \n",
       "3                     -34.2 2019-08-23  \n",
       "4                       0.0 2017-06-04  \n",
       "...                     ...        ...  \n",
       "2165929                 6.3 2019-06-25  \n",
       "2165930                 3.9 2019-05-22  \n",
       "2165931                -1.6 2018-09-12  \n",
       "2165932                 4.3 2020-01-30  \n",
       "2165933                 6.5 2018-08-29  \n",
       "\n",
       "[2165934 rows x 25 columns]"
      ]
     },
     "execution_count": 23,
     "metadata": {},
     "output_type": "execute_result"
    }
   ],
   "source": [
    "columnas_a_eliminar = [\n",
    "                        'TIPO_NEGOCIO','NOMBRE_TIPO_PATRIMONIO'\n",
    "                        ]\n",
    "\n",
    "try:\n",
    "    df_FondosInversion_colectiva = df_FondosInversion_colectiva.drop(columns=columnas_a_eliminar)\n",
    "    print(\"Las columnas seleccionadas se eliminaron con éxito\")\n",
    "except KeyError as e:\n",
    "    print(\"Error al aliminar columnas\")\n",
    "\n",
    "df_FondosInversion_colectiva"
   ]
  },
  {
   "cell_type": "markdown",
   "id": "542e1153",
   "metadata": {},
   "source": [
    "NOTA: PREGUNTARLE AL PROFE ACERCA DEL VALOR NUMERO DE LA COLUMNA \"VALOR_FONDO_CIERRE_DIA_T\" DADO QUE ESOS NUMEROS CAUSAN INCERTIDUMBRE"
   ]
  },
  {
   "cell_type": "markdown",
   "id": "936d1968",
   "metadata": {},
   "source": [
    "Reemplazamos el nombre de la columna \"VALOR_UNIDAD_OPERACIONES_DIA_T\" por \"VALOR_OPERACIONES_DIA_T\" para entender la funcionalidad de las dinamicas diarias con respecto el TRM"
   ]
  },
  {
   "cell_type": "code",
   "execution_count": 24,
   "id": "b938e00d",
   "metadata": {},
   "outputs": [
    {
     "data": {
      "text/html": [
       "<div>\n",
       "<style scoped>\n",
       "    .dataframe tbody tr th:only-of-type {\n",
       "        vertical-align: middle;\n",
       "    }\n",
       "\n",
       "    .dataframe tbody tr th {\n",
       "        vertical-align: top;\n",
       "    }\n",
       "\n",
       "    .dataframe thead th {\n",
       "        text-align: right;\n",
       "    }\n",
       "</style>\n",
       "<table border=\"1\" class=\"dataframe\">\n",
       "  <thead>\n",
       "    <tr style=\"text-align: right;\">\n",
       "      <th></th>\n",
       "      <th>FECHA_CORTE</th>\n",
       "      <th>TIPO_ENTIDAD</th>\n",
       "      <th>NOMBRE_TIPO_ENTIDAD</th>\n",
       "      <th>CODIGO_ENTIDAD</th>\n",
       "      <th>NOMBRE_ENTIDAD</th>\n",
       "      <th>SUBTIPO_NEGOCIO</th>\n",
       "      <th>NOMBRE_SUBTIPO_PATRIMONIO</th>\n",
       "      <th>CODIGO_NEGOCIO</th>\n",
       "      <th>NOMBRE_PATRIMONIO</th>\n",
       "      <th>PRINCIPAL_COMPARTIMENTO</th>\n",
       "      <th>...</th>\n",
       "      <th>APORTES_RECIBIDOS</th>\n",
       "      <th>RETIROS_REDENCIONES</th>\n",
       "      <th>ANULACIONES</th>\n",
       "      <th>VALOR_FONDO_CIERRE_DIA_T</th>\n",
       "      <th>NUMERO_INVERSIONISTAS</th>\n",
       "      <th>RENTABILIDAD_DIARIA</th>\n",
       "      <th>RENTABILIDAD_MENSUAL</th>\n",
       "      <th>RENTABILIDAD_SEMESTRAL</th>\n",
       "      <th>RENTABILIDAD_ANUAL</th>\n",
       "      <th>fecha</th>\n",
       "    </tr>\n",
       "  </thead>\n",
       "  <tbody>\n",
       "    <tr>\n",
       "      <th>0</th>\n",
       "      <td>20/07/2020</td>\n",
       "      <td>87</td>\n",
       "      <td>SOCIEDADES ADMINISTRADORAS DE INVERSIÓN</td>\n",
       "      <td>11</td>\n",
       "      <td>Progresion Sociedad Administradora De Inversio...</td>\n",
       "      <td>1</td>\n",
       "      <td>FIC DE TIPO GENERAL</td>\n",
       "      <td>63109</td>\n",
       "      <td>FONDO DE INVERSION COLECTIVA ABIERTO PROGRESIO...</td>\n",
       "      <td>1</td>\n",
       "      <td>...</td>\n",
       "      <td>0.0</td>\n",
       "      <td>0.0</td>\n",
       "      <td>0.0</td>\n",
       "      <td>6832704688.6</td>\n",
       "      <td>174.0</td>\n",
       "      <td>1.7</td>\n",
       "      <td>4.0</td>\n",
       "      <td>4.4</td>\n",
       "      <td>3.6</td>\n",
       "      <td>2020-07-20</td>\n",
       "    </tr>\n",
       "    <tr>\n",
       "      <th>1</th>\n",
       "      <td>12/09/2021</td>\n",
       "      <td>5</td>\n",
       "      <td>SF-SOCIEDAD FIDUCIARIA</td>\n",
       "      <td>39</td>\n",
       "      <td>Sociedad Fiduciaria De Desarrollo Agropecuario...</td>\n",
       "      <td>1</td>\n",
       "      <td>FIC DE TIPO GENERAL</td>\n",
       "      <td>69537</td>\n",
       "      <td>FONDO DE INVERSION COLECTIVA ABIERTO FIC 600</td>\n",
       "      <td>1</td>\n",
       "      <td>...</td>\n",
       "      <td>0.0</td>\n",
       "      <td>0.0</td>\n",
       "      <td>0.0</td>\n",
       "      <td>105940936849.3</td>\n",
       "      <td>6.0</td>\n",
       "      <td>2.1</td>\n",
       "      <td>2.3</td>\n",
       "      <td>1.0</td>\n",
       "      <td>1.1</td>\n",
       "      <td>2021-09-12</td>\n",
       "    </tr>\n",
       "    <tr>\n",
       "      <th>2</th>\n",
       "      <td>09/12/2022</td>\n",
       "      <td>5</td>\n",
       "      <td>SF-SOCIEDAD FIDUCIARIA</td>\n",
       "      <td>7</td>\n",
       "      <td>Skandia Fiduciaria S.A.</td>\n",
       "      <td>1</td>\n",
       "      <td>FIC DE TIPO GENERAL</td>\n",
       "      <td>97207</td>\n",
       "      <td>FONDO DE INVERSIÓN COLECTIVA CON PACTO DE PERM...</td>\n",
       "      <td>1</td>\n",
       "      <td>...</td>\n",
       "      <td>0.0</td>\n",
       "      <td>0.0</td>\n",
       "      <td>0.0</td>\n",
       "      <td>1189565492.9</td>\n",
       "      <td>1.0</td>\n",
       "      <td>-61.1</td>\n",
       "      <td>6.7</td>\n",
       "      <td>4.9</td>\n",
       "      <td>-3.4</td>\n",
       "      <td>2022-12-09</td>\n",
       "    </tr>\n",
       "    <tr>\n",
       "      <th>3</th>\n",
       "      <td>23/08/2019</td>\n",
       "      <td>5</td>\n",
       "      <td>SF-SOCIEDAD FIDUCIARIA</td>\n",
       "      <td>38</td>\n",
       "      <td>Fiduciaria Central S.A. Sigla Fiducentral S.A.</td>\n",
       "      <td>7</td>\n",
       "      <td>FONDOS DE CAPITAL PRIVADO</td>\n",
       "      <td>73593</td>\n",
       "      <td>FCP VALOR FORESTAL CACAO 01 (EN LIQUIDACIÓN)</td>\n",
       "      <td>2</td>\n",
       "      <td>...</td>\n",
       "      <td>0.0</td>\n",
       "      <td>0.0</td>\n",
       "      <td>0.0</td>\n",
       "      <td>6487056745.4</td>\n",
       "      <td>20.0</td>\n",
       "      <td>-5.2</td>\n",
       "      <td>319.5</td>\n",
       "      <td>-33.8</td>\n",
       "      <td>-34.2</td>\n",
       "      <td>2019-08-23</td>\n",
       "    </tr>\n",
       "    <tr>\n",
       "      <th>4</th>\n",
       "      <td>04/06/2017</td>\n",
       "      <td>5</td>\n",
       "      <td>SF-SOCIEDAD FIDUCIARIA</td>\n",
       "      <td>3</td>\n",
       "      <td>Bbva Asset Management S.A. Sociedad Fiduciaria</td>\n",
       "      <td>1</td>\n",
       "      <td>FIC DE TIPO GENERAL</td>\n",
       "      <td>8742</td>\n",
       "      <td>FIC ABIERTO BBVA FAM CON PARTICIPACIONES DIFER...</td>\n",
       "      <td>1</td>\n",
       "      <td>...</td>\n",
       "      <td>0.0</td>\n",
       "      <td>3.2</td>\n",
       "      <td>0.0</td>\n",
       "      <td>44325566471.2</td>\n",
       "      <td>17.0</td>\n",
       "      <td>6.4</td>\n",
       "      <td>7.2</td>\n",
       "      <td>9.2</td>\n",
       "      <td>0.0</td>\n",
       "      <td>2017-06-04</td>\n",
       "    </tr>\n",
       "    <tr>\n",
       "      <th>...</th>\n",
       "      <td>...</td>\n",
       "      <td>...</td>\n",
       "      <td>...</td>\n",
       "      <td>...</td>\n",
       "      <td>...</td>\n",
       "      <td>...</td>\n",
       "      <td>...</td>\n",
       "      <td>...</td>\n",
       "      <td>...</td>\n",
       "      <td>...</td>\n",
       "      <td>...</td>\n",
       "      <td>...</td>\n",
       "      <td>...</td>\n",
       "      <td>...</td>\n",
       "      <td>...</td>\n",
       "      <td>...</td>\n",
       "      <td>...</td>\n",
       "      <td>...</td>\n",
       "      <td>...</td>\n",
       "      <td>...</td>\n",
       "      <td>...</td>\n",
       "    </tr>\n",
       "    <tr>\n",
       "      <th>2165929</th>\n",
       "      <td>25/06/2019</td>\n",
       "      <td>5</td>\n",
       "      <td>SF-SOCIEDAD FIDUCIARIA</td>\n",
       "      <td>58</td>\n",
       "      <td>Fiduciaria Sura S.A.</td>\n",
       "      <td>1</td>\n",
       "      <td>FIC DE TIPO GENERAL</td>\n",
       "      <td>53965</td>\n",
       "      <td>FIC CORPORATIVO II</td>\n",
       "      <td>1</td>\n",
       "      <td>...</td>\n",
       "      <td>14540000000.0</td>\n",
       "      <td>13786967958.9</td>\n",
       "      <td>0.0</td>\n",
       "      <td>18283835774.3</td>\n",
       "      <td>19.0</td>\n",
       "      <td>6.4</td>\n",
       "      <td>4.5</td>\n",
       "      <td>6.3</td>\n",
       "      <td>6.3</td>\n",
       "      <td>2019-06-25</td>\n",
       "    </tr>\n",
       "    <tr>\n",
       "      <th>2165930</th>\n",
       "      <td>22/05/2019</td>\n",
       "      <td>5</td>\n",
       "      <td>SF-SOCIEDAD FIDUCIARIA</td>\n",
       "      <td>16</td>\n",
       "      <td>Alianza Fiduciaria S.A.</td>\n",
       "      <td>1</td>\n",
       "      <td>FIC DE TIPO GENERAL</td>\n",
       "      <td>10936</td>\n",
       "      <td>FONDO ABIERTO ALIANZA</td>\n",
       "      <td>1</td>\n",
       "      <td>...</td>\n",
       "      <td>16602216877.8</td>\n",
       "      <td>22313379342.7</td>\n",
       "      <td>-10198765402.9</td>\n",
       "      <td>465195438702.2</td>\n",
       "      <td>22.0</td>\n",
       "      <td>6.4</td>\n",
       "      <td>4.4</td>\n",
       "      <td>4.0</td>\n",
       "      <td>3.9</td>\n",
       "      <td>2019-05-22</td>\n",
       "    </tr>\n",
       "    <tr>\n",
       "      <th>2165931</th>\n",
       "      <td>12/09/2018</td>\n",
       "      <td>5</td>\n",
       "      <td>SF-SOCIEDAD FIDUCIARIA</td>\n",
       "      <td>21</td>\n",
       "      <td>Fiduciaria De Occidente S.A.  - Fiduoccidente ...</td>\n",
       "      <td>1</td>\n",
       "      <td>FIC DE TIPO GENERAL</td>\n",
       "      <td>9452</td>\n",
       "      <td>FONDO DE INVERSIÓN COLECTIVA ABIERTO CON PACTO...</td>\n",
       "      <td>1</td>\n",
       "      <td>...</td>\n",
       "      <td>0.0</td>\n",
       "      <td>15000000.0</td>\n",
       "      <td>0.0</td>\n",
       "      <td>4479968228.4</td>\n",
       "      <td>117.0</td>\n",
       "      <td>32.0</td>\n",
       "      <td>0.8</td>\n",
       "      <td>-6.8</td>\n",
       "      <td>-1.6</td>\n",
       "      <td>2018-09-12</td>\n",
       "    </tr>\n",
       "    <tr>\n",
       "      <th>2165932</th>\n",
       "      <td>30/01/2020</td>\n",
       "      <td>5</td>\n",
       "      <td>SF-SOCIEDAD FIDUCIARIA</td>\n",
       "      <td>23</td>\n",
       "      <td>Itaú Fiduciaria</td>\n",
       "      <td>1</td>\n",
       "      <td>FIC DE TIPO GENERAL</td>\n",
       "      <td>48153</td>\n",
       "      <td>FONDO DE INVERSION COLECTIVA ABIERTO ITAU CORT...</td>\n",
       "      <td>1</td>\n",
       "      <td>...</td>\n",
       "      <td>2717348162.5</td>\n",
       "      <td>7697812764.1</td>\n",
       "      <td>-700000000.0</td>\n",
       "      <td>122054686562.2</td>\n",
       "      <td>1224.0</td>\n",
       "      <td>5.5</td>\n",
       "      <td>5.5</td>\n",
       "      <td>3.7</td>\n",
       "      <td>4.3</td>\n",
       "      <td>2020-01-30</td>\n",
       "    </tr>\n",
       "    <tr>\n",
       "      <th>2165933</th>\n",
       "      <td>29/08/2018</td>\n",
       "      <td>5</td>\n",
       "      <td>SF-SOCIEDAD FIDUCIARIA</td>\n",
       "      <td>16</td>\n",
       "      <td>Alianza Fiduciaria S.A.</td>\n",
       "      <td>1</td>\n",
       "      <td>FIC DE TIPO GENERAL</td>\n",
       "      <td>10824</td>\n",
       "      <td>FONDO ABIERTO CON PACTO DE PERMANENCIA CXC</td>\n",
       "      <td>1</td>\n",
       "      <td>...</td>\n",
       "      <td>3325679249.7</td>\n",
       "      <td>6315171983.7</td>\n",
       "      <td>720000000.0</td>\n",
       "      <td>406554366376.7</td>\n",
       "      <td>982.0</td>\n",
       "      <td>6.5</td>\n",
       "      <td>5.7</td>\n",
       "      <td>5.9</td>\n",
       "      <td>6.5</td>\n",
       "      <td>2018-08-29</td>\n",
       "    </tr>\n",
       "  </tbody>\n",
       "</table>\n",
       "<p>2165934 rows × 25 columns</p>\n",
       "</div>"
      ],
      "text/plain": [
       "        FECHA_CORTE  TIPO_ENTIDAD                      NOMBRE_TIPO_ENTIDAD  \\\n",
       "0        20/07/2020            87  SOCIEDADES ADMINISTRADORAS DE INVERSIÓN   \n",
       "1        12/09/2021             5                   SF-SOCIEDAD FIDUCIARIA   \n",
       "2        09/12/2022             5                   SF-SOCIEDAD FIDUCIARIA   \n",
       "3        23/08/2019             5                   SF-SOCIEDAD FIDUCIARIA   \n",
       "4        04/06/2017             5                   SF-SOCIEDAD FIDUCIARIA   \n",
       "...             ...           ...                                      ...   \n",
       "2165929  25/06/2019             5                   SF-SOCIEDAD FIDUCIARIA   \n",
       "2165930  22/05/2019             5                   SF-SOCIEDAD FIDUCIARIA   \n",
       "2165931  12/09/2018             5                   SF-SOCIEDAD FIDUCIARIA   \n",
       "2165932  30/01/2020             5                   SF-SOCIEDAD FIDUCIARIA   \n",
       "2165933  29/08/2018             5                   SF-SOCIEDAD FIDUCIARIA   \n",
       "\n",
       "         CODIGO_ENTIDAD                                     NOMBRE_ENTIDAD  \\\n",
       "0                    11  Progresion Sociedad Administradora De Inversio...   \n",
       "1                    39  Sociedad Fiduciaria De Desarrollo Agropecuario...   \n",
       "2                     7                            Skandia Fiduciaria S.A.   \n",
       "3                    38     Fiduciaria Central S.A. Sigla Fiducentral S.A.   \n",
       "4                     3     Bbva Asset Management S.A. Sociedad Fiduciaria   \n",
       "...                 ...                                                ...   \n",
       "2165929              58                               Fiduciaria Sura S.A.   \n",
       "2165930              16                            Alianza Fiduciaria S.A.   \n",
       "2165931              21  Fiduciaria De Occidente S.A.  - Fiduoccidente ...   \n",
       "2165932              23                                    Itaú Fiduciaria   \n",
       "2165933              16                            Alianza Fiduciaria S.A.   \n",
       "\n",
       "         SUBTIPO_NEGOCIO  NOMBRE_SUBTIPO_PATRIMONIO  CODIGO_NEGOCIO  \\\n",
       "0                      1        FIC DE TIPO GENERAL           63109   \n",
       "1                      1        FIC DE TIPO GENERAL           69537   \n",
       "2                      1        FIC DE TIPO GENERAL           97207   \n",
       "3                      7  FONDOS DE CAPITAL PRIVADO           73593   \n",
       "4                      1        FIC DE TIPO GENERAL            8742   \n",
       "...                  ...                        ...             ...   \n",
       "2165929                1        FIC DE TIPO GENERAL           53965   \n",
       "2165930                1        FIC DE TIPO GENERAL           10936   \n",
       "2165931                1        FIC DE TIPO GENERAL            9452   \n",
       "2165932                1        FIC DE TIPO GENERAL           48153   \n",
       "2165933                1        FIC DE TIPO GENERAL           10824   \n",
       "\n",
       "                                         NOMBRE_PATRIMONIO  \\\n",
       "0        FONDO DE INVERSION COLECTIVA ABIERTO PROGRESIO...   \n",
       "1             FONDO DE INVERSION COLECTIVA ABIERTO FIC 600   \n",
       "2        FONDO DE INVERSIÓN COLECTIVA CON PACTO DE PERM...   \n",
       "3             FCP VALOR FORESTAL CACAO 01 (EN LIQUIDACIÓN)   \n",
       "4        FIC ABIERTO BBVA FAM CON PARTICIPACIONES DIFER...   \n",
       "...                                                    ...   \n",
       "2165929                                 FIC CORPORATIVO II   \n",
       "2165930                              FONDO ABIERTO ALIANZA   \n",
       "2165931  FONDO DE INVERSIÓN COLECTIVA ABIERTO CON PACTO...   \n",
       "2165932  FONDO DE INVERSION COLECTIVA ABIERTO ITAU CORT...   \n",
       "2165933         FONDO ABIERTO CON PACTO DE PERMANENCIA CXC   \n",
       "\n",
       "         PRINCIPAL_COMPARTIMENTO  ...  APORTES_RECIBIDOS  RETIROS_REDENCIONES  \\\n",
       "0                              1  ...                0.0                  0.0   \n",
       "1                              1  ...                0.0                  0.0   \n",
       "2                              1  ...                0.0                  0.0   \n",
       "3                              2  ...                0.0                  0.0   \n",
       "4                              1  ...                0.0                  3.2   \n",
       "...                          ...  ...                ...                  ...   \n",
       "2165929                        1  ...      14540000000.0        13786967958.9   \n",
       "2165930                        1  ...      16602216877.8        22313379342.7   \n",
       "2165931                        1  ...                0.0           15000000.0   \n",
       "2165932                        1  ...       2717348162.5         7697812764.1   \n",
       "2165933                        1  ...       3325679249.7         6315171983.7   \n",
       "\n",
       "           ANULACIONES  VALOR_FONDO_CIERRE_DIA_T  NUMERO_INVERSIONISTAS  \\\n",
       "0                  0.0              6832704688.6                  174.0   \n",
       "1                  0.0            105940936849.3                    6.0   \n",
       "2                  0.0              1189565492.9                    1.0   \n",
       "3                  0.0              6487056745.4                   20.0   \n",
       "4                  0.0             44325566471.2                   17.0   \n",
       "...                ...                       ...                    ...   \n",
       "2165929            0.0             18283835774.3                   19.0   \n",
       "2165930 -10198765402.9            465195438702.2                   22.0   \n",
       "2165931            0.0              4479968228.4                  117.0   \n",
       "2165932   -700000000.0            122054686562.2                 1224.0   \n",
       "2165933    720000000.0            406554366376.7                  982.0   \n",
       "\n",
       "         RENTABILIDAD_DIARIA  RENTABILIDAD_MENSUAL  RENTABILIDAD_SEMESTRAL  \\\n",
       "0                        1.7                   4.0                     4.4   \n",
       "1                        2.1                   2.3                     1.0   \n",
       "2                      -61.1                   6.7                     4.9   \n",
       "3                       -5.2                 319.5                   -33.8   \n",
       "4                        6.4                   7.2                     9.2   \n",
       "...                      ...                   ...                     ...   \n",
       "2165929                  6.4                   4.5                     6.3   \n",
       "2165930                  6.4                   4.4                     4.0   \n",
       "2165931                 32.0                   0.8                    -6.8   \n",
       "2165932                  5.5                   5.5                     3.7   \n",
       "2165933                  6.5                   5.7                     5.9   \n",
       "\n",
       "         RENTABILIDAD_ANUAL      fecha  \n",
       "0                       3.6 2020-07-20  \n",
       "1                       1.1 2021-09-12  \n",
       "2                      -3.4 2022-12-09  \n",
       "3                     -34.2 2019-08-23  \n",
       "4                       0.0 2017-06-04  \n",
       "...                     ...        ...  \n",
       "2165929                 6.3 2019-06-25  \n",
       "2165930                 3.9 2019-05-22  \n",
       "2165931                -1.6 2018-09-12  \n",
       "2165932                 4.3 2020-01-30  \n",
       "2165933                 6.5 2018-08-29  \n",
       "\n",
       "[2165934 rows x 25 columns]"
      ]
     },
     "execution_count": 24,
     "metadata": {},
     "output_type": "execute_result"
    }
   ],
   "source": [
    "df_FondosInversion_colectiva.rename(columns={'VALOR_UNIDAD_OPERACIONES_DIA_T': 'VALOR_OPERACIONES_DIA_T'})"
   ]
  }
 ],
 "metadata": {
  "kernelspec": {
   "display_name": "Python 3 (ipykernel)",
   "language": "python",
   "name": "python3"
  },
  "language_info": {
   "codemirror_mode": {
    "name": "ipython",
    "version": 3
   },
   "file_extension": ".py",
   "mimetype": "text/x-python",
   "name": "python",
   "nbconvert_exporter": "python",
   "pygments_lexer": "ipython3",
   "version": "3.12.4"
  }
 },
 "nbformat": 4,
 "nbformat_minor": 5
}
